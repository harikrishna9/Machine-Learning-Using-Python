{
 "cells": [
  {
   "cell_type": "code",
   "execution_count": 16,
   "metadata": {},
   "outputs": [],
   "source": [
    "import numpy as np\n",
    "import pandas as pd\n",
    "%matplotlib inline"
   ]
  },
  {
   "cell_type": "code",
   "execution_count": 2,
   "metadata": {},
   "outputs": [],
   "source": [
    "from plotly import __version__"
   ]
  },
  {
   "cell_type": "code",
   "execution_count": 3,
   "metadata": {},
   "outputs": [
    {
     "name": "stdout",
     "output_type": "stream",
     "text": [
      "4.5.2\n"
     ]
    }
   ],
   "source": [
    "print(__version__)"
   ]
  },
  {
   "cell_type": "code",
   "execution_count": 5,
   "metadata": {},
   "outputs": [],
   "source": [
    "import cufflinks as cf"
   ]
  },
  {
   "cell_type": "code",
   "execution_count": 6,
   "metadata": {},
   "outputs": [],
   "source": [
    "from plotly.offline import download_plotlyjs,init_notebook_mode,plot,iplot"
   ]
  },
  {
   "cell_type": "code",
   "execution_count": 8,
   "metadata": {},
   "outputs": [
    {
     "data": {
      "text/html": [
       "        <script type=\"text/javascript\">\n",
       "        window.PlotlyConfig = {MathJaxConfig: 'local'};\n",
       "        if (window.MathJax) {MathJax.Hub.Config({SVG: {font: \"STIX-Web\"}});}\n",
       "        if (typeof require !== 'undefined') {\n",
       "        require.undef(\"plotly\");\n",
       "        requirejs.config({\n",
       "            paths: {\n",
       "                'plotly': ['https://cdn.plot.ly/plotly-latest.min']\n",
       "            }\n",
       "        });\n",
       "        require(['plotly'], function(Plotly) {\n",
       "            window._Plotly = Plotly;\n",
       "        });\n",
       "        }\n",
       "        </script>\n",
       "        "
      ]
     },
     "metadata": {},
     "output_type": "display_data"
    }
   ],
   "source": [
    "init_notebook_mode(connected=True)"
   ]
  },
  {
   "cell_type": "code",
   "execution_count": 9,
   "metadata": {},
   "outputs": [
    {
     "data": {
      "text/html": [
       "        <script type=\"text/javascript\">\n",
       "        window.PlotlyConfig = {MathJaxConfig: 'local'};\n",
       "        if (window.MathJax) {MathJax.Hub.Config({SVG: {font: \"STIX-Web\"}});}\n",
       "        if (typeof require !== 'undefined') {\n",
       "        require.undef(\"plotly\");\n",
       "        requirejs.config({\n",
       "            paths: {\n",
       "                'plotly': ['https://cdn.plot.ly/plotly-latest.min']\n",
       "            }\n",
       "        });\n",
       "        require(['plotly'], function(Plotly) {\n",
       "            window._Plotly = Plotly;\n",
       "        });\n",
       "        }\n",
       "        </script>\n",
       "        "
      ]
     },
     "metadata": {},
     "output_type": "display_data"
    }
   ],
   "source": [
    "cf.go_offline()"
   ]
  },
  {
   "cell_type": "code",
   "execution_count": 10,
   "metadata": {},
   "outputs": [],
   "source": [
    "df = pd.DataFrame(np.random.randn(100,4),columns='A B C D'.split())"
   ]
  },
  {
   "cell_type": "code",
   "execution_count": 11,
   "metadata": {},
   "outputs": [
    {
     "data": {
      "text/html": [
       "<div>\n",
       "<style scoped>\n",
       "    .dataframe tbody tr th:only-of-type {\n",
       "        vertical-align: middle;\n",
       "    }\n",
       "\n",
       "    .dataframe tbody tr th {\n",
       "        vertical-align: top;\n",
       "    }\n",
       "\n",
       "    .dataframe thead th {\n",
       "        text-align: right;\n",
       "    }\n",
       "</style>\n",
       "<table border=\"1\" class=\"dataframe\">\n",
       "  <thead>\n",
       "    <tr style=\"text-align: right;\">\n",
       "      <th></th>\n",
       "      <th>A</th>\n",
       "      <th>B</th>\n",
       "      <th>C</th>\n",
       "      <th>D</th>\n",
       "    </tr>\n",
       "  </thead>\n",
       "  <tbody>\n",
       "    <tr>\n",
       "      <td>0</td>\n",
       "      <td>0.196500</td>\n",
       "      <td>-0.716754</td>\n",
       "      <td>0.206229</td>\n",
       "      <td>-0.505184</td>\n",
       "    </tr>\n",
       "    <tr>\n",
       "      <td>1</td>\n",
       "      <td>-1.994146</td>\n",
       "      <td>-0.129090</td>\n",
       "      <td>-1.758266</td>\n",
       "      <td>-0.027633</td>\n",
       "    </tr>\n",
       "    <tr>\n",
       "      <td>2</td>\n",
       "      <td>0.662638</td>\n",
       "      <td>0.228777</td>\n",
       "      <td>1.496965</td>\n",
       "      <td>-0.906308</td>\n",
       "    </tr>\n",
       "    <tr>\n",
       "      <td>3</td>\n",
       "      <td>-0.958328</td>\n",
       "      <td>0.318822</td>\n",
       "      <td>-0.406579</td>\n",
       "      <td>0.194515</td>\n",
       "    </tr>\n",
       "    <tr>\n",
       "      <td>4</td>\n",
       "      <td>0.423124</td>\n",
       "      <td>0.422555</td>\n",
       "      <td>1.175438</td>\n",
       "      <td>0.449018</td>\n",
       "    </tr>\n",
       "  </tbody>\n",
       "</table>\n",
       "</div>"
      ],
      "text/plain": [
       "          A         B         C         D\n",
       "0  0.196500 -0.716754  0.206229 -0.505184\n",
       "1 -1.994146 -0.129090 -1.758266 -0.027633\n",
       "2  0.662638  0.228777  1.496965 -0.906308\n",
       "3 -0.958328  0.318822 -0.406579  0.194515\n",
       "4  0.423124  0.422555  1.175438  0.449018"
      ]
     },
     "execution_count": 11,
     "metadata": {},
     "output_type": "execute_result"
    }
   ],
   "source": [
    "df.head()"
   ]
  },
  {
   "cell_type": "code",
   "execution_count": 14,
   "metadata": {},
   "outputs": [],
   "source": [
    "df2 = pd.DataFrame({'Category':['A','B','C'],'Values':[32,43,50]})"
   ]
  },
  {
   "cell_type": "code",
   "execution_count": 15,
   "metadata": {},
   "outputs": [
    {
     "data": {
      "text/html": [
       "<div>\n",
       "<style scoped>\n",
       "    .dataframe tbody tr th:only-of-type {\n",
       "        vertical-align: middle;\n",
       "    }\n",
       "\n",
       "    .dataframe tbody tr th {\n",
       "        vertical-align: top;\n",
       "    }\n",
       "\n",
       "    .dataframe thead th {\n",
       "        text-align: right;\n",
       "    }\n",
       "</style>\n",
       "<table border=\"1\" class=\"dataframe\">\n",
       "  <thead>\n",
       "    <tr style=\"text-align: right;\">\n",
       "      <th></th>\n",
       "      <th>Category</th>\n",
       "      <th>Values</th>\n",
       "    </tr>\n",
       "  </thead>\n",
       "  <tbody>\n",
       "    <tr>\n",
       "      <td>0</td>\n",
       "      <td>A</td>\n",
       "      <td>32</td>\n",
       "    </tr>\n",
       "    <tr>\n",
       "      <td>1</td>\n",
       "      <td>B</td>\n",
       "      <td>43</td>\n",
       "    </tr>\n",
       "    <tr>\n",
       "      <td>2</td>\n",
       "      <td>C</td>\n",
       "      <td>50</td>\n",
       "    </tr>\n",
       "  </tbody>\n",
       "</table>\n",
       "</div>"
      ],
      "text/plain": [
       "  Category  Values\n",
       "0        A      32\n",
       "1        B      43\n",
       "2        C      50"
      ]
     },
     "execution_count": 15,
     "metadata": {},
     "output_type": "execute_result"
    }
   ],
   "source": [
    "df2"
   ]
  },
  {
   "cell_type": "code",
   "execution_count": 17,
   "metadata": {},
   "outputs": [
    {
     "data": {
      "text/plain": [
       "<matplotlib.axes._subplots.AxesSubplot at 0x1b0f96f5988>"
      ]
     },
     "execution_count": 17,
     "metadata": {},
     "output_type": "execute_result"
    },
    {
     "data": {
      "image/png": "[encoded data removed]",
      "text/plain": [
       "<Figure size 432x288 with 1 Axes>"
      ]
     },
     "metadata": {
      "needs_background": "light"
     },
     "output_type": "display_data"
    }
   ],
   "source": [
    "df.plot()"
   ]
  },
  {
   "cell_type": "code",
   "execution_count": 18,
   "metadata": {},
   "outputs": [
    {
     "data": {
      "application/vnd.plotly.v1+json": {
       "config": {
        "linkText": "Export to plot.ly",
        "plotlyServerURL": "https://plot.ly",
        "showLink": true
       },
       "data": [
        {
         "line": {
          "color": "rgba(255, 153, 51, 1.0)",
          "dash": "solid",
          "shape": "linear",
          "width": 1.3
         },
         "mode": "lines",
         "name": "A",
         "text": "",
         "type": "scatter",
         "x": [
          0,
          1,
          2,
          3,
          4,
          5,
          6,
          7,
          8,
          9,
          10,
          11,
          12,
          13,
          14,
          15,
          16,
          17,
          18,
          19,
          20,
          21,
          22,
          23,
          24,
          25,
          26,
          27,
          28,
          29,
          30,
          31,
          32,
          33,
          34,
          35,
          36,
          37,
          38,
          39,
          40,
          41,
          42,
          43,
          44,
          45,
          46,
          47,
          48,
          49,
          50,
          51,
          52,
          53,
          54,
          55,
          56,
          57,
          58,
          59,
          60,
          61,
          62,
          63,
          64,
          65,
          66,
          67,
          68,
          69,
          70,
          71,
          72,
          73,
          74,
          75,
          76,
          77,
          78,
          79,
          80,
          81,
          82,
          83,
          84,
          85,
          86,
          87,
          88,
          89,
          90,
          91,
          92,
          93,
          94,
          95,
          96,
          97,
          98,
          99
         ],
         "y": [
          0.19650022373258236,
          -1.9941460778502356,
          0.6626376887314555,
          -0.958327863418552,
          0.4231241777990569,
          0.7113678238984446,
          -0.09165347023463194,
          -1.3149597471701424,
          -1.3933206032441685,
          -0.5529960919904516,
          -1.232042488497158,
          1.0661400300358617,
          0.36496152149907735,
          0.12566632897650376,
          -0.4154383457317713,
          1.1145779823073672,
          1.512565868621305,
          0.1794830651348587,
          1.0343723418421487,
          2.7907567772555297,
          0.2998865268939037,
          -1.1158316023870536,
          -0.027602812843491573,
          -0.5298883887261153,
          1.0290623615134162,
          0.9827394564213197,
          -0.4455813047158554,
          0.2338813758270774,
          -0.02285208244483196,
          -0.8967539023754664,
          -1.4758756049165747,
          -0.8947207457648796,
          -0.07309580354724263,
          -0.7845742580993053,
          0.23876895288454827,
          0.9742961492985625,
          -0.033916672684154374,
          1.1196298171192591,
          -0.535731539283069,
          -0.3906973132685843,
          -0.8424290459415693,
          0.2792280254608758,
          -0.9286349945862502,
          -1.5063893605812446,
          1.8743143044827653,
          -0.651912761220479,
          -0.6218461636563343,
          0.835257171977975,
          -0.6112242584714845,
          0.3039624479311827,
          -1.4468041377380885,
          1.311224077205215,
          -0.7808300388541097,
          -0.7560423271045358,
          -0.5005366745377746,
          -0.8309774142243554,
          0.3162223512088091,
          -0.002041007732976193,
          -0.6113995211974071,
          -0.7775783612568149,
          -1.2475028820394487,
          1.217988302202804,
          -2.035103126115838,
          1.0642766469020115,
          0.20548427026076269,
          1.2143492963512488,
          -0.2852927776860206,
          1.124432516025142,
          1.6347521744859779,
          -1.7834783009007091,
          0.2841397399808306,
          -0.2089012383694685,
          0.16030754969303934,
          0.36365439104045916,
          1.19666648962708,
          1.0687355273258576,
          1.3397200048714657,
          -1.4253637092798235,
          -0.11768531861787762,
          1.093744468440918,
          -0.636974215744073,
          -0.3613674535797206,
          2.053369552369878,
          0.7116839450439921,
          0.21270413234870125,
          -0.7903526585716255,
          -0.5880588643865717,
          0.3927540327176958,
          1.006657100212194,
          0.4213663847261615,
          0.19051498346579346,
          -0.03139508418786326,
          -0.7817689753853478,
          0.11699032841973789,
          0.9873789930068373,
          0.3593178489481021,
          0.19807751375431895,
          0.16904863471663228,
          -0.8675517348746863,
          1.0632008929683778
         ]
        },
        {
         "line": {
          "color": "rgba(55, 128, 191, 1.0)",
          "dash": "solid",
          "shape": "linear",
          "width": 1.3
         },
         "mode": "lines",
         "name": "B",
         "text": "",
         "type": "scatter",
         "x": [
          0,
          1,
          2,
          3,
          4,
          5,
          6,
          7,
          8,
          9,
          10,
          11,
          12,
          13,
          14,
          15,
          16,
          17,
          18,
          19,
          20,
          21,
          22,
          23,
          24,
          25,
          26,
          27,
          28,
          29,
          30,
          31,
          32,
          33,
          34,
          35,
          36,
          37,
          38,
          39,
          40,
          41,
          42,
          43,
          44,
          45,
          46,
          47,
          48,
          49,
          50,
          51,
          52,
          53,
          54,
          55,
          56,
          57,
          58,
          59,
          60,
          61,
          62,
          63,
          64,
          65,
          66,
          67,
          68,
          69,
          70,
          71,
          72,
          73,
          74,
          75,
          76,
          77,
          78,
          79,
          80,
          81,
          82,
          83,
          84,
          85,
          86,
          87,
          88,
          89,
          90,
          91,
          92,
          93,
          94,
          95,
          96,
          97,
          98,
          99
         ],
         "y": [
          -0.7167540505755027,
          -0.12909041323094617,
          0.22877681615439618,
          0.31882194562550403,
          0.4225554005693531,
          -1.6017150482952225,
          -0.2831684279736227,
          0.4322828011724924,
          1.255309714528344,
          0.8755230396176855,
          -0.6831456954439784,
          0.8110952397727162,
          -0.9166031195725972,
          0.3064369207186609,
          -2.0490989505187236,
          0.24906760614659623,
          0.39402324128552113,
          1.2780126859912582,
          -0.6505787538828152,
          -1.8518228676195427,
          -0.6746027652090811,
          -0.5161504692227723,
          0.2675518587457653,
          1.2710464229933724,
          1.2807012511537221,
          -0.813800981946473,
          0.9887296411556364,
          0.34779627811844277,
          1.0722640977196165,
          0.6433973284268374,
          0.40989450323414944,
          -1.4733258160007474,
          -0.9412466041115733,
          -0.10393012533579014,
          -0.6633454096051882,
          0.015757602282605216,
          1.9300001620261522,
          0.3233316683803168,
          1.392081529793989,
          1.4443614670956944,
          -0.19790878795053235,
          -0.5544650739226349,
          0.5810930100480569,
          -0.1905863676661684,
          0.6475117163062424,
          -0.4221535516573303,
          -0.9506756238745352,
          -0.3235691101756691,
          1.4337726924059773,
          -0.12164703421491174,
          -1.062327523237242,
          0.11695727946221875,
          -1.007567980517339,
          -3.098258736419873,
          1.235020540831101,
          0.08921425828329375,
          0.704599257819094,
          -1.9902654298561624,
          -1.3954712513866852,
          0.26963792912257833,
          0.24635411911346924,
          1.2620128885536703,
          1.1836800423064873,
          1.400217743322152,
          -0.8679652825501485,
          -0.7350983986807433,
          -2.069993960321671,
          -1.282928343846692,
          0.48351853758115854,
          0.6112862292452989,
          1.1036595971163061,
          -0.5462393578834953,
          -0.33009350560709183,
          -1.629830976151171,
          1.1731247238933304,
          -0.2389716755564296,
          0.10612143852848767,
          0.24536861497171922,
          -1.3303910676401658,
          -1.003306043921901,
          -0.4633435944966815,
          -0.022550288796635908,
          -1.012648189549336,
          -0.7750502400724303,
          -0.04569054422612893,
          -1.2199363247358548,
          -0.46624047284590303,
          -0.018410039343196544,
          0.6315535035946279,
          -0.6522499307304486,
          1.0430884953210082,
          -0.22480352941851106,
          -0.1484017345204255,
          -0.17236561194123814,
          -1.0275961625778565,
          0.819474611828162,
          1.1454383327596491,
          -1.2813189449037186,
          1.753594350607639,
          0.1766289971132849
         ]
        },
        {
         "line": {
          "color": "rgba(50, 171, 96, 1.0)",
          "dash": "solid",
          "shape": "linear",
          "width": 1.3
         },
         "mode": "lines",
         "name": "C",
         "text": "",
         "type": "scatter",
         "x": [
          0,
          1,
          2,
          3,
          4,
          5,
          6,
          7,
          8,
          9,
          10,
          11,
          12,
          13,
          14,
          15,
          16,
          17,
          18,
          19,
          20,
          21,
          22,
          23,
          24,
          25,
          26,
          27,
          28,
          29,
          30,
          31,
          32,
          33,
          34,
          35,
          36,
          37,
          38,
          39,
          40,
          41,
          42,
          43,
          44,
          45,
          46,
          47,
          48,
          49,
          50,
          51,
          52,
          53,
          54,
          55,
          56,
          57,
          58,
          59,
          60,
          61,
          62,
          63,
          64,
          65,
          66,
          67,
          68,
          69,
          70,
          71,
          72,
          73,
          74,
          75,
          76,
          77,
          78,
          79,
          80,
          81,
          82,
          83,
          84,
          85,
          86,
          87,
          88,
          89,
          90,
          91,
          92,
          93,
          94,
          95,
          96,
          97,
          98,
          99
         ],
         "y": [
          0.20622876273106594,
          -1.7582658186110154,
          1.4969648432620881,
          -0.40657867926378977,
          1.1754382926242963,
          -1.3658457286532277,
          1.7304271824807045,
          0.9210670378195593,
          0.018536153324841338,
          -1.3053265208086002,
          0.8948835174263292,
          -0.9046451320147075,
          -0.6259190248888457,
          1.2599386480021038,
          0.013077683955397853,
          0.6798722793361448,
          -1.558151015284966,
          -0.678400753157479,
          0.40645450682141293,
          -1.7681206957487599,
          -1.1823300566295585,
          0.12044471170225582,
          -0.5759437193670766,
          -0.4782778980130167,
          0.8006787638594658,
          -0.3995816382995518,
          0.3719799766359585,
          0.45511605232163177,
          -0.2981312038552599,
          -0.3422409295806544,
          -1.5099816530748422,
          1.5594654795670082,
          0.38323229966132805,
          1.7559936574220256,
          0.4716137758822409,
          0.41398222117028377,
          0.7516244288447266,
          -0.8276126180427615,
          -0.8331636757462645,
          -2.0289526269137848,
          -0.1719540743163901,
          0.7060660905554883,
          -0.7480035478099717,
          0.10803639800458438,
          0.8368015456560084,
          -0.5398560104229473,
          -0.09363686742962193,
          -1.7245614127632307,
          -1.1561615962226712,
          1.3251435998718424,
          -0.06301171349649078,
          1.8871000709184729,
          -0.13045548140964353,
          -0.34615819598680553,
          -1.3147370878520375,
          -0.8550327054325254,
          1.1293722200174279,
          1.1120478010694546,
          1.2411615985025872,
          0.436363696278438,
          -0.4085453570183543,
          -0.5174649338270388,
          0.6847358639157233,
          0.195518110370209,
          0.49085497407584355,
          1.05466463532716,
          0.05629101238377474,
          2.071854496390022,
          -0.6042931635249521,
          -0.6853498467718027,
          -0.0009068095686971332,
          -0.12956732099735038,
          -0.22336632400404072,
          -0.283396072867283,
          -0.6425776848050261,
          0.1618564718941374,
          -0.7210807710831003,
          0.8460059149541216,
          -0.306617857501679,
          2.488109159805582,
          0.14856910804556547,
          1.7498181667323272,
          -1.0073476808783985,
          -1.3947093769604566,
          0.26308360838099903,
          -0.1665680808292545,
          1.522398432951192,
          -1.6776997614965026,
          0.6735306871847314,
          0.18419053161823734,
          0.5200692599146426,
          -0.36668720771838215,
          -1.2832201844922588,
          -0.17268525629315462,
          -0.8518939490336926,
          -0.7718894615673308,
          0.4294553382389916,
          1.1089994531932286,
          1.1726024821047942,
          0.7398346113115881
         ]
        },
        {
         "line": {
          "color": "rgba(128, 0, 128, 1.0)",
          "dash": "solid",
          "shape": "linear",
          "width": 1.3
         },
         "mode": "lines",
         "name": "D",
         "text": "",
         "type": "scatter",
         "x": [
          0,
          1,
          2,
          3,
          4,
          5,
          6,
          7,
          8,
          9,
          10,
          11,
          12,
          13,
          14,
          15,
          16,
          17,
          18,
          19,
          20,
          21,
          22,
          23,
          24,
          25,
          26,
          27,
          28,
          29,
          30,
          31,
          32,
          33,
          34,
          35,
          36,
          37,
          38,
          39,
          40,
          41,
          42,
          43,
          44,
          45,
          46,
          47,
          48,
          49,
          50,
          51,
          52,
          53,
          54,
          55,
          56,
          57,
          58,
          59,
          60,
          61,
          62,
          63,
          64,
          65,
          66,
          67,
          68,
          69,
          70,
          71,
          72,
          73,
          74,
          75,
          76,
          77,
          78,
          79,
          80,
          81,
          82,
          83,
          84,
          85,
          86,
          87,
          88,
          89,
          90,
          91,
          92,
          93,
          94,
          95,
          96,
          97,
          98,
          99
         ],
         "y": [
          -0.505183837528164,
          -0.0276329219801729,
          -0.9063075245742348,
          0.19451494584850162,
          0.44901830076031013,
          -2.007703338660613,
          -0.1297734677004214,
          0.9278871126076236,
          0.2262394703311532,
          1.7987183107730271,
          1.5646802438302365,
          -0.7462365845788629,
          0.08568229363463313,
          -0.18592884003455212,
          1.689056586530158,
          -0.04284530382005643,
          1.558350099904935,
          0.5048452086815636,
          0.5137112673569676,
          2.090585346251317,
          0.8660329992889156,
          -1.098023318888969,
          -0.14996271561242672,
          0.11185457887145386,
          1.086802812279443,
          -0.4624890992824662,
          -1.355953933628624,
          -0.7820390303836555,
          -1.3773935469011958,
          0.4083286329725384,
          -0.14080901705025084,
          -0.4502111210451887,
          -0.004223835712109334,
          0.748127230155246,
          0.7936355298110129,
          1.4838053627725512,
          0.2067669984246998,
          0.7771102339809596,
          1.3804578000154384,
          0.8201211239253432,
          -1.351085749813894,
          -1.4133365180460378,
          -0.6115690849479227,
          -0.8878336842883038,
          -0.08424627838717429,
          0.9138469282694803,
          -1.0246405899433415,
          -0.8424777802141452,
          0.8282483419632345,
          -1.2046591639446385,
          0.3712505968905831,
          -0.6686622801935974,
          -0.9275466867602205,
          -0.8302902757272163,
          -1.3438834821775725,
          -0.6166413257716978,
          0.3141640162386474,
          -0.05075064310173611,
          0.7350294724082517,
          0.06218334613367416,
          -2.194951395344034,
          -1.1179842037676107,
          -0.12177572734257305,
          0.6429150116102603,
          -0.98207877416493,
          0.39046557417975947,
          -0.7329755436359863,
          -2.667276213857281,
          1.3664013700856121,
          0.6764338886337651,
          -1.0480130896248643,
          0.9613367285215236,
          0.42750990402040934,
          -0.29709998383450853,
          0.2835914692290397,
          0.42591860335936105,
          0.01844044587431985,
          -0.4148182824242851,
          0.38671775577926304,
          -1.465722489216768,
          1.060921112651931,
          -0.26342549483741046,
          -0.2640785213362949,
          0.888097724042476,
          0.2632089279727065,
          -0.5520278114936636,
          -0.27146734538056994,
          -0.18449113710418427,
          1.2564667521349653,
          0.6942329857010153,
          -0.3130156423041538,
          0.806609936012424,
          -0.020201071164758166,
          2.274636494169897,
          -0.0748684818098725,
          -1.8140994778789923,
          -0.22648946000572145,
          -0.8886647680304275,
          0.8289382664456802,
          0.04030063947334295
         ]
        }
       ],
       "layout": {
        "legend": {
         "bgcolor": "#F5F6F9",
         "font": {
          "color": "#4D5663"
         }
        },
        "paper_bgcolor": "#F5F6F9",
        "plot_bgcolor": "#F5F6F9",
        "template": {
         "data": {
          "bar": [
           {
            "error_x": {
             "color": "#2a3f5f"
            },
            "error_y": {
             "color": "#2a3f5f"
            },
            "marker": {
             "line": {
              "color": "#E5ECF6",
              "width": 0.5
             }
            },
            "type": "bar"
           }
          ],
          "barpolar": [
           {
            "marker": {
             "line": {
              "color": "#E5ECF6",
              "width": 0.5
             }
            },
            "type": "barpolar"
           }
          ],
          "carpet": [
           {
            "aaxis": {
             "endlinecolor": "#2a3f5f",
             "gridcolor": "white",
             "linecolor": "white",
             "minorgridcolor": "white",
             "startlinecolor": "#2a3f5f"
            },
            "baxis": {
             "endlinecolor": "#2a3f5f",
             "gridcolor": "white",
             "linecolor": "white",
             "minorgridcolor": "white",
             "startlinecolor": "#2a3f5f"
            },
            "type": "carpet"
           }
          ],
          "choropleth": [
           {
            "colorbar": {
             "outlinewidth": 0,
             "ticks": ""
            },
            "type": "choropleth"
           }
          ],
          "contour": [
           {
            "colorbar": {
             "outlinewidth": 0,
             "ticks": ""
            },
            "colorscale": [
             [
              0,
              "#0d0887"
             ],
             [
              0.1111111111111111,
              "#46039f"
             ],
             [
              0.2222222222222222,
              "#7201a8"
             ],
             [
              0.3333333333333333,
              "#9c179e"
             ],
             [
              0.4444444444444444,
              "#bd3786"
             ],
             [
              0.5555555555555556,
              "#d8576b"
             ],
             [
              0.6666666666666666,
              "#ed7953"
             ],
             [
              0.7777777777777778,
              "#fb9f3a"
             ],
             [
              0.8888888888888888,
              "#fdca26"
             ],
             [
              1,
              "#f0f921"
             ]
            ],
            "type": "contour"
           }
          ],
          "contourcarpet": [
           {
            "colorbar": {
             "outlinewidth": 0,
             "ticks": ""
            },
            "type": "contourcarpet"
           }
          ],
          "heatmap": [
           {
            "colorbar": {
             "outlinewidth": 0,
             "ticks": ""
            },
            "colorscale": [
             [
              0,
              "#0d0887"
             ],
             [
              0.1111111111111111,
              "#46039f"
             ],
             [
              0.2222222222222222,
              "#7201a8"
             ],
             [
              0.3333333333333333,
              "#9c179e"
             ],
             [
              0.4444444444444444,
              "#bd3786"
             ],
             [
              0.5555555555555556,
              "#d8576b"
             ],
             [
              0.6666666666666666,
              "#ed7953"
             ],
             [
              0.7777777777777778,
              "#fb9f3a"
             ],
             [
              0.8888888888888888,
              "#fdca26"
             ],
             [
              1,
              "#f0f921"
             ]
            ],
            "type": "heatmap"
           }
          ],
          "heatmapgl": [
           {
            "colorbar": {
             "outlinewidth": 0,
             "ticks": ""
            },
            "colorscale": [
             [
              0,
              "#0d0887"
             ],
             [
              0.1111111111111111,
              "#46039f"
             ],
             [
              0.2222222222222222,
              "#7201a8"
             ],
             [
              0.3333333333333333,
              "#9c179e"
             ],
             [
              0.4444444444444444,
              "#bd3786"
             ],
             [
              0.5555555555555556,
              "#d8576b"
             ],
             [
              0.6666666666666666,
              "#ed7953"
             ],
             [
              0.7777777777777778,
              "#fb9f3a"
             ],
             [
              0.8888888888888888,
              "#fdca26"
             ],
             [
              1,
              "#f0f921"
             ]
            ],
            "type": "heatmapgl"
           }
          ],
          "histogram": [
           {
            "marker": {
             "colorbar": {
              "outlinewidth": 0,
              "ticks": ""
             }
            },
            "type": "histogram"
           }
          ],
          "histogram2d": [
           {
            "colorbar": {
             "outlinewidth": 0,
             "ticks": ""
            },
            "colorscale": [
             [
              0,
              "#0d0887"
             ],
             [
              0.1111111111111111,
              "#46039f"
             ],
             [
              0.2222222222222222,
              "#7201a8"
             ],
             [
              0.3333333333333333,
              "#9c179e"
             ],
             [
              0.4444444444444444,
              "#bd3786"
             ],
             [
              0.5555555555555556,
              "#d8576b"
             ],
             [
              0.6666666666666666,
              "#ed7953"
             ],
             [
              0.7777777777777778,
              "#fb9f3a"
             ],
             [
              0.8888888888888888,
              "#fdca26"
             ],
             [
              1,
              "#f0f921"
             ]
            ],
            "type": "histogram2d"
           }
          ],
          "histogram2dcontour": [
           {
            "colorbar": {
             "outlinewidth": 0,
             "ticks": ""
            },
            "colorscale": [
             [
              0,
              "#0d0887"
             ],
             [
              0.1111111111111111,
              "#46039f"
             ],
             [
              0.2222222222222222,
              "#7201a8"
             ],
             [
              0.3333333333333333,
              "#9c179e"
             ],
             [
              0.4444444444444444,
              "#bd3786"
             ],
             [
              0.5555555555555556,
              "#d8576b"
             ],
             [
              0.6666666666666666,
              "#ed7953"
             ],
             [
              0.7777777777777778,
              "#fb9f3a"
             ],
             [
              0.8888888888888888,
              "#fdca26"
             ],
             [
              1,
              "#f0f921"
             ]
            ],
            "type": "histogram2dcontour"
           }
          ],
          "mesh3d": [
           {
            "colorbar": {
             "outlinewidth": 0,
             "ticks": ""
            },
            "type": "mesh3d"
           }
          ],
          "parcoords": [
           {
            "line": {
             "colorbar": {
              "outlinewidth": 0,
              "ticks": ""
             }
            },
            "type": "parcoords"
           }
          ],
          "pie": [
           {
            "automargin": true,
            "type": "pie"
           }
          ],
          "scatter": [
           {
            "marker": {
             "colorbar": {
              "outlinewidth": 0,
              "ticks": ""
             }
            },
            "type": "scatter"
           }
          ],
          "scatter3d": [
           {
            "line": {
             "colorbar": {
              "outlinewidth": 0,
              "ticks": ""
             }
            },
            "marker": {
             "colorbar": {
              "outlinewidth": 0,
              "ticks": ""
             }
            },
            "type": "scatter3d"
           }
          ],
          "scattercarpet": [
           {
            "marker": {
             "colorbar": {
              "outlinewidth": 0,
              "ticks": ""
             }
            },
            "type": "scattercarpet"
           }
          ],
          "scattergeo": [
           {
            "marker": {
             "colorbar": {
              "outlinewidth": 0,
              "ticks": ""
             }
            },
            "type": "scattergeo"
           }
          ],
          "scattergl": [
           {
            "marker": {
             "colorbar": {
              "outlinewidth": 0,
              "ticks": ""
             }
            },
            "type": "scattergl"
           }
          ],
          "scattermapbox": [
           {
            "marker": {
             "colorbar": {
              "outlinewidth": 0,
              "ticks": ""
             }
            },
            "type": "scattermapbox"
           }
          ],
          "scatterpolar": [
           {
            "marker": {
             "colorbar": {
              "outlinewidth": 0,
              "ticks": ""
             }
            },
            "type": "scatterpolar"
           }
          ],
          "scatterpolargl": [
           {
            "marker": {
             "colorbar": {
              "outlinewidth": 0,
              "ticks": ""
             }
            },
            "type": "scatterpolargl"
           }
          ],
          "scatterternary": [
           {
            "marker": {
             "colorbar": {
              "outlinewidth": 0,
              "ticks": ""
             }
            },
            "type": "scatterternary"
           }
          ],
          "surface": [
           {
            "colorbar": {
             "outlinewidth": 0,
             "ticks": ""
            },
            "colorscale": [
             [
              0,
              "#0d0887"
             ],
             [
              0.1111111111111111,
              "#46039f"
             ],
             [
              0.2222222222222222,
              "#7201a8"
             ],
             [
              0.3333333333333333,
              "#9c179e"
             ],
             [
              0.4444444444444444,
              "#bd3786"
             ],
             [
              0.5555555555555556,
              "#d8576b"
             ],
             [
              0.6666666666666666,
              "#ed7953"
             ],
             [
              0.7777777777777778,
              "#fb9f3a"
             ],
             [
              0.8888888888888888,
              "#fdca26"
             ],
             [
              1,
              "#f0f921"
             ]
            ],
            "type": "surface"
           }
          ],
          "table": [
           {
            "cells": {
             "fill": {
              "color": "#EBF0F8"
             },
             "line": {
              "color": "white"
             }
            },
            "header": {
             "fill": {
              "color": "#C8D4E3"
             },
             "line": {
              "color": "white"
             }
            },
            "type": "table"
           }
          ]
         },
         "layout": {
          "annotationdefaults": {
           "arrowcolor": "#2a3f5f",
           "arrowhead": 0,
           "arrowwidth": 1
          },
          "coloraxis": {
           "colorbar": {
            "outlinewidth": 0,
            "ticks": ""
           }
          },
          "colorscale": {
           "diverging": [
            [
             0,
             "#8e0152"
            ],
            [
             0.1,
             "#c51b7d"
            ],
            [
             0.2,
             "#de77ae"
            ],
            [
             0.3,
             "#f1b6da"
            ],
            [
             0.4,
             "#fde0ef"
            ],
            [
             0.5,
             "#f7f7f7"
            ],
            [
             0.6,
             "#e6f5d0"
            ],
            [
             0.7,
             "#b8e186"
            ],
            [
             0.8,
             "#7fbc41"
            ],
            [
             0.9,
             "#4d9221"
            ],
            [
             1,
             "#276419"
            ]
           ],
           "sequential": [
            [
             0,
             "#0d0887"
            ],
            [
             0.1111111111111111,
             "#46039f"
            ],
            [
             0.2222222222222222,
             "#7201a8"
            ],
            [
             0.3333333333333333,
             "#9c179e"
            ],
            [
             0.4444444444444444,
             "#bd3786"
            ],
            [
             0.5555555555555556,
             "#d8576b"
            ],
            [
             0.6666666666666666,
             "#ed7953"
            ],
            [
             0.7777777777777778,
             "#fb9f3a"
            ],
            [
             0.8888888888888888,
             "#fdca26"
            ],
            [
             1,
             "#f0f921"
            ]
           ],
           "sequentialminus": [
            [
             0,
             "#0d0887"
            ],
            [
             0.1111111111111111,
             "#46039f"
            ],
            [
             0.2222222222222222,
             "#7201a8"
            ],
            [
             0.3333333333333333,
             "#9c179e"
            ],
            [
             0.4444444444444444,
             "#bd3786"
            ],
            [
             0.5555555555555556,
             "#d8576b"
            ],
            [
             0.6666666666666666,
             "#ed7953"
            ],
            [
             0.7777777777777778,
             "#fb9f3a"
            ],
            [
             0.8888888888888888,
             "#fdca26"
            ],
            [
             1,
             "#f0f921"
            ]
           ]
          },
          "colorway": [
           "#636efa",
           "#EF553B",
           "#00cc96",
           "#ab63fa",
           "#FFA15A",
           "#19d3f3",
           "#FF6692",
           "#B6E880",
           "#FF97FF",
           "#FECB52"
          ],
          "font": {
           "color": "#2a3f5f"
          },
          "geo": {
           "bgcolor": "white",
           "lakecolor": "white",
           "landcolor": "#E5ECF6",
           "showlakes": true,
           "showland": true,
           "subunitcolor": "white"
          },
          "hoverlabel": {
           "align": "left"
          },
          "hovermode": "closest",
          "mapbox": {
           "style": "light"
          },
          "paper_bgcolor": "white",
          "plot_bgcolor": "#E5ECF6",
          "polar": {
           "angularaxis": {
            "gridcolor": "white",
            "linecolor": "white",
            "ticks": ""
           },
           "bgcolor": "#E5ECF6",
           "radialaxis": {
            "gridcolor": "white",
            "linecolor": "white",
            "ticks": ""
           }
          },
          "scene": {
           "xaxis": {
            "backgroundcolor": "#E5ECF6",
            "gridcolor": "white",
            "gridwidth": 2,
            "linecolor": "white",
            "showbackground": true,
            "ticks": "",
            "zerolinecolor": "white"
           },
           "yaxis": {
            "backgroundcolor": "#E5ECF6",
            "gridcolor": "white",
            "gridwidth": 2,
            "linecolor": "white",
            "showbackground": true,
            "ticks": "",
            "zerolinecolor": "white"
           },
           "zaxis": {
            "backgroundcolor": "#E5ECF6",
            "gridcolor": "white",
            "gridwidth": 2,
            "linecolor": "white",
            "showbackground": true,
            "ticks": "",
            "zerolinecolor": "white"
           }
          },
          "shapedefaults": {
           "line": {
            "color": "#2a3f5f"
           }
          },
          "ternary": {
           "aaxis": {
            "gridcolor": "white",
            "linecolor": "white",
            "ticks": ""
           },
           "baxis": {
            "gridcolor": "white",
            "linecolor": "white",
            "ticks": ""
           },
           "bgcolor": "#E5ECF6",
           "caxis": {
            "gridcolor": "white",
            "linecolor": "white",
            "ticks": ""
           }
          },
          "title": {
           "x": 0.05
          },
          "xaxis": {
           "automargin": true,
           "gridcolor": "white",
           "linecolor": "white",
           "ticks": "",
           "title": {
            "standoff": 15
           },
           "zerolinecolor": "white",
           "zerolinewidth": 2
          },
          "yaxis": {
           "automargin": true,
           "gridcolor": "white",
           "linecolor": "white",
           "ticks": "",
           "title": {
            "standoff": 15
           },
           "zerolinecolor": "white",
           "zerolinewidth": 2
          }
         }
        },
        "title": {
         "font": {
          "color": "#4D5663"
         }
        },
        "xaxis": {
         "gridcolor": "#E1E5ED",
         "showgrid": true,
         "tickfont": {
          "color": "#4D5663"
         },
         "title": {
          "font": {
           "color": "#4D5663"
          },
          "text": ""
         },
         "zerolinecolor": "#E1E5ED"
        },
        "yaxis": {
         "gridcolor": "#E1E5ED",
         "showgrid": true,
         "tickfont": {
          "color": "#4D5663"
         },
         "title": {
          "font": {
           "color": "#4D5663"
          },
          "text": ""
         },
         "zerolinecolor": "#E1E5ED"
        }
       }
      },
      "text/html": [
       "<div>\n",
       "        \n",
       "        \n",
       "            <div id=\"05ce70a5-45e2-49bd-93e1-b46ba338d3e3\" class=\"plotly-graph-div\" style=\"height:525px; width:100%;\"></div>\n",
       "            <script type=\"text/javascript\">\n",
       "                require([\"plotly\"], function(Plotly) {\n",
       "                    window.PLOTLYENV=window.PLOTLYENV || {};\n",
       "                    window.PLOTLYENV.BASE_URL='https://plot.ly';\n",
       "                    \n",
       "                if (document.getElementById(\"05ce70a5-45e2-49bd-93e1-b46ba338d3e3\")) {\n",
       "                    Plotly.newPlot(\n",
       "                        '05ce70a5-45e2-49bd-93e1-b46ba338d3e3',\n",
       "                        [{\"line\": {\"color\": \"rgba(255, 153, 51, 1.0)\", \"dash\": \"solid\", \"shape\": \"linear\", \"width\": 1.3}, \"mode\": \"lines\", \"name\": \"A\", \"text\": \"\", \"type\": \"scatter\", \"x\": [0, 1, 2, 3, 4, 5, 6, 7, 8, 9, 10, 11, 12, 13, 14, 15, 16, 17, 18, 19, 20, 21, 22, 23, 24, 25, 26, 27, 28, 29, 30, 31, 32, 33, 34, 35, 36, 37, 38, 39, 40, 41, 42, 43, 44, 45, 46, 47, 48, 49, 50, 51, 52, 53, 54, 55, 56, 57, 58, 59, 60, 61, 62, 63, 64, 65, 66, 67, 68, 69, 70, 71, 72, 73, 74, 75, 76, 77, 78, 79, 80, 81, 82, 83, 84, 85, 86, 87, 88, 89, 90, 91, 92, 93, 94, 95, 96, 97, 98, 99], \"y\": [0.19650022373258236, -1.9941460778502356, 0.6626376887314555, -0.958327863418552, 0.4231241777990569, 0.7113678238984446, -0.09165347023463194, -1.3149597471701424, -1.3933206032441685, -0.5529960919904516, -1.232042488497158, 1.0661400300358617, 0.36496152149907735, 0.12566632897650376, -0.4154383457317713, 1.1145779823073672, 1.512565868621305, 0.1794830651348587, 1.0343723418421487, 2.7907567772555297, 0.2998865268939037, -1.1158316023870536, -0.027602812843491573, -0.5298883887261153, 1.0290623615134162, 0.9827394564213197, -0.4455813047158554, 0.2338813758270774, -0.02285208244483196, -0.8967539023754664, -1.4758756049165747, -0.8947207457648796, -0.07309580354724263, -0.7845742580993053, 0.23876895288454827, 0.9742961492985625, -0.033916672684154374, 1.1196298171192591, -0.535731539283069, -0.3906973132685843, -0.8424290459415693, 0.2792280254608758, -0.9286349945862502, -1.5063893605812446, 1.8743143044827653, -0.651912761220479, -0.6218461636563343, 0.835257171977975, -0.6112242584714845, 0.3039624479311827, -1.4468041377380885, 1.311224077205215, -0.7808300388541097, -0.7560423271045358, -0.5005366745377746, -0.8309774142243554, 0.3162223512088091, -0.002041007732976193, -0.6113995211974071, -0.7775783612568149, -1.2475028820394487, 1.217988302202804, -2.035103126115838, 1.0642766469020115, 0.20548427026076269, 1.2143492963512488, -0.2852927776860206, 1.124432516025142, 1.6347521744859779, -1.7834783009007091, 0.2841397399808306, -0.2089012383694685, 0.16030754969303934, 0.36365439104045916, 1.19666648962708, 1.0687355273258576, 1.3397200048714657, -1.4253637092798235, -0.11768531861787762, 1.093744468440918, -0.636974215744073, -0.3613674535797206, 2.053369552369878, 0.7116839450439921, 0.21270413234870125, -0.7903526585716255, -0.5880588643865717, 0.3927540327176958, 1.006657100212194, 0.4213663847261615, 0.19051498346579346, -0.03139508418786326, -0.7817689753853478, 0.11699032841973789, 0.9873789930068373, 0.3593178489481021, 0.19807751375431895, 0.16904863471663228, -0.8675517348746863, 1.0632008929683778]}, {\"line\": {\"color\": \"rgba(55, 128, 191, 1.0)\", \"dash\": \"solid\", \"shape\": \"linear\", \"width\": 1.3}, \"mode\": \"lines\", \"name\": \"B\", \"text\": \"\", \"type\": \"scatter\", \"x\": [0, 1, 2, 3, 4, 5, 6, 7, 8, 9, 10, 11, 12, 13, 14, 15, 16, 17, 18, 19, 20, 21, 22, 23, 24, 25, 26, 27, 28, 29, 30, 31, 32, 33, 34, 35, 36, 37, 38, 39, 40, 41, 42, 43, 44, 45, 46, 47, 48, 49, 50, 51, 52, 53, 54, 55, 56, 57, 58, 59, 60, 61, 62, 63, 64, 65, 66, 67, 68, 69, 70, 71, 72, 73, 74, 75, 76, 77, 78, 79, 80, 81, 82, 83, 84, 85, 86, 87, 88, 89, 90, 91, 92, 93, 94, 95, 96, 97, 98, 99], \"y\": [-0.7167540505755027, -0.12909041323094617, 0.22877681615439618, 0.31882194562550403, 0.4225554005693531, -1.6017150482952225, -0.2831684279736227, 0.4322828011724924, 1.255309714528344, 0.8755230396176855, -0.6831456954439784, 0.8110952397727162, -0.9166031195725972, 0.3064369207186609, -2.0490989505187236, 0.24906760614659623, 0.39402324128552113, 1.2780126859912582, -0.6505787538828152, -1.8518228676195427, -0.6746027652090811, -0.5161504692227723, 0.2675518587457653, 1.2710464229933724, 1.2807012511537221, -0.813800981946473, 0.9887296411556364, 0.34779627811844277, 1.0722640977196165, 0.6433973284268374, 0.40989450323414944, -1.4733258160007474, -0.9412466041115733, -0.10393012533579014, -0.6633454096051882, 0.015757602282605216, 1.9300001620261522, 0.3233316683803168, 1.392081529793989, 1.4443614670956944, -0.19790878795053235, -0.5544650739226349, 0.5810930100480569, -0.1905863676661684, 0.6475117163062424, -0.4221535516573303, -0.9506756238745352, -0.3235691101756691, 1.4337726924059773, -0.12164703421491174, -1.062327523237242, 0.11695727946221875, -1.007567980517339, -3.098258736419873, 1.235020540831101, 0.08921425828329375, 0.704599257819094, -1.9902654298561624, -1.3954712513866852, 0.26963792912257833, 0.24635411911346924, 1.2620128885536703, 1.1836800423064873, 1.400217743322152, -0.8679652825501485, -0.7350983986807433, -2.069993960321671, -1.282928343846692, 0.48351853758115854, 0.6112862292452989, 1.1036595971163061, -0.5462393578834953, -0.33009350560709183, -1.629830976151171, 1.1731247238933304, -0.2389716755564296, 0.10612143852848767, 0.24536861497171922, -1.3303910676401658, -1.003306043921901, -0.4633435944966815, -0.022550288796635908, -1.012648189549336, -0.7750502400724303, -0.04569054422612893, -1.2199363247358548, -0.46624047284590303, -0.018410039343196544, 0.6315535035946279, -0.6522499307304486, 1.0430884953210082, -0.22480352941851106, -0.1484017345204255, -0.17236561194123814, -1.0275961625778565, 0.819474611828162, 1.1454383327596491, -1.2813189449037186, 1.753594350607639, 0.1766289971132849]}, {\"line\": {\"color\": \"rgba(50, 171, 96, 1.0)\", \"dash\": \"solid\", \"shape\": \"linear\", \"width\": 1.3}, \"mode\": \"lines\", \"name\": \"C\", \"text\": \"\", \"type\": \"scatter\", \"x\": [0, 1, 2, 3, 4, 5, 6, 7, 8, 9, 10, 11, 12, 13, 14, 15, 16, 17, 18, 19, 20, 21, 22, 23, 24, 25, 26, 27, 28, 29, 30, 31, 32, 33, 34, 35, 36, 37, 38, 39, 40, 41, 42, 43, 44, 45, 46, 47, 48, 49, 50, 51, 52, 53, 54, 55, 56, 57, 58, 59, 60, 61, 62, 63, 64, 65, 66, 67, 68, 69, 70, 71, 72, 73, 74, 75, 76, 77, 78, 79, 80, 81, 82, 83, 84, 85, 86, 87, 88, 89, 90, 91, 92, 93, 94, 95, 96, 97, 98, 99], \"y\": [0.20622876273106594, -1.7582658186110154, 1.4969648432620881, -0.40657867926378977, 1.1754382926242963, -1.3658457286532277, 1.7304271824807045, 0.9210670378195593, 0.018536153324841338, -1.3053265208086002, 0.8948835174263292, -0.9046451320147075, -0.6259190248888457, 1.2599386480021038, 0.013077683955397853, 0.6798722793361448, -1.558151015284966, -0.678400753157479, 0.40645450682141293, -1.7681206957487599, -1.1823300566295585, 0.12044471170225582, -0.5759437193670766, -0.4782778980130167, 0.8006787638594658, -0.3995816382995518, 0.3719799766359585, 0.45511605232163177, -0.2981312038552599, -0.3422409295806544, -1.5099816530748422, 1.5594654795670082, 0.38323229966132805, 1.7559936574220256, 0.4716137758822409, 0.41398222117028377, 0.7516244288447266, -0.8276126180427615, -0.8331636757462645, -2.0289526269137848, -0.1719540743163901, 0.7060660905554883, -0.7480035478099717, 0.10803639800458438, 0.8368015456560084, -0.5398560104229473, -0.09363686742962193, -1.7245614127632307, -1.1561615962226712, 1.3251435998718424, -0.06301171349649078, 1.8871000709184729, -0.13045548140964353, -0.34615819598680553, -1.3147370878520375, -0.8550327054325254, 1.1293722200174279, 1.1120478010694546, 1.2411615985025872, 0.436363696278438, -0.4085453570183543, -0.5174649338270388, 0.6847358639157233, 0.195518110370209, 0.49085497407584355, 1.05466463532716, 0.05629101238377474, 2.071854496390022, -0.6042931635249521, -0.6853498467718027, -0.0009068095686971332, -0.12956732099735038, -0.22336632400404072, -0.283396072867283, -0.6425776848050261, 0.1618564718941374, -0.7210807710831003, 0.8460059149541216, -0.306617857501679, 2.488109159805582, 0.14856910804556547, 1.7498181667323272, -1.0073476808783985, -1.3947093769604566, 0.26308360838099903, -0.1665680808292545, 1.522398432951192, -1.6776997614965026, 0.6735306871847314, 0.18419053161823734, 0.5200692599146426, -0.36668720771838215, -1.2832201844922588, -0.17268525629315462, -0.8518939490336926, -0.7718894615673308, 0.4294553382389916, 1.1089994531932286, 1.1726024821047942, 0.7398346113115881]}, {\"line\": {\"color\": \"rgba(128, 0, 128, 1.0)\", \"dash\": \"solid\", \"shape\": \"linear\", \"width\": 1.3}, \"mode\": \"lines\", \"name\": \"D\", \"text\": \"\", \"type\": \"scatter\", \"x\": [0, 1, 2, 3, 4, 5, 6, 7, 8, 9, 10, 11, 12, 13, 14, 15, 16, 17, 18, 19, 20, 21, 22, 23, 24, 25, 26, 27, 28, 29, 30, 31, 32, 33, 34, 35, 36, 37, 38, 39, 40, 41, 42, 43, 44, 45, 46, 47, 48, 49, 50, 51, 52, 53, 54, 55, 56, 57, 58, 59, 60, 61, 62, 63, 64, 65, 66, 67, 68, 69, 70, 71, 72, 73, 74, 75, 76, 77, 78, 79, 80, 81, 82, 83, 84, 85, 86, 87, 88, 89, 90, 91, 92, 93, 94, 95, 96, 97, 98, 99], \"y\": [-0.505183837528164, -0.0276329219801729, -0.9063075245742348, 0.19451494584850162, 0.44901830076031013, -2.007703338660613, -0.1297734677004214, 0.9278871126076236, 0.2262394703311532, 1.7987183107730271, 1.5646802438302365, -0.7462365845788629, 0.08568229363463313, -0.18592884003455212, 1.689056586530158, -0.04284530382005643, 1.558350099904935, 0.5048452086815636, 0.5137112673569676, 2.090585346251317, 0.8660329992889156, -1.098023318888969, -0.14996271561242672, 0.11185457887145386, 1.086802812279443, -0.4624890992824662, -1.355953933628624, -0.7820390303836555, -1.3773935469011958, 0.4083286329725384, -0.14080901705025084, -0.4502111210451887, -0.004223835712109334, 0.748127230155246, 0.7936355298110129, 1.4838053627725512, 0.2067669984246998, 0.7771102339809596, 1.3804578000154384, 0.8201211239253432, -1.351085749813894, -1.4133365180460378, -0.6115690849479227, -0.8878336842883038, -0.08424627838717429, 0.9138469282694803, -1.0246405899433415, -0.8424777802141452, 0.8282483419632345, -1.2046591639446385, 0.3712505968905831, -0.6686622801935974, -0.9275466867602205, -0.8302902757272163, -1.3438834821775725, -0.6166413257716978, 0.3141640162386474, -0.05075064310173611, 0.7350294724082517, 0.06218334613367416, -2.194951395344034, -1.1179842037676107, -0.12177572734257305, 0.6429150116102603, -0.98207877416493, 0.39046557417975947, -0.7329755436359863, -2.667276213857281, 1.3664013700856121, 0.6764338886337651, -1.0480130896248643, 0.9613367285215236, 0.42750990402040934, -0.29709998383450853, 0.2835914692290397, 0.42591860335936105, 0.01844044587431985, -0.4148182824242851, 0.38671775577926304, -1.465722489216768, 1.060921112651931, -0.26342549483741046, -0.2640785213362949, 0.888097724042476, 0.2632089279727065, -0.5520278114936636, -0.27146734538056994, -0.18449113710418427, 1.2564667521349653, 0.6942329857010153, -0.3130156423041538, 0.806609936012424, -0.020201071164758166, 2.274636494169897, -0.0748684818098725, -1.8140994778789923, -0.22648946000572145, -0.8886647680304275, 0.8289382664456802, 0.04030063947334295]}],\n",
       "                        {\"legend\": {\"bgcolor\": \"#F5F6F9\", \"font\": {\"color\": \"#4D5663\"}}, \"paper_bgcolor\": \"#F5F6F9\", \"plot_bgcolor\": \"#F5F6F9\", \"template\": {\"data\": {\"bar\": [{\"error_x\": {\"color\": \"#2a3f5f\"}, \"error_y\": {\"color\": \"#2a3f5f\"}, \"marker\": {\"line\": {\"color\": \"#E5ECF6\", \"width\": 0.5}}, \"type\": \"bar\"}], \"barpolar\": [{\"marker\": {\"line\": {\"color\": \"#E5ECF6\", \"width\": 0.5}}, \"type\": \"barpolar\"}], \"carpet\": [{\"aaxis\": {\"endlinecolor\": \"#2a3f5f\", \"gridcolor\": \"white\", \"linecolor\": \"white\", \"minorgridcolor\": \"white\", \"startlinecolor\": \"#2a3f5f\"}, \"baxis\": {\"endlinecolor\": \"#2a3f5f\", \"gridcolor\": \"white\", \"linecolor\": \"white\", \"minorgridcolor\": \"white\", \"startlinecolor\": \"#2a3f5f\"}, \"type\": \"carpet\"}], \"choropleth\": [{\"colorbar\": {\"outlinewidth\": 0, \"ticks\": \"\"}, \"type\": \"choropleth\"}], \"contour\": [{\"colorbar\": {\"outlinewidth\": 0, \"ticks\": \"\"}, \"colorscale\": [[0.0, \"#0d0887\"], [0.1111111111111111, \"#46039f\"], [0.2222222222222222, \"#7201a8\"], [0.3333333333333333, \"#9c179e\"], [0.4444444444444444, \"#bd3786\"], [0.5555555555555556, \"#d8576b\"], [0.6666666666666666, \"#ed7953\"], [0.7777777777777778, \"#fb9f3a\"], [0.8888888888888888, \"#fdca26\"], [1.0, \"#f0f921\"]], \"type\": \"contour\"}], \"contourcarpet\": [{\"colorbar\": {\"outlinewidth\": 0, \"ticks\": \"\"}, \"type\": \"contourcarpet\"}], \"heatmap\": [{\"colorbar\": {\"outlinewidth\": 0, \"ticks\": \"\"}, \"colorscale\": [[0.0, \"#0d0887\"], [0.1111111111111111, \"#46039f\"], [0.2222222222222222, \"#7201a8\"], [0.3333333333333333, \"#9c179e\"], [0.4444444444444444, \"#bd3786\"], [0.5555555555555556, \"#d8576b\"], [0.6666666666666666, \"#ed7953\"], [0.7777777777777778, \"#fb9f3a\"], [0.8888888888888888, \"#fdca26\"], [1.0, \"#f0f921\"]], \"type\": \"heatmap\"}], \"heatmapgl\": [{\"colorbar\": {\"outlinewidth\": 0, \"ticks\": \"\"}, \"colorscale\": [[0.0, \"#0d0887\"], [0.1111111111111111, \"#46039f\"], [0.2222222222222222, \"#7201a8\"], [0.3333333333333333, \"#9c179e\"], [0.4444444444444444, \"#bd3786\"], [0.5555555555555556, \"#d8576b\"], [0.6666666666666666, \"#ed7953\"], [0.7777777777777778, \"#fb9f3a\"], [0.8888888888888888, \"#fdca26\"], [1.0, \"#f0f921\"]], \"type\": \"heatmapgl\"}], \"histogram\": [{\"marker\": {\"colorbar\": {\"outlinewidth\": 0, \"ticks\": \"\"}}, \"type\": \"histogram\"}], \"histogram2d\": [{\"colorbar\": {\"outlinewidth\": 0, \"ticks\": \"\"}, \"colorscale\": [[0.0, \"#0d0887\"], [0.1111111111111111, \"#46039f\"], [0.2222222222222222, \"#7201a8\"], [0.3333333333333333, \"#9c179e\"], [0.4444444444444444, \"#bd3786\"], [0.5555555555555556, \"#d8576b\"], [0.6666666666666666, \"#ed7953\"], [0.7777777777777778, \"#fb9f3a\"], [0.8888888888888888, \"#fdca26\"], [1.0, \"#f0f921\"]], \"type\": \"histogram2d\"}], \"histogram2dcontour\": [{\"colorbar\": {\"outlinewidth\": 0, \"ticks\": \"\"}, \"colorscale\": [[0.0, \"#0d0887\"], [0.1111111111111111, \"#46039f\"], [0.2222222222222222, \"#7201a8\"], [0.3333333333333333, \"#9c179e\"], [0.4444444444444444, \"#bd3786\"], [0.5555555555555556, \"#d8576b\"], [0.6666666666666666, \"#ed7953\"], [0.7777777777777778, \"#fb9f3a\"], [0.8888888888888888, \"#fdca26\"], [1.0, \"#f0f921\"]], \"type\": \"histogram2dcontour\"}], \"mesh3d\": [{\"colorbar\": {\"outlinewidth\": 0, \"ticks\": \"\"}, \"type\": \"mesh3d\"}], \"parcoords\": [{\"line\": {\"colorbar\": {\"outlinewidth\": 0, \"ticks\": \"\"}}, \"type\": \"parcoords\"}], \"pie\": [{\"automargin\": true, \"type\": \"pie\"}], \"scatter\": [{\"marker\": {\"colorbar\": {\"outlinewidth\": 0, \"ticks\": \"\"}}, \"type\": \"scatter\"}], \"scatter3d\": [{\"line\": {\"colorbar\": {\"outlinewidth\": 0, \"ticks\": \"\"}}, \"marker\": {\"colorbar\": {\"outlinewidth\": 0, \"ticks\": \"\"}}, \"type\": \"scatter3d\"}], \"scattercarpet\": [{\"marker\": {\"colorbar\": {\"outlinewidth\": 0, \"ticks\": \"\"}}, \"type\": \"scattercarpet\"}], \"scattergeo\": [{\"marker\": {\"colorbar\": {\"outlinewidth\": 0, \"ticks\": \"\"}}, \"type\": \"scattergeo\"}], \"scattergl\": [{\"marker\": {\"colorbar\": {\"outlinewidth\": 0, \"ticks\": \"\"}}, \"type\": \"scattergl\"}], \"scattermapbox\": [{\"marker\": {\"colorbar\": {\"outlinewidth\": 0, \"ticks\": \"\"}}, \"type\": \"scattermapbox\"}], \"scatterpolar\": [{\"marker\": {\"colorbar\": {\"outlinewidth\": 0, \"ticks\": \"\"}}, \"type\": \"scatterpolar\"}], \"scatterpolargl\": [{\"marker\": {\"colorbar\": {\"outlinewidth\": 0, \"ticks\": \"\"}}, \"type\": \"scatterpolargl\"}], \"scatterternary\": [{\"marker\": {\"colorbar\": {\"outlinewidth\": 0, \"ticks\": \"\"}}, \"type\": \"scatterternary\"}], \"surface\": [{\"colorbar\": {\"outlinewidth\": 0, \"ticks\": \"\"}, \"colorscale\": [[0.0, \"#0d0887\"], [0.1111111111111111, \"#46039f\"], [0.2222222222222222, \"#7201a8\"], [0.3333333333333333, \"#9c179e\"], [0.4444444444444444, \"#bd3786\"], [0.5555555555555556, \"#d8576b\"], [0.6666666666666666, \"#ed7953\"], [0.7777777777777778, \"#fb9f3a\"], [0.8888888888888888, \"#fdca26\"], [1.0, \"#f0f921\"]], \"type\": \"surface\"}], \"table\": [{\"cells\": {\"fill\": {\"color\": \"#EBF0F8\"}, \"line\": {\"color\": \"white\"}}, \"header\": {\"fill\": {\"color\": \"#C8D4E3\"}, \"line\": {\"color\": \"white\"}}, \"type\": \"table\"}]}, \"layout\": {\"annotationdefaults\": {\"arrowcolor\": \"#2a3f5f\", \"arrowhead\": 0, \"arrowwidth\": 1}, \"coloraxis\": {\"colorbar\": {\"outlinewidth\": 0, \"ticks\": \"\"}}, \"colorscale\": {\"diverging\": [[0, \"#8e0152\"], [0.1, \"#c51b7d\"], [0.2, \"#de77ae\"], [0.3, \"#f1b6da\"], [0.4, \"#fde0ef\"], [0.5, \"#f7f7f7\"], [0.6, \"#e6f5d0\"], [0.7, \"#b8e186\"], [0.8, \"#7fbc41\"], [0.9, \"#4d9221\"], [1, \"#276419\"]], \"sequential\": [[0.0, \"#0d0887\"], [0.1111111111111111, \"#46039f\"], [0.2222222222222222, \"#7201a8\"], [0.3333333333333333, \"#9c179e\"], [0.4444444444444444, \"#bd3786\"], [0.5555555555555556, \"#d8576b\"], [0.6666666666666666, \"#ed7953\"], [0.7777777777777778, \"#fb9f3a\"], [0.8888888888888888, \"#fdca26\"], [1.0, \"#f0f921\"]], \"sequentialminus\": [[0.0, \"#0d0887\"], [0.1111111111111111, \"#46039f\"], [0.2222222222222222, \"#7201a8\"], [0.3333333333333333, \"#9c179e\"], [0.4444444444444444, \"#bd3786\"], [0.5555555555555556, \"#d8576b\"], [0.6666666666666666, \"#ed7953\"], [0.7777777777777778, \"#fb9f3a\"], [0.8888888888888888, \"#fdca26\"], [1.0, \"#f0f921\"]]}, \"colorway\": [\"#636efa\", \"#EF553B\", \"#00cc96\", \"#ab63fa\", \"#FFA15A\", \"#19d3f3\", \"#FF6692\", \"#B6E880\", \"#FF97FF\", \"#FECB52\"], \"font\": {\"color\": \"#2a3f5f\"}, \"geo\": {\"bgcolor\": \"white\", \"lakecolor\": \"white\", \"landcolor\": \"#E5ECF6\", \"showlakes\": true, \"showland\": true, \"subunitcolor\": \"white\"}, \"hoverlabel\": {\"align\": \"left\"}, \"hovermode\": \"closest\", \"mapbox\": {\"style\": \"light\"}, \"paper_bgcolor\": \"white\", \"plot_bgcolor\": \"#E5ECF6\", \"polar\": {\"angularaxis\": {\"gridcolor\": \"white\", \"linecolor\": \"white\", \"ticks\": \"\"}, \"bgcolor\": \"#E5ECF6\", \"radialaxis\": {\"gridcolor\": \"white\", \"linecolor\": \"white\", \"ticks\": \"\"}}, \"scene\": {\"xaxis\": {\"backgroundcolor\": \"#E5ECF6\", \"gridcolor\": \"white\", \"gridwidth\": 2, \"linecolor\": \"white\", \"showbackground\": true, \"ticks\": \"\", \"zerolinecolor\": \"white\"}, \"yaxis\": {\"backgroundcolor\": \"#E5ECF6\", \"gridcolor\": \"white\", \"gridwidth\": 2, \"linecolor\": \"white\", \"showbackground\": true, \"ticks\": \"\", \"zerolinecolor\": \"white\"}, \"zaxis\": {\"backgroundcolor\": \"#E5ECF6\", \"gridcolor\": \"white\", \"gridwidth\": 2, \"linecolor\": \"white\", \"showbackground\": true, \"ticks\": \"\", \"zerolinecolor\": \"white\"}}, \"shapedefaults\": {\"line\": {\"color\": \"#2a3f5f\"}}, \"ternary\": {\"aaxis\": {\"gridcolor\": \"white\", \"linecolor\": \"white\", \"ticks\": \"\"}, \"baxis\": {\"gridcolor\": \"white\", \"linecolor\": \"white\", \"ticks\": \"\"}, \"bgcolor\": \"#E5ECF6\", \"caxis\": {\"gridcolor\": \"white\", \"linecolor\": \"white\", \"ticks\": \"\"}}, \"title\": {\"x\": 0.05}, \"xaxis\": {\"automargin\": true, \"gridcolor\": \"white\", \"linecolor\": \"white\", \"ticks\": \"\", \"title\": {\"standoff\": 15}, \"zerolinecolor\": \"white\", \"zerolinewidth\": 2}, \"yaxis\": {\"automargin\": true, \"gridcolor\": \"white\", \"linecolor\": \"white\", \"ticks\": \"\", \"title\": {\"standoff\": 15}, \"zerolinecolor\": \"white\", \"zerolinewidth\": 2}}}, \"title\": {\"font\": {\"color\": \"#4D5663\"}}, \"xaxis\": {\"gridcolor\": \"#E1E5ED\", \"showgrid\": true, \"tickfont\": {\"color\": \"#4D5663\"}, \"title\": {\"font\": {\"color\": \"#4D5663\"}, \"text\": \"\"}, \"zerolinecolor\": \"#E1E5ED\"}, \"yaxis\": {\"gridcolor\": \"#E1E5ED\", \"showgrid\": true, \"tickfont\": {\"color\": \"#4D5663\"}, \"title\": {\"font\": {\"color\": \"#4D5663\"}, \"text\": \"\"}, \"zerolinecolor\": \"#E1E5ED\"}},\n",
       "                        {\"showLink\": true, \"linkText\": \"Export to plot.ly\", \"plotlyServerURL\": \"https://plot.ly\", \"responsive\": true}\n",
       "                    ).then(function(){\n",
       "                            \n",
       "var gd = document.getElementById('05ce70a5-45e2-49bd-93e1-b46ba338d3e3');\n",
       "var x = new MutationObserver(function (mutations, observer) {{\n",
       "        var display = window.getComputedStyle(gd).display;\n",
       "        if (!display || display === 'none') {{\n",
       "            console.log([gd, 'removed!']);\n",
       "            Plotly.purge(gd);\n",
       "            observer.disconnect();\n",
       "        }}\n",
       "}});\n",
       "\n",
       "// Listen for the removal of the full notebook cells\n",
       "var notebookContainer = gd.closest('#notebook-container');\n",
       "if (notebookContainer) {{\n",
       "    x.observe(notebookContainer, {childList: true});\n",
       "}}\n",
       "\n",
       "// Listen for the clearing of the current output cell\n",
       "var outputEl = gd.closest('.output');\n",
       "if (outputEl) {{\n",
       "    x.observe(outputEl, {childList: true});\n",
       "}}\n",
       "\n",
       "                        })\n",
       "                };\n",
       "                });\n",
       "            </script>\n",
       "        </div>"
      ]
     },
     "metadata": {},
     "output_type": "display_data"
    }
   ],
   "source": [
    "df.iplot()"
   ]
  },
  {
   "cell_type": "code",
   "execution_count": 19,
   "metadata": {},
   "outputs": [
    {
     "data": {
      "application/vnd.plotly.v1+json": {
       "config": {
        "linkText": "Export to plot.ly",
        "plotlyServerURL": "https://plot.ly",
        "showLink": true
       },
       "data": [
        {
         "line": {
          "color": "rgba(255, 153, 51, 1.0)",
          "dash": "solid",
          "shape": "linear",
          "width": 1.3
         },
         "mode": "lines",
         "name": "B",
         "text": "",
         "type": "scatter",
         "x": [
          0.19650022373258236,
          -1.9941460778502356,
          0.6626376887314555,
          -0.958327863418552,
          0.4231241777990569,
          0.7113678238984446,
          -0.09165347023463194,
          -1.3149597471701424,
          -1.3933206032441685,
          -0.5529960919904516,
          -1.232042488497158,
          1.0661400300358617,
          0.36496152149907735,
          0.12566632897650376,
          -0.4154383457317713,
          1.1145779823073672,
          1.512565868621305,
          0.1794830651348587,
          1.0343723418421487,
          2.7907567772555297,
          0.2998865268939037,
          -1.1158316023870536,
          -0.027602812843491573,
          -0.5298883887261153,
          1.0290623615134162,
          0.9827394564213197,
          -0.4455813047158554,
          0.2338813758270774,
          -0.02285208244483196,
          -0.8967539023754664,
          -1.4758756049165747,
          -0.8947207457648796,
          -0.07309580354724263,
          -0.7845742580993053,
          0.23876895288454827,
          0.9742961492985625,
          -0.033916672684154374,
          1.1196298171192591,
          -0.535731539283069,
          -0.3906973132685843,
          -0.8424290459415693,
          0.2792280254608758,
          -0.9286349945862502,
          -1.5063893605812446,
          1.8743143044827653,
          -0.651912761220479,
          -0.6218461636563343,
          0.835257171977975,
          -0.6112242584714845,
          0.3039624479311827,
          -1.4468041377380885,
          1.311224077205215,
          -0.7808300388541097,
          -0.7560423271045358,
          -0.5005366745377746,
          -0.8309774142243554,
          0.3162223512088091,
          -0.002041007732976193,
          -0.6113995211974071,
          -0.7775783612568149,
          -1.2475028820394487,
          1.217988302202804,
          -2.035103126115838,
          1.0642766469020115,
          0.20548427026076269,
          1.2143492963512488,
          -0.2852927776860206,
          1.124432516025142,
          1.6347521744859779,
          -1.7834783009007091,
          0.2841397399808306,
          -0.2089012383694685,
          0.16030754969303934,
          0.36365439104045916,
          1.19666648962708,
          1.0687355273258576,
          1.3397200048714657,
          -1.4253637092798235,
          -0.11768531861787762,
          1.093744468440918,
          -0.636974215744073,
          -0.3613674535797206,
          2.053369552369878,
          0.7116839450439921,
          0.21270413234870125,
          -0.7903526585716255,
          -0.5880588643865717,
          0.3927540327176958,
          1.006657100212194,
          0.4213663847261615,
          0.19051498346579346,
          -0.03139508418786326,
          -0.7817689753853478,
          0.11699032841973789,
          0.9873789930068373,
          0.3593178489481021,
          0.19807751375431895,
          0.16904863471663228,
          -0.8675517348746863,
          1.0632008929683778
         ],
         "y": [
          -0.7167540505755027,
          -0.12909041323094617,
          0.22877681615439618,
          0.31882194562550403,
          0.4225554005693531,
          -1.6017150482952225,
          -0.2831684279736227,
          0.4322828011724924,
          1.255309714528344,
          0.8755230396176855,
          -0.6831456954439784,
          0.8110952397727162,
          -0.9166031195725972,
          0.3064369207186609,
          -2.0490989505187236,
          0.24906760614659623,
          0.39402324128552113,
          1.2780126859912582,
          -0.6505787538828152,
          -1.8518228676195427,
          -0.6746027652090811,
          -0.5161504692227723,
          0.2675518587457653,
          1.2710464229933724,
          1.2807012511537221,
          -0.813800981946473,
          0.9887296411556364,
          0.34779627811844277,
          1.0722640977196165,
          0.6433973284268374,
          0.40989450323414944,
          -1.4733258160007474,
          -0.9412466041115733,
          -0.10393012533579014,
          -0.6633454096051882,
          0.015757602282605216,
          1.9300001620261522,
          0.3233316683803168,
          1.392081529793989,
          1.4443614670956944,
          -0.19790878795053235,
          -0.5544650739226349,
          0.5810930100480569,
          -0.1905863676661684,
          0.6475117163062424,
          -0.4221535516573303,
          -0.9506756238745352,
          -0.3235691101756691,
          1.4337726924059773,
          -0.12164703421491174,
          -1.062327523237242,
          0.11695727946221875,
          -1.007567980517339,
          -3.098258736419873,
          1.235020540831101,
          0.08921425828329375,
          0.704599257819094,
          -1.9902654298561624,
          -1.3954712513866852,
          0.26963792912257833,
          0.24635411911346924,
          1.2620128885536703,
          1.1836800423064873,
          1.400217743322152,
          -0.8679652825501485,
          -0.7350983986807433,
          -2.069993960321671,
          -1.282928343846692,
          0.48351853758115854,
          0.6112862292452989,
          1.1036595971163061,
          -0.5462393578834953,
          -0.33009350560709183,
          -1.629830976151171,
          1.1731247238933304,
          -0.2389716755564296,
          0.10612143852848767,
          0.24536861497171922,
          -1.3303910676401658,
          -1.003306043921901,
          -0.4633435944966815,
          -0.022550288796635908,
          -1.012648189549336,
          -0.7750502400724303,
          -0.04569054422612893,
          -1.2199363247358548,
          -0.46624047284590303,
          -0.018410039343196544,
          0.6315535035946279,
          -0.6522499307304486,
          1.0430884953210082,
          -0.22480352941851106,
          -0.1484017345204255,
          -0.17236561194123814,
          -1.0275961625778565,
          0.819474611828162,
          1.1454383327596491,
          -1.2813189449037186,
          1.753594350607639,
          0.1766289971132849
         ]
        }
       ],
       "layout": {
        "legend": {
         "bgcolor": "#F5F6F9",
         "font": {
          "color": "#4D5663"
         }
        },
        "paper_bgcolor": "#F5F6F9",
        "plot_bgcolor": "#F5F6F9",
        "template": {
         "data": {
          "bar": [
           {
            "error_x": {
             "color": "#2a3f5f"
            },
            "error_y": {
             "color": "#2a3f5f"
            },
            "marker": {
             "line": {
              "color": "#E5ECF6",
              "width": 0.5
             }
            },
            "type": "bar"
           }
          ],
          "barpolar": [
           {
            "marker": {
             "line": {
              "color": "#E5ECF6",
              "width": 0.5
             }
            },
            "type": "barpolar"
           }
          ],
          "carpet": [
           {
            "aaxis": {
             "endlinecolor": "#2a3f5f",
             "gridcolor": "white",
             "linecolor": "white",
             "minorgridcolor": "white",
             "startlinecolor": "#2a3f5f"
            },
            "baxis": {
             "endlinecolor": "#2a3f5f",
             "gridcolor": "white",
             "linecolor": "white",
             "minorgridcolor": "white",
             "startlinecolor": "#2a3f5f"
            },
            "type": "carpet"
           }
          ],
          "choropleth": [
           {
            "colorbar": {
             "outlinewidth": 0,
             "ticks": ""
            },
            "type": "choropleth"
           }
          ],
          "contour": [
           {
            "colorbar": {
             "outlinewidth": 0,
             "ticks": ""
            },
            "colorscale": [
             [
              0,
              "#0d0887"
             ],
             [
              0.1111111111111111,
              "#46039f"
             ],
             [
              0.2222222222222222,
              "#7201a8"
             ],
             [
              0.3333333333333333,
              "#9c179e"
             ],
             [
              0.4444444444444444,
              "#bd3786"
             ],
             [
              0.5555555555555556,
              "#d8576b"
             ],
             [
              0.6666666666666666,
              "#ed7953"
             ],
             [
              0.7777777777777778,
              "#fb9f3a"
             ],
             [
              0.8888888888888888,
              "#fdca26"
             ],
             [
              1,
              "#f0f921"
             ]
            ],
            "type": "contour"
           }
          ],
          "contourcarpet": [
           {
            "colorbar": {
             "outlinewidth": 0,
             "ticks": ""
            },
            "type": "contourcarpet"
           }
          ],
          "heatmap": [
           {
            "colorbar": {
             "outlinewidth": 0,
             "ticks": ""
            },
            "colorscale": [
             [
              0,
              "#0d0887"
             ],
             [
              0.1111111111111111,
              "#46039f"
             ],
             [
              0.2222222222222222,
              "#7201a8"
             ],
             [
              0.3333333333333333,
              "#9c179e"
             ],
             [
              0.4444444444444444,
              "#bd3786"
             ],
             [
              0.5555555555555556,
              "#d8576b"
             ],
             [
              0.6666666666666666,
              "#ed7953"
             ],
             [
              0.7777777777777778,
              "#fb9f3a"
             ],
             [
              0.8888888888888888,
              "#fdca26"
             ],
             [
              1,
              "#f0f921"
             ]
            ],
            "type": "heatmap"
           }
          ],
          "heatmapgl": [
           {
            "colorbar": {
             "outlinewidth": 0,
             "ticks": ""
            },
            "colorscale": [
             [
              0,
              "#0d0887"
             ],
             [
              0.1111111111111111,
              "#46039f"
             ],
             [
              0.2222222222222222,
              "#7201a8"
             ],
             [
              0.3333333333333333,
              "#9c179e"
             ],
             [
              0.4444444444444444,
              "#bd3786"
             ],
             [
              0.5555555555555556,
              "#d8576b"
             ],
             [
              0.6666666666666666,
              "#ed7953"
             ],
             [
              0.7777777777777778,
              "#fb9f3a"
             ],
             [
              0.8888888888888888,
              "#fdca26"
             ],
             [
              1,
              "#f0f921"
             ]
            ],
            "type": "heatmapgl"
           }
          ],
          "histogram": [
           {
            "marker": {
             "colorbar": {
              "outlinewidth": 0,
              "ticks": ""
             }
            },
            "type": "histogram"
           }
          ],
          "histogram2d": [
           {
            "colorbar": {
             "outlinewidth": 0,
             "ticks": ""
            },
            "colorscale": [
             [
              0,
              "#0d0887"
             ],
             [
              0.1111111111111111,
              "#46039f"
             ],
             [
              0.2222222222222222,
              "#7201a8"
             ],
             [
              0.3333333333333333,
              "#9c179e"
             ],
             [
              0.4444444444444444,
              "#bd3786"
             ],
             [
              0.5555555555555556,
              "#d8576b"
             ],
             [
              0.6666666666666666,
              "#ed7953"
             ],
             [
              0.7777777777777778,
              "#fb9f3a"
             ],
             [
              0.8888888888888888,
              "#fdca26"
             ],
             [
              1,
              "#f0f921"
             ]
            ],
            "type": "histogram2d"
           }
          ],
          "histogram2dcontour": [
           {
            "colorbar": {
             "outlinewidth": 0,
             "ticks": ""
            },
            "colorscale": [
             [
              0,
              "#0d0887"
             ],
             [
              0.1111111111111111,
              "#46039f"
             ],
             [
              0.2222222222222222,
              "#7201a8"
             ],
             [
              0.3333333333333333,
              "#9c179e"
             ],
             [
              0.4444444444444444,
              "#bd3786"
             ],
             [
              0.5555555555555556,
              "#d8576b"
             ],
             [
              0.6666666666666666,
              "#ed7953"
             ],
             [
              0.7777777777777778,
              "#fb9f3a"
             ],
             [
              0.8888888888888888,
              "#fdca26"
             ],
             [
              1,
              "#f0f921"
             ]
            ],
            "type": "histogram2dcontour"
           }
          ],
          "mesh3d": [
           {
            "colorbar": {
             "outlinewidth": 0,
             "ticks": ""
            },
            "type": "mesh3d"
           }
          ],
          "parcoords": [
           {
            "line": {
             "colorbar": {
              "outlinewidth": 0,
              "ticks": ""
             }
            },
            "type": "parcoords"
           }
          ],
          "pie": [
           {
            "automargin": true,
            "type": "pie"
           }
          ],
          "scatter": [
           {
            "marker": {
             "colorbar": {
              "outlinewidth": 0,
              "ticks": ""
             }
            },
            "type": "scatter"
           }
          ],
          "scatter3d": [
           {
            "line": {
             "colorbar": {
              "outlinewidth": 0,
              "ticks": ""
             }
            },
            "marker": {
             "colorbar": {
              "outlinewidth": 0,
              "ticks": ""
             }
            },
            "type": "scatter3d"
           }
          ],
          "scattercarpet": [
           {
            "marker": {
             "colorbar": {
              "outlinewidth": 0,
              "ticks": ""
             }
            },
            "type": "scattercarpet"
           }
          ],
          "scattergeo": [
           {
            "marker": {
             "colorbar": {
              "outlinewidth": 0,
              "ticks": ""
             }
            },
            "type": "scattergeo"
           }
          ],
          "scattergl": [
           {
            "marker": {
             "colorbar": {
              "outlinewidth": 0,
              "ticks": ""
             }
            },
            "type": "scattergl"
           }
          ],
          "scattermapbox": [
           {
            "marker": {
             "colorbar": {
              "outlinewidth": 0,
              "ticks": ""
             }
            },
            "type": "scattermapbox"
           }
          ],
          "scatterpolar": [
           {
            "marker": {
             "colorbar": {
              "outlinewidth": 0,
              "ticks": ""
             }
            },
            "type": "scatterpolar"
           }
          ],
          "scatterpolargl": [
           {
            "marker": {
             "colorbar": {
              "outlinewidth": 0,
              "ticks": ""
             }
            },
            "type": "scatterpolargl"
           }
          ],
          "scatterternary": [
           {
            "marker": {
             "colorbar": {
              "outlinewidth": 0,
              "ticks": ""
             }
            },
            "type": "scatterternary"
           }
          ],
          "surface": [
           {
            "colorbar": {
             "outlinewidth": 0,
             "ticks": ""
            },
            "colorscale": [
             [
              0,
              "#0d0887"
             ],
             [
              0.1111111111111111,
              "#46039f"
             ],
             [
              0.2222222222222222,
              "#7201a8"
             ],
             [
              0.3333333333333333,
              "#9c179e"
             ],
             [
              0.4444444444444444,
              "#bd3786"
             ],
             [
              0.5555555555555556,
              "#d8576b"
             ],
             [
              0.6666666666666666,
              "#ed7953"
             ],
             [
              0.7777777777777778,
              "#fb9f3a"
             ],
             [
              0.8888888888888888,
              "#fdca26"
             ],
             [
              1,
              "#f0f921"
             ]
            ],
            "type": "surface"
           }
          ],
          "table": [
           {
            "cells": {
             "fill": {
              "color": "#EBF0F8"
             },
             "line": {
              "color": "white"
             }
            },
            "header": {
             "fill": {
              "color": "#C8D4E3"
             },
             "line": {
              "color": "white"
             }
            },
            "type": "table"
           }
          ]
         },
         "layout": {
          "annotationdefaults": {
           "arrowcolor": "#2a3f5f",
           "arrowhead": 0,
           "arrowwidth": 1
          },
          "coloraxis": {
           "colorbar": {
            "outlinewidth": 0,
            "ticks": ""
           }
          },
          "colorscale": {
           "diverging": [
            [
             0,
             "#8e0152"
            ],
            [
             0.1,
             "#c51b7d"
            ],
            [
             0.2,
             "#de77ae"
            ],
            [
             0.3,
             "#f1b6da"
            ],
            [
             0.4,
             "#fde0ef"
            ],
            [
             0.5,
             "#f7f7f7"
            ],
            [
             0.6,
             "#e6f5d0"
            ],
            [
             0.7,
             "#b8e186"
            ],
            [
             0.8,
             "#7fbc41"
            ],
            [
             0.9,
             "#4d9221"
            ],
            [
             1,
             "#276419"
            ]
           ],
           "sequential": [
            [
             0,
             "#0d0887"
            ],
            [
             0.1111111111111111,
             "#46039f"
            ],
            [
             0.2222222222222222,
             "#7201a8"
            ],
            [
             0.3333333333333333,
             "#9c179e"
            ],
            [
             0.4444444444444444,
             "#bd3786"
            ],
            [
             0.5555555555555556,
             "#d8576b"
            ],
            [
             0.6666666666666666,
             "#ed7953"
            ],
            [
             0.7777777777777778,
             "#fb9f3a"
            ],
            [
             0.8888888888888888,
             "#fdca26"
            ],
            [
             1,
             "#f0f921"
            ]
           ],
           "sequentialminus": [
            [
             0,
             "#0d0887"
            ],
            [
             0.1111111111111111,
             "#46039f"
            ],
            [
             0.2222222222222222,
             "#7201a8"
            ],
            [
             0.3333333333333333,
             "#9c179e"
            ],
            [
             0.4444444444444444,
             "#bd3786"
            ],
            [
             0.5555555555555556,
             "#d8576b"
            ],
            [
             0.6666666666666666,
             "#ed7953"
            ],
            [
             0.7777777777777778,
             "#fb9f3a"
            ],
            [
             0.8888888888888888,
             "#fdca26"
            ],
            [
             1,
             "#f0f921"
            ]
           ]
          },
          "colorway": [
           "#636efa",
           "#EF553B",
           "#00cc96",
           "#ab63fa",
           "#FFA15A",
           "#19d3f3",
           "#FF6692",
           "#B6E880",
           "#FF97FF",
           "#FECB52"
          ],
          "font": {
           "color": "#2a3f5f"
          },
          "geo": {
           "bgcolor": "white",
           "lakecolor": "white",
           "landcolor": "#E5ECF6",
           "showlakes": true,
           "showland": true,
           "subunitcolor": "white"
          },
          "hoverlabel": {
           "align": "left"
          },
          "hovermode": "closest",
          "mapbox": {
           "style": "light"
          },
          "paper_bgcolor": "white",
          "plot_bgcolor": "#E5ECF6",
          "polar": {
           "angularaxis": {
            "gridcolor": "white",
            "linecolor": "white",
            "ticks": ""
           },
           "bgcolor": "#E5ECF6",
           "radialaxis": {
            "gridcolor": "white",
            "linecolor": "white",
            "ticks": ""
           }
          },
          "scene": {
           "xaxis": {
            "backgroundcolor": "#E5ECF6",
            "gridcolor": "white",
            "gridwidth": 2,
            "linecolor": "white",
            "showbackground": true,
            "ticks": "",
            "zerolinecolor": "white"
           },
           "yaxis": {
            "backgroundcolor": "#E5ECF6",
            "gridcolor": "white",
            "gridwidth": 2,
            "linecolor": "white",
            "showbackground": true,
            "ticks": "",
            "zerolinecolor": "white"
           },
           "zaxis": {
            "backgroundcolor": "#E5ECF6",
            "gridcolor": "white",
            "gridwidth": 2,
            "linecolor": "white",
            "showbackground": true,
            "ticks": "",
            "zerolinecolor": "white"
           }
          },
          "shapedefaults": {
           "line": {
            "color": "#2a3f5f"
           }
          },
          "ternary": {
           "aaxis": {
            "gridcolor": "white",
            "linecolor": "white",
            "ticks": ""
           },
           "baxis": {
            "gridcolor": "white",
            "linecolor": "white",
            "ticks": ""
           },
           "bgcolor": "#E5ECF6",
           "caxis": {
            "gridcolor": "white",
            "linecolor": "white",
            "ticks": ""
           }
          },
          "title": {
           "x": 0.05
          },
          "xaxis": {
           "automargin": true,
           "gridcolor": "white",
           "linecolor": "white",
           "ticks": "",
           "title": {
            "standoff": 15
           },
           "zerolinecolor": "white",
           "zerolinewidth": 2
          },
          "yaxis": {
           "automargin": true,
           "gridcolor": "white",
           "linecolor": "white",
           "ticks": "",
           "title": {
            "standoff": 15
           },
           "zerolinecolor": "white",
           "zerolinewidth": 2
          }
         }
        },
        "title": {
         "font": {
          "color": "#4D5663"
         }
        },
        "xaxis": {
         "gridcolor": "#E1E5ED",
         "showgrid": true,
         "tickfont": {
          "color": "#4D5663"
         },
         "title": {
          "font": {
           "color": "#4D5663"
          },
          "text": ""
         },
         "zerolinecolor": "#E1E5ED"
        },
        "yaxis": {
         "gridcolor": "#E1E5ED",
         "showgrid": true,
         "tickfont": {
          "color": "#4D5663"
         },
         "title": {
          "font": {
           "color": "#4D5663"
          },
          "text": ""
         },
         "zerolinecolor": "#E1E5ED"
        }
       }
      },
      "text/html": [
       "<div>\n",
       "        \n",
       "        \n",
       "            <div id=\"2988727d-97c4-4f18-b46a-fceaf8c8a478\" class=\"plotly-graph-div\" style=\"height:525px; width:100%;\"></div>\n",
       "            <script type=\"text/javascript\">\n",
       "                require([\"plotly\"], function(Plotly) {\n",
       "                    window.PLOTLYENV=window.PLOTLYENV || {};\n",
       "                    window.PLOTLYENV.BASE_URL='https://plot.ly';\n",
       "                    \n",
       "                if (document.getElementById(\"2988727d-97c4-4f18-b46a-fceaf8c8a478\")) {\n",
       "                    Plotly.newPlot(\n",
       "                        '2988727d-97c4-4f18-b46a-fceaf8c8a478',\n",
       "                        [{\"line\": {\"color\": \"rgba(255, 153, 51, 1.0)\", \"dash\": \"solid\", \"shape\": \"linear\", \"width\": 1.3}, \"mode\": \"lines\", \"name\": \"B\", \"text\": \"\", \"type\": \"scatter\", \"x\": [0.19650022373258236, -1.9941460778502356, 0.6626376887314555, -0.958327863418552, 0.4231241777990569, 0.7113678238984446, -0.09165347023463194, -1.3149597471701424, -1.3933206032441685, -0.5529960919904516, -1.232042488497158, 1.0661400300358617, 0.36496152149907735, 0.12566632897650376, -0.4154383457317713, 1.1145779823073672, 1.512565868621305, 0.1794830651348587, 1.0343723418421487, 2.7907567772555297, 0.2998865268939037, -1.1158316023870536, -0.027602812843491573, -0.5298883887261153, 1.0290623615134162, 0.9827394564213197, -0.4455813047158554, 0.2338813758270774, -0.02285208244483196, -0.8967539023754664, -1.4758756049165747, -0.8947207457648796, -0.07309580354724263, -0.7845742580993053, 0.23876895288454827, 0.9742961492985625, -0.033916672684154374, 1.1196298171192591, -0.535731539283069, -0.3906973132685843, -0.8424290459415693, 0.2792280254608758, -0.9286349945862502, -1.5063893605812446, 1.8743143044827653, -0.651912761220479, -0.6218461636563343, 0.835257171977975, -0.6112242584714845, 0.3039624479311827, -1.4468041377380885, 1.311224077205215, -0.7808300388541097, -0.7560423271045358, -0.5005366745377746, -0.8309774142243554, 0.3162223512088091, -0.002041007732976193, -0.6113995211974071, -0.7775783612568149, -1.2475028820394487, 1.217988302202804, -2.035103126115838, 1.0642766469020115, 0.20548427026076269, 1.2143492963512488, -0.2852927776860206, 1.124432516025142, 1.6347521744859779, -1.7834783009007091, 0.2841397399808306, -0.2089012383694685, 0.16030754969303934, 0.36365439104045916, 1.19666648962708, 1.0687355273258576, 1.3397200048714657, -1.4253637092798235, -0.11768531861787762, 1.093744468440918, -0.636974215744073, -0.3613674535797206, 2.053369552369878, 0.7116839450439921, 0.21270413234870125, -0.7903526585716255, -0.5880588643865717, 0.3927540327176958, 1.006657100212194, 0.4213663847261615, 0.19051498346579346, -0.03139508418786326, -0.7817689753853478, 0.11699032841973789, 0.9873789930068373, 0.3593178489481021, 0.19807751375431895, 0.16904863471663228, -0.8675517348746863, 1.0632008929683778], \"y\": [-0.7167540505755027, -0.12909041323094617, 0.22877681615439618, 0.31882194562550403, 0.4225554005693531, -1.6017150482952225, -0.2831684279736227, 0.4322828011724924, 1.255309714528344, 0.8755230396176855, -0.6831456954439784, 0.8110952397727162, -0.9166031195725972, 0.3064369207186609, -2.0490989505187236, 0.24906760614659623, 0.39402324128552113, 1.2780126859912582, -0.6505787538828152, -1.8518228676195427, -0.6746027652090811, -0.5161504692227723, 0.2675518587457653, 1.2710464229933724, 1.2807012511537221, -0.813800981946473, 0.9887296411556364, 0.34779627811844277, 1.0722640977196165, 0.6433973284268374, 0.40989450323414944, -1.4733258160007474, -0.9412466041115733, -0.10393012533579014, -0.6633454096051882, 0.015757602282605216, 1.9300001620261522, 0.3233316683803168, 1.392081529793989, 1.4443614670956944, -0.19790878795053235, -0.5544650739226349, 0.5810930100480569, -0.1905863676661684, 0.6475117163062424, -0.4221535516573303, -0.9506756238745352, -0.3235691101756691, 1.4337726924059773, -0.12164703421491174, -1.062327523237242, 0.11695727946221875, -1.007567980517339, -3.098258736419873, 1.235020540831101, 0.08921425828329375, 0.704599257819094, -1.9902654298561624, -1.3954712513866852, 0.26963792912257833, 0.24635411911346924, 1.2620128885536703, 1.1836800423064873, 1.400217743322152, -0.8679652825501485, -0.7350983986807433, -2.069993960321671, -1.282928343846692, 0.48351853758115854, 0.6112862292452989, 1.1036595971163061, -0.5462393578834953, -0.33009350560709183, -1.629830976151171, 1.1731247238933304, -0.2389716755564296, 0.10612143852848767, 0.24536861497171922, -1.3303910676401658, -1.003306043921901, -0.4633435944966815, -0.022550288796635908, -1.012648189549336, -0.7750502400724303, -0.04569054422612893, -1.2199363247358548, -0.46624047284590303, -0.018410039343196544, 0.6315535035946279, -0.6522499307304486, 1.0430884953210082, -0.22480352941851106, -0.1484017345204255, -0.17236561194123814, -1.0275961625778565, 0.819474611828162, 1.1454383327596491, -1.2813189449037186, 1.753594350607639, 0.1766289971132849]}],\n",
       "                        {\"legend\": {\"bgcolor\": \"#F5F6F9\", \"font\": {\"color\": \"#4D5663\"}}, \"paper_bgcolor\": \"#F5F6F9\", \"plot_bgcolor\": \"#F5F6F9\", \"template\": {\"data\": {\"bar\": [{\"error_x\": {\"color\": \"#2a3f5f\"}, \"error_y\": {\"color\": \"#2a3f5f\"}, \"marker\": {\"line\": {\"color\": \"#E5ECF6\", \"width\": 0.5}}, \"type\": \"bar\"}], \"barpolar\": [{\"marker\": {\"line\": {\"color\": \"#E5ECF6\", \"width\": 0.5}}, \"type\": \"barpolar\"}], \"carpet\": [{\"aaxis\": {\"endlinecolor\": \"#2a3f5f\", \"gridcolor\": \"white\", \"linecolor\": \"white\", \"minorgridcolor\": \"white\", \"startlinecolor\": \"#2a3f5f\"}, \"baxis\": {\"endlinecolor\": \"#2a3f5f\", \"gridcolor\": \"white\", \"linecolor\": \"white\", \"minorgridcolor\": \"white\", \"startlinecolor\": \"#2a3f5f\"}, \"type\": \"carpet\"}], \"choropleth\": [{\"colorbar\": {\"outlinewidth\": 0, \"ticks\": \"\"}, \"type\": \"choropleth\"}], \"contour\": [{\"colorbar\": {\"outlinewidth\": 0, \"ticks\": \"\"}, \"colorscale\": [[0.0, \"#0d0887\"], [0.1111111111111111, \"#46039f\"], [0.2222222222222222, \"#7201a8\"], [0.3333333333333333, \"#9c179e\"], [0.4444444444444444, \"#bd3786\"], [0.5555555555555556, \"#d8576b\"], [0.6666666666666666, \"#ed7953\"], [0.7777777777777778, \"#fb9f3a\"], [0.8888888888888888, \"#fdca26\"], [1.0, \"#f0f921\"]], \"type\": \"contour\"}], \"contourcarpet\": [{\"colorbar\": {\"outlinewidth\": 0, \"ticks\": \"\"}, \"type\": \"contourcarpet\"}], \"heatmap\": [{\"colorbar\": {\"outlinewidth\": 0, \"ticks\": \"\"}, \"colorscale\": [[0.0, \"#0d0887\"], [0.1111111111111111, \"#46039f\"], [0.2222222222222222, \"#7201a8\"], [0.3333333333333333, \"#9c179e\"], [0.4444444444444444, \"#bd3786\"], [0.5555555555555556, \"#d8576b\"], [0.6666666666666666, \"#ed7953\"], [0.7777777777777778, \"#fb9f3a\"], [0.8888888888888888, \"#fdca26\"], [1.0, \"#f0f921\"]], \"type\": \"heatmap\"}], \"heatmapgl\": [{\"colorbar\": {\"outlinewidth\": 0, \"ticks\": \"\"}, \"colorscale\": [[0.0, \"#0d0887\"], [0.1111111111111111, \"#46039f\"], [0.2222222222222222, \"#7201a8\"], [0.3333333333333333, \"#9c179e\"], [0.4444444444444444, \"#bd3786\"], [0.5555555555555556, \"#d8576b\"], [0.6666666666666666, \"#ed7953\"], [0.7777777777777778, \"#fb9f3a\"], [0.8888888888888888, \"#fdca26\"], [1.0, \"#f0f921\"]], \"type\": \"heatmapgl\"}], \"histogram\": [{\"marker\": {\"colorbar\": {\"outlinewidth\": 0, \"ticks\": \"\"}}, \"type\": \"histogram\"}], \"histogram2d\": [{\"colorbar\": {\"outlinewidth\": 0, \"ticks\": \"\"}, \"colorscale\": [[0.0, \"#0d0887\"], [0.1111111111111111, \"#46039f\"], [0.2222222222222222, \"#7201a8\"], [0.3333333333333333, \"#9c179e\"], [0.4444444444444444, \"#bd3786\"], [0.5555555555555556, \"#d8576b\"], [0.6666666666666666, \"#ed7953\"], [0.7777777777777778, \"#fb9f3a\"], [0.8888888888888888, \"#fdca26\"], [1.0, \"#f0f921\"]], \"type\": \"histogram2d\"}], \"histogram2dcontour\": [{\"colorbar\": {\"outlinewidth\": 0, \"ticks\": \"\"}, \"colorscale\": [[0.0, \"#0d0887\"], [0.1111111111111111, \"#46039f\"], [0.2222222222222222, \"#7201a8\"], [0.3333333333333333, \"#9c179e\"], [0.4444444444444444, \"#bd3786\"], [0.5555555555555556, \"#d8576b\"], [0.6666666666666666, \"#ed7953\"], [0.7777777777777778, \"#fb9f3a\"], [0.8888888888888888, \"#fdca26\"], [1.0, \"#f0f921\"]], \"type\": \"histogram2dcontour\"}], \"mesh3d\": [{\"colorbar\": {\"outlinewidth\": 0, \"ticks\": \"\"}, \"type\": \"mesh3d\"}], \"parcoords\": [{\"line\": {\"colorbar\": {\"outlinewidth\": 0, \"ticks\": \"\"}}, \"type\": \"parcoords\"}], \"pie\": [{\"automargin\": true, \"type\": \"pie\"}], \"scatter\": [{\"marker\": {\"colorbar\": {\"outlinewidth\": 0, \"ticks\": \"\"}}, \"type\": \"scatter\"}], \"scatter3d\": [{\"line\": {\"colorbar\": {\"outlinewidth\": 0, \"ticks\": \"\"}}, \"marker\": {\"colorbar\": {\"outlinewidth\": 0, \"ticks\": \"\"}}, \"type\": \"scatter3d\"}], \"scattercarpet\": [{\"marker\": {\"colorbar\": {\"outlinewidth\": 0, \"ticks\": \"\"}}, \"type\": \"scattercarpet\"}], \"scattergeo\": [{\"marker\": {\"colorbar\": {\"outlinewidth\": 0, \"ticks\": \"\"}}, \"type\": \"scattergeo\"}], \"scattergl\": [{\"marker\": {\"colorbar\": {\"outlinewidth\": 0, \"ticks\": \"\"}}, \"type\": \"scattergl\"}], \"scattermapbox\": [{\"marker\": {\"colorbar\": {\"outlinewidth\": 0, \"ticks\": \"\"}}, \"type\": \"scattermapbox\"}], \"scatterpolar\": [{\"marker\": {\"colorbar\": {\"outlinewidth\": 0, \"ticks\": \"\"}}, \"type\": \"scatterpolar\"}], \"scatterpolargl\": [{\"marker\": {\"colorbar\": {\"outlinewidth\": 0, \"ticks\": \"\"}}, \"type\": \"scatterpolargl\"}], \"scatterternary\": [{\"marker\": {\"colorbar\": {\"outlinewidth\": 0, \"ticks\": \"\"}}, \"type\": \"scatterternary\"}], \"surface\": [{\"colorbar\": {\"outlinewidth\": 0, \"ticks\": \"\"}, \"colorscale\": [[0.0, \"#0d0887\"], [0.1111111111111111, \"#46039f\"], [0.2222222222222222, \"#7201a8\"], [0.3333333333333333, \"#9c179e\"], [0.4444444444444444, \"#bd3786\"], [0.5555555555555556, \"#d8576b\"], [0.6666666666666666, \"#ed7953\"], [0.7777777777777778, \"#fb9f3a\"], [0.8888888888888888, \"#fdca26\"], [1.0, \"#f0f921\"]], \"type\": \"surface\"}], \"table\": [{\"cells\": {\"fill\": {\"color\": \"#EBF0F8\"}, \"line\": {\"color\": \"white\"}}, \"header\": {\"fill\": {\"color\": \"#C8D4E3\"}, \"line\": {\"color\": \"white\"}}, \"type\": \"table\"}]}, \"layout\": {\"annotationdefaults\": {\"arrowcolor\": \"#2a3f5f\", \"arrowhead\": 0, \"arrowwidth\": 1}, \"coloraxis\": {\"colorbar\": {\"outlinewidth\": 0, \"ticks\": \"\"}}, \"colorscale\": {\"diverging\": [[0, \"#8e0152\"], [0.1, \"#c51b7d\"], [0.2, \"#de77ae\"], [0.3, \"#f1b6da\"], [0.4, \"#fde0ef\"], [0.5, \"#f7f7f7\"], [0.6, \"#e6f5d0\"], [0.7, \"#b8e186\"], [0.8, \"#7fbc41\"], [0.9, \"#4d9221\"], [1, \"#276419\"]], \"sequential\": [[0.0, \"#0d0887\"], [0.1111111111111111, \"#46039f\"], [0.2222222222222222, \"#7201a8\"], [0.3333333333333333, \"#9c179e\"], [0.4444444444444444, \"#bd3786\"], [0.5555555555555556, \"#d8576b\"], [0.6666666666666666, \"#ed7953\"], [0.7777777777777778, \"#fb9f3a\"], [0.8888888888888888, \"#fdca26\"], [1.0, \"#f0f921\"]], \"sequentialminus\": [[0.0, \"#0d0887\"], [0.1111111111111111, \"#46039f\"], [0.2222222222222222, \"#7201a8\"], [0.3333333333333333, \"#9c179e\"], [0.4444444444444444, \"#bd3786\"], [0.5555555555555556, \"#d8576b\"], [0.6666666666666666, \"#ed7953\"], [0.7777777777777778, \"#fb9f3a\"], [0.8888888888888888, \"#fdca26\"], [1.0, \"#f0f921\"]]}, \"colorway\": [\"#636efa\", \"#EF553B\", \"#00cc96\", \"#ab63fa\", \"#FFA15A\", \"#19d3f3\", \"#FF6692\", \"#B6E880\", \"#FF97FF\", \"#FECB52\"], \"font\": {\"color\": \"#2a3f5f\"}, \"geo\": {\"bgcolor\": \"white\", \"lakecolor\": \"white\", \"landcolor\": \"#E5ECF6\", \"showlakes\": true, \"showland\": true, \"subunitcolor\": \"white\"}, \"hoverlabel\": {\"align\": \"left\"}, \"hovermode\": \"closest\", \"mapbox\": {\"style\": \"light\"}, \"paper_bgcolor\": \"white\", \"plot_bgcolor\": \"#E5ECF6\", \"polar\": {\"angularaxis\": {\"gridcolor\": \"white\", \"linecolor\": \"white\", \"ticks\": \"\"}, \"bgcolor\": \"#E5ECF6\", \"radialaxis\": {\"gridcolor\": \"white\", \"linecolor\": \"white\", \"ticks\": \"\"}}, \"scene\": {\"xaxis\": {\"backgroundcolor\": \"#E5ECF6\", \"gridcolor\": \"white\", \"gridwidth\": 2, \"linecolor\": \"white\", \"showbackground\": true, \"ticks\": \"\", \"zerolinecolor\": \"white\"}, \"yaxis\": {\"backgroundcolor\": \"#E5ECF6\", \"gridcolor\": \"white\", \"gridwidth\": 2, \"linecolor\": \"white\", \"showbackground\": true, \"ticks\": \"\", \"zerolinecolor\": \"white\"}, \"zaxis\": {\"backgroundcolor\": \"#E5ECF6\", \"gridcolor\": \"white\", \"gridwidth\": 2, \"linecolor\": \"white\", \"showbackground\": true, \"ticks\": \"\", \"zerolinecolor\": \"white\"}}, \"shapedefaults\": {\"line\": {\"color\": \"#2a3f5f\"}}, \"ternary\": {\"aaxis\": {\"gridcolor\": \"white\", \"linecolor\": \"white\", \"ticks\": \"\"}, \"baxis\": {\"gridcolor\": \"white\", \"linecolor\": \"white\", \"ticks\": \"\"}, \"bgcolor\": \"#E5ECF6\", \"caxis\": {\"gridcolor\": \"white\", \"linecolor\": \"white\", \"ticks\": \"\"}}, \"title\": {\"x\": 0.05}, \"xaxis\": {\"automargin\": true, \"gridcolor\": \"white\", \"linecolor\": \"white\", \"ticks\": \"\", \"title\": {\"standoff\": 15}, \"zerolinecolor\": \"white\", \"zerolinewidth\": 2}, \"yaxis\": {\"automargin\": true, \"gridcolor\": \"white\", \"linecolor\": \"white\", \"ticks\": \"\", \"title\": {\"standoff\": 15}, \"zerolinecolor\": \"white\", \"zerolinewidth\": 2}}}, \"title\": {\"font\": {\"color\": \"#4D5663\"}}, \"xaxis\": {\"gridcolor\": \"#E1E5ED\", \"showgrid\": true, \"tickfont\": {\"color\": \"#4D5663\"}, \"title\": {\"font\": {\"color\": \"#4D5663\"}, \"text\": \"\"}, \"zerolinecolor\": \"#E1E5ED\"}, \"yaxis\": {\"gridcolor\": \"#E1E5ED\", \"showgrid\": true, \"tickfont\": {\"color\": \"#4D5663\"}, \"title\": {\"font\": {\"color\": \"#4D5663\"}, \"text\": \"\"}, \"zerolinecolor\": \"#E1E5ED\"}},\n",
       "                        {\"showLink\": true, \"linkText\": \"Export to plot.ly\", \"plotlyServerURL\": \"https://plot.ly\", \"responsive\": true}\n",
       "                    ).then(function(){\n",
       "                            \n",
       "var gd = document.getElementById('2988727d-97c4-4f18-b46a-fceaf8c8a478');\n",
       "var x = new MutationObserver(function (mutations, observer) {{\n",
       "        var display = window.getComputedStyle(gd).display;\n",
       "        if (!display || display === 'none') {{\n",
       "            console.log([gd, 'removed!']);\n",
       "            Plotly.purge(gd);\n",
       "            observer.disconnect();\n",
       "        }}\n",
       "}});\n",
       "\n",
       "// Listen for the removal of the full notebook cells\n",
       "var notebookContainer = gd.closest('#notebook-container');\n",
       "if (notebookContainer) {{\n",
       "    x.observe(notebookContainer, {childList: true});\n",
       "}}\n",
       "\n",
       "// Listen for the clearing of the current output cell\n",
       "var outputEl = gd.closest('.output');\n",
       "if (outputEl) {{\n",
       "    x.observe(outputEl, {childList: true});\n",
       "}}\n",
       "\n",
       "                        })\n",
       "                };\n",
       "                });\n",
       "            </script>\n",
       "        </div>"
      ]
     },
     "metadata": {},
     "output_type": "display_data"
    }
   ],
   "source": [
    "df.iplot(kind='scatter',x='A',y='B')"
   ]
  },
  {
   "cell_type": "code",
   "execution_count": 20,
   "metadata": {
    "scrolled": false
   },
   "outputs": [
    {
     "data": {
      "application/vnd.plotly.v1+json": {
       "config": {
        "linkText": "Export to plot.ly",
        "plotlyServerURL": "https://plot.ly",
        "showLink": true
       },
       "data": [
        {
         "line": {
          "color": "rgba(255, 153, 51, 1.0)",
          "dash": "solid",
          "shape": "linear",
          "width": 1.3
         },
         "marker": {
          "size": 12,
          "symbol": "circle"
         },
         "mode": "markers",
         "name": "B",
         "text": "",
         "type": "scatter",
         "x": [
          0.19650022373258236,
          -1.9941460778502356,
          0.6626376887314555,
          -0.958327863418552,
          0.4231241777990569,
          0.7113678238984446,
          -0.09165347023463194,
          -1.3149597471701424,
          -1.3933206032441685,
          -0.5529960919904516,
          -1.232042488497158,
          1.0661400300358617,
          0.36496152149907735,
          0.12566632897650376,
          -0.4154383457317713,
          1.1145779823073672,
          1.512565868621305,
          0.1794830651348587,
          1.0343723418421487,
          2.7907567772555297,
          0.2998865268939037,
          -1.1158316023870536,
          -0.027602812843491573,
          -0.5298883887261153,
          1.0290623615134162,
          0.9827394564213197,
          -0.4455813047158554,
          0.2338813758270774,
          -0.02285208244483196,
          -0.8967539023754664,
          -1.4758756049165747,
          -0.8947207457648796,
          -0.07309580354724263,
          -0.7845742580993053,
          0.23876895288454827,
          0.9742961492985625,
          -0.033916672684154374,
          1.1196298171192591,
          -0.535731539283069,
          -0.3906973132685843,
          -0.8424290459415693,
          0.2792280254608758,
          -0.9286349945862502,
          -1.5063893605812446,
          1.8743143044827653,
          -0.651912761220479,
          -0.6218461636563343,
          0.835257171977975,
          -0.6112242584714845,
          0.3039624479311827,
          -1.4468041377380885,
          1.311224077205215,
          -0.7808300388541097,
          -0.7560423271045358,
          -0.5005366745377746,
          -0.8309774142243554,
          0.3162223512088091,
          -0.002041007732976193,
          -0.6113995211974071,
          -0.7775783612568149,
          -1.2475028820394487,
          1.217988302202804,
          -2.035103126115838,
          1.0642766469020115,
          0.20548427026076269,
          1.2143492963512488,
          -0.2852927776860206,
          1.124432516025142,
          1.6347521744859779,
          -1.7834783009007091,
          0.2841397399808306,
          -0.2089012383694685,
          0.16030754969303934,
          0.36365439104045916,
          1.19666648962708,
          1.0687355273258576,
          1.3397200048714657,
          -1.4253637092798235,
          -0.11768531861787762,
          1.093744468440918,
          -0.636974215744073,
          -0.3613674535797206,
          2.053369552369878,
          0.7116839450439921,
          0.21270413234870125,
          -0.7903526585716255,
          -0.5880588643865717,
          0.3927540327176958,
          1.006657100212194,
          0.4213663847261615,
          0.19051498346579346,
          -0.03139508418786326,
          -0.7817689753853478,
          0.11699032841973789,
          0.9873789930068373,
          0.3593178489481021,
          0.19807751375431895,
          0.16904863471663228,
          -0.8675517348746863,
          1.0632008929683778
         ],
         "y": [
          -0.7167540505755027,
          -0.12909041323094617,
          0.22877681615439618,
          0.31882194562550403,
          0.4225554005693531,
          -1.6017150482952225,
          -0.2831684279736227,
          0.4322828011724924,
          1.255309714528344,
          0.8755230396176855,
          -0.6831456954439784,
          0.8110952397727162,
          -0.9166031195725972,
          0.3064369207186609,
          -2.0490989505187236,
          0.24906760614659623,
          0.39402324128552113,
          1.2780126859912582,
          -0.6505787538828152,
          -1.8518228676195427,
          -0.6746027652090811,
          -0.5161504692227723,
          0.2675518587457653,
          1.2710464229933724,
          1.2807012511537221,
          -0.813800981946473,
          0.9887296411556364,
          0.34779627811844277,
          1.0722640977196165,
          0.6433973284268374,
          0.40989450323414944,
          -1.4733258160007474,
          -0.9412466041115733,
          -0.10393012533579014,
          -0.6633454096051882,
          0.015757602282605216,
          1.9300001620261522,
          0.3233316683803168,
          1.392081529793989,
          1.4443614670956944,
          -0.19790878795053235,
          -0.5544650739226349,
          0.5810930100480569,
          -0.1905863676661684,
          0.6475117163062424,
          -0.4221535516573303,
          -0.9506756238745352,
          -0.3235691101756691,
          1.4337726924059773,
          -0.12164703421491174,
          -1.062327523237242,
          0.11695727946221875,
          -1.007567980517339,
          -3.098258736419873,
          1.235020540831101,
          0.08921425828329375,
          0.704599257819094,
          -1.9902654298561624,
          -1.3954712513866852,
          0.26963792912257833,
          0.24635411911346924,
          1.2620128885536703,
          1.1836800423064873,
          1.400217743322152,
          -0.8679652825501485,
          -0.7350983986807433,
          -2.069993960321671,
          -1.282928343846692,
          0.48351853758115854,
          0.6112862292452989,
          1.1036595971163061,
          -0.5462393578834953,
          -0.33009350560709183,
          -1.629830976151171,
          1.1731247238933304,
          -0.2389716755564296,
          0.10612143852848767,
          0.24536861497171922,
          -1.3303910676401658,
          -1.003306043921901,
          -0.4633435944966815,
          -0.022550288796635908,
          -1.012648189549336,
          -0.7750502400724303,
          -0.04569054422612893,
          -1.2199363247358548,
          -0.46624047284590303,
          -0.018410039343196544,
          0.6315535035946279,
          -0.6522499307304486,
          1.0430884953210082,
          -0.22480352941851106,
          -0.1484017345204255,
          -0.17236561194123814,
          -1.0275961625778565,
          0.819474611828162,
          1.1454383327596491,
          -1.2813189449037186,
          1.753594350607639,
          0.1766289971132849
         ]
        }
       ],
       "layout": {
        "legend": {
         "bgcolor": "#F5F6F9",
         "font": {
          "color": "#4D5663"
         }
        },
        "paper_bgcolor": "#F5F6F9",
        "plot_bgcolor": "#F5F6F9",
        "template": {
         "data": {
          "bar": [
           {
            "error_x": {
             "color": "#2a3f5f"
            },
            "error_y": {
             "color": "#2a3f5f"
            },
            "marker": {
             "line": {
              "color": "#E5ECF6",
              "width": 0.5
             }
            },
            "type": "bar"
           }
          ],
          "barpolar": [
           {
            "marker": {
             "line": {
              "color": "#E5ECF6",
              "width": 0.5
             }
            },
            "type": "barpolar"
           }
          ],
          "carpet": [
           {
            "aaxis": {
             "endlinecolor": "#2a3f5f",
             "gridcolor": "white",
             "linecolor": "white",
             "minorgridcolor": "white",
             "startlinecolor": "#2a3f5f"
            },
            "baxis": {
             "endlinecolor": "#2a3f5f",
             "gridcolor": "white",
             "linecolor": "white",
             "minorgridcolor": "white",
             "startlinecolor": "#2a3f5f"
            },
            "type": "carpet"
           }
          ],
          "choropleth": [
           {
            "colorbar": {
             "outlinewidth": 0,
             "ticks": ""
            },
            "type": "choropleth"
           }
          ],
          "contour": [
           {
            "colorbar": {
             "outlinewidth": 0,
             "ticks": ""
            },
            "colorscale": [
             [
              0,
              "#0d0887"
             ],
             [
              0.1111111111111111,
              "#46039f"
             ],
             [
              0.2222222222222222,
              "#7201a8"
             ],
             [
              0.3333333333333333,
              "#9c179e"
             ],
             [
              0.4444444444444444,
              "#bd3786"
             ],
             [
              0.5555555555555556,
              "#d8576b"
             ],
             [
              0.6666666666666666,
              "#ed7953"
             ],
             [
              0.7777777777777778,
              "#fb9f3a"
             ],
             [
              0.8888888888888888,
              "#fdca26"
             ],
             [
              1,
              "#f0f921"
             ]
            ],
            "type": "contour"
           }
          ],
          "contourcarpet": [
           {
            "colorbar": {
             "outlinewidth": 0,
             "ticks": ""
            },
            "type": "contourcarpet"
           }
          ],
          "heatmap": [
           {
            "colorbar": {
             "outlinewidth": 0,
             "ticks": ""
            },
            "colorscale": [
             [
              0,
              "#0d0887"
             ],
             [
              0.1111111111111111,
              "#46039f"
             ],
             [
              0.2222222222222222,
              "#7201a8"
             ],
             [
              0.3333333333333333,
              "#9c179e"
             ],
             [
              0.4444444444444444,
              "#bd3786"
             ],
             [
              0.5555555555555556,
              "#d8576b"
             ],
             [
              0.6666666666666666,
              "#ed7953"
             ],
             [
              0.7777777777777778,
              "#fb9f3a"
             ],
             [
              0.8888888888888888,
              "#fdca26"
             ],
             [
              1,
              "#f0f921"
             ]
            ],
            "type": "heatmap"
           }
          ],
          "heatmapgl": [
           {
            "colorbar": {
             "outlinewidth": 0,
             "ticks": ""
            },
            "colorscale": [
             [
              0,
              "#0d0887"
             ],
             [
              0.1111111111111111,
              "#46039f"
             ],
             [
              0.2222222222222222,
              "#7201a8"
             ],
             [
              0.3333333333333333,
              "#9c179e"
             ],
             [
              0.4444444444444444,
              "#bd3786"
             ],
             [
              0.5555555555555556,
              "#d8576b"
             ],
             [
              0.6666666666666666,
              "#ed7953"
             ],
             [
              0.7777777777777778,
              "#fb9f3a"
             ],
             [
              0.8888888888888888,
              "#fdca26"
             ],
             [
              1,
              "#f0f921"
             ]
            ],
            "type": "heatmapgl"
           }
          ],
          "histogram": [
           {
            "marker": {
             "colorbar": {
              "outlinewidth": 0,
              "ticks": ""
             }
            },
            "type": "histogram"
           }
          ],
          "histogram2d": [
           {
            "colorbar": {
             "outlinewidth": 0,
             "ticks": ""
            },
            "colorscale": [
             [
              0,
              "#0d0887"
             ],
             [
              0.1111111111111111,
              "#46039f"
             ],
             [
              0.2222222222222222,
              "#7201a8"
             ],
             [
              0.3333333333333333,
              "#9c179e"
             ],
             [
              0.4444444444444444,
              "#bd3786"
             ],
             [
              0.5555555555555556,
              "#d8576b"
             ],
             [
              0.6666666666666666,
              "#ed7953"
             ],
             [
              0.7777777777777778,
              "#fb9f3a"
             ],
             [
              0.8888888888888888,
              "#fdca26"
             ],
             [
              1,
              "#f0f921"
             ]
            ],
            "type": "histogram2d"
           }
          ],
          "histogram2dcontour": [
           {
            "colorbar": {
             "outlinewidth": 0,
             "ticks": ""
            },
            "colorscale": [
             [
              0,
              "#0d0887"
             ],
             [
              0.1111111111111111,
              "#46039f"
             ],
             [
              0.2222222222222222,
              "#7201a8"
             ],
             [
              0.3333333333333333,
              "#9c179e"
             ],
             [
              0.4444444444444444,
              "#bd3786"
             ],
             [
              0.5555555555555556,
              "#d8576b"
             ],
             [
              0.6666666666666666,
              "#ed7953"
             ],
             [
              0.7777777777777778,
              "#fb9f3a"
             ],
             [
              0.8888888888888888,
              "#fdca26"
             ],
             [
              1,
              "#f0f921"
             ]
            ],
            "type": "histogram2dcontour"
           }
          ],
          "mesh3d": [
           {
            "colorbar": {
             "outlinewidth": 0,
             "ticks": ""
            },
            "type": "mesh3d"
           }
          ],
          "parcoords": [
           {
            "line": {
             "colorbar": {
              "outlinewidth": 0,
              "ticks": ""
             }
            },
            "type": "parcoords"
           }
          ],
          "pie": [
           {
            "automargin": true,
            "type": "pie"
           }
          ],
          "scatter": [
           {
            "marker": {
             "colorbar": {
              "outlinewidth": 0,
              "ticks": ""
             }
            },
            "type": "scatter"
           }
          ],
          "scatter3d": [
           {
            "line": {
             "colorbar": {
              "outlinewidth": 0,
              "ticks": ""
             }
            },
            "marker": {
             "colorbar": {
              "outlinewidth": 0,
              "ticks": ""
             }
            },
            "type": "scatter3d"
           }
          ],
          "scattercarpet": [
           {
            "marker": {
             "colorbar": {
              "outlinewidth": 0,
              "ticks": ""
             }
            },
            "type": "scattercarpet"
           }
          ],
          "scattergeo": [
           {
            "marker": {
             "colorbar": {
              "outlinewidth": 0,
              "ticks": ""
             }
            },
            "type": "scattergeo"
           }
          ],
          "scattergl": [
           {
            "marker": {
             "colorbar": {
              "outlinewidth": 0,
              "ticks": ""
             }
            },
            "type": "scattergl"
           }
          ],
          "scattermapbox": [
           {
            "marker": {
             "colorbar": {
              "outlinewidth": 0,
              "ticks": ""
             }
            },
            "type": "scattermapbox"
           }
          ],
          "scatterpolar": [
           {
            "marker": {
             "colorbar": {
              "outlinewidth": 0,
              "ticks": ""
             }
            },
            "type": "scatterpolar"
           }
          ],
          "scatterpolargl": [
           {
            "marker": {
             "colorbar": {
              "outlinewidth": 0,
              "ticks": ""
             }
            },
            "type": "scatterpolargl"
           }
          ],
          "scatterternary": [
           {
            "marker": {
             "colorbar": {
              "outlinewidth": 0,
              "ticks": ""
             }
            },
            "type": "scatterternary"
           }
          ],
          "surface": [
           {
            "colorbar": {
             "outlinewidth": 0,
             "ticks": ""
            },
            "colorscale": [
             [
              0,
              "#0d0887"
             ],
             [
              0.1111111111111111,
              "#46039f"
             ],
             [
              0.2222222222222222,
              "#7201a8"
             ],
             [
              0.3333333333333333,
              "#9c179e"
             ],
             [
              0.4444444444444444,
              "#bd3786"
             ],
             [
              0.5555555555555556,
              "#d8576b"
             ],
             [
              0.6666666666666666,
              "#ed7953"
             ],
             [
              0.7777777777777778,
              "#fb9f3a"
             ],
             [
              0.8888888888888888,
              "#fdca26"
             ],
             [
              1,
              "#f0f921"
             ]
            ],
            "type": "surface"
           }
          ],
          "table": [
           {
            "cells": {
             "fill": {
              "color": "#EBF0F8"
             },
             "line": {
              "color": "white"
             }
            },
            "header": {
             "fill": {
              "color": "#C8D4E3"
             },
             "line": {
              "color": "white"
             }
            },
            "type": "table"
           }
          ]
         },
         "layout": {
          "annotationdefaults": {
           "arrowcolor": "#2a3f5f",
           "arrowhead": 0,
           "arrowwidth": 1
          },
          "coloraxis": {
           "colorbar": {
            "outlinewidth": 0,
            "ticks": ""
           }
          },
          "colorscale": {
           "diverging": [
            [
             0,
             "#8e0152"
            ],
            [
             0.1,
             "#c51b7d"
            ],
            [
             0.2,
             "#de77ae"
            ],
            [
             0.3,
             "#f1b6da"
            ],
            [
             0.4,
             "#fde0ef"
            ],
            [
             0.5,
             "#f7f7f7"
            ],
            [
             0.6,
             "#e6f5d0"
            ],
            [
             0.7,
             "#b8e186"
            ],
            [
             0.8,
             "#7fbc41"
            ],
            [
             0.9,
             "#4d9221"
            ],
            [
             1,
             "#276419"
            ]
           ],
           "sequential": [
            [
             0,
             "#0d0887"
            ],
            [
             0.1111111111111111,
             "#46039f"
            ],
            [
             0.2222222222222222,
             "#7201a8"
            ],
            [
             0.3333333333333333,
             "#9c179e"
            ],
            [
             0.4444444444444444,
             "#bd3786"
            ],
            [
             0.5555555555555556,
             "#d8576b"
            ],
            [
             0.6666666666666666,
             "#ed7953"
            ],
            [
             0.7777777777777778,
             "#fb9f3a"
            ],
            [
             0.8888888888888888,
             "#fdca26"
            ],
            [
             1,
             "#f0f921"
            ]
           ],
           "sequentialminus": [
            [
             0,
             "#0d0887"
            ],
            [
             0.1111111111111111,
             "#46039f"
            ],
            [
             0.2222222222222222,
             "#7201a8"
            ],
            [
             0.3333333333333333,
             "#9c179e"
            ],
            [
             0.4444444444444444,
             "#bd3786"
            ],
            [
             0.5555555555555556,
             "#d8576b"
            ],
            [
             0.6666666666666666,
             "#ed7953"
            ],
            [
             0.7777777777777778,
             "#fb9f3a"
            ],
            [
             0.8888888888888888,
             "#fdca26"
            ],
            [
             1,
             "#f0f921"
            ]
           ]
          },
          "colorway": [
           "#636efa",
           "#EF553B",
           "#00cc96",
           "#ab63fa",
           "#FFA15A",
           "#19d3f3",
           "#FF6692",
           "#B6E880",
           "#FF97FF",
           "#FECB52"
          ],
          "font": {
           "color": "#2a3f5f"
          },
          "geo": {
           "bgcolor": "white",
           "lakecolor": "white",
           "landcolor": "#E5ECF6",
           "showlakes": true,
           "showland": true,
           "subunitcolor": "white"
          },
          "hoverlabel": {
           "align": "left"
          },
          "hovermode": "closest",
          "mapbox": {
           "style": "light"
          },
          "paper_bgcolor": "white",
          "plot_bgcolor": "#E5ECF6",
          "polar": {
           "angularaxis": {
            "gridcolor": "white",
            "linecolor": "white",
            "ticks": ""
           },
           "bgcolor": "#E5ECF6",
           "radialaxis": {
            "gridcolor": "white",
            "linecolor": "white",
            "ticks": ""
           }
          },
          "scene": {
           "xaxis": {
            "backgroundcolor": "#E5ECF6",
            "gridcolor": "white",
            "gridwidth": 2,
            "linecolor": "white",
            "showbackground": true,
            "ticks": "",
            "zerolinecolor": "white"
           },
           "yaxis": {
            "backgroundcolor": "#E5ECF6",
            "gridcolor": "white",
            "gridwidth": 2,
            "linecolor": "white",
            "showbackground": true,
            "ticks": "",
            "zerolinecolor": "white"
           },
           "zaxis": {
            "backgroundcolor": "#E5ECF6",
            "gridcolor": "white",
            "gridwidth": 2,
            "linecolor": "white",
            "showbackground": true,
            "ticks": "",
            "zerolinecolor": "white"
           }
          },
          "shapedefaults": {
           "line": {
            "color": "#2a3f5f"
           }
          },
          "ternary": {
           "aaxis": {
            "gridcolor": "white",
            "linecolor": "white",
            "ticks": ""
           },
           "baxis": {
            "gridcolor": "white",
            "linecolor": "white",
            "ticks": ""
           },
           "bgcolor": "#E5ECF6",
           "caxis": {
            "gridcolor": "white",
            "linecolor": "white",
            "ticks": ""
           }
          },
          "title": {
           "x": 0.05
          },
          "xaxis": {
           "automargin": true,
           "gridcolor": "white",
           "linecolor": "white",
           "ticks": "",
           "title": {
            "standoff": 15
           },
           "zerolinecolor": "white",
           "zerolinewidth": 2
          },
          "yaxis": {
           "automargin": true,
           "gridcolor": "white",
           "linecolor": "white",
           "ticks": "",
           "title": {
            "standoff": 15
           },
           "zerolinecolor": "white",
           "zerolinewidth": 2
          }
         }
        },
        "title": {
         "font": {
          "color": "#4D5663"
         }
        },
        "xaxis": {
         "gridcolor": "#E1E5ED",
         "showgrid": true,
         "tickfont": {
          "color": "#4D5663"
         },
         "title": {
          "font": {
           "color": "#4D5663"
          },
          "text": ""
         },
         "zerolinecolor": "#E1E5ED"
        },
        "yaxis": {
         "gridcolor": "#E1E5ED",
         "showgrid": true,
         "tickfont": {
          "color": "#4D5663"
         },
         "title": {
          "font": {
           "color": "#4D5663"
          },
          "text": ""
         },
         "zerolinecolor": "#E1E5ED"
        }
       }
      },
      "text/html": [
       "<div>\n",
       "        \n",
       "        \n",
       "            <div id=\"42577334-d915-4aaa-9bb8-3e5385a6fcd0\" class=\"plotly-graph-div\" style=\"height:525px; width:100%;\"></div>\n",
       "            <script type=\"text/javascript\">\n",
       "                require([\"plotly\"], function(Plotly) {\n",
       "                    window.PLOTLYENV=window.PLOTLYENV || {};\n",
       "                    window.PLOTLYENV.BASE_URL='https://plot.ly';\n",
       "                    \n",
       "                if (document.getElementById(\"42577334-d915-4aaa-9bb8-3e5385a6fcd0\")) {\n",
       "                    Plotly.newPlot(\n",
       "                        '42577334-d915-4aaa-9bb8-3e5385a6fcd0',\n",
       "                        [{\"line\": {\"color\": \"rgba(255, 153, 51, 1.0)\", \"dash\": \"solid\", \"shape\": \"linear\", \"width\": 1.3}, \"marker\": {\"size\": 12, \"symbol\": \"circle\"}, \"mode\": \"markers\", \"name\": \"B\", \"text\": \"\", \"type\": \"scatter\", \"x\": [0.19650022373258236, -1.9941460778502356, 0.6626376887314555, -0.958327863418552, 0.4231241777990569, 0.7113678238984446, -0.09165347023463194, -1.3149597471701424, -1.3933206032441685, -0.5529960919904516, -1.232042488497158, 1.0661400300358617, 0.36496152149907735, 0.12566632897650376, -0.4154383457317713, 1.1145779823073672, 1.512565868621305, 0.1794830651348587, 1.0343723418421487, 2.7907567772555297, 0.2998865268939037, -1.1158316023870536, -0.027602812843491573, -0.5298883887261153, 1.0290623615134162, 0.9827394564213197, -0.4455813047158554, 0.2338813758270774, -0.02285208244483196, -0.8967539023754664, -1.4758756049165747, -0.8947207457648796, -0.07309580354724263, -0.7845742580993053, 0.23876895288454827, 0.9742961492985625, -0.033916672684154374, 1.1196298171192591, -0.535731539283069, -0.3906973132685843, -0.8424290459415693, 0.2792280254608758, -0.9286349945862502, -1.5063893605812446, 1.8743143044827653, -0.651912761220479, -0.6218461636563343, 0.835257171977975, -0.6112242584714845, 0.3039624479311827, -1.4468041377380885, 1.311224077205215, -0.7808300388541097, -0.7560423271045358, -0.5005366745377746, -0.8309774142243554, 0.3162223512088091, -0.002041007732976193, -0.6113995211974071, -0.7775783612568149, -1.2475028820394487, 1.217988302202804, -2.035103126115838, 1.0642766469020115, 0.20548427026076269, 1.2143492963512488, -0.2852927776860206, 1.124432516025142, 1.6347521744859779, -1.7834783009007091, 0.2841397399808306, -0.2089012383694685, 0.16030754969303934, 0.36365439104045916, 1.19666648962708, 1.0687355273258576, 1.3397200048714657, -1.4253637092798235, -0.11768531861787762, 1.093744468440918, -0.636974215744073, -0.3613674535797206, 2.053369552369878, 0.7116839450439921, 0.21270413234870125, -0.7903526585716255, -0.5880588643865717, 0.3927540327176958, 1.006657100212194, 0.4213663847261615, 0.19051498346579346, -0.03139508418786326, -0.7817689753853478, 0.11699032841973789, 0.9873789930068373, 0.3593178489481021, 0.19807751375431895, 0.16904863471663228, -0.8675517348746863, 1.0632008929683778], \"y\": [-0.7167540505755027, -0.12909041323094617, 0.22877681615439618, 0.31882194562550403, 0.4225554005693531, -1.6017150482952225, -0.2831684279736227, 0.4322828011724924, 1.255309714528344, 0.8755230396176855, -0.6831456954439784, 0.8110952397727162, -0.9166031195725972, 0.3064369207186609, -2.0490989505187236, 0.24906760614659623, 0.39402324128552113, 1.2780126859912582, -0.6505787538828152, -1.8518228676195427, -0.6746027652090811, -0.5161504692227723, 0.2675518587457653, 1.2710464229933724, 1.2807012511537221, -0.813800981946473, 0.9887296411556364, 0.34779627811844277, 1.0722640977196165, 0.6433973284268374, 0.40989450323414944, -1.4733258160007474, -0.9412466041115733, -0.10393012533579014, -0.6633454096051882, 0.015757602282605216, 1.9300001620261522, 0.3233316683803168, 1.392081529793989, 1.4443614670956944, -0.19790878795053235, -0.5544650739226349, 0.5810930100480569, -0.1905863676661684, 0.6475117163062424, -0.4221535516573303, -0.9506756238745352, -0.3235691101756691, 1.4337726924059773, -0.12164703421491174, -1.062327523237242, 0.11695727946221875, -1.007567980517339, -3.098258736419873, 1.235020540831101, 0.08921425828329375, 0.704599257819094, -1.9902654298561624, -1.3954712513866852, 0.26963792912257833, 0.24635411911346924, 1.2620128885536703, 1.1836800423064873, 1.400217743322152, -0.8679652825501485, -0.7350983986807433, -2.069993960321671, -1.282928343846692, 0.48351853758115854, 0.6112862292452989, 1.1036595971163061, -0.5462393578834953, -0.33009350560709183, -1.629830976151171, 1.1731247238933304, -0.2389716755564296, 0.10612143852848767, 0.24536861497171922, -1.3303910676401658, -1.003306043921901, -0.4633435944966815, -0.022550288796635908, -1.012648189549336, -0.7750502400724303, -0.04569054422612893, -1.2199363247358548, -0.46624047284590303, -0.018410039343196544, 0.6315535035946279, -0.6522499307304486, 1.0430884953210082, -0.22480352941851106, -0.1484017345204255, -0.17236561194123814, -1.0275961625778565, 0.819474611828162, 1.1454383327596491, -1.2813189449037186, 1.753594350607639, 0.1766289971132849]}],\n",
       "                        {\"legend\": {\"bgcolor\": \"#F5F6F9\", \"font\": {\"color\": \"#4D5663\"}}, \"paper_bgcolor\": \"#F5F6F9\", \"plot_bgcolor\": \"#F5F6F9\", \"template\": {\"data\": {\"bar\": [{\"error_x\": {\"color\": \"#2a3f5f\"}, \"error_y\": {\"color\": \"#2a3f5f\"}, \"marker\": {\"line\": {\"color\": \"#E5ECF6\", \"width\": 0.5}}, \"type\": \"bar\"}], \"barpolar\": [{\"marker\": {\"line\": {\"color\": \"#E5ECF6\", \"width\": 0.5}}, \"type\": \"barpolar\"}], \"carpet\": [{\"aaxis\": {\"endlinecolor\": \"#2a3f5f\", \"gridcolor\": \"white\", \"linecolor\": \"white\", \"minorgridcolor\": \"white\", \"startlinecolor\": \"#2a3f5f\"}, \"baxis\": {\"endlinecolor\": \"#2a3f5f\", \"gridcolor\": \"white\", \"linecolor\": \"white\", \"minorgridcolor\": \"white\", \"startlinecolor\": \"#2a3f5f\"}, \"type\": \"carpet\"}], \"choropleth\": [{\"colorbar\": {\"outlinewidth\": 0, \"ticks\": \"\"}, \"type\": \"choropleth\"}], \"contour\": [{\"colorbar\": {\"outlinewidth\": 0, \"ticks\": \"\"}, \"colorscale\": [[0.0, \"#0d0887\"], [0.1111111111111111, \"#46039f\"], [0.2222222222222222, \"#7201a8\"], [0.3333333333333333, \"#9c179e\"], [0.4444444444444444, \"#bd3786\"], [0.5555555555555556, \"#d8576b\"], [0.6666666666666666, \"#ed7953\"], [0.7777777777777778, \"#fb9f3a\"], [0.8888888888888888, \"#fdca26\"], [1.0, \"#f0f921\"]], \"type\": \"contour\"}], \"contourcarpet\": [{\"colorbar\": {\"outlinewidth\": 0, \"ticks\": \"\"}, \"type\": \"contourcarpet\"}], \"heatmap\": [{\"colorbar\": {\"outlinewidth\": 0, \"ticks\": \"\"}, \"colorscale\": [[0.0, \"#0d0887\"], [0.1111111111111111, \"#46039f\"], [0.2222222222222222, \"#7201a8\"], [0.3333333333333333, \"#9c179e\"], [0.4444444444444444, \"#bd3786\"], [0.5555555555555556, \"#d8576b\"], [0.6666666666666666, \"#ed7953\"], [0.7777777777777778, \"#fb9f3a\"], [0.8888888888888888, \"#fdca26\"], [1.0, \"#f0f921\"]], \"type\": \"heatmap\"}], \"heatmapgl\": [{\"colorbar\": {\"outlinewidth\": 0, \"ticks\": \"\"}, \"colorscale\": [[0.0, \"#0d0887\"], [0.1111111111111111, \"#46039f\"], [0.2222222222222222, \"#7201a8\"], [0.3333333333333333, \"#9c179e\"], [0.4444444444444444, \"#bd3786\"], [0.5555555555555556, \"#d8576b\"], [0.6666666666666666, \"#ed7953\"], [0.7777777777777778, \"#fb9f3a\"], [0.8888888888888888, \"#fdca26\"], [1.0, \"#f0f921\"]], \"type\": \"heatmapgl\"}], \"histogram\": [{\"marker\": {\"colorbar\": {\"outlinewidth\": 0, \"ticks\": \"\"}}, \"type\": \"histogram\"}], \"histogram2d\": [{\"colorbar\": {\"outlinewidth\": 0, \"ticks\": \"\"}, \"colorscale\": [[0.0, \"#0d0887\"], [0.1111111111111111, \"#46039f\"], [0.2222222222222222, \"#7201a8\"], [0.3333333333333333, \"#9c179e\"], [0.4444444444444444, \"#bd3786\"], [0.5555555555555556, \"#d8576b\"], [0.6666666666666666, \"#ed7953\"], [0.7777777777777778, \"#fb9f3a\"], [0.8888888888888888, \"#fdca26\"], [1.0, \"#f0f921\"]], \"type\": \"histogram2d\"}], \"histogram2dcontour\": [{\"colorbar\": {\"outlinewidth\": 0, \"ticks\": \"\"}, \"colorscale\": [[0.0, \"#0d0887\"], [0.1111111111111111, \"#46039f\"], [0.2222222222222222, \"#7201a8\"], [0.3333333333333333, \"#9c179e\"], [0.4444444444444444, \"#bd3786\"], [0.5555555555555556, \"#d8576b\"], [0.6666666666666666, \"#ed7953\"], [0.7777777777777778, \"#fb9f3a\"], [0.8888888888888888, \"#fdca26\"], [1.0, \"#f0f921\"]], \"type\": \"histogram2dcontour\"}], \"mesh3d\": [{\"colorbar\": {\"outlinewidth\": 0, \"ticks\": \"\"}, \"type\": \"mesh3d\"}], \"parcoords\": [{\"line\": {\"colorbar\": {\"outlinewidth\": 0, \"ticks\": \"\"}}, \"type\": \"parcoords\"}], \"pie\": [{\"automargin\": true, \"type\": \"pie\"}], \"scatter\": [{\"marker\": {\"colorbar\": {\"outlinewidth\": 0, \"ticks\": \"\"}}, \"type\": \"scatter\"}], \"scatter3d\": [{\"line\": {\"colorbar\": {\"outlinewidth\": 0, \"ticks\": \"\"}}, \"marker\": {\"colorbar\": {\"outlinewidth\": 0, \"ticks\": \"\"}}, \"type\": \"scatter3d\"}], \"scattercarpet\": [{\"marker\": {\"colorbar\": {\"outlinewidth\": 0, \"ticks\": \"\"}}, \"type\": \"scattercarpet\"}], \"scattergeo\": [{\"marker\": {\"colorbar\": {\"outlinewidth\": 0, \"ticks\": \"\"}}, \"type\": \"scattergeo\"}], \"scattergl\": [{\"marker\": {\"colorbar\": {\"outlinewidth\": 0, \"ticks\": \"\"}}, \"type\": \"scattergl\"}], \"scattermapbox\": [{\"marker\": {\"colorbar\": {\"outlinewidth\": 0, \"ticks\": \"\"}}, \"type\": \"scattermapbox\"}], \"scatterpolar\": [{\"marker\": {\"colorbar\": {\"outlinewidth\": 0, \"ticks\": \"\"}}, \"type\": \"scatterpolar\"}], \"scatterpolargl\": [{\"marker\": {\"colorbar\": {\"outlinewidth\": 0, \"ticks\": \"\"}}, \"type\": \"scatterpolargl\"}], \"scatterternary\": [{\"marker\": {\"colorbar\": {\"outlinewidth\": 0, \"ticks\": \"\"}}, \"type\": \"scatterternary\"}], \"surface\": [{\"colorbar\": {\"outlinewidth\": 0, \"ticks\": \"\"}, \"colorscale\": [[0.0, \"#0d0887\"], [0.1111111111111111, \"#46039f\"], [0.2222222222222222, \"#7201a8\"], [0.3333333333333333, \"#9c179e\"], [0.4444444444444444, \"#bd3786\"], [0.5555555555555556, \"#d8576b\"], [0.6666666666666666, \"#ed7953\"], [0.7777777777777778, \"#fb9f3a\"], [0.8888888888888888, \"#fdca26\"], [1.0, \"#f0f921\"]], \"type\": \"surface\"}], \"table\": [{\"cells\": {\"fill\": {\"color\": \"#EBF0F8\"}, \"line\": {\"color\": \"white\"}}, \"header\": {\"fill\": {\"color\": \"#C8D4E3\"}, \"line\": {\"color\": \"white\"}}, \"type\": \"table\"}]}, \"layout\": {\"annotationdefaults\": {\"arrowcolor\": \"#2a3f5f\", \"arrowhead\": 0, \"arrowwidth\": 1}, \"coloraxis\": {\"colorbar\": {\"outlinewidth\": 0, \"ticks\": \"\"}}, \"colorscale\": {\"diverging\": [[0, \"#8e0152\"], [0.1, \"#c51b7d\"], [0.2, \"#de77ae\"], [0.3, \"#f1b6da\"], [0.4, \"#fde0ef\"], [0.5, \"#f7f7f7\"], [0.6, \"#e6f5d0\"], [0.7, \"#b8e186\"], [0.8, \"#7fbc41\"], [0.9, \"#4d9221\"], [1, \"#276419\"]], \"sequential\": [[0.0, \"#0d0887\"], [0.1111111111111111, \"#46039f\"], [0.2222222222222222, \"#7201a8\"], [0.3333333333333333, \"#9c179e\"], [0.4444444444444444, \"#bd3786\"], [0.5555555555555556, \"#d8576b\"], [0.6666666666666666, \"#ed7953\"], [0.7777777777777778, \"#fb9f3a\"], [0.8888888888888888, \"#fdca26\"], [1.0, \"#f0f921\"]], \"sequentialminus\": [[0.0, \"#0d0887\"], [0.1111111111111111, \"#46039f\"], [0.2222222222222222, \"#7201a8\"], [0.3333333333333333, \"#9c179e\"], [0.4444444444444444, \"#bd3786\"], [0.5555555555555556, \"#d8576b\"], [0.6666666666666666, \"#ed7953\"], [0.7777777777777778, \"#fb9f3a\"], [0.8888888888888888, \"#fdca26\"], [1.0, \"#f0f921\"]]}, \"colorway\": [\"#636efa\", \"#EF553B\", \"#00cc96\", \"#ab63fa\", \"#FFA15A\", \"#19d3f3\", \"#FF6692\", \"#B6E880\", \"#FF97FF\", \"#FECB52\"], \"font\": {\"color\": \"#2a3f5f\"}, \"geo\": {\"bgcolor\": \"white\", \"lakecolor\": \"white\", \"landcolor\": \"#E5ECF6\", \"showlakes\": true, \"showland\": true, \"subunitcolor\": \"white\"}, \"hoverlabel\": {\"align\": \"left\"}, \"hovermode\": \"closest\", \"mapbox\": {\"style\": \"light\"}, \"paper_bgcolor\": \"white\", \"plot_bgcolor\": \"#E5ECF6\", \"polar\": {\"angularaxis\": {\"gridcolor\": \"white\", \"linecolor\": \"white\", \"ticks\": \"\"}, \"bgcolor\": \"#E5ECF6\", \"radialaxis\": {\"gridcolor\": \"white\", \"linecolor\": \"white\", \"ticks\": \"\"}}, \"scene\": {\"xaxis\": {\"backgroundcolor\": \"#E5ECF6\", \"gridcolor\": \"white\", \"gridwidth\": 2, \"linecolor\": \"white\", \"showbackground\": true, \"ticks\": \"\", \"zerolinecolor\": \"white\"}, \"yaxis\": {\"backgroundcolor\": \"#E5ECF6\", \"gridcolor\": \"white\", \"gridwidth\": 2, \"linecolor\": \"white\", \"showbackground\": true, \"ticks\": \"\", \"zerolinecolor\": \"white\"}, \"zaxis\": {\"backgroundcolor\": \"#E5ECF6\", \"gridcolor\": \"white\", \"gridwidth\": 2, \"linecolor\": \"white\", \"showbackground\": true, \"ticks\": \"\", \"zerolinecolor\": \"white\"}}, \"shapedefaults\": {\"line\": {\"color\": \"#2a3f5f\"}}, \"ternary\": {\"aaxis\": {\"gridcolor\": \"white\", \"linecolor\": \"white\", \"ticks\": \"\"}, \"baxis\": {\"gridcolor\": \"white\", \"linecolor\": \"white\", \"ticks\": \"\"}, \"bgcolor\": \"#E5ECF6\", \"caxis\": {\"gridcolor\": \"white\", \"linecolor\": \"white\", \"ticks\": \"\"}}, \"title\": {\"x\": 0.05}, \"xaxis\": {\"automargin\": true, \"gridcolor\": \"white\", \"linecolor\": \"white\", \"ticks\": \"\", \"title\": {\"standoff\": 15}, \"zerolinecolor\": \"white\", \"zerolinewidth\": 2}, \"yaxis\": {\"automargin\": true, \"gridcolor\": \"white\", \"linecolor\": \"white\", \"ticks\": \"\", \"title\": {\"standoff\": 15}, \"zerolinecolor\": \"white\", \"zerolinewidth\": 2}}}, \"title\": {\"font\": {\"color\": \"#4D5663\"}}, \"xaxis\": {\"gridcolor\": \"#E1E5ED\", \"showgrid\": true, \"tickfont\": {\"color\": \"#4D5663\"}, \"title\": {\"font\": {\"color\": \"#4D5663\"}, \"text\": \"\"}, \"zerolinecolor\": \"#E1E5ED\"}, \"yaxis\": {\"gridcolor\": \"#E1E5ED\", \"showgrid\": true, \"tickfont\": {\"color\": \"#4D5663\"}, \"title\": {\"font\": {\"color\": \"#4D5663\"}, \"text\": \"\"}, \"zerolinecolor\": \"#E1E5ED\"}},\n",
       "                        {\"showLink\": true, \"linkText\": \"Export to plot.ly\", \"plotlyServerURL\": \"https://plot.ly\", \"responsive\": true}\n",
       "                    ).then(function(){\n",
       "                            \n",
       "var gd = document.getElementById('42577334-d915-4aaa-9bb8-3e5385a6fcd0');\n",
       "var x = new MutationObserver(function (mutations, observer) {{\n",
       "        var display = window.getComputedStyle(gd).display;\n",
       "        if (!display || display === 'none') {{\n",
       "            console.log([gd, 'removed!']);\n",
       "            Plotly.purge(gd);\n",
       "            observer.disconnect();\n",
       "        }}\n",
       "}});\n",
       "\n",
       "// Listen for the removal of the full notebook cells\n",
       "var notebookContainer = gd.closest('#notebook-container');\n",
       "if (notebookContainer) {{\n",
       "    x.observe(notebookContainer, {childList: true});\n",
       "}}\n",
       "\n",
       "// Listen for the clearing of the current output cell\n",
       "var outputEl = gd.closest('.output');\n",
       "if (outputEl) {{\n",
       "    x.observe(outputEl, {childList: true});\n",
       "}}\n",
       "\n",
       "                        })\n",
       "                };\n",
       "                });\n",
       "            </script>\n",
       "        </div>"
      ]
     },
     "metadata": {},
     "output_type": "display_data"
    }
   ],
   "source": [
    "df.iplot(kind='scatter',x='A',y='B',mode='markers')"
   ]
  },
  {
   "cell_type": "code",
   "execution_count": 21,
   "metadata": {},
   "outputs": [
    {
     "data": {
      "application/vnd.plotly.v1+json": {
       "config": {
        "linkText": "Export to plot.ly",
        "plotlyServerURL": "https://plot.ly",
        "showLink": true
       },
       "data": [
        {
         "marker": {
          "color": "rgba(255, 153, 51, 0.6)",
          "line": {
           "color": "rgba(255, 153, 51, 1.0)",
           "width": 1
          }
         },
         "name": "Values",
         "orientation": "v",
         "text": "",
         "type": "bar",
         "x": [
          "A",
          "B",
          "C"
         ],
         "y": [
          32,
          43,
          50
         ]
        }
       ],
       "layout": {
        "legend": {
         "bgcolor": "#F5F6F9",
         "font": {
          "color": "#4D5663"
         }
        },
        "paper_bgcolor": "#F5F6F9",
        "plot_bgcolor": "#F5F6F9",
        "template": {
         "data": {
          "bar": [
           {
            "error_x": {
             "color": "#2a3f5f"
            },
            "error_y": {
             "color": "#2a3f5f"
            },
            "marker": {
             "line": {
              "color": "#E5ECF6",
              "width": 0.5
             }
            },
            "type": "bar"
           }
          ],
          "barpolar": [
           {
            "marker": {
             "line": {
              "color": "#E5ECF6",
              "width": 0.5
             }
            },
            "type": "barpolar"
           }
          ],
          "carpet": [
           {
            "aaxis": {
             "endlinecolor": "#2a3f5f",
             "gridcolor": "white",
             "linecolor": "white",
             "minorgridcolor": "white",
             "startlinecolor": "#2a3f5f"
            },
            "baxis": {
             "endlinecolor": "#2a3f5f",
             "gridcolor": "white",
             "linecolor": "white",
             "minorgridcolor": "white",
             "startlinecolor": "#2a3f5f"
            },
            "type": "carpet"
           }
          ],
          "choropleth": [
           {
            "colorbar": {
             "outlinewidth": 0,
             "ticks": ""
            },
            "type": "choropleth"
           }
          ],
          "contour": [
           {
            "colorbar": {
             "outlinewidth": 0,
             "ticks": ""
            },
            "colorscale": [
             [
              0,
              "#0d0887"
             ],
             [
              0.1111111111111111,
              "#46039f"
             ],
             [
              0.2222222222222222,
              "#7201a8"
             ],
             [
              0.3333333333333333,
              "#9c179e"
             ],
             [
              0.4444444444444444,
              "#bd3786"
             ],
             [
              0.5555555555555556,
              "#d8576b"
             ],
             [
              0.6666666666666666,
              "#ed7953"
             ],
             [
              0.7777777777777778,
              "#fb9f3a"
             ],
             [
              0.8888888888888888,
              "#fdca26"
             ],
             [
              1,
              "#f0f921"
             ]
            ],
            "type": "contour"
           }
          ],
          "contourcarpet": [
           {
            "colorbar": {
             "outlinewidth": 0,
             "ticks": ""
            },
            "type": "contourcarpet"
           }
          ],
          "heatmap": [
           {
            "colorbar": {
             "outlinewidth": 0,
             "ticks": ""
            },
            "colorscale": [
             [
              0,
              "#0d0887"
             ],
             [
              0.1111111111111111,
              "#46039f"
             ],
             [
              0.2222222222222222,
              "#7201a8"
             ],
             [
              0.3333333333333333,
              "#9c179e"
             ],
             [
              0.4444444444444444,
              "#bd3786"
             ],
             [
              0.5555555555555556,
              "#d8576b"
             ],
             [
              0.6666666666666666,
              "#ed7953"
             ],
             [
              0.7777777777777778,
              "#fb9f3a"
             ],
             [
              0.8888888888888888,
              "#fdca26"
             ],
             [
              1,
              "#f0f921"
             ]
            ],
            "type": "heatmap"
           }
          ],
          "heatmapgl": [
           {
            "colorbar": {
             "outlinewidth": 0,
             "ticks": ""
            },
            "colorscale": [
             [
              0,
              "#0d0887"
             ],
             [
              0.1111111111111111,
              "#46039f"
             ],
             [
              0.2222222222222222,
              "#7201a8"
             ],
             [
              0.3333333333333333,
              "#9c179e"
             ],
             [
              0.4444444444444444,
              "#bd3786"
             ],
             [
              0.5555555555555556,
              "#d8576b"
             ],
             [
              0.6666666666666666,
              "#ed7953"
             ],
             [
              0.7777777777777778,
              "#fb9f3a"
             ],
             [
              0.8888888888888888,
              "#fdca26"
             ],
             [
              1,
              "#f0f921"
             ]
            ],
            "type": "heatmapgl"
           }
          ],
          "histogram": [
           {
            "marker": {
             "colorbar": {
              "outlinewidth": 0,
              "ticks": ""
             }
            },
            "type": "histogram"
           }
          ],
          "histogram2d": [
           {
            "colorbar": {
             "outlinewidth": 0,
             "ticks": ""
            },
            "colorscale": [
             [
              0,
              "#0d0887"
             ],
             [
              0.1111111111111111,
              "#46039f"
             ],
             [
              0.2222222222222222,
              "#7201a8"
             ],
             [
              0.3333333333333333,
              "#9c179e"
             ],
             [
              0.4444444444444444,
              "#bd3786"
             ],
             [
              0.5555555555555556,
              "#d8576b"
             ],
             [
              0.6666666666666666,
              "#ed7953"
             ],
             [
              0.7777777777777778,
              "#fb9f3a"
             ],
             [
              0.8888888888888888,
              "#fdca26"
             ],
             [
              1,
              "#f0f921"
             ]
            ],
            "type": "histogram2d"
           }
          ],
          "histogram2dcontour": [
           {
            "colorbar": {
             "outlinewidth": 0,
             "ticks": ""
            },
            "colorscale": [
             [
              0,
              "#0d0887"
             ],
             [
              0.1111111111111111,
              "#46039f"
             ],
             [
              0.2222222222222222,
              "#7201a8"
             ],
             [
              0.3333333333333333,
              "#9c179e"
             ],
             [
              0.4444444444444444,
              "#bd3786"
             ],
             [
              0.5555555555555556,
              "#d8576b"
             ],
             [
              0.6666666666666666,
              "#ed7953"
             ],
             [
              0.7777777777777778,
              "#fb9f3a"
             ],
             [
              0.8888888888888888,
              "#fdca26"
             ],
             [
              1,
              "#f0f921"
             ]
            ],
            "type": "histogram2dcontour"
           }
          ],
          "mesh3d": [
           {
            "colorbar": {
             "outlinewidth": 0,
             "ticks": ""
            },
            "type": "mesh3d"
           }
          ],
          "parcoords": [
           {
            "line": {
             "colorbar": {
              "outlinewidth": 0,
              "ticks": ""
             }
            },
            "type": "parcoords"
           }
          ],
          "pie": [
           {
            "automargin": true,
            "type": "pie"
           }
          ],
          "scatter": [
           {
            "marker": {
             "colorbar": {
              "outlinewidth": 0,
              "ticks": ""
             }
            },
            "type": "scatter"
           }
          ],
          "scatter3d": [
           {
            "line": {
             "colorbar": {
              "outlinewidth": 0,
              "ticks": ""
             }
            },
            "marker": {
             "colorbar": {
              "outlinewidth": 0,
              "ticks": ""
             }
            },
            "type": "scatter3d"
           }
          ],
          "scattercarpet": [
           {
            "marker": {
             "colorbar": {
              "outlinewidth": 0,
              "ticks": ""
             }
            },
            "type": "scattercarpet"
           }
          ],
          "scattergeo": [
           {
            "marker": {
             "colorbar": {
              "outlinewidth": 0,
              "ticks": ""
             }
            },
            "type": "scattergeo"
           }
          ],
          "scattergl": [
           {
            "marker": {
             "colorbar": {
              "outlinewidth": 0,
              "ticks": ""
             }
            },
            "type": "scattergl"
           }
          ],
          "scattermapbox": [
           {
            "marker": {
             "colorbar": {
              "outlinewidth": 0,
              "ticks": ""
             }
            },
            "type": "scattermapbox"
           }
          ],
          "scatterpolar": [
           {
            "marker": {
             "colorbar": {
              "outlinewidth": 0,
              "ticks": ""
             }
            },
            "type": "scatterpolar"
           }
          ],
          "scatterpolargl": [
           {
            "marker": {
             "colorbar": {
              "outlinewidth": 0,
              "ticks": ""
             }
            },
            "type": "scatterpolargl"
           }
          ],
          "scatterternary": [
           {
            "marker": {
             "colorbar": {
              "outlinewidth": 0,
              "ticks": ""
             }
            },
            "type": "scatterternary"
           }
          ],
          "surface": [
           {
            "colorbar": {
             "outlinewidth": 0,
             "ticks": ""
            },
            "colorscale": [
             [
              0,
              "#0d0887"
             ],
             [
              0.1111111111111111,
              "#46039f"
             ],
             [
              0.2222222222222222,
              "#7201a8"
             ],
             [
              0.3333333333333333,
              "#9c179e"
             ],
             [
              0.4444444444444444,
              "#bd3786"
             ],
             [
              0.5555555555555556,
              "#d8576b"
             ],
             [
              0.6666666666666666,
              "#ed7953"
             ],
             [
              0.7777777777777778,
              "#fb9f3a"
             ],
             [
              0.8888888888888888,
              "#fdca26"
             ],
             [
              1,
              "#f0f921"
             ]
            ],
            "type": "surface"
           }
          ],
          "table": [
           {
            "cells": {
             "fill": {
              "color": "#EBF0F8"
             },
             "line": {
              "color": "white"
             }
            },
            "header": {
             "fill": {
              "color": "#C8D4E3"
             },
             "line": {
              "color": "white"
             }
            },
            "type": "table"
           }
          ]
         },
         "layout": {
          "annotationdefaults": {
           "arrowcolor": "#2a3f5f",
           "arrowhead": 0,
           "arrowwidth": 1
          },
          "coloraxis": {
           "colorbar": {
            "outlinewidth": 0,
            "ticks": ""
           }
          },
          "colorscale": {
           "diverging": [
            [
             0,
             "#8e0152"
            ],
            [
             0.1,
             "#c51b7d"
            ],
            [
             0.2,
             "#de77ae"
            ],
            [
             0.3,
             "#f1b6da"
            ],
            [
             0.4,
             "#fde0ef"
            ],
            [
             0.5,
             "#f7f7f7"
            ],
            [
             0.6,
             "#e6f5d0"
            ],
            [
             0.7,
             "#b8e186"
            ],
            [
             0.8,
             "#7fbc41"
            ],
            [
             0.9,
             "#4d9221"
            ],
            [
             1,
             "#276419"
            ]
           ],
           "sequential": [
            [
             0,
             "#0d0887"
            ],
            [
             0.1111111111111111,
             "#46039f"
            ],
            [
             0.2222222222222222,
             "#7201a8"
            ],
            [
             0.3333333333333333,
             "#9c179e"
            ],
            [
             0.4444444444444444,
             "#bd3786"
            ],
            [
             0.5555555555555556,
             "#d8576b"
            ],
            [
             0.6666666666666666,
             "#ed7953"
            ],
            [
             0.7777777777777778,
             "#fb9f3a"
            ],
            [
             0.8888888888888888,
             "#fdca26"
            ],
            [
             1,
             "#f0f921"
            ]
           ],
           "sequentialminus": [
            [
             0,
             "#0d0887"
            ],
            [
             0.1111111111111111,
             "#46039f"
            ],
            [
             0.2222222222222222,
             "#7201a8"
            ],
            [
             0.3333333333333333,
             "#9c179e"
            ],
            [
             0.4444444444444444,
             "#bd3786"
            ],
            [
             0.5555555555555556,
             "#d8576b"
            ],
            [
             0.6666666666666666,
             "#ed7953"
            ],
            [
             0.7777777777777778,
             "#fb9f3a"
            ],
            [
             0.8888888888888888,
             "#fdca26"
            ],
            [
             1,
             "#f0f921"
            ]
           ]
          },
          "colorway": [
           "#636efa",
           "#EF553B",
           "#00cc96",
           "#ab63fa",
           "#FFA15A",
           "#19d3f3",
           "#FF6692",
           "#B6E880",
           "#FF97FF",
           "#FECB52"
          ],
          "font": {
           "color": "#2a3f5f"
          },
          "geo": {
           "bgcolor": "white",
           "lakecolor": "white",
           "landcolor": "#E5ECF6",
           "showlakes": true,
           "showland": true,
           "subunitcolor": "white"
          },
          "hoverlabel": {
           "align": "left"
          },
          "hovermode": "closest",
          "mapbox": {
           "style": "light"
          },
          "paper_bgcolor": "white",
          "plot_bgcolor": "#E5ECF6",
          "polar": {
           "angularaxis": {
            "gridcolor": "white",
            "linecolor": "white",
            "ticks": ""
           },
           "bgcolor": "#E5ECF6",
           "radialaxis": {
            "gridcolor": "white",
            "linecolor": "white",
            "ticks": ""
           }
          },
          "scene": {
           "xaxis": {
            "backgroundcolor": "#E5ECF6",
            "gridcolor": "white",
            "gridwidth": 2,
            "linecolor": "white",
            "showbackground": true,
            "ticks": "",
            "zerolinecolor": "white"
           },
           "yaxis": {
            "backgroundcolor": "#E5ECF6",
            "gridcolor": "white",
            "gridwidth": 2,
            "linecolor": "white",
            "showbackground": true,
            "ticks": "",
            "zerolinecolor": "white"
           },
           "zaxis": {
            "backgroundcolor": "#E5ECF6",
            "gridcolor": "white",
            "gridwidth": 2,
            "linecolor": "white",
            "showbackground": true,
            "ticks": "",
            "zerolinecolor": "white"
           }
          },
          "shapedefaults": {
           "line": {
            "color": "#2a3f5f"
           }
          },
          "ternary": {
           "aaxis": {
            "gridcolor": "white",
            "linecolor": "white",
            "ticks": ""
           },
           "baxis": {
            "gridcolor": "white",
            "linecolor": "white",
            "ticks": ""
           },
           "bgcolor": "#E5ECF6",
           "caxis": {
            "gridcolor": "white",
            "linecolor": "white",
            "ticks": ""
           }
          },
          "title": {
           "x": 0.05
          },
          "xaxis": {
           "automargin": true,
           "gridcolor": "white",
           "linecolor": "white",
           "ticks": "",
           "title": {
            "standoff": 15
           },
           "zerolinecolor": "white",
           "zerolinewidth": 2
          },
          "yaxis": {
           "automargin": true,
           "gridcolor": "white",
           "linecolor": "white",
           "ticks": "",
           "title": {
            "standoff": 15
           },
           "zerolinecolor": "white",
           "zerolinewidth": 2
          }
         }
        },
        "title": {
         "font": {
          "color": "#4D5663"
         }
        },
        "xaxis": {
         "gridcolor": "#E1E5ED",
         "showgrid": true,
         "tickfont": {
          "color": "#4D5663"
         },
         "title": {
          "font": {
           "color": "#4D5663"
          },
          "text": ""
         },
         "zerolinecolor": "#E1E5ED"
        },
        "yaxis": {
         "gridcolor": "#E1E5ED",
         "showgrid": true,
         "tickfont": {
          "color": "#4D5663"
         },
         "title": {
          "font": {
           "color": "#4D5663"
          },
          "text": ""
         },
         "zerolinecolor": "#E1E5ED"
        }
       }
      },
      "text/html": [
       "<div>\n",
       "        \n",
       "        \n",
       "            <div id=\"3a147a92-867a-4f40-85c6-f0a5a3f7a87c\" class=\"plotly-graph-div\" style=\"height:525px; width:100%;\"></div>\n",
       "            <script type=\"text/javascript\">\n",
       "                require([\"plotly\"], function(Plotly) {\n",
       "                    window.PLOTLYENV=window.PLOTLYENV || {};\n",
       "                    window.PLOTLYENV.BASE_URL='https://plot.ly';\n",
       "                    \n",
       "                if (document.getElementById(\"3a147a92-867a-4f40-85c6-f0a5a3f7a87c\")) {\n",
       "                    Plotly.newPlot(\n",
       "                        '3a147a92-867a-4f40-85c6-f0a5a3f7a87c',\n",
       "                        [{\"marker\": {\"color\": \"rgba(255, 153, 51, 0.6)\", \"line\": {\"color\": \"rgba(255, 153, 51, 1.0)\", \"width\": 1}}, \"name\": \"Values\", \"orientation\": \"v\", \"text\": \"\", \"type\": \"bar\", \"x\": [\"A\", \"B\", \"C\"], \"y\": [32, 43, 50]}],\n",
       "                        {\"legend\": {\"bgcolor\": \"#F5F6F9\", \"font\": {\"color\": \"#4D5663\"}}, \"paper_bgcolor\": \"#F5F6F9\", \"plot_bgcolor\": \"#F5F6F9\", \"template\": {\"data\": {\"bar\": [{\"error_x\": {\"color\": \"#2a3f5f\"}, \"error_y\": {\"color\": \"#2a3f5f\"}, \"marker\": {\"line\": {\"color\": \"#E5ECF6\", \"width\": 0.5}}, \"type\": \"bar\"}], \"barpolar\": [{\"marker\": {\"line\": {\"color\": \"#E5ECF6\", \"width\": 0.5}}, \"type\": \"barpolar\"}], \"carpet\": [{\"aaxis\": {\"endlinecolor\": \"#2a3f5f\", \"gridcolor\": \"white\", \"linecolor\": \"white\", \"minorgridcolor\": \"white\", \"startlinecolor\": \"#2a3f5f\"}, \"baxis\": {\"endlinecolor\": \"#2a3f5f\", \"gridcolor\": \"white\", \"linecolor\": \"white\", \"minorgridcolor\": \"white\", \"startlinecolor\": \"#2a3f5f\"}, \"type\": \"carpet\"}], \"choropleth\": [{\"colorbar\": {\"outlinewidth\": 0, \"ticks\": \"\"}, \"type\": \"choropleth\"}], \"contour\": [{\"colorbar\": {\"outlinewidth\": 0, \"ticks\": \"\"}, \"colorscale\": [[0.0, \"#0d0887\"], [0.1111111111111111, \"#46039f\"], [0.2222222222222222, \"#7201a8\"], [0.3333333333333333, \"#9c179e\"], [0.4444444444444444, \"#bd3786\"], [0.5555555555555556, \"#d8576b\"], [0.6666666666666666, \"#ed7953\"], [0.7777777777777778, \"#fb9f3a\"], [0.8888888888888888, \"#fdca26\"], [1.0, \"#f0f921\"]], \"type\": \"contour\"}], \"contourcarpet\": [{\"colorbar\": {\"outlinewidth\": 0, \"ticks\": \"\"}, \"type\": \"contourcarpet\"}], \"heatmap\": [{\"colorbar\": {\"outlinewidth\": 0, \"ticks\": \"\"}, \"colorscale\": [[0.0, \"#0d0887\"], [0.1111111111111111, \"#46039f\"], [0.2222222222222222, \"#7201a8\"], [0.3333333333333333, \"#9c179e\"], [0.4444444444444444, \"#bd3786\"], [0.5555555555555556, \"#d8576b\"], [0.6666666666666666, \"#ed7953\"], [0.7777777777777778, \"#fb9f3a\"], [0.8888888888888888, \"#fdca26\"], [1.0, \"#f0f921\"]], \"type\": \"heatmap\"}], \"heatmapgl\": [{\"colorbar\": {\"outlinewidth\": 0, \"ticks\": \"\"}, \"colorscale\": [[0.0, \"#0d0887\"], [0.1111111111111111, \"#46039f\"], [0.2222222222222222, \"#7201a8\"], [0.3333333333333333, \"#9c179e\"], [0.4444444444444444, \"#bd3786\"], [0.5555555555555556, \"#d8576b\"], [0.6666666666666666, \"#ed7953\"], [0.7777777777777778, \"#fb9f3a\"], [0.8888888888888888, \"#fdca26\"], [1.0, \"#f0f921\"]], \"type\": \"heatmapgl\"}], \"histogram\": [{\"marker\": {\"colorbar\": {\"outlinewidth\": 0, \"ticks\": \"\"}}, \"type\": \"histogram\"}], \"histogram2d\": [{\"colorbar\": {\"outlinewidth\": 0, \"ticks\": \"\"}, \"colorscale\": [[0.0, \"#0d0887\"], [0.1111111111111111, \"#46039f\"], [0.2222222222222222, \"#7201a8\"], [0.3333333333333333, \"#9c179e\"], [0.4444444444444444, \"#bd3786\"], [0.5555555555555556, \"#d8576b\"], [0.6666666666666666, \"#ed7953\"], [0.7777777777777778, \"#fb9f3a\"], [0.8888888888888888, \"#fdca26\"], [1.0, \"#f0f921\"]], \"type\": \"histogram2d\"}], \"histogram2dcontour\": [{\"colorbar\": {\"outlinewidth\": 0, \"ticks\": \"\"}, \"colorscale\": [[0.0, \"#0d0887\"], [0.1111111111111111, \"#46039f\"], [0.2222222222222222, \"#7201a8\"], [0.3333333333333333, \"#9c179e\"], [0.4444444444444444, \"#bd3786\"], [0.5555555555555556, \"#d8576b\"], [0.6666666666666666, \"#ed7953\"], [0.7777777777777778, \"#fb9f3a\"], [0.8888888888888888, \"#fdca26\"], [1.0, \"#f0f921\"]], \"type\": \"histogram2dcontour\"}], \"mesh3d\": [{\"colorbar\": {\"outlinewidth\": 0, \"ticks\": \"\"}, \"type\": \"mesh3d\"}], \"parcoords\": [{\"line\": {\"colorbar\": {\"outlinewidth\": 0, \"ticks\": \"\"}}, \"type\": \"parcoords\"}], \"pie\": [{\"automargin\": true, \"type\": \"pie\"}], \"scatter\": [{\"marker\": {\"colorbar\": {\"outlinewidth\": 0, \"ticks\": \"\"}}, \"type\": \"scatter\"}], \"scatter3d\": [{\"line\": {\"colorbar\": {\"outlinewidth\": 0, \"ticks\": \"\"}}, \"marker\": {\"colorbar\": {\"outlinewidth\": 0, \"ticks\": \"\"}}, \"type\": \"scatter3d\"}], \"scattercarpet\": [{\"marker\": {\"colorbar\": {\"outlinewidth\": 0, \"ticks\": \"\"}}, \"type\": \"scattercarpet\"}], \"scattergeo\": [{\"marker\": {\"colorbar\": {\"outlinewidth\": 0, \"ticks\": \"\"}}, \"type\": \"scattergeo\"}], \"scattergl\": [{\"marker\": {\"colorbar\": {\"outlinewidth\": 0, \"ticks\": \"\"}}, \"type\": \"scattergl\"}], \"scattermapbox\": [{\"marker\": {\"colorbar\": {\"outlinewidth\": 0, \"ticks\": \"\"}}, \"type\": \"scattermapbox\"}], \"scatterpolar\": [{\"marker\": {\"colorbar\": {\"outlinewidth\": 0, \"ticks\": \"\"}}, \"type\": \"scatterpolar\"}], \"scatterpolargl\": [{\"marker\": {\"colorbar\": {\"outlinewidth\": 0, \"ticks\": \"\"}}, \"type\": \"scatterpolargl\"}], \"scatterternary\": [{\"marker\": {\"colorbar\": {\"outlinewidth\": 0, \"ticks\": \"\"}}, \"type\": \"scatterternary\"}], \"surface\": [{\"colorbar\": {\"outlinewidth\": 0, \"ticks\": \"\"}, \"colorscale\": [[0.0, \"#0d0887\"], [0.1111111111111111, \"#46039f\"], [0.2222222222222222, \"#7201a8\"], [0.3333333333333333, \"#9c179e\"], [0.4444444444444444, \"#bd3786\"], [0.5555555555555556, \"#d8576b\"], [0.6666666666666666, \"#ed7953\"], [0.7777777777777778, \"#fb9f3a\"], [0.8888888888888888, \"#fdca26\"], [1.0, \"#f0f921\"]], \"type\": \"surface\"}], \"table\": [{\"cells\": {\"fill\": {\"color\": \"#EBF0F8\"}, \"line\": {\"color\": \"white\"}}, \"header\": {\"fill\": {\"color\": \"#C8D4E3\"}, \"line\": {\"color\": \"white\"}}, \"type\": \"table\"}]}, \"layout\": {\"annotationdefaults\": {\"arrowcolor\": \"#2a3f5f\", \"arrowhead\": 0, \"arrowwidth\": 1}, \"coloraxis\": {\"colorbar\": {\"outlinewidth\": 0, \"ticks\": \"\"}}, \"colorscale\": {\"diverging\": [[0, \"#8e0152\"], [0.1, \"#c51b7d\"], [0.2, \"#de77ae\"], [0.3, \"#f1b6da\"], [0.4, \"#fde0ef\"], [0.5, \"#f7f7f7\"], [0.6, \"#e6f5d0\"], [0.7, \"#b8e186\"], [0.8, \"#7fbc41\"], [0.9, \"#4d9221\"], [1, \"#276419\"]], \"sequential\": [[0.0, \"#0d0887\"], [0.1111111111111111, \"#46039f\"], [0.2222222222222222, \"#7201a8\"], [0.3333333333333333, \"#9c179e\"], [0.4444444444444444, \"#bd3786\"], [0.5555555555555556, \"#d8576b\"], [0.6666666666666666, \"#ed7953\"], [0.7777777777777778, \"#fb9f3a\"], [0.8888888888888888, \"#fdca26\"], [1.0, \"#f0f921\"]], \"sequentialminus\": [[0.0, \"#0d0887\"], [0.1111111111111111, \"#46039f\"], [0.2222222222222222, \"#7201a8\"], [0.3333333333333333, \"#9c179e\"], [0.4444444444444444, \"#bd3786\"], [0.5555555555555556, \"#d8576b\"], [0.6666666666666666, \"#ed7953\"], [0.7777777777777778, \"#fb9f3a\"], [0.8888888888888888, \"#fdca26\"], [1.0, \"#f0f921\"]]}, \"colorway\": [\"#636efa\", \"#EF553B\", \"#00cc96\", \"#ab63fa\", \"#FFA15A\", \"#19d3f3\", \"#FF6692\", \"#B6E880\", \"#FF97FF\", \"#FECB52\"], \"font\": {\"color\": \"#2a3f5f\"}, \"geo\": {\"bgcolor\": \"white\", \"lakecolor\": \"white\", \"landcolor\": \"#E5ECF6\", \"showlakes\": true, \"showland\": true, \"subunitcolor\": \"white\"}, \"hoverlabel\": {\"align\": \"left\"}, \"hovermode\": \"closest\", \"mapbox\": {\"style\": \"light\"}, \"paper_bgcolor\": \"white\", \"plot_bgcolor\": \"#E5ECF6\", \"polar\": {\"angularaxis\": {\"gridcolor\": \"white\", \"linecolor\": \"white\", \"ticks\": \"\"}, \"bgcolor\": \"#E5ECF6\", \"radialaxis\": {\"gridcolor\": \"white\", \"linecolor\": \"white\", \"ticks\": \"\"}}, \"scene\": {\"xaxis\": {\"backgroundcolor\": \"#E5ECF6\", \"gridcolor\": \"white\", \"gridwidth\": 2, \"linecolor\": \"white\", \"showbackground\": true, \"ticks\": \"\", \"zerolinecolor\": \"white\"}, \"yaxis\": {\"backgroundcolor\": \"#E5ECF6\", \"gridcolor\": \"white\", \"gridwidth\": 2, \"linecolor\": \"white\", \"showbackground\": true, \"ticks\": \"\", \"zerolinecolor\": \"white\"}, \"zaxis\": {\"backgroundcolor\": \"#E5ECF6\", \"gridcolor\": \"white\", \"gridwidth\": 2, \"linecolor\": \"white\", \"showbackground\": true, \"ticks\": \"\", \"zerolinecolor\": \"white\"}}, \"shapedefaults\": {\"line\": {\"color\": \"#2a3f5f\"}}, \"ternary\": {\"aaxis\": {\"gridcolor\": \"white\", \"linecolor\": \"white\", \"ticks\": \"\"}, \"baxis\": {\"gridcolor\": \"white\", \"linecolor\": \"white\", \"ticks\": \"\"}, \"bgcolor\": \"#E5ECF6\", \"caxis\": {\"gridcolor\": \"white\", \"linecolor\": \"white\", \"ticks\": \"\"}}, \"title\": {\"x\": 0.05}, \"xaxis\": {\"automargin\": true, \"gridcolor\": \"white\", \"linecolor\": \"white\", \"ticks\": \"\", \"title\": {\"standoff\": 15}, \"zerolinecolor\": \"white\", \"zerolinewidth\": 2}, \"yaxis\": {\"automargin\": true, \"gridcolor\": \"white\", \"linecolor\": \"white\", \"ticks\": \"\", \"title\": {\"standoff\": 15}, \"zerolinecolor\": \"white\", \"zerolinewidth\": 2}}}, \"title\": {\"font\": {\"color\": \"#4D5663\"}}, \"xaxis\": {\"gridcolor\": \"#E1E5ED\", \"showgrid\": true, \"tickfont\": {\"color\": \"#4D5663\"}, \"title\": {\"font\": {\"color\": \"#4D5663\"}, \"text\": \"\"}, \"zerolinecolor\": \"#E1E5ED\"}, \"yaxis\": {\"gridcolor\": \"#E1E5ED\", \"showgrid\": true, \"tickfont\": {\"color\": \"#4D5663\"}, \"title\": {\"font\": {\"color\": \"#4D5663\"}, \"text\": \"\"}, \"zerolinecolor\": \"#E1E5ED\"}},\n",
       "                        {\"showLink\": true, \"linkText\": \"Export to plot.ly\", \"plotlyServerURL\": \"https://plot.ly\", \"responsive\": true}\n",
       "                    ).then(function(){\n",
       "                            \n",
       "var gd = document.getElementById('3a147a92-867a-4f40-85c6-f0a5a3f7a87c');\n",
       "var x = new MutationObserver(function (mutations, observer) {{\n",
       "        var display = window.getComputedStyle(gd).display;\n",
       "        if (!display || display === 'none') {{\n",
       "            console.log([gd, 'removed!']);\n",
       "            Plotly.purge(gd);\n",
       "            observer.disconnect();\n",
       "        }}\n",
       "}});\n",
       "\n",
       "// Listen for the removal of the full notebook cells\n",
       "var notebookContainer = gd.closest('#notebook-container');\n",
       "if (notebookContainer) {{\n",
       "    x.observe(notebookContainer, {childList: true});\n",
       "}}\n",
       "\n",
       "// Listen for the clearing of the current output cell\n",
       "var outputEl = gd.closest('.output');\n",
       "if (outputEl) {{\n",
       "    x.observe(outputEl, {childList: true});\n",
       "}}\n",
       "\n",
       "                        })\n",
       "                };\n",
       "                });\n",
       "            </script>\n",
       "        </div>"
      ]
     },
     "metadata": {},
     "output_type": "display_data"
    }
   ],
   "source": [
    "df2.iplot(kind='bar',x='Category',y='Values')"
   ]
  },
  {
   "cell_type": "code",
   "execution_count": 23,
   "metadata": {},
   "outputs": [
    {
     "data": {
      "application/vnd.plotly.v1+json": {
       "config": {
        "linkText": "Export to plot.ly",
        "plotlyServerURL": "https://plot.ly",
        "showLink": true
       },
       "data": [
        {
         "boxpoints": false,
         "line": {
          "width": 1.3
         },
         "marker": {
          "color": "rgba(255, 153, 51, 1.0)"
         },
         "name": "A",
         "orientation": "v",
         "type": "box",
         "y": [
          0.19650022373258236,
          -1.9941460778502356,
          0.6626376887314555,
          -0.958327863418552,
          0.4231241777990569,
          0.7113678238984446,
          -0.09165347023463194,
          -1.3149597471701424,
          -1.3933206032441685,
          -0.5529960919904516,
          -1.232042488497158,
          1.0661400300358617,
          0.36496152149907735,
          0.12566632897650376,
          -0.4154383457317713,
          1.1145779823073672,
          1.512565868621305,
          0.1794830651348587,
          1.0343723418421487,
          2.7907567772555297,
          0.2998865268939037,
          -1.1158316023870536,
          -0.027602812843491573,
          -0.5298883887261153,
          1.0290623615134162,
          0.9827394564213197,
          -0.4455813047158554,
          0.2338813758270774,
          -0.02285208244483196,
          -0.8967539023754664,
          -1.4758756049165747,
          -0.8947207457648796,
          -0.07309580354724263,
          -0.7845742580993053,
          0.23876895288454827,
          0.9742961492985625,
          -0.033916672684154374,
          1.1196298171192591,
          -0.535731539283069,
          -0.3906973132685843,
          -0.8424290459415693,
          0.2792280254608758,
          -0.9286349945862502,
          -1.5063893605812446,
          1.8743143044827653,
          -0.651912761220479,
          -0.6218461636563343,
          0.835257171977975,
          -0.6112242584714845,
          0.3039624479311827,
          -1.4468041377380885,
          1.311224077205215,
          -0.7808300388541097,
          -0.7560423271045358,
          -0.5005366745377746,
          -0.8309774142243554,
          0.3162223512088091,
          -0.002041007732976193,
          -0.6113995211974071,
          -0.7775783612568149,
          -1.2475028820394487,
          1.217988302202804,
          -2.035103126115838,
          1.0642766469020115,
          0.20548427026076269,
          1.2143492963512488,
          -0.2852927776860206,
          1.124432516025142,
          1.6347521744859779,
          -1.7834783009007091,
          0.2841397399808306,
          -0.2089012383694685,
          0.16030754969303934,
          0.36365439104045916,
          1.19666648962708,
          1.0687355273258576,
          1.3397200048714657,
          -1.4253637092798235,
          -0.11768531861787762,
          1.093744468440918,
          -0.636974215744073,
          -0.3613674535797206,
          2.053369552369878,
          0.7116839450439921,
          0.21270413234870125,
          -0.7903526585716255,
          -0.5880588643865717,
          0.3927540327176958,
          1.006657100212194,
          0.4213663847261615,
          0.19051498346579346,
          -0.03139508418786326,
          -0.7817689753853478,
          0.11699032841973789,
          0.9873789930068373,
          0.3593178489481021,
          0.19807751375431895,
          0.16904863471663228,
          -0.8675517348746863,
          1.0632008929683778
         ]
        },
        {
         "boxpoints": false,
         "line": {
          "width": 1.3
         },
         "marker": {
          "color": "rgba(55, 128, 191, 1.0)"
         },
         "name": "B",
         "orientation": "v",
         "type": "box",
         "y": [
          -0.7167540505755027,
          -0.12909041323094617,
          0.22877681615439618,
          0.31882194562550403,
          0.4225554005693531,
          -1.6017150482952225,
          -0.2831684279736227,
          0.4322828011724924,
          1.255309714528344,
          0.8755230396176855,
          -0.6831456954439784,
          0.8110952397727162,
          -0.9166031195725972,
          0.3064369207186609,
          -2.0490989505187236,
          0.24906760614659623,
          0.39402324128552113,
          1.2780126859912582,
          -0.6505787538828152,
          -1.8518228676195427,
          -0.6746027652090811,
          -0.5161504692227723,
          0.2675518587457653,
          1.2710464229933724,
          1.2807012511537221,
          -0.813800981946473,
          0.9887296411556364,
          0.34779627811844277,
          1.0722640977196165,
          0.6433973284268374,
          0.40989450323414944,
          -1.4733258160007474,
          -0.9412466041115733,
          -0.10393012533579014,
          -0.6633454096051882,
          0.015757602282605216,
          1.9300001620261522,
          0.3233316683803168,
          1.392081529793989,
          1.4443614670956944,
          -0.19790878795053235,
          -0.5544650739226349,
          0.5810930100480569,
          -0.1905863676661684,
          0.6475117163062424,
          -0.4221535516573303,
          -0.9506756238745352,
          -0.3235691101756691,
          1.4337726924059773,
          -0.12164703421491174,
          -1.062327523237242,
          0.11695727946221875,
          -1.007567980517339,
          -3.098258736419873,
          1.235020540831101,
          0.08921425828329375,
          0.704599257819094,
          -1.9902654298561624,
          -1.3954712513866852,
          0.26963792912257833,
          0.24635411911346924,
          1.2620128885536703,
          1.1836800423064873,
          1.400217743322152,
          -0.8679652825501485,
          -0.7350983986807433,
          -2.069993960321671,
          -1.282928343846692,
          0.48351853758115854,
          0.6112862292452989,
          1.1036595971163061,
          -0.5462393578834953,
          -0.33009350560709183,
          -1.629830976151171,
          1.1731247238933304,
          -0.2389716755564296,
          0.10612143852848767,
          0.24536861497171922,
          -1.3303910676401658,
          -1.003306043921901,
          -0.4633435944966815,
          -0.022550288796635908,
          -1.012648189549336,
          -0.7750502400724303,
          -0.04569054422612893,
          -1.2199363247358548,
          -0.46624047284590303,
          -0.018410039343196544,
          0.6315535035946279,
          -0.6522499307304486,
          1.0430884953210082,
          -0.22480352941851106,
          -0.1484017345204255,
          -0.17236561194123814,
          -1.0275961625778565,
          0.819474611828162,
          1.1454383327596491,
          -1.2813189449037186,
          1.753594350607639,
          0.1766289971132849
         ]
        },
        {
         "boxpoints": false,
         "line": {
          "width": 1.3
         },
         "marker": {
          "color": "rgba(50, 171, 96, 1.0)"
         },
         "name": "C",
         "orientation": "v",
         "type": "box",
         "y": [
          0.20622876273106594,
          -1.7582658186110154,
          1.4969648432620881,
          -0.40657867926378977,
          1.1754382926242963,
          -1.3658457286532277,
          1.7304271824807045,
          0.9210670378195593,
          0.018536153324841338,
          -1.3053265208086002,
          0.8948835174263292,
          -0.9046451320147075,
          -0.6259190248888457,
          1.2599386480021038,
          0.013077683955397853,
          0.6798722793361448,
          -1.558151015284966,
          -0.678400753157479,
          0.40645450682141293,
          -1.7681206957487599,
          -1.1823300566295585,
          0.12044471170225582,
          -0.5759437193670766,
          -0.4782778980130167,
          0.8006787638594658,
          -0.3995816382995518,
          0.3719799766359585,
          0.45511605232163177,
          -0.2981312038552599,
          -0.3422409295806544,
          -1.5099816530748422,
          1.5594654795670082,
          0.38323229966132805,
          1.7559936574220256,
          0.4716137758822409,
          0.41398222117028377,
          0.7516244288447266,
          -0.8276126180427615,
          -0.8331636757462645,
          -2.0289526269137848,
          -0.1719540743163901,
          0.7060660905554883,
          -0.7480035478099717,
          0.10803639800458438,
          0.8368015456560084,
          -0.5398560104229473,
          -0.09363686742962193,
          -1.7245614127632307,
          -1.1561615962226712,
          1.3251435998718424,
          -0.06301171349649078,
          1.8871000709184729,
          -0.13045548140964353,
          -0.34615819598680553,
          -1.3147370878520375,
          -0.8550327054325254,
          1.1293722200174279,
          1.1120478010694546,
          1.2411615985025872,
          0.436363696278438,
          -0.4085453570183543,
          -0.5174649338270388,
          0.6847358639157233,
          0.195518110370209,
          0.49085497407584355,
          1.05466463532716,
          0.05629101238377474,
          2.071854496390022,
          -0.6042931635249521,
          -0.6853498467718027,
          -0.0009068095686971332,
          -0.12956732099735038,
          -0.22336632400404072,
          -0.283396072867283,
          -0.6425776848050261,
          0.1618564718941374,
          -0.7210807710831003,
          0.8460059149541216,
          -0.306617857501679,
          2.488109159805582,
          0.14856910804556547,
          1.7498181667323272,
          -1.0073476808783985,
          -1.3947093769604566,
          0.26308360838099903,
          -0.1665680808292545,
          1.522398432951192,
          -1.6776997614965026,
          0.6735306871847314,
          0.18419053161823734,
          0.5200692599146426,
          -0.36668720771838215,
          -1.2832201844922588,
          -0.17268525629315462,
          -0.8518939490336926,
          -0.7718894615673308,
          0.4294553382389916,
          1.1089994531932286,
          1.1726024821047942,
          0.7398346113115881
         ]
        },
        {
         "boxpoints": false,
         "line": {
          "width": 1.3
         },
         "marker": {
          "color": "rgba(128, 0, 128, 1.0)"
         },
         "name": "D",
         "orientation": "v",
         "type": "box",
         "y": [
          -0.505183837528164,
          -0.0276329219801729,
          -0.9063075245742348,
          0.19451494584850162,
          0.44901830076031013,
          -2.007703338660613,
          -0.1297734677004214,
          0.9278871126076236,
          0.2262394703311532,
          1.7987183107730271,
          1.5646802438302365,
          -0.7462365845788629,
          0.08568229363463313,
          -0.18592884003455212,
          1.689056586530158,
          -0.04284530382005643,
          1.558350099904935,
          0.5048452086815636,
          0.5137112673569676,
          2.090585346251317,
          0.8660329992889156,
          -1.098023318888969,
          -0.14996271561242672,
          0.11185457887145386,
          1.086802812279443,
          -0.4624890992824662,
          -1.355953933628624,
          -0.7820390303836555,
          -1.3773935469011958,
          0.4083286329725384,
          -0.14080901705025084,
          -0.4502111210451887,
          -0.004223835712109334,
          0.748127230155246,
          0.7936355298110129,
          1.4838053627725512,
          0.2067669984246998,
          0.7771102339809596,
          1.3804578000154384,
          0.8201211239253432,
          -1.351085749813894,
          -1.4133365180460378,
          -0.6115690849479227,
          -0.8878336842883038,
          -0.08424627838717429,
          0.9138469282694803,
          -1.0246405899433415,
          -0.8424777802141452,
          0.8282483419632345,
          -1.2046591639446385,
          0.3712505968905831,
          -0.6686622801935974,
          -0.9275466867602205,
          -0.8302902757272163,
          -1.3438834821775725,
          -0.6166413257716978,
          0.3141640162386474,
          -0.05075064310173611,
          0.7350294724082517,
          0.06218334613367416,
          -2.194951395344034,
          -1.1179842037676107,
          -0.12177572734257305,
          0.6429150116102603,
          -0.98207877416493,
          0.39046557417975947,
          -0.7329755436359863,
          -2.667276213857281,
          1.3664013700856121,
          0.6764338886337651,
          -1.0480130896248643,
          0.9613367285215236,
          0.42750990402040934,
          -0.29709998383450853,
          0.2835914692290397,
          0.42591860335936105,
          0.01844044587431985,
          -0.4148182824242851,
          0.38671775577926304,
          -1.465722489216768,
          1.060921112651931,
          -0.26342549483741046,
          -0.2640785213362949,
          0.888097724042476,
          0.2632089279727065,
          -0.5520278114936636,
          -0.27146734538056994,
          -0.18449113710418427,
          1.2564667521349653,
          0.6942329857010153,
          -0.3130156423041538,
          0.806609936012424,
          -0.020201071164758166,
          2.274636494169897,
          -0.0748684818098725,
          -1.8140994778789923,
          -0.22648946000572145,
          -0.8886647680304275,
          0.8289382664456802,
          0.04030063947334295
         ]
        }
       ],
       "layout": {
        "legend": {
         "bgcolor": "#F5F6F9",
         "font": {
          "color": "#4D5663"
         }
        },
        "paper_bgcolor": "#F5F6F9",
        "plot_bgcolor": "#F5F6F9",
        "template": {
         "data": {
          "bar": [
           {
            "error_x": {
             "color": "#2a3f5f"
            },
            "error_y": {
             "color": "#2a3f5f"
            },
            "marker": {
             "line": {
              "color": "#E5ECF6",
              "width": 0.5
             }
            },
            "type": "bar"
           }
          ],
          "barpolar": [
           {
            "marker": {
             "line": {
              "color": "#E5ECF6",
              "width": 0.5
             }
            },
            "type": "barpolar"
           }
          ],
          "carpet": [
           {
            "aaxis": {
             "endlinecolor": "#2a3f5f",
             "gridcolor": "white",
             "linecolor": "white",
             "minorgridcolor": "white",
             "startlinecolor": "#2a3f5f"
            },
            "baxis": {
             "endlinecolor": "#2a3f5f",
             "gridcolor": "white",
             "linecolor": "white",
             "minorgridcolor": "white",
             "startlinecolor": "#2a3f5f"
            },
            "type": "carpet"
           }
          ],
          "choropleth": [
           {
            "colorbar": {
             "outlinewidth": 0,
             "ticks": ""
            },
            "type": "choropleth"
           }
          ],
          "contour": [
           {
            "colorbar": {
             "outlinewidth": 0,
             "ticks": ""
            },
            "colorscale": [
             [
              0,
              "#0d0887"
             ],
             [
              0.1111111111111111,
              "#46039f"
             ],
             [
              0.2222222222222222,
              "#7201a8"
             ],
             [
              0.3333333333333333,
              "#9c179e"
             ],
             [
              0.4444444444444444,
              "#bd3786"
             ],
             [
              0.5555555555555556,
              "#d8576b"
             ],
             [
              0.6666666666666666,
              "#ed7953"
             ],
             [
              0.7777777777777778,
              "#fb9f3a"
             ],
             [
              0.8888888888888888,
              "#fdca26"
             ],
             [
              1,
              "#f0f921"
             ]
            ],
            "type": "contour"
           }
          ],
          "contourcarpet": [
           {
            "colorbar": {
             "outlinewidth": 0,
             "ticks": ""
            },
            "type": "contourcarpet"
           }
          ],
          "heatmap": [
           {
            "colorbar": {
             "outlinewidth": 0,
             "ticks": ""
            },
            "colorscale": [
             [
              0,
              "#0d0887"
             ],
             [
              0.1111111111111111,
              "#46039f"
             ],
             [
              0.2222222222222222,
              "#7201a8"
             ],
             [
              0.3333333333333333,
              "#9c179e"
             ],
             [
              0.4444444444444444,
              "#bd3786"
             ],
             [
              0.5555555555555556,
              "#d8576b"
             ],
             [
              0.6666666666666666,
              "#ed7953"
             ],
             [
              0.7777777777777778,
              "#fb9f3a"
             ],
             [
              0.8888888888888888,
              "#fdca26"
             ],
             [
              1,
              "#f0f921"
             ]
            ],
            "type": "heatmap"
           }
          ],
          "heatmapgl": [
           {
            "colorbar": {
             "outlinewidth": 0,
             "ticks": ""
            },
            "colorscale": [
             [
              0,
              "#0d0887"
             ],
             [
              0.1111111111111111,
              "#46039f"
             ],
             [
              0.2222222222222222,
              "#7201a8"
             ],
             [
              0.3333333333333333,
              "#9c179e"
             ],
             [
              0.4444444444444444,
              "#bd3786"
             ],
             [
              0.5555555555555556,
              "#d8576b"
             ],
             [
              0.6666666666666666,
              "#ed7953"
             ],
             [
              0.7777777777777778,
              "#fb9f3a"
             ],
             [
              0.8888888888888888,
              "#fdca26"
             ],
             [
              1,
              "#f0f921"
             ]
            ],
            "type": "heatmapgl"
           }
          ],
          "histogram": [
           {
            "marker": {
             "colorbar": {
              "outlinewidth": 0,
              "ticks": ""
             }
            },
            "type": "histogram"
           }
          ],
          "histogram2d": [
           {
            "colorbar": {
             "outlinewidth": 0,
             "ticks": ""
            },
            "colorscale": [
             [
              0,
              "#0d0887"
             ],
             [
              0.1111111111111111,
              "#46039f"
             ],
             [
              0.2222222222222222,
              "#7201a8"
             ],
             [
              0.3333333333333333,
              "#9c179e"
             ],
             [
              0.4444444444444444,
              "#bd3786"
             ],
             [
              0.5555555555555556,
              "#d8576b"
             ],
             [
              0.6666666666666666,
              "#ed7953"
             ],
             [
              0.7777777777777778,
              "#fb9f3a"
             ],
             [
              0.8888888888888888,
              "#fdca26"
             ],
             [
              1,
              "#f0f921"
             ]
            ],
            "type": "histogram2d"
           }
          ],
          "histogram2dcontour": [
           {
            "colorbar": {
             "outlinewidth": 0,
             "ticks": ""
            },
            "colorscale": [
             [
              0,
              "#0d0887"
             ],
             [
              0.1111111111111111,
              "#46039f"
             ],
             [
              0.2222222222222222,
              "#7201a8"
             ],
             [
              0.3333333333333333,
              "#9c179e"
             ],
             [
              0.4444444444444444,
              "#bd3786"
             ],
             [
              0.5555555555555556,
              "#d8576b"
             ],
             [
              0.6666666666666666,
              "#ed7953"
             ],
             [
              0.7777777777777778,
              "#fb9f3a"
             ],
             [
              0.8888888888888888,
              "#fdca26"
             ],
             [
              1,
              "#f0f921"
             ]
            ],
            "type": "histogram2dcontour"
           }
          ],
          "mesh3d": [
           {
            "colorbar": {
             "outlinewidth": 0,
             "ticks": ""
            },
            "type": "mesh3d"
           }
          ],
          "parcoords": [
           {
            "line": {
             "colorbar": {
              "outlinewidth": 0,
              "ticks": ""
             }
            },
            "type": "parcoords"
           }
          ],
          "pie": [
           {
            "automargin": true,
            "type": "pie"
           }
          ],
          "scatter": [
           {
            "marker": {
             "colorbar": {
              "outlinewidth": 0,
              "ticks": ""
             }
            },
            "type": "scatter"
           }
          ],
          "scatter3d": [
           {
            "line": {
             "colorbar": {
              "outlinewidth": 0,
              "ticks": ""
             }
            },
            "marker": {
             "colorbar": {
              "outlinewidth": 0,
              "ticks": ""
             }
            },
            "type": "scatter3d"
           }
          ],
          "scattercarpet": [
           {
            "marker": {
             "colorbar": {
              "outlinewidth": 0,
              "ticks": ""
             }
            },
            "type": "scattercarpet"
           }
          ],
          "scattergeo": [
           {
            "marker": {
             "colorbar": {
              "outlinewidth": 0,
              "ticks": ""
             }
            },
            "type": "scattergeo"
           }
          ],
          "scattergl": [
           {
            "marker": {
             "colorbar": {
              "outlinewidth": 0,
              "ticks": ""
             }
            },
            "type": "scattergl"
           }
          ],
          "scattermapbox": [
           {
            "marker": {
             "colorbar": {
              "outlinewidth": 0,
              "ticks": ""
             }
            },
            "type": "scattermapbox"
           }
          ],
          "scatterpolar": [
           {
            "marker": {
             "colorbar": {
              "outlinewidth": 0,
              "ticks": ""
             }
            },
            "type": "scatterpolar"
           }
          ],
          "scatterpolargl": [
           {
            "marker": {
             "colorbar": {
              "outlinewidth": 0,
              "ticks": ""
             }
            },
            "type": "scatterpolargl"
           }
          ],
          "scatterternary": [
           {
            "marker": {
             "colorbar": {
              "outlinewidth": 0,
              "ticks": ""
             }
            },
            "type": "scatterternary"
           }
          ],
          "surface": [
           {
            "colorbar": {
             "outlinewidth": 0,
             "ticks": ""
            },
            "colorscale": [
             [
              0,
              "#0d0887"
             ],
             [
              0.1111111111111111,
              "#46039f"
             ],
             [
              0.2222222222222222,
              "#7201a8"
             ],
             [
              0.3333333333333333,
              "#9c179e"
             ],
             [
              0.4444444444444444,
              "#bd3786"
             ],
             [
              0.5555555555555556,
              "#d8576b"
             ],
             [
              0.6666666666666666,
              "#ed7953"
             ],
             [
              0.7777777777777778,
              "#fb9f3a"
             ],
             [
              0.8888888888888888,
              "#fdca26"
             ],
             [
              1,
              "#f0f921"
             ]
            ],
            "type": "surface"
           }
          ],
          "table": [
           {
            "cells": {
             "fill": {
              "color": "#EBF0F8"
             },
             "line": {
              "color": "white"
             }
            },
            "header": {
             "fill": {
              "color": "#C8D4E3"
             },
             "line": {
              "color": "white"
             }
            },
            "type": "table"
           }
          ]
         },
         "layout": {
          "annotationdefaults": {
           "arrowcolor": "#2a3f5f",
           "arrowhead": 0,
           "arrowwidth": 1
          },
          "coloraxis": {
           "colorbar": {
            "outlinewidth": 0,
            "ticks": ""
           }
          },
          "colorscale": {
           "diverging": [
            [
             0,
             "#8e0152"
            ],
            [
             0.1,
             "#c51b7d"
            ],
            [
             0.2,
             "#de77ae"
            ],
            [
             0.3,
             "#f1b6da"
            ],
            [
             0.4,
             "#fde0ef"
            ],
            [
             0.5,
             "#f7f7f7"
            ],
            [
             0.6,
             "#e6f5d0"
            ],
            [
             0.7,
             "#b8e186"
            ],
            [
             0.8,
             "#7fbc41"
            ],
            [
             0.9,
             "#4d9221"
            ],
            [
             1,
             "#276419"
            ]
           ],
           "sequential": [
            [
             0,
             "#0d0887"
            ],
            [
             0.1111111111111111,
             "#46039f"
            ],
            [
             0.2222222222222222,
             "#7201a8"
            ],
            [
             0.3333333333333333,
             "#9c179e"
            ],
            [
             0.4444444444444444,
             "#bd3786"
            ],
            [
             0.5555555555555556,
             "#d8576b"
            ],
            [
             0.6666666666666666,
             "#ed7953"
            ],
            [
             0.7777777777777778,
             "#fb9f3a"
            ],
            [
             0.8888888888888888,
             "#fdca26"
            ],
            [
             1,
             "#f0f921"
            ]
           ],
           "sequentialminus": [
            [
             0,
             "#0d0887"
            ],
            [
             0.1111111111111111,
             "#46039f"
            ],
            [
             0.2222222222222222,
             "#7201a8"
            ],
            [
             0.3333333333333333,
             "#9c179e"
            ],
            [
             0.4444444444444444,
             "#bd3786"
            ],
            [
             0.5555555555555556,
             "#d8576b"
            ],
            [
             0.6666666666666666,
             "#ed7953"
            ],
            [
             0.7777777777777778,
             "#fb9f3a"
            ],
            [
             0.8888888888888888,
             "#fdca26"
            ],
            [
             1,
             "#f0f921"
            ]
           ]
          },
          "colorway": [
           "#636efa",
           "#EF553B",
           "#00cc96",
           "#ab63fa",
           "#FFA15A",
           "#19d3f3",
           "#FF6692",
           "#B6E880",
           "#FF97FF",
           "#FECB52"
          ],
          "font": {
           "color": "#2a3f5f"
          },
          "geo": {
           "bgcolor": "white",
           "lakecolor": "white",
           "landcolor": "#E5ECF6",
           "showlakes": true,
           "showland": true,
           "subunitcolor": "white"
          },
          "hoverlabel": {
           "align": "left"
          },
          "hovermode": "closest",
          "mapbox": {
           "style": "light"
          },
          "paper_bgcolor": "white",
          "plot_bgcolor": "#E5ECF6",
          "polar": {
           "angularaxis": {
            "gridcolor": "white",
            "linecolor": "white",
            "ticks": ""
           },
           "bgcolor": "#E5ECF6",
           "radialaxis": {
            "gridcolor": "white",
            "linecolor": "white",
            "ticks": ""
           }
          },
          "scene": {
           "xaxis": {
            "backgroundcolor": "#E5ECF6",
            "gridcolor": "white",
            "gridwidth": 2,
            "linecolor": "white",
            "showbackground": true,
            "ticks": "",
            "zerolinecolor": "white"
           },
           "yaxis": {
            "backgroundcolor": "#E5ECF6",
            "gridcolor": "white",
            "gridwidth": 2,
            "linecolor": "white",
            "showbackground": true,
            "ticks": "",
            "zerolinecolor": "white"
           },
           "zaxis": {
            "backgroundcolor": "#E5ECF6",
            "gridcolor": "white",
            "gridwidth": 2,
            "linecolor": "white",
            "showbackground": true,
            "ticks": "",
            "zerolinecolor": "white"
           }
          },
          "shapedefaults": {
           "line": {
            "color": "#2a3f5f"
           }
          },
          "ternary": {
           "aaxis": {
            "gridcolor": "white",
            "linecolor": "white",
            "ticks": ""
           },
           "baxis": {
            "gridcolor": "white",
            "linecolor": "white",
            "ticks": ""
           },
           "bgcolor": "#E5ECF6",
           "caxis": {
            "gridcolor": "white",
            "linecolor": "white",
            "ticks": ""
           }
          },
          "title": {
           "x": 0.05
          },
          "xaxis": {
           "automargin": true,
           "gridcolor": "white",
           "linecolor": "white",
           "ticks": "",
           "title": {
            "standoff": 15
           },
           "zerolinecolor": "white",
           "zerolinewidth": 2
          },
          "yaxis": {
           "automargin": true,
           "gridcolor": "white",
           "linecolor": "white",
           "ticks": "",
           "title": {
            "standoff": 15
           },
           "zerolinecolor": "white",
           "zerolinewidth": 2
          }
         }
        },
        "title": {
         "font": {
          "color": "#4D5663"
         }
        },
        "xaxis": {
         "gridcolor": "#E1E5ED",
         "showgrid": true,
         "tickfont": {
          "color": "#4D5663"
         },
         "title": {
          "font": {
           "color": "#4D5663"
          },
          "text": ""
         },
         "zerolinecolor": "#E1E5ED"
        },
        "yaxis": {
         "gridcolor": "#E1E5ED",
         "showgrid": true,
         "tickfont": {
          "color": "#4D5663"
         },
         "title": {
          "font": {
           "color": "#4D5663"
          },
          "text": ""
         },
         "zerolinecolor": "#E1E5ED"
        }
       }
      },
      "text/html": [
       "<div>\n",
       "        \n",
       "        \n",
       "            <div id=\"c1aa5989-009b-4c3b-b021-622a87d03829\" class=\"plotly-graph-div\" style=\"height:525px; width:100%;\"></div>\n",
       "            <script type=\"text/javascript\">\n",
       "                require([\"plotly\"], function(Plotly) {\n",
       "                    window.PLOTLYENV=window.PLOTLYENV || {};\n",
       "                    window.PLOTLYENV.BASE_URL='https://plot.ly';\n",
       "                    \n",
       "                if (document.getElementById(\"c1aa5989-009b-4c3b-b021-622a87d03829\")) {\n",
       "                    Plotly.newPlot(\n",
       "                        'c1aa5989-009b-4c3b-b021-622a87d03829',\n",
       "                        [{\"boxpoints\": false, \"line\": {\"width\": 1.3}, \"marker\": {\"color\": \"rgba(255, 153, 51, 1.0)\"}, \"name\": \"A\", \"orientation\": \"v\", \"type\": \"box\", \"y\": [0.19650022373258236, -1.9941460778502356, 0.6626376887314555, -0.958327863418552, 0.4231241777990569, 0.7113678238984446, -0.09165347023463194, -1.3149597471701424, -1.3933206032441685, -0.5529960919904516, -1.232042488497158, 1.0661400300358617, 0.36496152149907735, 0.12566632897650376, -0.4154383457317713, 1.1145779823073672, 1.512565868621305, 0.1794830651348587, 1.0343723418421487, 2.7907567772555297, 0.2998865268939037, -1.1158316023870536, -0.027602812843491573, -0.5298883887261153, 1.0290623615134162, 0.9827394564213197, -0.4455813047158554, 0.2338813758270774, -0.02285208244483196, -0.8967539023754664, -1.4758756049165747, -0.8947207457648796, -0.07309580354724263, -0.7845742580993053, 0.23876895288454827, 0.9742961492985625, -0.033916672684154374, 1.1196298171192591, -0.535731539283069, -0.3906973132685843, -0.8424290459415693, 0.2792280254608758, -0.9286349945862502, -1.5063893605812446, 1.8743143044827653, -0.651912761220479, -0.6218461636563343, 0.835257171977975, -0.6112242584714845, 0.3039624479311827, -1.4468041377380885, 1.311224077205215, -0.7808300388541097, -0.7560423271045358, -0.5005366745377746, -0.8309774142243554, 0.3162223512088091, -0.002041007732976193, -0.6113995211974071, -0.7775783612568149, -1.2475028820394487, 1.217988302202804, -2.035103126115838, 1.0642766469020115, 0.20548427026076269, 1.2143492963512488, -0.2852927776860206, 1.124432516025142, 1.6347521744859779, -1.7834783009007091, 0.2841397399808306, -0.2089012383694685, 0.16030754969303934, 0.36365439104045916, 1.19666648962708, 1.0687355273258576, 1.3397200048714657, -1.4253637092798235, -0.11768531861787762, 1.093744468440918, -0.636974215744073, -0.3613674535797206, 2.053369552369878, 0.7116839450439921, 0.21270413234870125, -0.7903526585716255, -0.5880588643865717, 0.3927540327176958, 1.006657100212194, 0.4213663847261615, 0.19051498346579346, -0.03139508418786326, -0.7817689753853478, 0.11699032841973789, 0.9873789930068373, 0.3593178489481021, 0.19807751375431895, 0.16904863471663228, -0.8675517348746863, 1.0632008929683778]}, {\"boxpoints\": false, \"line\": {\"width\": 1.3}, \"marker\": {\"color\": \"rgba(55, 128, 191, 1.0)\"}, \"name\": \"B\", \"orientation\": \"v\", \"type\": \"box\", \"y\": [-0.7167540505755027, -0.12909041323094617, 0.22877681615439618, 0.31882194562550403, 0.4225554005693531, -1.6017150482952225, -0.2831684279736227, 0.4322828011724924, 1.255309714528344, 0.8755230396176855, -0.6831456954439784, 0.8110952397727162, -0.9166031195725972, 0.3064369207186609, -2.0490989505187236, 0.24906760614659623, 0.39402324128552113, 1.2780126859912582, -0.6505787538828152, -1.8518228676195427, -0.6746027652090811, -0.5161504692227723, 0.2675518587457653, 1.2710464229933724, 1.2807012511537221, -0.813800981946473, 0.9887296411556364, 0.34779627811844277, 1.0722640977196165, 0.6433973284268374, 0.40989450323414944, -1.4733258160007474, -0.9412466041115733, -0.10393012533579014, -0.6633454096051882, 0.015757602282605216, 1.9300001620261522, 0.3233316683803168, 1.392081529793989, 1.4443614670956944, -0.19790878795053235, -0.5544650739226349, 0.5810930100480569, -0.1905863676661684, 0.6475117163062424, -0.4221535516573303, -0.9506756238745352, -0.3235691101756691, 1.4337726924059773, -0.12164703421491174, -1.062327523237242, 0.11695727946221875, -1.007567980517339, -3.098258736419873, 1.235020540831101, 0.08921425828329375, 0.704599257819094, -1.9902654298561624, -1.3954712513866852, 0.26963792912257833, 0.24635411911346924, 1.2620128885536703, 1.1836800423064873, 1.400217743322152, -0.8679652825501485, -0.7350983986807433, -2.069993960321671, -1.282928343846692, 0.48351853758115854, 0.6112862292452989, 1.1036595971163061, -0.5462393578834953, -0.33009350560709183, -1.629830976151171, 1.1731247238933304, -0.2389716755564296, 0.10612143852848767, 0.24536861497171922, -1.3303910676401658, -1.003306043921901, -0.4633435944966815, -0.022550288796635908, -1.012648189549336, -0.7750502400724303, -0.04569054422612893, -1.2199363247358548, -0.46624047284590303, -0.018410039343196544, 0.6315535035946279, -0.6522499307304486, 1.0430884953210082, -0.22480352941851106, -0.1484017345204255, -0.17236561194123814, -1.0275961625778565, 0.819474611828162, 1.1454383327596491, -1.2813189449037186, 1.753594350607639, 0.1766289971132849]}, {\"boxpoints\": false, \"line\": {\"width\": 1.3}, \"marker\": {\"color\": \"rgba(50, 171, 96, 1.0)\"}, \"name\": \"C\", \"orientation\": \"v\", \"type\": \"box\", \"y\": [0.20622876273106594, -1.7582658186110154, 1.4969648432620881, -0.40657867926378977, 1.1754382926242963, -1.3658457286532277, 1.7304271824807045, 0.9210670378195593, 0.018536153324841338, -1.3053265208086002, 0.8948835174263292, -0.9046451320147075, -0.6259190248888457, 1.2599386480021038, 0.013077683955397853, 0.6798722793361448, -1.558151015284966, -0.678400753157479, 0.40645450682141293, -1.7681206957487599, -1.1823300566295585, 0.12044471170225582, -0.5759437193670766, -0.4782778980130167, 0.8006787638594658, -0.3995816382995518, 0.3719799766359585, 0.45511605232163177, -0.2981312038552599, -0.3422409295806544, -1.5099816530748422, 1.5594654795670082, 0.38323229966132805, 1.7559936574220256, 0.4716137758822409, 0.41398222117028377, 0.7516244288447266, -0.8276126180427615, -0.8331636757462645, -2.0289526269137848, -0.1719540743163901, 0.7060660905554883, -0.7480035478099717, 0.10803639800458438, 0.8368015456560084, -0.5398560104229473, -0.09363686742962193, -1.7245614127632307, -1.1561615962226712, 1.3251435998718424, -0.06301171349649078, 1.8871000709184729, -0.13045548140964353, -0.34615819598680553, -1.3147370878520375, -0.8550327054325254, 1.1293722200174279, 1.1120478010694546, 1.2411615985025872, 0.436363696278438, -0.4085453570183543, -0.5174649338270388, 0.6847358639157233, 0.195518110370209, 0.49085497407584355, 1.05466463532716, 0.05629101238377474, 2.071854496390022, -0.6042931635249521, -0.6853498467718027, -0.0009068095686971332, -0.12956732099735038, -0.22336632400404072, -0.283396072867283, -0.6425776848050261, 0.1618564718941374, -0.7210807710831003, 0.8460059149541216, -0.306617857501679, 2.488109159805582, 0.14856910804556547, 1.7498181667323272, -1.0073476808783985, -1.3947093769604566, 0.26308360838099903, -0.1665680808292545, 1.522398432951192, -1.6776997614965026, 0.6735306871847314, 0.18419053161823734, 0.5200692599146426, -0.36668720771838215, -1.2832201844922588, -0.17268525629315462, -0.8518939490336926, -0.7718894615673308, 0.4294553382389916, 1.1089994531932286, 1.1726024821047942, 0.7398346113115881]}, {\"boxpoints\": false, \"line\": {\"width\": 1.3}, \"marker\": {\"color\": \"rgba(128, 0, 128, 1.0)\"}, \"name\": \"D\", \"orientation\": \"v\", \"type\": \"box\", \"y\": [-0.505183837528164, -0.0276329219801729, -0.9063075245742348, 0.19451494584850162, 0.44901830076031013, -2.007703338660613, -0.1297734677004214, 0.9278871126076236, 0.2262394703311532, 1.7987183107730271, 1.5646802438302365, -0.7462365845788629, 0.08568229363463313, -0.18592884003455212, 1.689056586530158, -0.04284530382005643, 1.558350099904935, 0.5048452086815636, 0.5137112673569676, 2.090585346251317, 0.8660329992889156, -1.098023318888969, -0.14996271561242672, 0.11185457887145386, 1.086802812279443, -0.4624890992824662, -1.355953933628624, -0.7820390303836555, -1.3773935469011958, 0.4083286329725384, -0.14080901705025084, -0.4502111210451887, -0.004223835712109334, 0.748127230155246, 0.7936355298110129, 1.4838053627725512, 0.2067669984246998, 0.7771102339809596, 1.3804578000154384, 0.8201211239253432, -1.351085749813894, -1.4133365180460378, -0.6115690849479227, -0.8878336842883038, -0.08424627838717429, 0.9138469282694803, -1.0246405899433415, -0.8424777802141452, 0.8282483419632345, -1.2046591639446385, 0.3712505968905831, -0.6686622801935974, -0.9275466867602205, -0.8302902757272163, -1.3438834821775725, -0.6166413257716978, 0.3141640162386474, -0.05075064310173611, 0.7350294724082517, 0.06218334613367416, -2.194951395344034, -1.1179842037676107, -0.12177572734257305, 0.6429150116102603, -0.98207877416493, 0.39046557417975947, -0.7329755436359863, -2.667276213857281, 1.3664013700856121, 0.6764338886337651, -1.0480130896248643, 0.9613367285215236, 0.42750990402040934, -0.29709998383450853, 0.2835914692290397, 0.42591860335936105, 0.01844044587431985, -0.4148182824242851, 0.38671775577926304, -1.465722489216768, 1.060921112651931, -0.26342549483741046, -0.2640785213362949, 0.888097724042476, 0.2632089279727065, -0.5520278114936636, -0.27146734538056994, -0.18449113710418427, 1.2564667521349653, 0.6942329857010153, -0.3130156423041538, 0.806609936012424, -0.020201071164758166, 2.274636494169897, -0.0748684818098725, -1.8140994778789923, -0.22648946000572145, -0.8886647680304275, 0.8289382664456802, 0.04030063947334295]}],\n",
       "                        {\"legend\": {\"bgcolor\": \"#F5F6F9\", \"font\": {\"color\": \"#4D5663\"}}, \"paper_bgcolor\": \"#F5F6F9\", \"plot_bgcolor\": \"#F5F6F9\", \"template\": {\"data\": {\"bar\": [{\"error_x\": {\"color\": \"#2a3f5f\"}, \"error_y\": {\"color\": \"#2a3f5f\"}, \"marker\": {\"line\": {\"color\": \"#E5ECF6\", \"width\": 0.5}}, \"type\": \"bar\"}], \"barpolar\": [{\"marker\": {\"line\": {\"color\": \"#E5ECF6\", \"width\": 0.5}}, \"type\": \"barpolar\"}], \"carpet\": [{\"aaxis\": {\"endlinecolor\": \"#2a3f5f\", \"gridcolor\": \"white\", \"linecolor\": \"white\", \"minorgridcolor\": \"white\", \"startlinecolor\": \"#2a3f5f\"}, \"baxis\": {\"endlinecolor\": \"#2a3f5f\", \"gridcolor\": \"white\", \"linecolor\": \"white\", \"minorgridcolor\": \"white\", \"startlinecolor\": \"#2a3f5f\"}, \"type\": \"carpet\"}], \"choropleth\": [{\"colorbar\": {\"outlinewidth\": 0, \"ticks\": \"\"}, \"type\": \"choropleth\"}], \"contour\": [{\"colorbar\": {\"outlinewidth\": 0, \"ticks\": \"\"}, \"colorscale\": [[0.0, \"#0d0887\"], [0.1111111111111111, \"#46039f\"], [0.2222222222222222, \"#7201a8\"], [0.3333333333333333, \"#9c179e\"], [0.4444444444444444, \"#bd3786\"], [0.5555555555555556, \"#d8576b\"], [0.6666666666666666, \"#ed7953\"], [0.7777777777777778, \"#fb9f3a\"], [0.8888888888888888, \"#fdca26\"], [1.0, \"#f0f921\"]], \"type\": \"contour\"}], \"contourcarpet\": [{\"colorbar\": {\"outlinewidth\": 0, \"ticks\": \"\"}, \"type\": \"contourcarpet\"}], \"heatmap\": [{\"colorbar\": {\"outlinewidth\": 0, \"ticks\": \"\"}, \"colorscale\": [[0.0, \"#0d0887\"], [0.1111111111111111, \"#46039f\"], [0.2222222222222222, \"#7201a8\"], [0.3333333333333333, \"#9c179e\"], [0.4444444444444444, \"#bd3786\"], [0.5555555555555556, \"#d8576b\"], [0.6666666666666666, \"#ed7953\"], [0.7777777777777778, \"#fb9f3a\"], [0.8888888888888888, \"#fdca26\"], [1.0, \"#f0f921\"]], \"type\": \"heatmap\"}], \"heatmapgl\": [{\"colorbar\": {\"outlinewidth\": 0, \"ticks\": \"\"}, \"colorscale\": [[0.0, \"#0d0887\"], [0.1111111111111111, \"#46039f\"], [0.2222222222222222, \"#7201a8\"], [0.3333333333333333, \"#9c179e\"], [0.4444444444444444, \"#bd3786\"], [0.5555555555555556, \"#d8576b\"], [0.6666666666666666, \"#ed7953\"], [0.7777777777777778, \"#fb9f3a\"], [0.8888888888888888, \"#fdca26\"], [1.0, \"#f0f921\"]], \"type\": \"heatmapgl\"}], \"histogram\": [{\"marker\": {\"colorbar\": {\"outlinewidth\": 0, \"ticks\": \"\"}}, \"type\": \"histogram\"}], \"histogram2d\": [{\"colorbar\": {\"outlinewidth\": 0, \"ticks\": \"\"}, \"colorscale\": [[0.0, \"#0d0887\"], [0.1111111111111111, \"#46039f\"], [0.2222222222222222, \"#7201a8\"], [0.3333333333333333, \"#9c179e\"], [0.4444444444444444, \"#bd3786\"], [0.5555555555555556, \"#d8576b\"], [0.6666666666666666, \"#ed7953\"], [0.7777777777777778, \"#fb9f3a\"], [0.8888888888888888, \"#fdca26\"], [1.0, \"#f0f921\"]], \"type\": \"histogram2d\"}], \"histogram2dcontour\": [{\"colorbar\": {\"outlinewidth\": 0, \"ticks\": \"\"}, \"colorscale\": [[0.0, \"#0d0887\"], [0.1111111111111111, \"#46039f\"], [0.2222222222222222, \"#7201a8\"], [0.3333333333333333, \"#9c179e\"], [0.4444444444444444, \"#bd3786\"], [0.5555555555555556, \"#d8576b\"], [0.6666666666666666, \"#ed7953\"], [0.7777777777777778, \"#fb9f3a\"], [0.8888888888888888, \"#fdca26\"], [1.0, \"#f0f921\"]], \"type\": \"histogram2dcontour\"}], \"mesh3d\": [{\"colorbar\": {\"outlinewidth\": 0, \"ticks\": \"\"}, \"type\": \"mesh3d\"}], \"parcoords\": [{\"line\": {\"colorbar\": {\"outlinewidth\": 0, \"ticks\": \"\"}}, \"type\": \"parcoords\"}], \"pie\": [{\"automargin\": true, \"type\": \"pie\"}], \"scatter\": [{\"marker\": {\"colorbar\": {\"outlinewidth\": 0, \"ticks\": \"\"}}, \"type\": \"scatter\"}], \"scatter3d\": [{\"line\": {\"colorbar\": {\"outlinewidth\": 0, \"ticks\": \"\"}}, \"marker\": {\"colorbar\": {\"outlinewidth\": 0, \"ticks\": \"\"}}, \"type\": \"scatter3d\"}], \"scattercarpet\": [{\"marker\": {\"colorbar\": {\"outlinewidth\": 0, \"ticks\": \"\"}}, \"type\": \"scattercarpet\"}], \"scattergeo\": [{\"marker\": {\"colorbar\": {\"outlinewidth\": 0, \"ticks\": \"\"}}, \"type\": \"scattergeo\"}], \"scattergl\": [{\"marker\": {\"colorbar\": {\"outlinewidth\": 0, \"ticks\": \"\"}}, \"type\": \"scattergl\"}], \"scattermapbox\": [{\"marker\": {\"colorbar\": {\"outlinewidth\": 0, \"ticks\": \"\"}}, \"type\": \"scattermapbox\"}], \"scatterpolar\": [{\"marker\": {\"colorbar\": {\"outlinewidth\": 0, \"ticks\": \"\"}}, \"type\": \"scatterpolar\"}], \"scatterpolargl\": [{\"marker\": {\"colorbar\": {\"outlinewidth\": 0, \"ticks\": \"\"}}, \"type\": \"scatterpolargl\"}], \"scatterternary\": [{\"marker\": {\"colorbar\": {\"outlinewidth\": 0, \"ticks\": \"\"}}, \"type\": \"scatterternary\"}], \"surface\": [{\"colorbar\": {\"outlinewidth\": 0, \"ticks\": \"\"}, \"colorscale\": [[0.0, \"#0d0887\"], [0.1111111111111111, \"#46039f\"], [0.2222222222222222, \"#7201a8\"], [0.3333333333333333, \"#9c179e\"], [0.4444444444444444, \"#bd3786\"], [0.5555555555555556, \"#d8576b\"], [0.6666666666666666, \"#ed7953\"], [0.7777777777777778, \"#fb9f3a\"], [0.8888888888888888, \"#fdca26\"], [1.0, \"#f0f921\"]], \"type\": \"surface\"}], \"table\": [{\"cells\": {\"fill\": {\"color\": \"#EBF0F8\"}, \"line\": {\"color\": \"white\"}}, \"header\": {\"fill\": {\"color\": \"#C8D4E3\"}, \"line\": {\"color\": \"white\"}}, \"type\": \"table\"}]}, \"layout\": {\"annotationdefaults\": {\"arrowcolor\": \"#2a3f5f\", \"arrowhead\": 0, \"arrowwidth\": 1}, \"coloraxis\": {\"colorbar\": {\"outlinewidth\": 0, \"ticks\": \"\"}}, \"colorscale\": {\"diverging\": [[0, \"#8e0152\"], [0.1, \"#c51b7d\"], [0.2, \"#de77ae\"], [0.3, \"#f1b6da\"], [0.4, \"#fde0ef\"], [0.5, \"#f7f7f7\"], [0.6, \"#e6f5d0\"], [0.7, \"#b8e186\"], [0.8, \"#7fbc41\"], [0.9, \"#4d9221\"], [1, \"#276419\"]], \"sequential\": [[0.0, \"#0d0887\"], [0.1111111111111111, \"#46039f\"], [0.2222222222222222, \"#7201a8\"], [0.3333333333333333, \"#9c179e\"], [0.4444444444444444, \"#bd3786\"], [0.5555555555555556, \"#d8576b\"], [0.6666666666666666, \"#ed7953\"], [0.7777777777777778, \"#fb9f3a\"], [0.8888888888888888, \"#fdca26\"], [1.0, \"#f0f921\"]], \"sequentialminus\": [[0.0, \"#0d0887\"], [0.1111111111111111, \"#46039f\"], [0.2222222222222222, \"#7201a8\"], [0.3333333333333333, \"#9c179e\"], [0.4444444444444444, \"#bd3786\"], [0.5555555555555556, \"#d8576b\"], [0.6666666666666666, \"#ed7953\"], [0.7777777777777778, \"#fb9f3a\"], [0.8888888888888888, \"#fdca26\"], [1.0, \"#f0f921\"]]}, \"colorway\": [\"#636efa\", \"#EF553B\", \"#00cc96\", \"#ab63fa\", \"#FFA15A\", \"#19d3f3\", \"#FF6692\", \"#B6E880\", \"#FF97FF\", \"#FECB52\"], \"font\": {\"color\": \"#2a3f5f\"}, \"geo\": {\"bgcolor\": \"white\", \"lakecolor\": \"white\", \"landcolor\": \"#E5ECF6\", \"showlakes\": true, \"showland\": true, \"subunitcolor\": \"white\"}, \"hoverlabel\": {\"align\": \"left\"}, \"hovermode\": \"closest\", \"mapbox\": {\"style\": \"light\"}, \"paper_bgcolor\": \"white\", \"plot_bgcolor\": \"#E5ECF6\", \"polar\": {\"angularaxis\": {\"gridcolor\": \"white\", \"linecolor\": \"white\", \"ticks\": \"\"}, \"bgcolor\": \"#E5ECF6\", \"radialaxis\": {\"gridcolor\": \"white\", \"linecolor\": \"white\", \"ticks\": \"\"}}, \"scene\": {\"xaxis\": {\"backgroundcolor\": \"#E5ECF6\", \"gridcolor\": \"white\", \"gridwidth\": 2, \"linecolor\": \"white\", \"showbackground\": true, \"ticks\": \"\", \"zerolinecolor\": \"white\"}, \"yaxis\": {\"backgroundcolor\": \"#E5ECF6\", \"gridcolor\": \"white\", \"gridwidth\": 2, \"linecolor\": \"white\", \"showbackground\": true, \"ticks\": \"\", \"zerolinecolor\": \"white\"}, \"zaxis\": {\"backgroundcolor\": \"#E5ECF6\", \"gridcolor\": \"white\", \"gridwidth\": 2, \"linecolor\": \"white\", \"showbackground\": true, \"ticks\": \"\", \"zerolinecolor\": \"white\"}}, \"shapedefaults\": {\"line\": {\"color\": \"#2a3f5f\"}}, \"ternary\": {\"aaxis\": {\"gridcolor\": \"white\", \"linecolor\": \"white\", \"ticks\": \"\"}, \"baxis\": {\"gridcolor\": \"white\", \"linecolor\": \"white\", \"ticks\": \"\"}, \"bgcolor\": \"#E5ECF6\", \"caxis\": {\"gridcolor\": \"white\", \"linecolor\": \"white\", \"ticks\": \"\"}}, \"title\": {\"x\": 0.05}, \"xaxis\": {\"automargin\": true, \"gridcolor\": \"white\", \"linecolor\": \"white\", \"ticks\": \"\", \"title\": {\"standoff\": 15}, \"zerolinecolor\": \"white\", \"zerolinewidth\": 2}, \"yaxis\": {\"automargin\": true, \"gridcolor\": \"white\", \"linecolor\": \"white\", \"ticks\": \"\", \"title\": {\"standoff\": 15}, \"zerolinecolor\": \"white\", \"zerolinewidth\": 2}}}, \"title\": {\"font\": {\"color\": \"#4D5663\"}}, \"xaxis\": {\"gridcolor\": \"#E1E5ED\", \"showgrid\": true, \"tickfont\": {\"color\": \"#4D5663\"}, \"title\": {\"font\": {\"color\": \"#4D5663\"}, \"text\": \"\"}, \"zerolinecolor\": \"#E1E5ED\"}, \"yaxis\": {\"gridcolor\": \"#E1E5ED\", \"showgrid\": true, \"tickfont\": {\"color\": \"#4D5663\"}, \"title\": {\"font\": {\"color\": \"#4D5663\"}, \"text\": \"\"}, \"zerolinecolor\": \"#E1E5ED\"}},\n",
       "                        {\"showLink\": true, \"linkText\": \"Export to plot.ly\", \"plotlyServerURL\": \"https://plot.ly\", \"responsive\": true}\n",
       "                    ).then(function(){\n",
       "                            \n",
       "var gd = document.getElementById('c1aa5989-009b-4c3b-b021-622a87d03829');\n",
       "var x = new MutationObserver(function (mutations, observer) {{\n",
       "        var display = window.getComputedStyle(gd).display;\n",
       "        if (!display || display === 'none') {{\n",
       "            console.log([gd, 'removed!']);\n",
       "            Plotly.purge(gd);\n",
       "            observer.disconnect();\n",
       "        }}\n",
       "}});\n",
       "\n",
       "// Listen for the removal of the full notebook cells\n",
       "var notebookContainer = gd.closest('#notebook-container');\n",
       "if (notebookContainer) {{\n",
       "    x.observe(notebookContainer, {childList: true});\n",
       "}}\n",
       "\n",
       "// Listen for the clearing of the current output cell\n",
       "var outputEl = gd.closest('.output');\n",
       "if (outputEl) {{\n",
       "    x.observe(outputEl, {childList: true});\n",
       "}}\n",
       "\n",
       "                        })\n",
       "                };\n",
       "                });\n",
       "            </script>\n",
       "        </div>"
      ]
     },
     "metadata": {},
     "output_type": "display_data"
    }
   ],
   "source": [
    "df.iplot(kind='box')"
   ]
  },
  {
   "cell_type": "code",
   "execution_count": 27,
   "metadata": {},
   "outputs": [],
   "source": [
    "df3 = pd.DataFrame({'x':[1,2,3,4,5],'y':[10,20,30,20,10],'z':[5,4,3,2,1]})"
   ]
  },
  {
   "cell_type": "code",
   "execution_count": 28,
   "metadata": {},
   "outputs": [
    {
     "data": {
      "text/html": [
       "<div>\n",
       "<style scoped>\n",
       "    .dataframe tbody tr th:only-of-type {\n",
       "        vertical-align: middle;\n",
       "    }\n",
       "\n",
       "    .dataframe tbody tr th {\n",
       "        vertical-align: top;\n",
       "    }\n",
       "\n",
       "    .dataframe thead th {\n",
       "        text-align: right;\n",
       "    }\n",
       "</style>\n",
       "<table border=\"1\" class=\"dataframe\">\n",
       "  <thead>\n",
       "    <tr style=\"text-align: right;\">\n",
       "      <th></th>\n",
       "      <th>x</th>\n",
       "      <th>y</th>\n",
       "      <th>z</th>\n",
       "    </tr>\n",
       "  </thead>\n",
       "  <tbody>\n",
       "    <tr>\n",
       "      <td>0</td>\n",
       "      <td>1</td>\n",
       "      <td>10</td>\n",
       "      <td>5</td>\n",
       "    </tr>\n",
       "    <tr>\n",
       "      <td>1</td>\n",
       "      <td>2</td>\n",
       "      <td>20</td>\n",
       "      <td>4</td>\n",
       "    </tr>\n",
       "    <tr>\n",
       "      <td>2</td>\n",
       "      <td>3</td>\n",
       "      <td>30</td>\n",
       "      <td>3</td>\n",
       "    </tr>\n",
       "    <tr>\n",
       "      <td>3</td>\n",
       "      <td>4</td>\n",
       "      <td>20</td>\n",
       "      <td>2</td>\n",
       "    </tr>\n",
       "    <tr>\n",
       "      <td>4</td>\n",
       "      <td>5</td>\n",
       "      <td>10</td>\n",
       "      <td>1</td>\n",
       "    </tr>\n",
       "  </tbody>\n",
       "</table>\n",
       "</div>"
      ],
      "text/plain": [
       "   x   y  z\n",
       "0  1  10  5\n",
       "1  2  20  4\n",
       "2  3  30  3\n",
       "3  4  20  2\n",
       "4  5  10  1"
      ]
     },
     "execution_count": 28,
     "metadata": {},
     "output_type": "execute_result"
    }
   ],
   "source": [
    "df3"
   ]
  },
  {
   "cell_type": "code",
   "execution_count": 29,
   "metadata": {},
   "outputs": [
    {
     "data": {
      "application/vnd.plotly.v1+json": {
       "config": {
        "linkText": "Export to plot.ly",
        "plotlyServerURL": "https://plot.ly",
        "showLink": true
       },
       "data": [
        {
         "colorscale": [
          [
           0,
           "rgb(255, 153, 51)"
          ],
          [
           0.1111111111111111,
           "rgb(55, 128, 191)"
          ],
          [
           0.2222222222222222,
           "rgb(50, 171, 96)"
          ],
          [
           0.3333333333333333,
           "rgb(128, 0, 128)"
          ],
          [
           0.4444444444444444,
           "rgb(219, 64, 82)"
          ],
          [
           0.5555555555555556,
           "rgb(0, 128, 128)"
          ],
          [
           0.6666666666666666,
           "rgb(255, 255, 51)"
          ],
          [
           0.7777777777777778,
           "rgb(128, 128, 0)"
          ],
          [
           0.8888888888888888,
           "rgb(251, 128, 114)"
          ],
          [
           1,
           "rgb(128, 177, 211)"
          ]
         ],
         "type": "surface",
         "x": [
          0,
          1,
          2,
          3,
          4
         ],
         "y": [
          "x",
          "y",
          "z"
         ],
         "z": [
          [
           1,
           2,
           3,
           4,
           5
          ],
          [
           10,
           20,
           30,
           20,
           10
          ],
          [
           5,
           4,
           3,
           2,
           1
          ]
         ]
        }
       ],
       "layout": {
        "legend": {
         "bgcolor": "#F5F6F9",
         "font": {
          "color": "#4D5663"
         }
        },
        "paper_bgcolor": "#F5F6F9",
        "plot_bgcolor": "#F5F6F9",
        "template": {
         "data": {
          "bar": [
           {
            "error_x": {
             "color": "#2a3f5f"
            },
            "error_y": {
             "color": "#2a3f5f"
            },
            "marker": {
             "line": {
              "color": "#E5ECF6",
              "width": 0.5
             }
            },
            "type": "bar"
           }
          ],
          "barpolar": [
           {
            "marker": {
             "line": {
              "color": "#E5ECF6",
              "width": 0.5
             }
            },
            "type": "barpolar"
           }
          ],
          "carpet": [
           {
            "aaxis": {
             "endlinecolor": "#2a3f5f",
             "gridcolor": "white",
             "linecolor": "white",
             "minorgridcolor": "white",
             "startlinecolor": "#2a3f5f"
            },
            "baxis": {
             "endlinecolor": "#2a3f5f",
             "gridcolor": "white",
             "linecolor": "white",
             "minorgridcolor": "white",
             "startlinecolor": "#2a3f5f"
            },
            "type": "carpet"
           }
          ],
          "choropleth": [
           {
            "colorbar": {
             "outlinewidth": 0,
             "ticks": ""
            },
            "type": "choropleth"
           }
          ],
          "contour": [
           {
            "colorbar": {
             "outlinewidth": 0,
             "ticks": ""
            },
            "colorscale": [
             [
              0,
              "#0d0887"
             ],
             [
              0.1111111111111111,
              "#46039f"
             ],
             [
              0.2222222222222222,
              "#7201a8"
             ],
             [
              0.3333333333333333,
              "#9c179e"
             ],
             [
              0.4444444444444444,
              "#bd3786"
             ],
             [
              0.5555555555555556,
              "#d8576b"
             ],
             [
              0.6666666666666666,
              "#ed7953"
             ],
             [
              0.7777777777777778,
              "#fb9f3a"
             ],
             [
              0.8888888888888888,
              "#fdca26"
             ],
             [
              1,
              "#f0f921"
             ]
            ],
            "type": "contour"
           }
          ],
          "contourcarpet": [
           {
            "colorbar": {
             "outlinewidth": 0,
             "ticks": ""
            },
            "type": "contourcarpet"
           }
          ],
          "heatmap": [
           {
            "colorbar": {
             "outlinewidth": 0,
             "ticks": ""
            },
            "colorscale": [
             [
              0,
              "#0d0887"
             ],
             [
              0.1111111111111111,
              "#46039f"
             ],
             [
              0.2222222222222222,
              "#7201a8"
             ],
             [
              0.3333333333333333,
              "#9c179e"
             ],
             [
              0.4444444444444444,
              "#bd3786"
             ],
             [
              0.5555555555555556,
              "#d8576b"
             ],
             [
              0.6666666666666666,
              "#ed7953"
             ],
             [
              0.7777777777777778,
              "#fb9f3a"
             ],
             [
              0.8888888888888888,
              "#fdca26"
             ],
             [
              1,
              "#f0f921"
             ]
            ],
            "type": "heatmap"
           }
          ],
          "heatmapgl": [
           {
            "colorbar": {
             "outlinewidth": 0,
             "ticks": ""
            },
            "colorscale": [
             [
              0,
              "#0d0887"
             ],
             [
              0.1111111111111111,
              "#46039f"
             ],
             [
              0.2222222222222222,
              "#7201a8"
             ],
             [
              0.3333333333333333,
              "#9c179e"
             ],
             [
              0.4444444444444444,
              "#bd3786"
             ],
             [
              0.5555555555555556,
              "#d8576b"
             ],
             [
              0.6666666666666666,
              "#ed7953"
             ],
             [
              0.7777777777777778,
              "#fb9f3a"
             ],
             [
              0.8888888888888888,
              "#fdca26"
             ],
             [
              1,
              "#f0f921"
             ]
            ],
            "type": "heatmapgl"
           }
          ],
          "histogram": [
           {
            "marker": {
             "colorbar": {
              "outlinewidth": 0,
              "ticks": ""
             }
            },
            "type": "histogram"
           }
          ],
          "histogram2d": [
           {
            "colorbar": {
             "outlinewidth": 0,
             "ticks": ""
            },
            "colorscale": [
             [
              0,
              "#0d0887"
             ],
             [
              0.1111111111111111,
              "#46039f"
             ],
             [
              0.2222222222222222,
              "#7201a8"
             ],
             [
              0.3333333333333333,
              "#9c179e"
             ],
             [
              0.4444444444444444,
              "#bd3786"
             ],
             [
              0.5555555555555556,
              "#d8576b"
             ],
             [
              0.6666666666666666,
              "#ed7953"
             ],
             [
              0.7777777777777778,
              "#fb9f3a"
             ],
             [
              0.8888888888888888,
              "#fdca26"
             ],
             [
              1,
              "#f0f921"
             ]
            ],
            "type": "histogram2d"
           }
          ],
          "histogram2dcontour": [
           {
            "colorbar": {
             "outlinewidth": 0,
             "ticks": ""
            },
            "colorscale": [
             [
              0,
              "#0d0887"
             ],
             [
              0.1111111111111111,
              "#46039f"
             ],
             [
              0.2222222222222222,
              "#7201a8"
             ],
             [
              0.3333333333333333,
              "#9c179e"
             ],
             [
              0.4444444444444444,
              "#bd3786"
             ],
             [
              0.5555555555555556,
              "#d8576b"
             ],
             [
              0.6666666666666666,
              "#ed7953"
             ],
             [
              0.7777777777777778,
              "#fb9f3a"
             ],
             [
              0.8888888888888888,
              "#fdca26"
             ],
             [
              1,
              "#f0f921"
             ]
            ],
            "type": "histogram2dcontour"
           }
          ],
          "mesh3d": [
           {
            "colorbar": {
             "outlinewidth": 0,
             "ticks": ""
            },
            "type": "mesh3d"
           }
          ],
          "parcoords": [
           {
            "line": {
             "colorbar": {
              "outlinewidth": 0,
              "ticks": ""
             }
            },
            "type": "parcoords"
           }
          ],
          "pie": [
           {
            "automargin": true,
            "type": "pie"
           }
          ],
          "scatter": [
           {
            "marker": {
             "colorbar": {
              "outlinewidth": 0,
              "ticks": ""
             }
            },
            "type": "scatter"
           }
          ],
          "scatter3d": [
           {
            "line": {
             "colorbar": {
              "outlinewidth": 0,
              "ticks": ""
             }
            },
            "marker": {
             "colorbar": {
              "outlinewidth": 0,
              "ticks": ""
             }
            },
            "type": "scatter3d"
           }
          ],
          "scattercarpet": [
           {
            "marker": {
             "colorbar": {
              "outlinewidth": 0,
              "ticks": ""
             }
            },
            "type": "scattercarpet"
           }
          ],
          "scattergeo": [
           {
            "marker": {
             "colorbar": {
              "outlinewidth": 0,
              "ticks": ""
             }
            },
            "type": "scattergeo"
           }
          ],
          "scattergl": [
           {
            "marker": {
             "colorbar": {
              "outlinewidth": 0,
              "ticks": ""
             }
            },
            "type": "scattergl"
           }
          ],
          "scattermapbox": [
           {
            "marker": {
             "colorbar": {
              "outlinewidth": 0,
              "ticks": ""
             }
            },
            "type": "scattermapbox"
           }
          ],
          "scatterpolar": [
           {
            "marker": {
             "colorbar": {
              "outlinewidth": 0,
              "ticks": ""
             }
            },
            "type": "scatterpolar"
           }
          ],
          "scatterpolargl": [
           {
            "marker": {
             "colorbar": {
              "outlinewidth": 0,
              "ticks": ""
             }
            },
            "type": "scatterpolargl"
           }
          ],
          "scatterternary": [
           {
            "marker": {
             "colorbar": {
              "outlinewidth": 0,
              "ticks": ""
             }
            },
            "type": "scatterternary"
           }
          ],
          "surface": [
           {
            "colorbar": {
             "outlinewidth": 0,
             "ticks": ""
            },
            "colorscale": [
             [
              0,
              "#0d0887"
             ],
             [
              0.1111111111111111,
              "#46039f"
             ],
             [
              0.2222222222222222,
              "#7201a8"
             ],
             [
              0.3333333333333333,
              "#9c179e"
             ],
             [
              0.4444444444444444,
              "#bd3786"
             ],
             [
              0.5555555555555556,
              "#d8576b"
             ],
             [
              0.6666666666666666,
              "#ed7953"
             ],
             [
              0.7777777777777778,
              "#fb9f3a"
             ],
             [
              0.8888888888888888,
              "#fdca26"
             ],
             [
              1,
              "#f0f921"
             ]
            ],
            "type": "surface"
           }
          ],
          "table": [
           {
            "cells": {
             "fill": {
              "color": "#EBF0F8"
             },
             "line": {
              "color": "white"
             }
            },
            "header": {
             "fill": {
              "color": "#C8D4E3"
             },
             "line": {
              "color": "white"
             }
            },
            "type": "table"
           }
          ]
         },
         "layout": {
          "annotationdefaults": {
           "arrowcolor": "#2a3f5f",
           "arrowhead": 0,
           "arrowwidth": 1
          },
          "coloraxis": {
           "colorbar": {
            "outlinewidth": 0,
            "ticks": ""
           }
          },
          "colorscale": {
           "diverging": [
            [
             0,
             "#8e0152"
            ],
            [
             0.1,
             "#c51b7d"
            ],
            [
             0.2,
             "#de77ae"
            ],
            [
             0.3,
             "#f1b6da"
            ],
            [
             0.4,
             "#fde0ef"
            ],
            [
             0.5,
             "#f7f7f7"
            ],
            [
             0.6,
             "#e6f5d0"
            ],
            [
             0.7,
             "#b8e186"
            ],
            [
             0.8,
             "#7fbc41"
            ],
            [
             0.9,
             "#4d9221"
            ],
            [
             1,
             "#276419"
            ]
           ],
           "sequential": [
            [
             0,
             "#0d0887"
            ],
            [
             0.1111111111111111,
             "#46039f"
            ],
            [
             0.2222222222222222,
             "#7201a8"
            ],
            [
             0.3333333333333333,
             "#9c179e"
            ],
            [
             0.4444444444444444,
             "#bd3786"
            ],
            [
             0.5555555555555556,
             "#d8576b"
            ],
            [
             0.6666666666666666,
             "#ed7953"
            ],
            [
             0.7777777777777778,
             "#fb9f3a"
            ],
            [
             0.8888888888888888,
             "#fdca26"
            ],
            [
             1,
             "#f0f921"
            ]
           ],
           "sequentialminus": [
            [
             0,
             "#0d0887"
            ],
            [
             0.1111111111111111,
             "#46039f"
            ],
            [
             0.2222222222222222,
             "#7201a8"
            ],
            [
             0.3333333333333333,
             "#9c179e"
            ],
            [
             0.4444444444444444,
             "#bd3786"
            ],
            [
             0.5555555555555556,
             "#d8576b"
            ],
            [
             0.6666666666666666,
             "#ed7953"
            ],
            [
             0.7777777777777778,
             "#fb9f3a"
            ],
            [
             0.8888888888888888,
             "#fdca26"
            ],
            [
             1,
             "#f0f921"
            ]
           ]
          },
          "colorway": [
           "#636efa",
           "#EF553B",
           "#00cc96",
           "#ab63fa",
           "#FFA15A",
           "#19d3f3",
           "#FF6692",
           "#B6E880",
           "#FF97FF",
           "#FECB52"
          ],
          "font": {
           "color": "#2a3f5f"
          },
          "geo": {
           "bgcolor": "white",
           "lakecolor": "white",
           "landcolor": "#E5ECF6",
           "showlakes": true,
           "showland": true,
           "subunitcolor": "white"
          },
          "hoverlabel": {
           "align": "left"
          },
          "hovermode": "closest",
          "mapbox": {
           "style": "light"
          },
          "paper_bgcolor": "white",
          "plot_bgcolor": "#E5ECF6",
          "polar": {
           "angularaxis": {
            "gridcolor": "white",
            "linecolor": "white",
            "ticks": ""
           },
           "bgcolor": "#E5ECF6",
           "radialaxis": {
            "gridcolor": "white",
            "linecolor": "white",
            "ticks": ""
           }
          },
          "scene": {
           "xaxis": {
            "backgroundcolor": "#E5ECF6",
            "gridcolor": "white",
            "gridwidth": 2,
            "linecolor": "white",
            "showbackground": true,
            "ticks": "",
            "zerolinecolor": "white"
           },
           "yaxis": {
            "backgroundcolor": "#E5ECF6",
            "gridcolor": "white",
            "gridwidth": 2,
            "linecolor": "white",
            "showbackground": true,
            "ticks": "",
            "zerolinecolor": "white"
           },
           "zaxis": {
            "backgroundcolor": "#E5ECF6",
            "gridcolor": "white",
            "gridwidth": 2,
            "linecolor": "white",
            "showbackground": true,
            "ticks": "",
            "zerolinecolor": "white"
           }
          },
          "shapedefaults": {
           "line": {
            "color": "#2a3f5f"
           }
          },
          "ternary": {
           "aaxis": {
            "gridcolor": "white",
            "linecolor": "white",
            "ticks": ""
           },
           "baxis": {
            "gridcolor": "white",
            "linecolor": "white",
            "ticks": ""
           },
           "bgcolor": "#E5ECF6",
           "caxis": {
            "gridcolor": "white",
            "linecolor": "white",
            "ticks": ""
           }
          },
          "title": {
           "x": 0.05
          },
          "xaxis": {
           "automargin": true,
           "gridcolor": "white",
           "linecolor": "white",
           "ticks": "",
           "title": {
            "standoff": 15
           },
           "zerolinecolor": "white",
           "zerolinewidth": 2
          },
          "yaxis": {
           "automargin": true,
           "gridcolor": "white",
           "linecolor": "white",
           "ticks": "",
           "title": {
            "standoff": 15
           },
           "zerolinecolor": "white",
           "zerolinewidth": 2
          }
         }
        },
        "title": {
         "font": {
          "color": "#4D5663"
         }
        },
        "xaxis": {
         "gridcolor": "#E1E5ED",
         "showgrid": true,
         "tickfont": {
          "color": "#4D5663"
         },
         "title": {
          "font": {
           "color": "#4D5663"
          },
          "text": ""
         },
         "zerolinecolor": "#E1E5ED"
        },
        "yaxis": {
         "gridcolor": "#E1E5ED",
         "showgrid": true,
         "tickfont": {
          "color": "#4D5663"
         },
         "title": {
          "font": {
           "color": "#4D5663"
          },
          "text": ""
         },
         "zerolinecolor": "#E1E5ED"
        }
       }
      },
      "text/html": [
       "<div>\n",
       "        \n",
       "        \n",
       "            <div id=\"396fc942-4750-4b01-9db0-bc04ced33328\" class=\"plotly-graph-div\" style=\"height:525px; width:100%;\"></div>\n",
       "            <script type=\"text/javascript\">\n",
       "                require([\"plotly\"], function(Plotly) {\n",
       "                    window.PLOTLYENV=window.PLOTLYENV || {};\n",
       "                    window.PLOTLYENV.BASE_URL='https://plot.ly';\n",
       "                    \n",
       "                if (document.getElementById(\"396fc942-4750-4b01-9db0-bc04ced33328\")) {\n",
       "                    Plotly.newPlot(\n",
       "                        '396fc942-4750-4b01-9db0-bc04ced33328',\n",
       "                        [{\"colorscale\": [[0.0, \"rgb(255, 153, 51)\"], [0.1111111111111111, \"rgb(55, 128, 191)\"], [0.2222222222222222, \"rgb(50, 171, 96)\"], [0.3333333333333333, \"rgb(128, 0, 128)\"], [0.4444444444444444, \"rgb(219, 64, 82)\"], [0.5555555555555556, \"rgb(0, 128, 128)\"], [0.6666666666666666, \"rgb(255, 255, 51)\"], [0.7777777777777778, \"rgb(128, 128, 0)\"], [0.8888888888888888, \"rgb(251, 128, 114)\"], [1.0, \"rgb(128, 177, 211)\"]], \"type\": \"surface\", \"x\": [0, 1, 2, 3, 4], \"y\": [\"x\", \"y\", \"z\"], \"z\": [[1, 2, 3, 4, 5], [10, 20, 30, 20, 10], [5, 4, 3, 2, 1]]}],\n",
       "                        {\"legend\": {\"bgcolor\": \"#F5F6F9\", \"font\": {\"color\": \"#4D5663\"}}, \"paper_bgcolor\": \"#F5F6F9\", \"plot_bgcolor\": \"#F5F6F9\", \"template\": {\"data\": {\"bar\": [{\"error_x\": {\"color\": \"#2a3f5f\"}, \"error_y\": {\"color\": \"#2a3f5f\"}, \"marker\": {\"line\": {\"color\": \"#E5ECF6\", \"width\": 0.5}}, \"type\": \"bar\"}], \"barpolar\": [{\"marker\": {\"line\": {\"color\": \"#E5ECF6\", \"width\": 0.5}}, \"type\": \"barpolar\"}], \"carpet\": [{\"aaxis\": {\"endlinecolor\": \"#2a3f5f\", \"gridcolor\": \"white\", \"linecolor\": \"white\", \"minorgridcolor\": \"white\", \"startlinecolor\": \"#2a3f5f\"}, \"baxis\": {\"endlinecolor\": \"#2a3f5f\", \"gridcolor\": \"white\", \"linecolor\": \"white\", \"minorgridcolor\": \"white\", \"startlinecolor\": \"#2a3f5f\"}, \"type\": \"carpet\"}], \"choropleth\": [{\"colorbar\": {\"outlinewidth\": 0, \"ticks\": \"\"}, \"type\": \"choropleth\"}], \"contour\": [{\"colorbar\": {\"outlinewidth\": 0, \"ticks\": \"\"}, \"colorscale\": [[0.0, \"#0d0887\"], [0.1111111111111111, \"#46039f\"], [0.2222222222222222, \"#7201a8\"], [0.3333333333333333, \"#9c179e\"], [0.4444444444444444, \"#bd3786\"], [0.5555555555555556, \"#d8576b\"], [0.6666666666666666, \"#ed7953\"], [0.7777777777777778, \"#fb9f3a\"], [0.8888888888888888, \"#fdca26\"], [1.0, \"#f0f921\"]], \"type\": \"contour\"}], \"contourcarpet\": [{\"colorbar\": {\"outlinewidth\": 0, \"ticks\": \"\"}, \"type\": \"contourcarpet\"}], \"heatmap\": [{\"colorbar\": {\"outlinewidth\": 0, \"ticks\": \"\"}, \"colorscale\": [[0.0, \"#0d0887\"], [0.1111111111111111, \"#46039f\"], [0.2222222222222222, \"#7201a8\"], [0.3333333333333333, \"#9c179e\"], [0.4444444444444444, \"#bd3786\"], [0.5555555555555556, \"#d8576b\"], [0.6666666666666666, \"#ed7953\"], [0.7777777777777778, \"#fb9f3a\"], [0.8888888888888888, \"#fdca26\"], [1.0, \"#f0f921\"]], \"type\": \"heatmap\"}], \"heatmapgl\": [{\"colorbar\": {\"outlinewidth\": 0, \"ticks\": \"\"}, \"colorscale\": [[0.0, \"#0d0887\"], [0.1111111111111111, \"#46039f\"], [0.2222222222222222, \"#7201a8\"], [0.3333333333333333, \"#9c179e\"], [0.4444444444444444, \"#bd3786\"], [0.5555555555555556, \"#d8576b\"], [0.6666666666666666, \"#ed7953\"], [0.7777777777777778, \"#fb9f3a\"], [0.8888888888888888, \"#fdca26\"], [1.0, \"#f0f921\"]], \"type\": \"heatmapgl\"}], \"histogram\": [{\"marker\": {\"colorbar\": {\"outlinewidth\": 0, \"ticks\": \"\"}}, \"type\": \"histogram\"}], \"histogram2d\": [{\"colorbar\": {\"outlinewidth\": 0, \"ticks\": \"\"}, \"colorscale\": [[0.0, \"#0d0887\"], [0.1111111111111111, \"#46039f\"], [0.2222222222222222, \"#7201a8\"], [0.3333333333333333, \"#9c179e\"], [0.4444444444444444, \"#bd3786\"], [0.5555555555555556, \"#d8576b\"], [0.6666666666666666, \"#ed7953\"], [0.7777777777777778, \"#fb9f3a\"], [0.8888888888888888, \"#fdca26\"], [1.0, \"#f0f921\"]], \"type\": \"histogram2d\"}], \"histogram2dcontour\": [{\"colorbar\": {\"outlinewidth\": 0, \"ticks\": \"\"}, \"colorscale\": [[0.0, \"#0d0887\"], [0.1111111111111111, \"#46039f\"], [0.2222222222222222, \"#7201a8\"], [0.3333333333333333, \"#9c179e\"], [0.4444444444444444, \"#bd3786\"], [0.5555555555555556, \"#d8576b\"], [0.6666666666666666, \"#ed7953\"], [0.7777777777777778, \"#fb9f3a\"], [0.8888888888888888, \"#fdca26\"], [1.0, \"#f0f921\"]], \"type\": \"histogram2dcontour\"}], \"mesh3d\": [{\"colorbar\": {\"outlinewidth\": 0, \"ticks\": \"\"}, \"type\": \"mesh3d\"}], \"parcoords\": [{\"line\": {\"colorbar\": {\"outlinewidth\": 0, \"ticks\": \"\"}}, \"type\": \"parcoords\"}], \"pie\": [{\"automargin\": true, \"type\": \"pie\"}], \"scatter\": [{\"marker\": {\"colorbar\": {\"outlinewidth\": 0, \"ticks\": \"\"}}, \"type\": \"scatter\"}], \"scatter3d\": [{\"line\": {\"colorbar\": {\"outlinewidth\": 0, \"ticks\": \"\"}}, \"marker\": {\"colorbar\": {\"outlinewidth\": 0, \"ticks\": \"\"}}, \"type\": \"scatter3d\"}], \"scattercarpet\": [{\"marker\": {\"colorbar\": {\"outlinewidth\": 0, \"ticks\": \"\"}}, \"type\": \"scattercarpet\"}], \"scattergeo\": [{\"marker\": {\"colorbar\": {\"outlinewidth\": 0, \"ticks\": \"\"}}, \"type\": \"scattergeo\"}], \"scattergl\": [{\"marker\": {\"colorbar\": {\"outlinewidth\": 0, \"ticks\": \"\"}}, \"type\": \"scattergl\"}], \"scattermapbox\": [{\"marker\": {\"colorbar\": {\"outlinewidth\": 0, \"ticks\": \"\"}}, \"type\": \"scattermapbox\"}], \"scatterpolar\": [{\"marker\": {\"colorbar\": {\"outlinewidth\": 0, \"ticks\": \"\"}}, \"type\": \"scatterpolar\"}], \"scatterpolargl\": [{\"marker\": {\"colorbar\": {\"outlinewidth\": 0, \"ticks\": \"\"}}, \"type\": \"scatterpolargl\"}], \"scatterternary\": [{\"marker\": {\"colorbar\": {\"outlinewidth\": 0, \"ticks\": \"\"}}, \"type\": \"scatterternary\"}], \"surface\": [{\"colorbar\": {\"outlinewidth\": 0, \"ticks\": \"\"}, \"colorscale\": [[0.0, \"#0d0887\"], [0.1111111111111111, \"#46039f\"], [0.2222222222222222, \"#7201a8\"], [0.3333333333333333, \"#9c179e\"], [0.4444444444444444, \"#bd3786\"], [0.5555555555555556, \"#d8576b\"], [0.6666666666666666, \"#ed7953\"], [0.7777777777777778, \"#fb9f3a\"], [0.8888888888888888, \"#fdca26\"], [1.0, \"#f0f921\"]], \"type\": \"surface\"}], \"table\": [{\"cells\": {\"fill\": {\"color\": \"#EBF0F8\"}, \"line\": {\"color\": \"white\"}}, \"header\": {\"fill\": {\"color\": \"#C8D4E3\"}, \"line\": {\"color\": \"white\"}}, \"type\": \"table\"}]}, \"layout\": {\"annotationdefaults\": {\"arrowcolor\": \"#2a3f5f\", \"arrowhead\": 0, \"arrowwidth\": 1}, \"coloraxis\": {\"colorbar\": {\"outlinewidth\": 0, \"ticks\": \"\"}}, \"colorscale\": {\"diverging\": [[0, \"#8e0152\"], [0.1, \"#c51b7d\"], [0.2, \"#de77ae\"], [0.3, \"#f1b6da\"], [0.4, \"#fde0ef\"], [0.5, \"#f7f7f7\"], [0.6, \"#e6f5d0\"], [0.7, \"#b8e186\"], [0.8, \"#7fbc41\"], [0.9, \"#4d9221\"], [1, \"#276419\"]], \"sequential\": [[0.0, \"#0d0887\"], [0.1111111111111111, \"#46039f\"], [0.2222222222222222, \"#7201a8\"], [0.3333333333333333, \"#9c179e\"], [0.4444444444444444, \"#bd3786\"], [0.5555555555555556, \"#d8576b\"], [0.6666666666666666, \"#ed7953\"], [0.7777777777777778, \"#fb9f3a\"], [0.8888888888888888, \"#fdca26\"], [1.0, \"#f0f921\"]], \"sequentialminus\": [[0.0, \"#0d0887\"], [0.1111111111111111, \"#46039f\"], [0.2222222222222222, \"#7201a8\"], [0.3333333333333333, \"#9c179e\"], [0.4444444444444444, \"#bd3786\"], [0.5555555555555556, \"#d8576b\"], [0.6666666666666666, \"#ed7953\"], [0.7777777777777778, \"#fb9f3a\"], [0.8888888888888888, \"#fdca26\"], [1.0, \"#f0f921\"]]}, \"colorway\": [\"#636efa\", \"#EF553B\", \"#00cc96\", \"#ab63fa\", \"#FFA15A\", \"#19d3f3\", \"#FF6692\", \"#B6E880\", \"#FF97FF\", \"#FECB52\"], \"font\": {\"color\": \"#2a3f5f\"}, \"geo\": {\"bgcolor\": \"white\", \"lakecolor\": \"white\", \"landcolor\": \"#E5ECF6\", \"showlakes\": true, \"showland\": true, \"subunitcolor\": \"white\"}, \"hoverlabel\": {\"align\": \"left\"}, \"hovermode\": \"closest\", \"mapbox\": {\"style\": \"light\"}, \"paper_bgcolor\": \"white\", \"plot_bgcolor\": \"#E5ECF6\", \"polar\": {\"angularaxis\": {\"gridcolor\": \"white\", \"linecolor\": \"white\", \"ticks\": \"\"}, \"bgcolor\": \"#E5ECF6\", \"radialaxis\": {\"gridcolor\": \"white\", \"linecolor\": \"white\", \"ticks\": \"\"}}, \"scene\": {\"xaxis\": {\"backgroundcolor\": \"#E5ECF6\", \"gridcolor\": \"white\", \"gridwidth\": 2, \"linecolor\": \"white\", \"showbackground\": true, \"ticks\": \"\", \"zerolinecolor\": \"white\"}, \"yaxis\": {\"backgroundcolor\": \"#E5ECF6\", \"gridcolor\": \"white\", \"gridwidth\": 2, \"linecolor\": \"white\", \"showbackground\": true, \"ticks\": \"\", \"zerolinecolor\": \"white\"}, \"zaxis\": {\"backgroundcolor\": \"#E5ECF6\", \"gridcolor\": \"white\", \"gridwidth\": 2, \"linecolor\": \"white\", \"showbackground\": true, \"ticks\": \"\", \"zerolinecolor\": \"white\"}}, \"shapedefaults\": {\"line\": {\"color\": \"#2a3f5f\"}}, \"ternary\": {\"aaxis\": {\"gridcolor\": \"white\", \"linecolor\": \"white\", \"ticks\": \"\"}, \"baxis\": {\"gridcolor\": \"white\", \"linecolor\": \"white\", \"ticks\": \"\"}, \"bgcolor\": \"#E5ECF6\", \"caxis\": {\"gridcolor\": \"white\", \"linecolor\": \"white\", \"ticks\": \"\"}}, \"title\": {\"x\": 0.05}, \"xaxis\": {\"automargin\": true, \"gridcolor\": \"white\", \"linecolor\": \"white\", \"ticks\": \"\", \"title\": {\"standoff\": 15}, \"zerolinecolor\": \"white\", \"zerolinewidth\": 2}, \"yaxis\": {\"automargin\": true, \"gridcolor\": \"white\", \"linecolor\": \"white\", \"ticks\": \"\", \"title\": {\"standoff\": 15}, \"zerolinecolor\": \"white\", \"zerolinewidth\": 2}}}, \"title\": {\"font\": {\"color\": \"#4D5663\"}}, \"xaxis\": {\"gridcolor\": \"#E1E5ED\", \"showgrid\": true, \"tickfont\": {\"color\": \"#4D5663\"}, \"title\": {\"font\": {\"color\": \"#4D5663\"}, \"text\": \"\"}, \"zerolinecolor\": \"#E1E5ED\"}, \"yaxis\": {\"gridcolor\": \"#E1E5ED\", \"showgrid\": true, \"tickfont\": {\"color\": \"#4D5663\"}, \"title\": {\"font\": {\"color\": \"#4D5663\"}, \"text\": \"\"}, \"zerolinecolor\": \"#E1E5ED\"}},\n",
       "                        {\"showLink\": true, \"linkText\": \"Export to plot.ly\", \"plotlyServerURL\": \"https://plot.ly\", \"responsive\": true}\n",
       "                    ).then(function(){\n",
       "                            \n",
       "var gd = document.getElementById('396fc942-4750-4b01-9db0-bc04ced33328');\n",
       "var x = new MutationObserver(function (mutations, observer) {{\n",
       "        var display = window.getComputedStyle(gd).display;\n",
       "        if (!display || display === 'none') {{\n",
       "            console.log([gd, 'removed!']);\n",
       "            Plotly.purge(gd);\n",
       "            observer.disconnect();\n",
       "        }}\n",
       "}});\n",
       "\n",
       "// Listen for the removal of the full notebook cells\n",
       "var notebookContainer = gd.closest('#notebook-container');\n",
       "if (notebookContainer) {{\n",
       "    x.observe(notebookContainer, {childList: true});\n",
       "}}\n",
       "\n",
       "// Listen for the clearing of the current output cell\n",
       "var outputEl = gd.closest('.output');\n",
       "if (outputEl) {{\n",
       "    x.observe(outputEl, {childList: true});\n",
       "}}\n",
       "\n",
       "                        })\n",
       "                };\n",
       "                });\n",
       "            </script>\n",
       "        </div>"
      ]
     },
     "metadata": {},
     "output_type": "display_data"
    }
   ],
   "source": [
    "df3.iplot(kind='surface')"
   ]
  },
  {
   "cell_type": "code",
   "execution_count": 30,
   "metadata": {},
   "outputs": [
    {
     "data": {
      "application/vnd.plotly.v1+json": {
       "config": {
        "linkText": "Export to plot.ly",
        "plotlyServerURL": "https://plot.ly",
        "showLink": true
       },
       "data": [
        {
         "histfunc": "count",
         "histnorm": "",
         "marker": {
          "color": "rgba(255, 153, 51, 1.0)",
          "line": {
           "color": "#4D5663",
           "width": 1.3
          }
         },
         "name": "A",
         "opacity": 0.8,
         "orientation": "v",
         "type": "histogram",
         "x": [
          0.19650022373258236,
          -1.9941460778502356,
          0.6626376887314555,
          -0.958327863418552,
          0.4231241777990569,
          0.7113678238984446,
          -0.09165347023463194,
          -1.3149597471701424,
          -1.3933206032441685,
          -0.5529960919904516,
          -1.232042488497158,
          1.0661400300358617,
          0.36496152149907735,
          0.12566632897650376,
          -0.4154383457317713,
          1.1145779823073672,
          1.512565868621305,
          0.1794830651348587,
          1.0343723418421487,
          2.7907567772555297,
          0.2998865268939037,
          -1.1158316023870536,
          -0.027602812843491573,
          -0.5298883887261153,
          1.0290623615134162,
          0.9827394564213197,
          -0.4455813047158554,
          0.2338813758270774,
          -0.02285208244483196,
          -0.8967539023754664,
          -1.4758756049165747,
          -0.8947207457648796,
          -0.07309580354724263,
          -0.7845742580993053,
          0.23876895288454827,
          0.9742961492985625,
          -0.033916672684154374,
          1.1196298171192591,
          -0.535731539283069,
          -0.3906973132685843,
          -0.8424290459415693,
          0.2792280254608758,
          -0.9286349945862502,
          -1.5063893605812446,
          1.8743143044827653,
          -0.651912761220479,
          -0.6218461636563343,
          0.835257171977975,
          -0.6112242584714845,
          0.3039624479311827,
          -1.4468041377380885,
          1.311224077205215,
          -0.7808300388541097,
          -0.7560423271045358,
          -0.5005366745377746,
          -0.8309774142243554,
          0.3162223512088091,
          -0.002041007732976193,
          -0.6113995211974071,
          -0.7775783612568149,
          -1.2475028820394487,
          1.217988302202804,
          -2.035103126115838,
          1.0642766469020115,
          0.20548427026076269,
          1.2143492963512488,
          -0.2852927776860206,
          1.124432516025142,
          1.6347521744859779,
          -1.7834783009007091,
          0.2841397399808306,
          -0.2089012383694685,
          0.16030754969303934,
          0.36365439104045916,
          1.19666648962708,
          1.0687355273258576,
          1.3397200048714657,
          -1.4253637092798235,
          -0.11768531861787762,
          1.093744468440918,
          -0.636974215744073,
          -0.3613674535797206,
          2.053369552369878,
          0.7116839450439921,
          0.21270413234870125,
          -0.7903526585716255,
          -0.5880588643865717,
          0.3927540327176958,
          1.006657100212194,
          0.4213663847261615,
          0.19051498346579346,
          -0.03139508418786326,
          -0.7817689753853478,
          0.11699032841973789,
          0.9873789930068373,
          0.3593178489481021,
          0.19807751375431895,
          0.16904863471663228,
          -0.8675517348746863,
          1.0632008929683778
         ]
        },
        {
         "histfunc": "count",
         "histnorm": "",
         "marker": {
          "color": "rgba(55, 128, 191, 1.0)",
          "line": {
           "color": "#4D5663",
           "width": 1.3
          }
         },
         "name": "B",
         "opacity": 0.8,
         "orientation": "v",
         "type": "histogram",
         "x": [
          -0.7167540505755027,
          -0.12909041323094617,
          0.22877681615439618,
          0.31882194562550403,
          0.4225554005693531,
          -1.6017150482952225,
          -0.2831684279736227,
          0.4322828011724924,
          1.255309714528344,
          0.8755230396176855,
          -0.6831456954439784,
          0.8110952397727162,
          -0.9166031195725972,
          0.3064369207186609,
          -2.0490989505187236,
          0.24906760614659623,
          0.39402324128552113,
          1.2780126859912582,
          -0.6505787538828152,
          -1.8518228676195427,
          -0.6746027652090811,
          -0.5161504692227723,
          0.2675518587457653,
          1.2710464229933724,
          1.2807012511537221,
          -0.813800981946473,
          0.9887296411556364,
          0.34779627811844277,
          1.0722640977196165,
          0.6433973284268374,
          0.40989450323414944,
          -1.4733258160007474,
          -0.9412466041115733,
          -0.10393012533579014,
          -0.6633454096051882,
          0.015757602282605216,
          1.9300001620261522,
          0.3233316683803168,
          1.392081529793989,
          1.4443614670956944,
          -0.19790878795053235,
          -0.5544650739226349,
          0.5810930100480569,
          -0.1905863676661684,
          0.6475117163062424,
          -0.4221535516573303,
          -0.9506756238745352,
          -0.3235691101756691,
          1.4337726924059773,
          -0.12164703421491174,
          -1.062327523237242,
          0.11695727946221875,
          -1.007567980517339,
          -3.098258736419873,
          1.235020540831101,
          0.08921425828329375,
          0.704599257819094,
          -1.9902654298561624,
          -1.3954712513866852,
          0.26963792912257833,
          0.24635411911346924,
          1.2620128885536703,
          1.1836800423064873,
          1.400217743322152,
          -0.8679652825501485,
          -0.7350983986807433,
          -2.069993960321671,
          -1.282928343846692,
          0.48351853758115854,
          0.6112862292452989,
          1.1036595971163061,
          -0.5462393578834953,
          -0.33009350560709183,
          -1.629830976151171,
          1.1731247238933304,
          -0.2389716755564296,
          0.10612143852848767,
          0.24536861497171922,
          -1.3303910676401658,
          -1.003306043921901,
          -0.4633435944966815,
          -0.022550288796635908,
          -1.012648189549336,
          -0.7750502400724303,
          -0.04569054422612893,
          -1.2199363247358548,
          -0.46624047284590303,
          -0.018410039343196544,
          0.6315535035946279,
          -0.6522499307304486,
          1.0430884953210082,
          -0.22480352941851106,
          -0.1484017345204255,
          -0.17236561194123814,
          -1.0275961625778565,
          0.819474611828162,
          1.1454383327596491,
          -1.2813189449037186,
          1.753594350607639,
          0.1766289971132849
         ]
        },
        {
         "histfunc": "count",
         "histnorm": "",
         "marker": {
          "color": "rgba(50, 171, 96, 1.0)",
          "line": {
           "color": "#4D5663",
           "width": 1.3
          }
         },
         "name": "C",
         "opacity": 0.8,
         "orientation": "v",
         "type": "histogram",
         "x": [
          0.20622876273106594,
          -1.7582658186110154,
          1.4969648432620881,
          -0.40657867926378977,
          1.1754382926242963,
          -1.3658457286532277,
          1.7304271824807045,
          0.9210670378195593,
          0.018536153324841338,
          -1.3053265208086002,
          0.8948835174263292,
          -0.9046451320147075,
          -0.6259190248888457,
          1.2599386480021038,
          0.013077683955397853,
          0.6798722793361448,
          -1.558151015284966,
          -0.678400753157479,
          0.40645450682141293,
          -1.7681206957487599,
          -1.1823300566295585,
          0.12044471170225582,
          -0.5759437193670766,
          -0.4782778980130167,
          0.8006787638594658,
          -0.3995816382995518,
          0.3719799766359585,
          0.45511605232163177,
          -0.2981312038552599,
          -0.3422409295806544,
          -1.5099816530748422,
          1.5594654795670082,
          0.38323229966132805,
          1.7559936574220256,
          0.4716137758822409,
          0.41398222117028377,
          0.7516244288447266,
          -0.8276126180427615,
          -0.8331636757462645,
          -2.0289526269137848,
          -0.1719540743163901,
          0.7060660905554883,
          -0.7480035478099717,
          0.10803639800458438,
          0.8368015456560084,
          -0.5398560104229473,
          -0.09363686742962193,
          -1.7245614127632307,
          -1.1561615962226712,
          1.3251435998718424,
          -0.06301171349649078,
          1.8871000709184729,
          -0.13045548140964353,
          -0.34615819598680553,
          -1.3147370878520375,
          -0.8550327054325254,
          1.1293722200174279,
          1.1120478010694546,
          1.2411615985025872,
          0.436363696278438,
          -0.4085453570183543,
          -0.5174649338270388,
          0.6847358639157233,
          0.195518110370209,
          0.49085497407584355,
          1.05466463532716,
          0.05629101238377474,
          2.071854496390022,
          -0.6042931635249521,
          -0.6853498467718027,
          -0.0009068095686971332,
          -0.12956732099735038,
          -0.22336632400404072,
          -0.283396072867283,
          -0.6425776848050261,
          0.1618564718941374,
          -0.7210807710831003,
          0.8460059149541216,
          -0.306617857501679,
          2.488109159805582,
          0.14856910804556547,
          1.7498181667323272,
          -1.0073476808783985,
          -1.3947093769604566,
          0.26308360838099903,
          -0.1665680808292545,
          1.522398432951192,
          -1.6776997614965026,
          0.6735306871847314,
          0.18419053161823734,
          0.5200692599146426,
          -0.36668720771838215,
          -1.2832201844922588,
          -0.17268525629315462,
          -0.8518939490336926,
          -0.7718894615673308,
          0.4294553382389916,
          1.1089994531932286,
          1.1726024821047942,
          0.7398346113115881
         ]
        },
        {
         "histfunc": "count",
         "histnorm": "",
         "marker": {
          "color": "rgba(128, 0, 128, 1.0)",
          "line": {
           "color": "#4D5663",
           "width": 1.3
          }
         },
         "name": "D",
         "opacity": 0.8,
         "orientation": "v",
         "type": "histogram",
         "x": [
          -0.505183837528164,
          -0.0276329219801729,
          -0.9063075245742348,
          0.19451494584850162,
          0.44901830076031013,
          -2.007703338660613,
          -0.1297734677004214,
          0.9278871126076236,
          0.2262394703311532,
          1.7987183107730271,
          1.5646802438302365,
          -0.7462365845788629,
          0.08568229363463313,
          -0.18592884003455212,
          1.689056586530158,
          -0.04284530382005643,
          1.558350099904935,
          0.5048452086815636,
          0.5137112673569676,
          2.090585346251317,
          0.8660329992889156,
          -1.098023318888969,
          -0.14996271561242672,
          0.11185457887145386,
          1.086802812279443,
          -0.4624890992824662,
          -1.355953933628624,
          -0.7820390303836555,
          -1.3773935469011958,
          0.4083286329725384,
          -0.14080901705025084,
          -0.4502111210451887,
          -0.004223835712109334,
          0.748127230155246,
          0.7936355298110129,
          1.4838053627725512,
          0.2067669984246998,
          0.7771102339809596,
          1.3804578000154384,
          0.8201211239253432,
          -1.351085749813894,
          -1.4133365180460378,
          -0.6115690849479227,
          -0.8878336842883038,
          -0.08424627838717429,
          0.9138469282694803,
          -1.0246405899433415,
          -0.8424777802141452,
          0.8282483419632345,
          -1.2046591639446385,
          0.3712505968905831,
          -0.6686622801935974,
          -0.9275466867602205,
          -0.8302902757272163,
          -1.3438834821775725,
          -0.6166413257716978,
          0.3141640162386474,
          -0.05075064310173611,
          0.7350294724082517,
          0.06218334613367416,
          -2.194951395344034,
          -1.1179842037676107,
          -0.12177572734257305,
          0.6429150116102603,
          -0.98207877416493,
          0.39046557417975947,
          -0.7329755436359863,
          -2.667276213857281,
          1.3664013700856121,
          0.6764338886337651,
          -1.0480130896248643,
          0.9613367285215236,
          0.42750990402040934,
          -0.29709998383450853,
          0.2835914692290397,
          0.42591860335936105,
          0.01844044587431985,
          -0.4148182824242851,
          0.38671775577926304,
          -1.465722489216768,
          1.060921112651931,
          -0.26342549483741046,
          -0.2640785213362949,
          0.888097724042476,
          0.2632089279727065,
          -0.5520278114936636,
          -0.27146734538056994,
          -0.18449113710418427,
          1.2564667521349653,
          0.6942329857010153,
          -0.3130156423041538,
          0.806609936012424,
          -0.020201071164758166,
          2.274636494169897,
          -0.0748684818098725,
          -1.8140994778789923,
          -0.22648946000572145,
          -0.8886647680304275,
          0.8289382664456802,
          0.04030063947334295
         ]
        }
       ],
       "layout": {
        "barmode": "overlay",
        "legend": {
         "bgcolor": "#F5F6F9",
         "font": {
          "color": "#4D5663"
         }
        },
        "paper_bgcolor": "#F5F6F9",
        "plot_bgcolor": "#F5F6F9",
        "template": {
         "data": {
          "bar": [
           {
            "error_x": {
             "color": "#2a3f5f"
            },
            "error_y": {
             "color": "#2a3f5f"
            },
            "marker": {
             "line": {
              "color": "#E5ECF6",
              "width": 0.5
             }
            },
            "type": "bar"
           }
          ],
          "barpolar": [
           {
            "marker": {
             "line": {
              "color": "#E5ECF6",
              "width": 0.5
             }
            },
            "type": "barpolar"
           }
          ],
          "carpet": [
           {
            "aaxis": {
             "endlinecolor": "#2a3f5f",
             "gridcolor": "white",
             "linecolor": "white",
             "minorgridcolor": "white",
             "startlinecolor": "#2a3f5f"
            },
            "baxis": {
             "endlinecolor": "#2a3f5f",
             "gridcolor": "white",
             "linecolor": "white",
             "minorgridcolor": "white",
             "startlinecolor": "#2a3f5f"
            },
            "type": "carpet"
           }
          ],
          "choropleth": [
           {
            "colorbar": {
             "outlinewidth": 0,
             "ticks": ""
            },
            "type": "choropleth"
           }
          ],
          "contour": [
           {
            "colorbar": {
             "outlinewidth": 0,
             "ticks": ""
            },
            "colorscale": [
             [
              0,
              "#0d0887"
             ],
             [
              0.1111111111111111,
              "#46039f"
             ],
             [
              0.2222222222222222,
              "#7201a8"
             ],
             [
              0.3333333333333333,
              "#9c179e"
             ],
             [
              0.4444444444444444,
              "#bd3786"
             ],
             [
              0.5555555555555556,
              "#d8576b"
             ],
             [
              0.6666666666666666,
              "#ed7953"
             ],
             [
              0.7777777777777778,
              "#fb9f3a"
             ],
             [
              0.8888888888888888,
              "#fdca26"
             ],
             [
              1,
              "#f0f921"
             ]
            ],
            "type": "contour"
           }
          ],
          "contourcarpet": [
           {
            "colorbar": {
             "outlinewidth": 0,
             "ticks": ""
            },
            "type": "contourcarpet"
           }
          ],
          "heatmap": [
           {
            "colorbar": {
             "outlinewidth": 0,
             "ticks": ""
            },
            "colorscale": [
             [
              0,
              "#0d0887"
             ],
             [
              0.1111111111111111,
              "#46039f"
             ],
             [
              0.2222222222222222,
              "#7201a8"
             ],
             [
              0.3333333333333333,
              "#9c179e"
             ],
             [
              0.4444444444444444,
              "#bd3786"
             ],
             [
              0.5555555555555556,
              "#d8576b"
             ],
             [
              0.6666666666666666,
              "#ed7953"
             ],
             [
              0.7777777777777778,
              "#fb9f3a"
             ],
             [
              0.8888888888888888,
              "#fdca26"
             ],
             [
              1,
              "#f0f921"
             ]
            ],
            "type": "heatmap"
           }
          ],
          "heatmapgl": [
           {
            "colorbar": {
             "outlinewidth": 0,
             "ticks": ""
            },
            "colorscale": [
             [
              0,
              "#0d0887"
             ],
             [
              0.1111111111111111,
              "#46039f"
             ],
             [
              0.2222222222222222,
              "#7201a8"
             ],
             [
              0.3333333333333333,
              "#9c179e"
             ],
             [
              0.4444444444444444,
              "#bd3786"
             ],
             [
              0.5555555555555556,
              "#d8576b"
             ],
             [
              0.6666666666666666,
              "#ed7953"
             ],
             [
              0.7777777777777778,
              "#fb9f3a"
             ],
             [
              0.8888888888888888,
              "#fdca26"
             ],
             [
              1,
              "#f0f921"
             ]
            ],
            "type": "heatmapgl"
           }
          ],
          "histogram": [
           {
            "marker": {
             "colorbar": {
              "outlinewidth": 0,
              "ticks": ""
             }
            },
            "type": "histogram"
           }
          ],
          "histogram2d": [
           {
            "colorbar": {
             "outlinewidth": 0,
             "ticks": ""
            },
            "colorscale": [
             [
              0,
              "#0d0887"
             ],
             [
              0.1111111111111111,
              "#46039f"
             ],
             [
              0.2222222222222222,
              "#7201a8"
             ],
             [
              0.3333333333333333,
              "#9c179e"
             ],
             [
              0.4444444444444444,
              "#bd3786"
             ],
             [
              0.5555555555555556,
              "#d8576b"
             ],
             [
              0.6666666666666666,
              "#ed7953"
             ],
             [
              0.7777777777777778,
              "#fb9f3a"
             ],
             [
              0.8888888888888888,
              "#fdca26"
             ],
             [
              1,
              "#f0f921"
             ]
            ],
            "type": "histogram2d"
           }
          ],
          "histogram2dcontour": [
           {
            "colorbar": {
             "outlinewidth": 0,
             "ticks": ""
            },
            "colorscale": [
             [
              0,
              "#0d0887"
             ],
             [
              0.1111111111111111,
              "#46039f"
             ],
             [
              0.2222222222222222,
              "#7201a8"
             ],
             [
              0.3333333333333333,
              "#9c179e"
             ],
             [
              0.4444444444444444,
              "#bd3786"
             ],
             [
              0.5555555555555556,
              "#d8576b"
             ],
             [
              0.6666666666666666,
              "#ed7953"
             ],
             [
              0.7777777777777778,
              "#fb9f3a"
             ],
             [
              0.8888888888888888,
              "#fdca26"
             ],
             [
              1,
              "#f0f921"
             ]
            ],
            "type": "histogram2dcontour"
           }
          ],
          "mesh3d": [
           {
            "colorbar": {
             "outlinewidth": 0,
             "ticks": ""
            },
            "type": "mesh3d"
           }
          ],
          "parcoords": [
           {
            "line": {
             "colorbar": {
              "outlinewidth": 0,
              "ticks": ""
             }
            },
            "type": "parcoords"
           }
          ],
          "pie": [
           {
            "automargin": true,
            "type": "pie"
           }
          ],
          "scatter": [
           {
            "marker": {
             "colorbar": {
              "outlinewidth": 0,
              "ticks": ""
             }
            },
            "type": "scatter"
           }
          ],
          "scatter3d": [
           {
            "line": {
             "colorbar": {
              "outlinewidth": 0,
              "ticks": ""
             }
            },
            "marker": {
             "colorbar": {
              "outlinewidth": 0,
              "ticks": ""
             }
            },
            "type": "scatter3d"
           }
          ],
          "scattercarpet": [
           {
            "marker": {
             "colorbar": {
              "outlinewidth": 0,
              "ticks": ""
             }
            },
            "type": "scattercarpet"
           }
          ],
          "scattergeo": [
           {
            "marker": {
             "colorbar": {
              "outlinewidth": 0,
              "ticks": ""
             }
            },
            "type": "scattergeo"
           }
          ],
          "scattergl": [
           {
            "marker": {
             "colorbar": {
              "outlinewidth": 0,
              "ticks": ""
             }
            },
            "type": "scattergl"
           }
          ],
          "scattermapbox": [
           {
            "marker": {
             "colorbar": {
              "outlinewidth": 0,
              "ticks": ""
             }
            },
            "type": "scattermapbox"
           }
          ],
          "scatterpolar": [
           {
            "marker": {
             "colorbar": {
              "outlinewidth": 0,
              "ticks": ""
             }
            },
            "type": "scatterpolar"
           }
          ],
          "scatterpolargl": [
           {
            "marker": {
             "colorbar": {
              "outlinewidth": 0,
              "ticks": ""
             }
            },
            "type": "scatterpolargl"
           }
          ],
          "scatterternary": [
           {
            "marker": {
             "colorbar": {
              "outlinewidth": 0,
              "ticks": ""
             }
            },
            "type": "scatterternary"
           }
          ],
          "surface": [
           {
            "colorbar": {
             "outlinewidth": 0,
             "ticks": ""
            },
            "colorscale": [
             [
              0,
              "#0d0887"
             ],
             [
              0.1111111111111111,
              "#46039f"
             ],
             [
              0.2222222222222222,
              "#7201a8"
             ],
             [
              0.3333333333333333,
              "#9c179e"
             ],
             [
              0.4444444444444444,
              "#bd3786"
             ],
             [
              0.5555555555555556,
              "#d8576b"
             ],
             [
              0.6666666666666666,
              "#ed7953"
             ],
             [
              0.7777777777777778,
              "#fb9f3a"
             ],
             [
              0.8888888888888888,
              "#fdca26"
             ],
             [
              1,
              "#f0f921"
             ]
            ],
            "type": "surface"
           }
          ],
          "table": [
           {
            "cells": {
             "fill": {
              "color": "#EBF0F8"
             },
             "line": {
              "color": "white"
             }
            },
            "header": {
             "fill": {
              "color": "#C8D4E3"
             },
             "line": {
              "color": "white"
             }
            },
            "type": "table"
           }
          ]
         },
         "layout": {
          "annotationdefaults": {
           "arrowcolor": "#2a3f5f",
           "arrowhead": 0,
           "arrowwidth": 1
          },
          "coloraxis": {
           "colorbar": {
            "outlinewidth": 0,
            "ticks": ""
           }
          },
          "colorscale": {
           "diverging": [
            [
             0,
             "#8e0152"
            ],
            [
             0.1,
             "#c51b7d"
            ],
            [
             0.2,
             "#de77ae"
            ],
            [
             0.3,
             "#f1b6da"
            ],
            [
             0.4,
             "#fde0ef"
            ],
            [
             0.5,
             "#f7f7f7"
            ],
            [
             0.6,
             "#e6f5d0"
            ],
            [
             0.7,
             "#b8e186"
            ],
            [
             0.8,
             "#7fbc41"
            ],
            [
             0.9,
             "#4d9221"
            ],
            [
             1,
             "#276419"
            ]
           ],
           "sequential": [
            [
             0,
             "#0d0887"
            ],
            [
             0.1111111111111111,
             "#46039f"
            ],
            [
             0.2222222222222222,
             "#7201a8"
            ],
            [
             0.3333333333333333,
             "#9c179e"
            ],
            [
             0.4444444444444444,
             "#bd3786"
            ],
            [
             0.5555555555555556,
             "#d8576b"
            ],
            [
             0.6666666666666666,
             "#ed7953"
            ],
            [
             0.7777777777777778,
             "#fb9f3a"
            ],
            [
             0.8888888888888888,
             "#fdca26"
            ],
            [
             1,
             "#f0f921"
            ]
           ],
           "sequentialminus": [
            [
             0,
             "#0d0887"
            ],
            [
             0.1111111111111111,
             "#46039f"
            ],
            [
             0.2222222222222222,
             "#7201a8"
            ],
            [
             0.3333333333333333,
             "#9c179e"
            ],
            [
             0.4444444444444444,
             "#bd3786"
            ],
            [
             0.5555555555555556,
             "#d8576b"
            ],
            [
             0.6666666666666666,
             "#ed7953"
            ],
            [
             0.7777777777777778,
             "#fb9f3a"
            ],
            [
             0.8888888888888888,
             "#fdca26"
            ],
            [
             1,
             "#f0f921"
            ]
           ]
          },
          "colorway": [
           "#636efa",
           "#EF553B",
           "#00cc96",
           "#ab63fa",
           "#FFA15A",
           "#19d3f3",
           "#FF6692",
           "#B6E880",
           "#FF97FF",
           "#FECB52"
          ],
          "font": {
           "color": "#2a3f5f"
          },
          "geo": {
           "bgcolor": "white",
           "lakecolor": "white",
           "landcolor": "#E5ECF6",
           "showlakes": true,
           "showland": true,
           "subunitcolor": "white"
          },
          "hoverlabel": {
           "align": "left"
          },
          "hovermode": "closest",
          "mapbox": {
           "style": "light"
          },
          "paper_bgcolor": "white",
          "plot_bgcolor": "#E5ECF6",
          "polar": {
           "angularaxis": {
            "gridcolor": "white",
            "linecolor": "white",
            "ticks": ""
           },
           "bgcolor": "#E5ECF6",
           "radialaxis": {
            "gridcolor": "white",
            "linecolor": "white",
            "ticks": ""
           }
          },
          "scene": {
           "xaxis": {
            "backgroundcolor": "#E5ECF6",
            "gridcolor": "white",
            "gridwidth": 2,
            "linecolor": "white",
            "showbackground": true,
            "ticks": "",
            "zerolinecolor": "white"
           },
           "yaxis": {
            "backgroundcolor": "#E5ECF6",
            "gridcolor": "white",
            "gridwidth": 2,
            "linecolor": "white",
            "showbackground": true,
            "ticks": "",
            "zerolinecolor": "white"
           },
           "zaxis": {
            "backgroundcolor": "#E5ECF6",
            "gridcolor": "white",
            "gridwidth": 2,
            "linecolor": "white",
            "showbackground": true,
            "ticks": "",
            "zerolinecolor": "white"
           }
          },
          "shapedefaults": {
           "line": {
            "color": "#2a3f5f"
           }
          },
          "ternary": {
           "aaxis": {
            "gridcolor": "white",
            "linecolor": "white",
            "ticks": ""
           },
           "baxis": {
            "gridcolor": "white",
            "linecolor": "white",
            "ticks": ""
           },
           "bgcolor": "#E5ECF6",
           "caxis": {
            "gridcolor": "white",
            "linecolor": "white",
            "ticks": ""
           }
          },
          "title": {
           "x": 0.05
          },
          "xaxis": {
           "automargin": true,
           "gridcolor": "white",
           "linecolor": "white",
           "ticks": "",
           "title": {
            "standoff": 15
           },
           "zerolinecolor": "white",
           "zerolinewidth": 2
          },
          "yaxis": {
           "automargin": true,
           "gridcolor": "white",
           "linecolor": "white",
           "ticks": "",
           "title": {
            "standoff": 15
           },
           "zerolinecolor": "white",
           "zerolinewidth": 2
          }
         }
        },
        "title": {
         "font": {
          "color": "#4D5663"
         }
        },
        "xaxis": {
         "gridcolor": "#E1E5ED",
         "showgrid": true,
         "tickfont": {
          "color": "#4D5663"
         },
         "title": {
          "font": {
           "color": "#4D5663"
          },
          "text": ""
         },
         "zerolinecolor": "#E1E5ED"
        },
        "yaxis": {
         "gridcolor": "#E1E5ED",
         "showgrid": true,
         "tickfont": {
          "color": "#4D5663"
         },
         "title": {
          "font": {
           "color": "#4D5663"
          },
          "text": ""
         },
         "zerolinecolor": "#E1E5ED"
        }
       }
      },
      "text/html": [
       "<div>\n",
       "        \n",
       "        \n",
       "            <div id=\"2f25f291-15be-4d29-8c91-77c36794406c\" class=\"plotly-graph-div\" style=\"height:525px; width:100%;\"></div>\n",
       "            <script type=\"text/javascript\">\n",
       "                require([\"plotly\"], function(Plotly) {\n",
       "                    window.PLOTLYENV=window.PLOTLYENV || {};\n",
       "                    window.PLOTLYENV.BASE_URL='https://plot.ly';\n",
       "                    \n",
       "                if (document.getElementById(\"2f25f291-15be-4d29-8c91-77c36794406c\")) {\n",
       "                    Plotly.newPlot(\n",
       "                        '2f25f291-15be-4d29-8c91-77c36794406c',\n",
       "                        [{\"histfunc\": \"count\", \"histnorm\": \"\", \"marker\": {\"color\": \"rgba(255, 153, 51, 1.0)\", \"line\": {\"color\": \"#4D5663\", \"width\": 1.3}}, \"name\": \"A\", \"opacity\": 0.8, \"orientation\": \"v\", \"type\": \"histogram\", \"x\": [0.19650022373258236, -1.9941460778502356, 0.6626376887314555, -0.958327863418552, 0.4231241777990569, 0.7113678238984446, -0.09165347023463194, -1.3149597471701424, -1.3933206032441685, -0.5529960919904516, -1.232042488497158, 1.0661400300358617, 0.36496152149907735, 0.12566632897650376, -0.4154383457317713, 1.1145779823073672, 1.512565868621305, 0.1794830651348587, 1.0343723418421487, 2.7907567772555297, 0.2998865268939037, -1.1158316023870536, -0.027602812843491573, -0.5298883887261153, 1.0290623615134162, 0.9827394564213197, -0.4455813047158554, 0.2338813758270774, -0.02285208244483196, -0.8967539023754664, -1.4758756049165747, -0.8947207457648796, -0.07309580354724263, -0.7845742580993053, 0.23876895288454827, 0.9742961492985625, -0.033916672684154374, 1.1196298171192591, -0.535731539283069, -0.3906973132685843, -0.8424290459415693, 0.2792280254608758, -0.9286349945862502, -1.5063893605812446, 1.8743143044827653, -0.651912761220479, -0.6218461636563343, 0.835257171977975, -0.6112242584714845, 0.3039624479311827, -1.4468041377380885, 1.311224077205215, -0.7808300388541097, -0.7560423271045358, -0.5005366745377746, -0.8309774142243554, 0.3162223512088091, -0.002041007732976193, -0.6113995211974071, -0.7775783612568149, -1.2475028820394487, 1.217988302202804, -2.035103126115838, 1.0642766469020115, 0.20548427026076269, 1.2143492963512488, -0.2852927776860206, 1.124432516025142, 1.6347521744859779, -1.7834783009007091, 0.2841397399808306, -0.2089012383694685, 0.16030754969303934, 0.36365439104045916, 1.19666648962708, 1.0687355273258576, 1.3397200048714657, -1.4253637092798235, -0.11768531861787762, 1.093744468440918, -0.636974215744073, -0.3613674535797206, 2.053369552369878, 0.7116839450439921, 0.21270413234870125, -0.7903526585716255, -0.5880588643865717, 0.3927540327176958, 1.006657100212194, 0.4213663847261615, 0.19051498346579346, -0.03139508418786326, -0.7817689753853478, 0.11699032841973789, 0.9873789930068373, 0.3593178489481021, 0.19807751375431895, 0.16904863471663228, -0.8675517348746863, 1.0632008929683778]}, {\"histfunc\": \"count\", \"histnorm\": \"\", \"marker\": {\"color\": \"rgba(55, 128, 191, 1.0)\", \"line\": {\"color\": \"#4D5663\", \"width\": 1.3}}, \"name\": \"B\", \"opacity\": 0.8, \"orientation\": \"v\", \"type\": \"histogram\", \"x\": [-0.7167540505755027, -0.12909041323094617, 0.22877681615439618, 0.31882194562550403, 0.4225554005693531, -1.6017150482952225, -0.2831684279736227, 0.4322828011724924, 1.255309714528344, 0.8755230396176855, -0.6831456954439784, 0.8110952397727162, -0.9166031195725972, 0.3064369207186609, -2.0490989505187236, 0.24906760614659623, 0.39402324128552113, 1.2780126859912582, -0.6505787538828152, -1.8518228676195427, -0.6746027652090811, -0.5161504692227723, 0.2675518587457653, 1.2710464229933724, 1.2807012511537221, -0.813800981946473, 0.9887296411556364, 0.34779627811844277, 1.0722640977196165, 0.6433973284268374, 0.40989450323414944, -1.4733258160007474, -0.9412466041115733, -0.10393012533579014, -0.6633454096051882, 0.015757602282605216, 1.9300001620261522, 0.3233316683803168, 1.392081529793989, 1.4443614670956944, -0.19790878795053235, -0.5544650739226349, 0.5810930100480569, -0.1905863676661684, 0.6475117163062424, -0.4221535516573303, -0.9506756238745352, -0.3235691101756691, 1.4337726924059773, -0.12164703421491174, -1.062327523237242, 0.11695727946221875, -1.007567980517339, -3.098258736419873, 1.235020540831101, 0.08921425828329375, 0.704599257819094, -1.9902654298561624, -1.3954712513866852, 0.26963792912257833, 0.24635411911346924, 1.2620128885536703, 1.1836800423064873, 1.400217743322152, -0.8679652825501485, -0.7350983986807433, -2.069993960321671, -1.282928343846692, 0.48351853758115854, 0.6112862292452989, 1.1036595971163061, -0.5462393578834953, -0.33009350560709183, -1.629830976151171, 1.1731247238933304, -0.2389716755564296, 0.10612143852848767, 0.24536861497171922, -1.3303910676401658, -1.003306043921901, -0.4633435944966815, -0.022550288796635908, -1.012648189549336, -0.7750502400724303, -0.04569054422612893, -1.2199363247358548, -0.46624047284590303, -0.018410039343196544, 0.6315535035946279, -0.6522499307304486, 1.0430884953210082, -0.22480352941851106, -0.1484017345204255, -0.17236561194123814, -1.0275961625778565, 0.819474611828162, 1.1454383327596491, -1.2813189449037186, 1.753594350607639, 0.1766289971132849]}, {\"histfunc\": \"count\", \"histnorm\": \"\", \"marker\": {\"color\": \"rgba(50, 171, 96, 1.0)\", \"line\": {\"color\": \"#4D5663\", \"width\": 1.3}}, \"name\": \"C\", \"opacity\": 0.8, \"orientation\": \"v\", \"type\": \"histogram\", \"x\": [0.20622876273106594, -1.7582658186110154, 1.4969648432620881, -0.40657867926378977, 1.1754382926242963, -1.3658457286532277, 1.7304271824807045, 0.9210670378195593, 0.018536153324841338, -1.3053265208086002, 0.8948835174263292, -0.9046451320147075, -0.6259190248888457, 1.2599386480021038, 0.013077683955397853, 0.6798722793361448, -1.558151015284966, -0.678400753157479, 0.40645450682141293, -1.7681206957487599, -1.1823300566295585, 0.12044471170225582, -0.5759437193670766, -0.4782778980130167, 0.8006787638594658, -0.3995816382995518, 0.3719799766359585, 0.45511605232163177, -0.2981312038552599, -0.3422409295806544, -1.5099816530748422, 1.5594654795670082, 0.38323229966132805, 1.7559936574220256, 0.4716137758822409, 0.41398222117028377, 0.7516244288447266, -0.8276126180427615, -0.8331636757462645, -2.0289526269137848, -0.1719540743163901, 0.7060660905554883, -0.7480035478099717, 0.10803639800458438, 0.8368015456560084, -0.5398560104229473, -0.09363686742962193, -1.7245614127632307, -1.1561615962226712, 1.3251435998718424, -0.06301171349649078, 1.8871000709184729, -0.13045548140964353, -0.34615819598680553, -1.3147370878520375, -0.8550327054325254, 1.1293722200174279, 1.1120478010694546, 1.2411615985025872, 0.436363696278438, -0.4085453570183543, -0.5174649338270388, 0.6847358639157233, 0.195518110370209, 0.49085497407584355, 1.05466463532716, 0.05629101238377474, 2.071854496390022, -0.6042931635249521, -0.6853498467718027, -0.0009068095686971332, -0.12956732099735038, -0.22336632400404072, -0.283396072867283, -0.6425776848050261, 0.1618564718941374, -0.7210807710831003, 0.8460059149541216, -0.306617857501679, 2.488109159805582, 0.14856910804556547, 1.7498181667323272, -1.0073476808783985, -1.3947093769604566, 0.26308360838099903, -0.1665680808292545, 1.522398432951192, -1.6776997614965026, 0.6735306871847314, 0.18419053161823734, 0.5200692599146426, -0.36668720771838215, -1.2832201844922588, -0.17268525629315462, -0.8518939490336926, -0.7718894615673308, 0.4294553382389916, 1.1089994531932286, 1.1726024821047942, 0.7398346113115881]}, {\"histfunc\": \"count\", \"histnorm\": \"\", \"marker\": {\"color\": \"rgba(128, 0, 128, 1.0)\", \"line\": {\"color\": \"#4D5663\", \"width\": 1.3}}, \"name\": \"D\", \"opacity\": 0.8, \"orientation\": \"v\", \"type\": \"histogram\", \"x\": [-0.505183837528164, -0.0276329219801729, -0.9063075245742348, 0.19451494584850162, 0.44901830076031013, -2.007703338660613, -0.1297734677004214, 0.9278871126076236, 0.2262394703311532, 1.7987183107730271, 1.5646802438302365, -0.7462365845788629, 0.08568229363463313, -0.18592884003455212, 1.689056586530158, -0.04284530382005643, 1.558350099904935, 0.5048452086815636, 0.5137112673569676, 2.090585346251317, 0.8660329992889156, -1.098023318888969, -0.14996271561242672, 0.11185457887145386, 1.086802812279443, -0.4624890992824662, -1.355953933628624, -0.7820390303836555, -1.3773935469011958, 0.4083286329725384, -0.14080901705025084, -0.4502111210451887, -0.004223835712109334, 0.748127230155246, 0.7936355298110129, 1.4838053627725512, 0.2067669984246998, 0.7771102339809596, 1.3804578000154384, 0.8201211239253432, -1.351085749813894, -1.4133365180460378, -0.6115690849479227, -0.8878336842883038, -0.08424627838717429, 0.9138469282694803, -1.0246405899433415, -0.8424777802141452, 0.8282483419632345, -1.2046591639446385, 0.3712505968905831, -0.6686622801935974, -0.9275466867602205, -0.8302902757272163, -1.3438834821775725, -0.6166413257716978, 0.3141640162386474, -0.05075064310173611, 0.7350294724082517, 0.06218334613367416, -2.194951395344034, -1.1179842037676107, -0.12177572734257305, 0.6429150116102603, -0.98207877416493, 0.39046557417975947, -0.7329755436359863, -2.667276213857281, 1.3664013700856121, 0.6764338886337651, -1.0480130896248643, 0.9613367285215236, 0.42750990402040934, -0.29709998383450853, 0.2835914692290397, 0.42591860335936105, 0.01844044587431985, -0.4148182824242851, 0.38671775577926304, -1.465722489216768, 1.060921112651931, -0.26342549483741046, -0.2640785213362949, 0.888097724042476, 0.2632089279727065, -0.5520278114936636, -0.27146734538056994, -0.18449113710418427, 1.2564667521349653, 0.6942329857010153, -0.3130156423041538, 0.806609936012424, -0.020201071164758166, 2.274636494169897, -0.0748684818098725, -1.8140994778789923, -0.22648946000572145, -0.8886647680304275, 0.8289382664456802, 0.04030063947334295]}],\n",
       "                        {\"barmode\": \"overlay\", \"legend\": {\"bgcolor\": \"#F5F6F9\", \"font\": {\"color\": \"#4D5663\"}}, \"paper_bgcolor\": \"#F5F6F9\", \"plot_bgcolor\": \"#F5F6F9\", \"template\": {\"data\": {\"bar\": [{\"error_x\": {\"color\": \"#2a3f5f\"}, \"error_y\": {\"color\": \"#2a3f5f\"}, \"marker\": {\"line\": {\"color\": \"#E5ECF6\", \"width\": 0.5}}, \"type\": \"bar\"}], \"barpolar\": [{\"marker\": {\"line\": {\"color\": \"#E5ECF6\", \"width\": 0.5}}, \"type\": \"barpolar\"}], \"carpet\": [{\"aaxis\": {\"endlinecolor\": \"#2a3f5f\", \"gridcolor\": \"white\", \"linecolor\": \"white\", \"minorgridcolor\": \"white\", \"startlinecolor\": \"#2a3f5f\"}, \"baxis\": {\"endlinecolor\": \"#2a3f5f\", \"gridcolor\": \"white\", \"linecolor\": \"white\", \"minorgridcolor\": \"white\", \"startlinecolor\": \"#2a3f5f\"}, \"type\": \"carpet\"}], \"choropleth\": [{\"colorbar\": {\"outlinewidth\": 0, \"ticks\": \"\"}, \"type\": \"choropleth\"}], \"contour\": [{\"colorbar\": {\"outlinewidth\": 0, \"ticks\": \"\"}, \"colorscale\": [[0.0, \"#0d0887\"], [0.1111111111111111, \"#46039f\"], [0.2222222222222222, \"#7201a8\"], [0.3333333333333333, \"#9c179e\"], [0.4444444444444444, \"#bd3786\"], [0.5555555555555556, \"#d8576b\"], [0.6666666666666666, \"#ed7953\"], [0.7777777777777778, \"#fb9f3a\"], [0.8888888888888888, \"#fdca26\"], [1.0, \"#f0f921\"]], \"type\": \"contour\"}], \"contourcarpet\": [{\"colorbar\": {\"outlinewidth\": 0, \"ticks\": \"\"}, \"type\": \"contourcarpet\"}], \"heatmap\": [{\"colorbar\": {\"outlinewidth\": 0, \"ticks\": \"\"}, \"colorscale\": [[0.0, \"#0d0887\"], [0.1111111111111111, \"#46039f\"], [0.2222222222222222, \"#7201a8\"], [0.3333333333333333, \"#9c179e\"], [0.4444444444444444, \"#bd3786\"], [0.5555555555555556, \"#d8576b\"], [0.6666666666666666, \"#ed7953\"], [0.7777777777777778, \"#fb9f3a\"], [0.8888888888888888, \"#fdca26\"], [1.0, \"#f0f921\"]], \"type\": \"heatmap\"}], \"heatmapgl\": [{\"colorbar\": {\"outlinewidth\": 0, \"ticks\": \"\"}, \"colorscale\": [[0.0, \"#0d0887\"], [0.1111111111111111, \"#46039f\"], [0.2222222222222222, \"#7201a8\"], [0.3333333333333333, \"#9c179e\"], [0.4444444444444444, \"#bd3786\"], [0.5555555555555556, \"#d8576b\"], [0.6666666666666666, \"#ed7953\"], [0.7777777777777778, \"#fb9f3a\"], [0.8888888888888888, \"#fdca26\"], [1.0, \"#f0f921\"]], \"type\": \"heatmapgl\"}], \"histogram\": [{\"marker\": {\"colorbar\": {\"outlinewidth\": 0, \"ticks\": \"\"}}, \"type\": \"histogram\"}], \"histogram2d\": [{\"colorbar\": {\"outlinewidth\": 0, \"ticks\": \"\"}, \"colorscale\": [[0.0, \"#0d0887\"], [0.1111111111111111, \"#46039f\"], [0.2222222222222222, \"#7201a8\"], [0.3333333333333333, \"#9c179e\"], [0.4444444444444444, \"#bd3786\"], [0.5555555555555556, \"#d8576b\"], [0.6666666666666666, \"#ed7953\"], [0.7777777777777778, \"#fb9f3a\"], [0.8888888888888888, \"#fdca26\"], [1.0, \"#f0f921\"]], \"type\": \"histogram2d\"}], \"histogram2dcontour\": [{\"colorbar\": {\"outlinewidth\": 0, \"ticks\": \"\"}, \"colorscale\": [[0.0, \"#0d0887\"], [0.1111111111111111, \"#46039f\"], [0.2222222222222222, \"#7201a8\"], [0.3333333333333333, \"#9c179e\"], [0.4444444444444444, \"#bd3786\"], [0.5555555555555556, \"#d8576b\"], [0.6666666666666666, \"#ed7953\"], [0.7777777777777778, \"#fb9f3a\"], [0.8888888888888888, \"#fdca26\"], [1.0, \"#f0f921\"]], \"type\": \"histogram2dcontour\"}], \"mesh3d\": [{\"colorbar\": {\"outlinewidth\": 0, \"ticks\": \"\"}, \"type\": \"mesh3d\"}], \"parcoords\": [{\"line\": {\"colorbar\": {\"outlinewidth\": 0, \"ticks\": \"\"}}, \"type\": \"parcoords\"}], \"pie\": [{\"automargin\": true, \"type\": \"pie\"}], \"scatter\": [{\"marker\": {\"colorbar\": {\"outlinewidth\": 0, \"ticks\": \"\"}}, \"type\": \"scatter\"}], \"scatter3d\": [{\"line\": {\"colorbar\": {\"outlinewidth\": 0, \"ticks\": \"\"}}, \"marker\": {\"colorbar\": {\"outlinewidth\": 0, \"ticks\": \"\"}}, \"type\": \"scatter3d\"}], \"scattercarpet\": [{\"marker\": {\"colorbar\": {\"outlinewidth\": 0, \"ticks\": \"\"}}, \"type\": \"scattercarpet\"}], \"scattergeo\": [{\"marker\": {\"colorbar\": {\"outlinewidth\": 0, \"ticks\": \"\"}}, \"type\": \"scattergeo\"}], \"scattergl\": [{\"marker\": {\"colorbar\": {\"outlinewidth\": 0, \"ticks\": \"\"}}, \"type\": \"scattergl\"}], \"scattermapbox\": [{\"marker\": {\"colorbar\": {\"outlinewidth\": 0, \"ticks\": \"\"}}, \"type\": \"scattermapbox\"}], \"scatterpolar\": [{\"marker\": {\"colorbar\": {\"outlinewidth\": 0, \"ticks\": \"\"}}, \"type\": \"scatterpolar\"}], \"scatterpolargl\": [{\"marker\": {\"colorbar\": {\"outlinewidth\": 0, \"ticks\": \"\"}}, \"type\": \"scatterpolargl\"}], \"scatterternary\": [{\"marker\": {\"colorbar\": {\"outlinewidth\": 0, \"ticks\": \"\"}}, \"type\": \"scatterternary\"}], \"surface\": [{\"colorbar\": {\"outlinewidth\": 0, \"ticks\": \"\"}, \"colorscale\": [[0.0, \"#0d0887\"], [0.1111111111111111, \"#46039f\"], [0.2222222222222222, \"#7201a8\"], [0.3333333333333333, \"#9c179e\"], [0.4444444444444444, \"#bd3786\"], [0.5555555555555556, \"#d8576b\"], [0.6666666666666666, \"#ed7953\"], [0.7777777777777778, \"#fb9f3a\"], [0.8888888888888888, \"#fdca26\"], [1.0, \"#f0f921\"]], \"type\": \"surface\"}], \"table\": [{\"cells\": {\"fill\": {\"color\": \"#EBF0F8\"}, \"line\": {\"color\": \"white\"}}, \"header\": {\"fill\": {\"color\": \"#C8D4E3\"}, \"line\": {\"color\": \"white\"}}, \"type\": \"table\"}]}, \"layout\": {\"annotationdefaults\": {\"arrowcolor\": \"#2a3f5f\", \"arrowhead\": 0, \"arrowwidth\": 1}, \"coloraxis\": {\"colorbar\": {\"outlinewidth\": 0, \"ticks\": \"\"}}, \"colorscale\": {\"diverging\": [[0, \"#8e0152\"], [0.1, \"#c51b7d\"], [0.2, \"#de77ae\"], [0.3, \"#f1b6da\"], [0.4, \"#fde0ef\"], [0.5, \"#f7f7f7\"], [0.6, \"#e6f5d0\"], [0.7, \"#b8e186\"], [0.8, \"#7fbc41\"], [0.9, \"#4d9221\"], [1, \"#276419\"]], \"sequential\": [[0.0, \"#0d0887\"], [0.1111111111111111, \"#46039f\"], [0.2222222222222222, \"#7201a8\"], [0.3333333333333333, \"#9c179e\"], [0.4444444444444444, \"#bd3786\"], [0.5555555555555556, \"#d8576b\"], [0.6666666666666666, \"#ed7953\"], [0.7777777777777778, \"#fb9f3a\"], [0.8888888888888888, \"#fdca26\"], [1.0, \"#f0f921\"]], \"sequentialminus\": [[0.0, \"#0d0887\"], [0.1111111111111111, \"#46039f\"], [0.2222222222222222, \"#7201a8\"], [0.3333333333333333, \"#9c179e\"], [0.4444444444444444, \"#bd3786\"], [0.5555555555555556, \"#d8576b\"], [0.6666666666666666, \"#ed7953\"], [0.7777777777777778, \"#fb9f3a\"], [0.8888888888888888, \"#fdca26\"], [1.0, \"#f0f921\"]]}, \"colorway\": [\"#636efa\", \"#EF553B\", \"#00cc96\", \"#ab63fa\", \"#FFA15A\", \"#19d3f3\", \"#FF6692\", \"#B6E880\", \"#FF97FF\", \"#FECB52\"], \"font\": {\"color\": \"#2a3f5f\"}, \"geo\": {\"bgcolor\": \"white\", \"lakecolor\": \"white\", \"landcolor\": \"#E5ECF6\", \"showlakes\": true, \"showland\": true, \"subunitcolor\": \"white\"}, \"hoverlabel\": {\"align\": \"left\"}, \"hovermode\": \"closest\", \"mapbox\": {\"style\": \"light\"}, \"paper_bgcolor\": \"white\", \"plot_bgcolor\": \"#E5ECF6\", \"polar\": {\"angularaxis\": {\"gridcolor\": \"white\", \"linecolor\": \"white\", \"ticks\": \"\"}, \"bgcolor\": \"#E5ECF6\", \"radialaxis\": {\"gridcolor\": \"white\", \"linecolor\": \"white\", \"ticks\": \"\"}}, \"scene\": {\"xaxis\": {\"backgroundcolor\": \"#E5ECF6\", \"gridcolor\": \"white\", \"gridwidth\": 2, \"linecolor\": \"white\", \"showbackground\": true, \"ticks\": \"\", \"zerolinecolor\": \"white\"}, \"yaxis\": {\"backgroundcolor\": \"#E5ECF6\", \"gridcolor\": \"white\", \"gridwidth\": 2, \"linecolor\": \"white\", \"showbackground\": true, \"ticks\": \"\", \"zerolinecolor\": \"white\"}, \"zaxis\": {\"backgroundcolor\": \"#E5ECF6\", \"gridcolor\": \"white\", \"gridwidth\": 2, \"linecolor\": \"white\", \"showbackground\": true, \"ticks\": \"\", \"zerolinecolor\": \"white\"}}, \"shapedefaults\": {\"line\": {\"color\": \"#2a3f5f\"}}, \"ternary\": {\"aaxis\": {\"gridcolor\": \"white\", \"linecolor\": \"white\", \"ticks\": \"\"}, \"baxis\": {\"gridcolor\": \"white\", \"linecolor\": \"white\", \"ticks\": \"\"}, \"bgcolor\": \"#E5ECF6\", \"caxis\": {\"gridcolor\": \"white\", \"linecolor\": \"white\", \"ticks\": \"\"}}, \"title\": {\"x\": 0.05}, \"xaxis\": {\"automargin\": true, \"gridcolor\": \"white\", \"linecolor\": \"white\", \"ticks\": \"\", \"title\": {\"standoff\": 15}, \"zerolinecolor\": \"white\", \"zerolinewidth\": 2}, \"yaxis\": {\"automargin\": true, \"gridcolor\": \"white\", \"linecolor\": \"white\", \"ticks\": \"\", \"title\": {\"standoff\": 15}, \"zerolinecolor\": \"white\", \"zerolinewidth\": 2}}}, \"title\": {\"font\": {\"color\": \"#4D5663\"}}, \"xaxis\": {\"gridcolor\": \"#E1E5ED\", \"showgrid\": true, \"tickfont\": {\"color\": \"#4D5663\"}, \"title\": {\"font\": {\"color\": \"#4D5663\"}, \"text\": \"\"}, \"zerolinecolor\": \"#E1E5ED\"}, \"yaxis\": {\"gridcolor\": \"#E1E5ED\", \"showgrid\": true, \"tickfont\": {\"color\": \"#4D5663\"}, \"title\": {\"font\": {\"color\": \"#4D5663\"}, \"text\": \"\"}, \"zerolinecolor\": \"#E1E5ED\"}},\n",
       "                        {\"showLink\": true, \"linkText\": \"Export to plot.ly\", \"plotlyServerURL\": \"https://plot.ly\", \"responsive\": true}\n",
       "                    ).then(function(){\n",
       "                            \n",
       "var gd = document.getElementById('2f25f291-15be-4d29-8c91-77c36794406c');\n",
       "var x = new MutationObserver(function (mutations, observer) {{\n",
       "        var display = window.getComputedStyle(gd).display;\n",
       "        if (!display || display === 'none') {{\n",
       "            console.log([gd, 'removed!']);\n",
       "            Plotly.purge(gd);\n",
       "            observer.disconnect();\n",
       "        }}\n",
       "}});\n",
       "\n",
       "// Listen for the removal of the full notebook cells\n",
       "var notebookContainer = gd.closest('#notebook-container');\n",
       "if (notebookContainer) {{\n",
       "    x.observe(notebookContainer, {childList: true});\n",
       "}}\n",
       "\n",
       "// Listen for the clearing of the current output cell\n",
       "var outputEl = gd.closest('.output');\n",
       "if (outputEl) {{\n",
       "    x.observe(outputEl, {childList: true});\n",
       "}}\n",
       "\n",
       "                        })\n",
       "                };\n",
       "                });\n",
       "            </script>\n",
       "        </div>"
      ]
     },
     "metadata": {},
     "output_type": "display_data"
    }
   ],
   "source": [
    "df.iplot(kind='hist')"
   ]
  },
  {
   "cell_type": "code",
   "execution_count": 32,
   "metadata": {},
   "outputs": [
    {
     "data": {
      "application/vnd.plotly.v1+json": {
       "config": {
        "linkText": "Export to plot.ly",
        "plotlyServerURL": "https://plot.ly",
        "showLink": true
       },
       "data": [
        {
         "histfunc": "count",
         "histnorm": "",
         "marker": {
          "color": "rgba(255, 153, 51, 1.0)",
          "line": {
           "color": "#4D5663",
           "width": 1.3
          }
         },
         "name": "A",
         "nbinsx": 50,
         "opacity": 0.8,
         "orientation": "v",
         "type": "histogram",
         "x": [
          0.19650022373258236,
          -1.9941460778502356,
          0.6626376887314555,
          -0.958327863418552,
          0.4231241777990569,
          0.7113678238984446,
          -0.09165347023463194,
          -1.3149597471701424,
          -1.3933206032441685,
          -0.5529960919904516,
          -1.232042488497158,
          1.0661400300358617,
          0.36496152149907735,
          0.12566632897650376,
          -0.4154383457317713,
          1.1145779823073672,
          1.512565868621305,
          0.1794830651348587,
          1.0343723418421487,
          2.7907567772555297,
          0.2998865268939037,
          -1.1158316023870536,
          -0.027602812843491573,
          -0.5298883887261153,
          1.0290623615134162,
          0.9827394564213197,
          -0.4455813047158554,
          0.2338813758270774,
          -0.02285208244483196,
          -0.8967539023754664,
          -1.4758756049165747,
          -0.8947207457648796,
          -0.07309580354724263,
          -0.7845742580993053,
          0.23876895288454827,
          0.9742961492985625,
          -0.033916672684154374,
          1.1196298171192591,
          -0.535731539283069,
          -0.3906973132685843,
          -0.8424290459415693,
          0.2792280254608758,
          -0.9286349945862502,
          -1.5063893605812446,
          1.8743143044827653,
          -0.651912761220479,
          -0.6218461636563343,
          0.835257171977975,
          -0.6112242584714845,
          0.3039624479311827,
          -1.4468041377380885,
          1.311224077205215,
          -0.7808300388541097,
          -0.7560423271045358,
          -0.5005366745377746,
          -0.8309774142243554,
          0.3162223512088091,
          -0.002041007732976193,
          -0.6113995211974071,
          -0.7775783612568149,
          -1.2475028820394487,
          1.217988302202804,
          -2.035103126115838,
          1.0642766469020115,
          0.20548427026076269,
          1.2143492963512488,
          -0.2852927776860206,
          1.124432516025142,
          1.6347521744859779,
          -1.7834783009007091,
          0.2841397399808306,
          -0.2089012383694685,
          0.16030754969303934,
          0.36365439104045916,
          1.19666648962708,
          1.0687355273258576,
          1.3397200048714657,
          -1.4253637092798235,
          -0.11768531861787762,
          1.093744468440918,
          -0.636974215744073,
          -0.3613674535797206,
          2.053369552369878,
          0.7116839450439921,
          0.21270413234870125,
          -0.7903526585716255,
          -0.5880588643865717,
          0.3927540327176958,
          1.006657100212194,
          0.4213663847261615,
          0.19051498346579346,
          -0.03139508418786326,
          -0.7817689753853478,
          0.11699032841973789,
          0.9873789930068373,
          0.3593178489481021,
          0.19807751375431895,
          0.16904863471663228,
          -0.8675517348746863,
          1.0632008929683778
         ]
        }
       ],
       "layout": {
        "barmode": "overlay",
        "legend": {
         "bgcolor": "#F5F6F9",
         "font": {
          "color": "#4D5663"
         }
        },
        "paper_bgcolor": "#F5F6F9",
        "plot_bgcolor": "#F5F6F9",
        "template": {
         "data": {
          "bar": [
           {
            "error_x": {
             "color": "#2a3f5f"
            },
            "error_y": {
             "color": "#2a3f5f"
            },
            "marker": {
             "line": {
              "color": "#E5ECF6",
              "width": 0.5
             }
            },
            "type": "bar"
           }
          ],
          "barpolar": [
           {
            "marker": {
             "line": {
              "color": "#E5ECF6",
              "width": 0.5
             }
            },
            "type": "barpolar"
           }
          ],
          "carpet": [
           {
            "aaxis": {
             "endlinecolor": "#2a3f5f",
             "gridcolor": "white",
             "linecolor": "white",
             "minorgridcolor": "white",
             "startlinecolor": "#2a3f5f"
            },
            "baxis": {
             "endlinecolor": "#2a3f5f",
             "gridcolor": "white",
             "linecolor": "white",
             "minorgridcolor": "white",
             "startlinecolor": "#2a3f5f"
            },
            "type": "carpet"
           }
          ],
          "choropleth": [
           {
            "colorbar": {
             "outlinewidth": 0,
             "ticks": ""
            },
            "type": "choropleth"
           }
          ],
          "contour": [
           {
            "colorbar": {
             "outlinewidth": 0,
             "ticks": ""
            },
            "colorscale": [
             [
              0,
              "#0d0887"
             ],
             [
              0.1111111111111111,
              "#46039f"
             ],
             [
              0.2222222222222222,
              "#7201a8"
             ],
             [
              0.3333333333333333,
              "#9c179e"
             ],
             [
              0.4444444444444444,
              "#bd3786"
             ],
             [
              0.5555555555555556,
              "#d8576b"
             ],
             [
              0.6666666666666666,
              "#ed7953"
             ],
             [
              0.7777777777777778,
              "#fb9f3a"
             ],
             [
              0.8888888888888888,
              "#fdca26"
             ],
             [
              1,
              "#f0f921"
             ]
            ],
            "type": "contour"
           }
          ],
          "contourcarpet": [
           {
            "colorbar": {
             "outlinewidth": 0,
             "ticks": ""
            },
            "type": "contourcarpet"
           }
          ],
          "heatmap": [
           {
            "colorbar": {
             "outlinewidth": 0,
             "ticks": ""
            },
            "colorscale": [
             [
              0,
              "#0d0887"
             ],
             [
              0.1111111111111111,
              "#46039f"
             ],
             [
              0.2222222222222222,
              "#7201a8"
             ],
             [
              0.3333333333333333,
              "#9c179e"
             ],
             [
              0.4444444444444444,
              "#bd3786"
             ],
             [
              0.5555555555555556,
              "#d8576b"
             ],
             [
              0.6666666666666666,
              "#ed7953"
             ],
             [
              0.7777777777777778,
              "#fb9f3a"
             ],
             [
              0.8888888888888888,
              "#fdca26"
             ],
             [
              1,
              "#f0f921"
             ]
            ],
            "type": "heatmap"
           }
          ],
          "heatmapgl": [
           {
            "colorbar": {
             "outlinewidth": 0,
             "ticks": ""
            },
            "colorscale": [
             [
              0,
              "#0d0887"
             ],
             [
              0.1111111111111111,
              "#46039f"
             ],
             [
              0.2222222222222222,
              "#7201a8"
             ],
             [
              0.3333333333333333,
              "#9c179e"
             ],
             [
              0.4444444444444444,
              "#bd3786"
             ],
             [
              0.5555555555555556,
              "#d8576b"
             ],
             [
              0.6666666666666666,
              "#ed7953"
             ],
             [
              0.7777777777777778,
              "#fb9f3a"
             ],
             [
              0.8888888888888888,
              "#fdca26"
             ],
             [
              1,
              "#f0f921"
             ]
            ],
            "type": "heatmapgl"
           }
          ],
          "histogram": [
           {
            "marker": {
             "colorbar": {
              "outlinewidth": 0,
              "ticks": ""
             }
            },
            "type": "histogram"
           }
          ],
          "histogram2d": [
           {
            "colorbar": {
             "outlinewidth": 0,
             "ticks": ""
            },
            "colorscale": [
             [
              0,
              "#0d0887"
             ],
             [
              0.1111111111111111,
              "#46039f"
             ],
             [
              0.2222222222222222,
              "#7201a8"
             ],
             [
              0.3333333333333333,
              "#9c179e"
             ],
             [
              0.4444444444444444,
              "#bd3786"
             ],
             [
              0.5555555555555556,
              "#d8576b"
             ],
             [
              0.6666666666666666,
              "#ed7953"
             ],
             [
              0.7777777777777778,
              "#fb9f3a"
             ],
             [
              0.8888888888888888,
              "#fdca26"
             ],
             [
              1,
              "#f0f921"
             ]
            ],
            "type": "histogram2d"
           }
          ],
          "histogram2dcontour": [
           {
            "colorbar": {
             "outlinewidth": 0,
             "ticks": ""
            },
            "colorscale": [
             [
              0,
              "#0d0887"
             ],
             [
              0.1111111111111111,
              "#46039f"
             ],
             [
              0.2222222222222222,
              "#7201a8"
             ],
             [
              0.3333333333333333,
              "#9c179e"
             ],
             [
              0.4444444444444444,
              "#bd3786"
             ],
             [
              0.5555555555555556,
              "#d8576b"
             ],
             [
              0.6666666666666666,
              "#ed7953"
             ],
             [
              0.7777777777777778,
              "#fb9f3a"
             ],
             [
              0.8888888888888888,
              "#fdca26"
             ],
             [
              1,
              "#f0f921"
             ]
            ],
            "type": "histogram2dcontour"
           }
          ],
          "mesh3d": [
           {
            "colorbar": {
             "outlinewidth": 0,
             "ticks": ""
            },
            "type": "mesh3d"
           }
          ],
          "parcoords": [
           {
            "line": {
             "colorbar": {
              "outlinewidth": 0,
              "ticks": ""
             }
            },
            "type": "parcoords"
           }
          ],
          "pie": [
           {
            "automargin": true,
            "type": "pie"
           }
          ],
          "scatter": [
           {
            "marker": {
             "colorbar": {
              "outlinewidth": 0,
              "ticks": ""
             }
            },
            "type": "scatter"
           }
          ],
          "scatter3d": [
           {
            "line": {
             "colorbar": {
              "outlinewidth": 0,
              "ticks": ""
             }
            },
            "marker": {
             "colorbar": {
              "outlinewidth": 0,
              "ticks": ""
             }
            },
            "type": "scatter3d"
           }
          ],
          "scattercarpet": [
           {
            "marker": {
             "colorbar": {
              "outlinewidth": 0,
              "ticks": ""
             }
            },
            "type": "scattercarpet"
           }
          ],
          "scattergeo": [
           {
            "marker": {
             "colorbar": {
              "outlinewidth": 0,
              "ticks": ""
             }
            },
            "type": "scattergeo"
           }
          ],
          "scattergl": [
           {
            "marker": {
             "colorbar": {
              "outlinewidth": 0,
              "ticks": ""
             }
            },
            "type": "scattergl"
           }
          ],
          "scattermapbox": [
           {
            "marker": {
             "colorbar": {
              "outlinewidth": 0,
              "ticks": ""
             }
            },
            "type": "scattermapbox"
           }
          ],
          "scatterpolar": [
           {
            "marker": {
             "colorbar": {
              "outlinewidth": 0,
              "ticks": ""
             }
            },
            "type": "scatterpolar"
           }
          ],
          "scatterpolargl": [
           {
            "marker": {
             "colorbar": {
              "outlinewidth": 0,
              "ticks": ""
             }
            },
            "type": "scatterpolargl"
           }
          ],
          "scatterternary": [
           {
            "marker": {
             "colorbar": {
              "outlinewidth": 0,
              "ticks": ""
             }
            },
            "type": "scatterternary"
           }
          ],
          "surface": [
           {
            "colorbar": {
             "outlinewidth": 0,
             "ticks": ""
            },
            "colorscale": [
             [
              0,
              "#0d0887"
             ],
             [
              0.1111111111111111,
              "#46039f"
             ],
             [
              0.2222222222222222,
              "#7201a8"
             ],
             [
              0.3333333333333333,
              "#9c179e"
             ],
             [
              0.4444444444444444,
              "#bd3786"
             ],
             [
              0.5555555555555556,
              "#d8576b"
             ],
             [
              0.6666666666666666,
              "#ed7953"
             ],
             [
              0.7777777777777778,
              "#fb9f3a"
             ],
             [
              0.8888888888888888,
              "#fdca26"
             ],
             [
              1,
              "#f0f921"
             ]
            ],
            "type": "surface"
           }
          ],
          "table": [
           {
            "cells": {
             "fill": {
              "color": "#EBF0F8"
             },
             "line": {
              "color": "white"
             }
            },
            "header": {
             "fill": {
              "color": "#C8D4E3"
             },
             "line": {
              "color": "white"
             }
            },
            "type": "table"
           }
          ]
         },
         "layout": {
          "annotationdefaults": {
           "arrowcolor": "#2a3f5f",
           "arrowhead": 0,
           "arrowwidth": 1
          },
          "coloraxis": {
           "colorbar": {
            "outlinewidth": 0,
            "ticks": ""
           }
          },
          "colorscale": {
           "diverging": [
            [
             0,
             "#8e0152"
            ],
            [
             0.1,
             "#c51b7d"
            ],
            [
             0.2,
             "#de77ae"
            ],
            [
             0.3,
             "#f1b6da"
            ],
            [
             0.4,
             "#fde0ef"
            ],
            [
             0.5,
             "#f7f7f7"
            ],
            [
             0.6,
             "#e6f5d0"
            ],
            [
             0.7,
             "#b8e186"
            ],
            [
             0.8,
             "#7fbc41"
            ],
            [
             0.9,
             "#4d9221"
            ],
            [
             1,
             "#276419"
            ]
           ],
           "sequential": [
            [
             0,
             "#0d0887"
            ],
            [
             0.1111111111111111,
             "#46039f"
            ],
            [
             0.2222222222222222,
             "#7201a8"
            ],
            [
             0.3333333333333333,
             "#9c179e"
            ],
            [
             0.4444444444444444,
             "#bd3786"
            ],
            [
             0.5555555555555556,
             "#d8576b"
            ],
            [
             0.6666666666666666,
             "#ed7953"
            ],
            [
             0.7777777777777778,
             "#fb9f3a"
            ],
            [
             0.8888888888888888,
             "#fdca26"
            ],
            [
             1,
             "#f0f921"
            ]
           ],
           "sequentialminus": [
            [
             0,
             "#0d0887"
            ],
            [
             0.1111111111111111,
             "#46039f"
            ],
            [
             0.2222222222222222,
             "#7201a8"
            ],
            [
             0.3333333333333333,
             "#9c179e"
            ],
            [
             0.4444444444444444,
             "#bd3786"
            ],
            [
             0.5555555555555556,
             "#d8576b"
            ],
            [
             0.6666666666666666,
             "#ed7953"
            ],
            [
             0.7777777777777778,
             "#fb9f3a"
            ],
            [
             0.8888888888888888,
             "#fdca26"
            ],
            [
             1,
             "#f0f921"
            ]
           ]
          },
          "colorway": [
           "#636efa",
           "#EF553B",
           "#00cc96",
           "#ab63fa",
           "#FFA15A",
           "#19d3f3",
           "#FF6692",
           "#B6E880",
           "#FF97FF",
           "#FECB52"
          ],
          "font": {
           "color": "#2a3f5f"
          },
          "geo": {
           "bgcolor": "white",
           "lakecolor": "white",
           "landcolor": "#E5ECF6",
           "showlakes": true,
           "showland": true,
           "subunitcolor": "white"
          },
          "hoverlabel": {
           "align": "left"
          },
          "hovermode": "closest",
          "mapbox": {
           "style": "light"
          },
          "paper_bgcolor": "white",
          "plot_bgcolor": "#E5ECF6",
          "polar": {
           "angularaxis": {
            "gridcolor": "white",
            "linecolor": "white",
            "ticks": ""
           },
           "bgcolor": "#E5ECF6",
           "radialaxis": {
            "gridcolor": "white",
            "linecolor": "white",
            "ticks": ""
           }
          },
          "scene": {
           "xaxis": {
            "backgroundcolor": "#E5ECF6",
            "gridcolor": "white",
            "gridwidth": 2,
            "linecolor": "white",
            "showbackground": true,
            "ticks": "",
            "zerolinecolor": "white"
           },
           "yaxis": {
            "backgroundcolor": "#E5ECF6",
            "gridcolor": "white",
            "gridwidth": 2,
            "linecolor": "white",
            "showbackground": true,
            "ticks": "",
            "zerolinecolor": "white"
           },
           "zaxis": {
            "backgroundcolor": "#E5ECF6",
            "gridcolor": "white",
            "gridwidth": 2,
            "linecolor": "white",
            "showbackground": true,
            "ticks": "",
            "zerolinecolor": "white"
           }
          },
          "shapedefaults": {
           "line": {
            "color": "#2a3f5f"
           }
          },
          "ternary": {
           "aaxis": {
            "gridcolor": "white",
            "linecolor": "white",
            "ticks": ""
           },
           "baxis": {
            "gridcolor": "white",
            "linecolor": "white",
            "ticks": ""
           },
           "bgcolor": "#E5ECF6",
           "caxis": {
            "gridcolor": "white",
            "linecolor": "white",
            "ticks": ""
           }
          },
          "title": {
           "x": 0.05
          },
          "xaxis": {
           "automargin": true,
           "gridcolor": "white",
           "linecolor": "white",
           "ticks": "",
           "title": {
            "standoff": 15
           },
           "zerolinecolor": "white",
           "zerolinewidth": 2
          },
          "yaxis": {
           "automargin": true,
           "gridcolor": "white",
           "linecolor": "white",
           "ticks": "",
           "title": {
            "standoff": 15
           },
           "zerolinecolor": "white",
           "zerolinewidth": 2
          }
         }
        },
        "title": {
         "font": {
          "color": "#4D5663"
         }
        },
        "xaxis": {
         "gridcolor": "#E1E5ED",
         "showgrid": true,
         "tickfont": {
          "color": "#4D5663"
         },
         "title": {
          "font": {
           "color": "#4D5663"
          },
          "text": ""
         },
         "zerolinecolor": "#E1E5ED"
        },
        "yaxis": {
         "gridcolor": "#E1E5ED",
         "showgrid": true,
         "tickfont": {
          "color": "#4D5663"
         },
         "title": {
          "font": {
           "color": "#4D5663"
          },
          "text": ""
         },
         "zerolinecolor": "#E1E5ED"
        }
       }
      },
      "text/html": [
       "<div>\n",
       "        \n",
       "        \n",
       "            <div id=\"c5556eed-5c4d-4397-a6f4-e0ec986cc37b\" class=\"plotly-graph-div\" style=\"height:525px; width:100%;\"></div>\n",
       "            <script type=\"text/javascript\">\n",
       "                require([\"plotly\"], function(Plotly) {\n",
       "                    window.PLOTLYENV=window.PLOTLYENV || {};\n",
       "                    window.PLOTLYENV.BASE_URL='https://plot.ly';\n",
       "                    \n",
       "                if (document.getElementById(\"c5556eed-5c4d-4397-a6f4-e0ec986cc37b\")) {\n",
       "                    Plotly.newPlot(\n",
       "                        'c5556eed-5c4d-4397-a6f4-e0ec986cc37b',\n",
       "                        [{\"histfunc\": \"count\", \"histnorm\": \"\", \"marker\": {\"color\": \"rgba(255, 153, 51, 1.0)\", \"line\": {\"color\": \"#4D5663\", \"width\": 1.3}}, \"name\": \"A\", \"nbinsx\": 50, \"opacity\": 0.8, \"orientation\": \"v\", \"type\": \"histogram\", \"x\": [0.19650022373258236, -1.9941460778502356, 0.6626376887314555, -0.958327863418552, 0.4231241777990569, 0.7113678238984446, -0.09165347023463194, -1.3149597471701424, -1.3933206032441685, -0.5529960919904516, -1.232042488497158, 1.0661400300358617, 0.36496152149907735, 0.12566632897650376, -0.4154383457317713, 1.1145779823073672, 1.512565868621305, 0.1794830651348587, 1.0343723418421487, 2.7907567772555297, 0.2998865268939037, -1.1158316023870536, -0.027602812843491573, -0.5298883887261153, 1.0290623615134162, 0.9827394564213197, -0.4455813047158554, 0.2338813758270774, -0.02285208244483196, -0.8967539023754664, -1.4758756049165747, -0.8947207457648796, -0.07309580354724263, -0.7845742580993053, 0.23876895288454827, 0.9742961492985625, -0.033916672684154374, 1.1196298171192591, -0.535731539283069, -0.3906973132685843, -0.8424290459415693, 0.2792280254608758, -0.9286349945862502, -1.5063893605812446, 1.8743143044827653, -0.651912761220479, -0.6218461636563343, 0.835257171977975, -0.6112242584714845, 0.3039624479311827, -1.4468041377380885, 1.311224077205215, -0.7808300388541097, -0.7560423271045358, -0.5005366745377746, -0.8309774142243554, 0.3162223512088091, -0.002041007732976193, -0.6113995211974071, -0.7775783612568149, -1.2475028820394487, 1.217988302202804, -2.035103126115838, 1.0642766469020115, 0.20548427026076269, 1.2143492963512488, -0.2852927776860206, 1.124432516025142, 1.6347521744859779, -1.7834783009007091, 0.2841397399808306, -0.2089012383694685, 0.16030754969303934, 0.36365439104045916, 1.19666648962708, 1.0687355273258576, 1.3397200048714657, -1.4253637092798235, -0.11768531861787762, 1.093744468440918, -0.636974215744073, -0.3613674535797206, 2.053369552369878, 0.7116839450439921, 0.21270413234870125, -0.7903526585716255, -0.5880588643865717, 0.3927540327176958, 1.006657100212194, 0.4213663847261615, 0.19051498346579346, -0.03139508418786326, -0.7817689753853478, 0.11699032841973789, 0.9873789930068373, 0.3593178489481021, 0.19807751375431895, 0.16904863471663228, -0.8675517348746863, 1.0632008929683778]}],\n",
       "                        {\"barmode\": \"overlay\", \"legend\": {\"bgcolor\": \"#F5F6F9\", \"font\": {\"color\": \"#4D5663\"}}, \"paper_bgcolor\": \"#F5F6F9\", \"plot_bgcolor\": \"#F5F6F9\", \"template\": {\"data\": {\"bar\": [{\"error_x\": {\"color\": \"#2a3f5f\"}, \"error_y\": {\"color\": \"#2a3f5f\"}, \"marker\": {\"line\": {\"color\": \"#E5ECF6\", \"width\": 0.5}}, \"type\": \"bar\"}], \"barpolar\": [{\"marker\": {\"line\": {\"color\": \"#E5ECF6\", \"width\": 0.5}}, \"type\": \"barpolar\"}], \"carpet\": [{\"aaxis\": {\"endlinecolor\": \"#2a3f5f\", \"gridcolor\": \"white\", \"linecolor\": \"white\", \"minorgridcolor\": \"white\", \"startlinecolor\": \"#2a3f5f\"}, \"baxis\": {\"endlinecolor\": \"#2a3f5f\", \"gridcolor\": \"white\", \"linecolor\": \"white\", \"minorgridcolor\": \"white\", \"startlinecolor\": \"#2a3f5f\"}, \"type\": \"carpet\"}], \"choropleth\": [{\"colorbar\": {\"outlinewidth\": 0, \"ticks\": \"\"}, \"type\": \"choropleth\"}], \"contour\": [{\"colorbar\": {\"outlinewidth\": 0, \"ticks\": \"\"}, \"colorscale\": [[0.0, \"#0d0887\"], [0.1111111111111111, \"#46039f\"], [0.2222222222222222, \"#7201a8\"], [0.3333333333333333, \"#9c179e\"], [0.4444444444444444, \"#bd3786\"], [0.5555555555555556, \"#d8576b\"], [0.6666666666666666, \"#ed7953\"], [0.7777777777777778, \"#fb9f3a\"], [0.8888888888888888, \"#fdca26\"], [1.0, \"#f0f921\"]], \"type\": \"contour\"}], \"contourcarpet\": [{\"colorbar\": {\"outlinewidth\": 0, \"ticks\": \"\"}, \"type\": \"contourcarpet\"}], \"heatmap\": [{\"colorbar\": {\"outlinewidth\": 0, \"ticks\": \"\"}, \"colorscale\": [[0.0, \"#0d0887\"], [0.1111111111111111, \"#46039f\"], [0.2222222222222222, \"#7201a8\"], [0.3333333333333333, \"#9c179e\"], [0.4444444444444444, \"#bd3786\"], [0.5555555555555556, \"#d8576b\"], [0.6666666666666666, \"#ed7953\"], [0.7777777777777778, \"#fb9f3a\"], [0.8888888888888888, \"#fdca26\"], [1.0, \"#f0f921\"]], \"type\": \"heatmap\"}], \"heatmapgl\": [{\"colorbar\": {\"outlinewidth\": 0, \"ticks\": \"\"}, \"colorscale\": [[0.0, \"#0d0887\"], [0.1111111111111111, \"#46039f\"], [0.2222222222222222, \"#7201a8\"], [0.3333333333333333, \"#9c179e\"], [0.4444444444444444, \"#bd3786\"], [0.5555555555555556, \"#d8576b\"], [0.6666666666666666, \"#ed7953\"], [0.7777777777777778, \"#fb9f3a\"], [0.8888888888888888, \"#fdca26\"], [1.0, \"#f0f921\"]], \"type\": \"heatmapgl\"}], \"histogram\": [{\"marker\": {\"colorbar\": {\"outlinewidth\": 0, \"ticks\": \"\"}}, \"type\": \"histogram\"}], \"histogram2d\": [{\"colorbar\": {\"outlinewidth\": 0, \"ticks\": \"\"}, \"colorscale\": [[0.0, \"#0d0887\"], [0.1111111111111111, \"#46039f\"], [0.2222222222222222, \"#7201a8\"], [0.3333333333333333, \"#9c179e\"], [0.4444444444444444, \"#bd3786\"], [0.5555555555555556, \"#d8576b\"], [0.6666666666666666, \"#ed7953\"], [0.7777777777777778, \"#fb9f3a\"], [0.8888888888888888, \"#fdca26\"], [1.0, \"#f0f921\"]], \"type\": \"histogram2d\"}], \"histogram2dcontour\": [{\"colorbar\": {\"outlinewidth\": 0, \"ticks\": \"\"}, \"colorscale\": [[0.0, \"#0d0887\"], [0.1111111111111111, \"#46039f\"], [0.2222222222222222, \"#7201a8\"], [0.3333333333333333, \"#9c179e\"], [0.4444444444444444, \"#bd3786\"], [0.5555555555555556, \"#d8576b\"], [0.6666666666666666, \"#ed7953\"], [0.7777777777777778, \"#fb9f3a\"], [0.8888888888888888, \"#fdca26\"], [1.0, \"#f0f921\"]], \"type\": \"histogram2dcontour\"}], \"mesh3d\": [{\"colorbar\": {\"outlinewidth\": 0, \"ticks\": \"\"}, \"type\": \"mesh3d\"}], \"parcoords\": [{\"line\": {\"colorbar\": {\"outlinewidth\": 0, \"ticks\": \"\"}}, \"type\": \"parcoords\"}], \"pie\": [{\"automargin\": true, \"type\": \"pie\"}], \"scatter\": [{\"marker\": {\"colorbar\": {\"outlinewidth\": 0, \"ticks\": \"\"}}, \"type\": \"scatter\"}], \"scatter3d\": [{\"line\": {\"colorbar\": {\"outlinewidth\": 0, \"ticks\": \"\"}}, \"marker\": {\"colorbar\": {\"outlinewidth\": 0, \"ticks\": \"\"}}, \"type\": \"scatter3d\"}], \"scattercarpet\": [{\"marker\": {\"colorbar\": {\"outlinewidth\": 0, \"ticks\": \"\"}}, \"type\": \"scattercarpet\"}], \"scattergeo\": [{\"marker\": {\"colorbar\": {\"outlinewidth\": 0, \"ticks\": \"\"}}, \"type\": \"scattergeo\"}], \"scattergl\": [{\"marker\": {\"colorbar\": {\"outlinewidth\": 0, \"ticks\": \"\"}}, \"type\": \"scattergl\"}], \"scattermapbox\": [{\"marker\": {\"colorbar\": {\"outlinewidth\": 0, \"ticks\": \"\"}}, \"type\": \"scattermapbox\"}], \"scatterpolar\": [{\"marker\": {\"colorbar\": {\"outlinewidth\": 0, \"ticks\": \"\"}}, \"type\": \"scatterpolar\"}], \"scatterpolargl\": [{\"marker\": {\"colorbar\": {\"outlinewidth\": 0, \"ticks\": \"\"}}, \"type\": \"scatterpolargl\"}], \"scatterternary\": [{\"marker\": {\"colorbar\": {\"outlinewidth\": 0, \"ticks\": \"\"}}, \"type\": \"scatterternary\"}], \"surface\": [{\"colorbar\": {\"outlinewidth\": 0, \"ticks\": \"\"}, \"colorscale\": [[0.0, \"#0d0887\"], [0.1111111111111111, \"#46039f\"], [0.2222222222222222, \"#7201a8\"], [0.3333333333333333, \"#9c179e\"], [0.4444444444444444, \"#bd3786\"], [0.5555555555555556, \"#d8576b\"], [0.6666666666666666, \"#ed7953\"], [0.7777777777777778, \"#fb9f3a\"], [0.8888888888888888, \"#fdca26\"], [1.0, \"#f0f921\"]], \"type\": \"surface\"}], \"table\": [{\"cells\": {\"fill\": {\"color\": \"#EBF0F8\"}, \"line\": {\"color\": \"white\"}}, \"header\": {\"fill\": {\"color\": \"#C8D4E3\"}, \"line\": {\"color\": \"white\"}}, \"type\": \"table\"}]}, \"layout\": {\"annotationdefaults\": {\"arrowcolor\": \"#2a3f5f\", \"arrowhead\": 0, \"arrowwidth\": 1}, \"coloraxis\": {\"colorbar\": {\"outlinewidth\": 0, \"ticks\": \"\"}}, \"colorscale\": {\"diverging\": [[0, \"#8e0152\"], [0.1, \"#c51b7d\"], [0.2, \"#de77ae\"], [0.3, \"#f1b6da\"], [0.4, \"#fde0ef\"], [0.5, \"#f7f7f7\"], [0.6, \"#e6f5d0\"], [0.7, \"#b8e186\"], [0.8, \"#7fbc41\"], [0.9, \"#4d9221\"], [1, \"#276419\"]], \"sequential\": [[0.0, \"#0d0887\"], [0.1111111111111111, \"#46039f\"], [0.2222222222222222, \"#7201a8\"], [0.3333333333333333, \"#9c179e\"], [0.4444444444444444, \"#bd3786\"], [0.5555555555555556, \"#d8576b\"], [0.6666666666666666, \"#ed7953\"], [0.7777777777777778, \"#fb9f3a\"], [0.8888888888888888, \"#fdca26\"], [1.0, \"#f0f921\"]], \"sequentialminus\": [[0.0, \"#0d0887\"], [0.1111111111111111, \"#46039f\"], [0.2222222222222222, \"#7201a8\"], [0.3333333333333333, \"#9c179e\"], [0.4444444444444444, \"#bd3786\"], [0.5555555555555556, \"#d8576b\"], [0.6666666666666666, \"#ed7953\"], [0.7777777777777778, \"#fb9f3a\"], [0.8888888888888888, \"#fdca26\"], [1.0, \"#f0f921\"]]}, \"colorway\": [\"#636efa\", \"#EF553B\", \"#00cc96\", \"#ab63fa\", \"#FFA15A\", \"#19d3f3\", \"#FF6692\", \"#B6E880\", \"#FF97FF\", \"#FECB52\"], \"font\": {\"color\": \"#2a3f5f\"}, \"geo\": {\"bgcolor\": \"white\", \"lakecolor\": \"white\", \"landcolor\": \"#E5ECF6\", \"showlakes\": true, \"showland\": true, \"subunitcolor\": \"white\"}, \"hoverlabel\": {\"align\": \"left\"}, \"hovermode\": \"closest\", \"mapbox\": {\"style\": \"light\"}, \"paper_bgcolor\": \"white\", \"plot_bgcolor\": \"#E5ECF6\", \"polar\": {\"angularaxis\": {\"gridcolor\": \"white\", \"linecolor\": \"white\", \"ticks\": \"\"}, \"bgcolor\": \"#E5ECF6\", \"radialaxis\": {\"gridcolor\": \"white\", \"linecolor\": \"white\", \"ticks\": \"\"}}, \"scene\": {\"xaxis\": {\"backgroundcolor\": \"#E5ECF6\", \"gridcolor\": \"white\", \"gridwidth\": 2, \"linecolor\": \"white\", \"showbackground\": true, \"ticks\": \"\", \"zerolinecolor\": \"white\"}, \"yaxis\": {\"backgroundcolor\": \"#E5ECF6\", \"gridcolor\": \"white\", \"gridwidth\": 2, \"linecolor\": \"white\", \"showbackground\": true, \"ticks\": \"\", \"zerolinecolor\": \"white\"}, \"zaxis\": {\"backgroundcolor\": \"#E5ECF6\", \"gridcolor\": \"white\", \"gridwidth\": 2, \"linecolor\": \"white\", \"showbackground\": true, \"ticks\": \"\", \"zerolinecolor\": \"white\"}}, \"shapedefaults\": {\"line\": {\"color\": \"#2a3f5f\"}}, \"ternary\": {\"aaxis\": {\"gridcolor\": \"white\", \"linecolor\": \"white\", \"ticks\": \"\"}, \"baxis\": {\"gridcolor\": \"white\", \"linecolor\": \"white\", \"ticks\": \"\"}, \"bgcolor\": \"#E5ECF6\", \"caxis\": {\"gridcolor\": \"white\", \"linecolor\": \"white\", \"ticks\": \"\"}}, \"title\": {\"x\": 0.05}, \"xaxis\": {\"automargin\": true, \"gridcolor\": \"white\", \"linecolor\": \"white\", \"ticks\": \"\", \"title\": {\"standoff\": 15}, \"zerolinecolor\": \"white\", \"zerolinewidth\": 2}, \"yaxis\": {\"automargin\": true, \"gridcolor\": \"white\", \"linecolor\": \"white\", \"ticks\": \"\", \"title\": {\"standoff\": 15}, \"zerolinecolor\": \"white\", \"zerolinewidth\": 2}}}, \"title\": {\"font\": {\"color\": \"#4D5663\"}}, \"xaxis\": {\"gridcolor\": \"#E1E5ED\", \"showgrid\": true, \"tickfont\": {\"color\": \"#4D5663\"}, \"title\": {\"font\": {\"color\": \"#4D5663\"}, \"text\": \"\"}, \"zerolinecolor\": \"#E1E5ED\"}, \"yaxis\": {\"gridcolor\": \"#E1E5ED\", \"showgrid\": true, \"tickfont\": {\"color\": \"#4D5663\"}, \"title\": {\"font\": {\"color\": \"#4D5663\"}, \"text\": \"\"}, \"zerolinecolor\": \"#E1E5ED\"}},\n",
       "                        {\"showLink\": true, \"linkText\": \"Export to plot.ly\", \"plotlyServerURL\": \"https://plot.ly\", \"responsive\": true}\n",
       "                    ).then(function(){\n",
       "                            \n",
       "var gd = document.getElementById('c5556eed-5c4d-4397-a6f4-e0ec986cc37b');\n",
       "var x = new MutationObserver(function (mutations, observer) {{\n",
       "        var display = window.getComputedStyle(gd).display;\n",
       "        if (!display || display === 'none') {{\n",
       "            console.log([gd, 'removed!']);\n",
       "            Plotly.purge(gd);\n",
       "            observer.disconnect();\n",
       "        }}\n",
       "}});\n",
       "\n",
       "// Listen for the removal of the full notebook cells\n",
       "var notebookContainer = gd.closest('#notebook-container');\n",
       "if (notebookContainer) {{\n",
       "    x.observe(notebookContainer, {childList: true});\n",
       "}}\n",
       "\n",
       "// Listen for the clearing of the current output cell\n",
       "var outputEl = gd.closest('.output');\n",
       "if (outputEl) {{\n",
       "    x.observe(outputEl, {childList: true});\n",
       "}}\n",
       "\n",
       "                        })\n",
       "                };\n",
       "                });\n",
       "            </script>\n",
       "        </div>"
      ]
     },
     "metadata": {},
     "output_type": "display_data"
    }
   ],
   "source": [
    "df['A'].iplot(kind='hist',bins=50)"
   ]
  },
  {
   "cell_type": "code",
   "execution_count": 36,
   "metadata": {},
   "outputs": [
    {
     "data": {
      "application/vnd.plotly.v1+json": {
       "config": {
        "linkText": "Export to plot.ly",
        "plotlyServerURL": "https://plot.ly",
        "showLink": true
       },
       "data": [
        {
         "line": {
          "color": "rgba(255, 153, 51, 1.0)",
          "dash": "solid",
          "shape": "linear",
          "width": 1.3
         },
         "mode": "lines",
         "name": "A",
         "text": "",
         "type": "scatter",
         "x": [
          0,
          1,
          2,
          3,
          4,
          5,
          6,
          7,
          8,
          9,
          10,
          11,
          12,
          13,
          14,
          15,
          16,
          17,
          18,
          19,
          20,
          21,
          22,
          23,
          24,
          25,
          26,
          27,
          28,
          29,
          30,
          31,
          32,
          33,
          34,
          35,
          36,
          37,
          38,
          39,
          40,
          41,
          42,
          43,
          44,
          45,
          46,
          47,
          48,
          49,
          50,
          51,
          52,
          53,
          54,
          55,
          56,
          57,
          58,
          59,
          60,
          61,
          62,
          63,
          64,
          65,
          66,
          67,
          68,
          69,
          70,
          71,
          72,
          73,
          74,
          75,
          76,
          77,
          78,
          79,
          80,
          81,
          82,
          83,
          84,
          85,
          86,
          87,
          88,
          89,
          90,
          91,
          92,
          93,
          94,
          95,
          96,
          97,
          98,
          99
         ],
         "y": [
          0.19650022373258236,
          -1.9941460778502356,
          0.6626376887314555,
          -0.958327863418552,
          0.4231241777990569,
          0.7113678238984446,
          -0.09165347023463194,
          -1.3149597471701424,
          -1.3933206032441685,
          -0.5529960919904516,
          -1.232042488497158,
          1.0661400300358617,
          0.36496152149907735,
          0.12566632897650376,
          -0.4154383457317713,
          1.1145779823073672,
          1.512565868621305,
          0.1794830651348587,
          1.0343723418421487,
          2.7907567772555297,
          0.2998865268939037,
          -1.1158316023870536,
          -0.027602812843491573,
          -0.5298883887261153,
          1.0290623615134162,
          0.9827394564213197,
          -0.4455813047158554,
          0.2338813758270774,
          -0.02285208244483196,
          -0.8967539023754664,
          -1.4758756049165747,
          -0.8947207457648796,
          -0.07309580354724263,
          -0.7845742580993053,
          0.23876895288454827,
          0.9742961492985625,
          -0.033916672684154374,
          1.1196298171192591,
          -0.535731539283069,
          -0.3906973132685843,
          -0.8424290459415693,
          0.2792280254608758,
          -0.9286349945862502,
          -1.5063893605812446,
          1.8743143044827653,
          -0.651912761220479,
          -0.6218461636563343,
          0.835257171977975,
          -0.6112242584714845,
          0.3039624479311827,
          -1.4468041377380885,
          1.311224077205215,
          -0.7808300388541097,
          -0.7560423271045358,
          -0.5005366745377746,
          -0.8309774142243554,
          0.3162223512088091,
          -0.002041007732976193,
          -0.6113995211974071,
          -0.7775783612568149,
          -1.2475028820394487,
          1.217988302202804,
          -2.035103126115838,
          1.0642766469020115,
          0.20548427026076269,
          1.2143492963512488,
          -0.2852927776860206,
          1.124432516025142,
          1.6347521744859779,
          -1.7834783009007091,
          0.2841397399808306,
          -0.2089012383694685,
          0.16030754969303934,
          0.36365439104045916,
          1.19666648962708,
          1.0687355273258576,
          1.3397200048714657,
          -1.4253637092798235,
          -0.11768531861787762,
          1.093744468440918,
          -0.636974215744073,
          -0.3613674535797206,
          2.053369552369878,
          0.7116839450439921,
          0.21270413234870125,
          -0.7903526585716255,
          -0.5880588643865717,
          0.3927540327176958,
          1.006657100212194,
          0.4213663847261615,
          0.19051498346579346,
          -0.03139508418786326,
          -0.7817689753853478,
          0.11699032841973789,
          0.9873789930068373,
          0.3593178489481021,
          0.19807751375431895,
          0.16904863471663228,
          -0.8675517348746863,
          1.0632008929683778
         ]
        },
        {
         "line": {
          "color": "rgba(55, 128, 191, 1.0)",
          "dash": "solid",
          "shape": "linear",
          "width": 1.3
         },
         "mode": "lines",
         "name": "B",
         "text": "",
         "type": "scatter",
         "x": [
          0,
          1,
          2,
          3,
          4,
          5,
          6,
          7,
          8,
          9,
          10,
          11,
          12,
          13,
          14,
          15,
          16,
          17,
          18,
          19,
          20,
          21,
          22,
          23,
          24,
          25,
          26,
          27,
          28,
          29,
          30,
          31,
          32,
          33,
          34,
          35,
          36,
          37,
          38,
          39,
          40,
          41,
          42,
          43,
          44,
          45,
          46,
          47,
          48,
          49,
          50,
          51,
          52,
          53,
          54,
          55,
          56,
          57,
          58,
          59,
          60,
          61,
          62,
          63,
          64,
          65,
          66,
          67,
          68,
          69,
          70,
          71,
          72,
          73,
          74,
          75,
          76,
          77,
          78,
          79,
          80,
          81,
          82,
          83,
          84,
          85,
          86,
          87,
          88,
          89,
          90,
          91,
          92,
          93,
          94,
          95,
          96,
          97,
          98,
          99
         ],
         "y": [
          -0.7167540505755027,
          -0.12909041323094617,
          0.22877681615439618,
          0.31882194562550403,
          0.4225554005693531,
          -1.6017150482952225,
          -0.2831684279736227,
          0.4322828011724924,
          1.255309714528344,
          0.8755230396176855,
          -0.6831456954439784,
          0.8110952397727162,
          -0.9166031195725972,
          0.3064369207186609,
          -2.0490989505187236,
          0.24906760614659623,
          0.39402324128552113,
          1.2780126859912582,
          -0.6505787538828152,
          -1.8518228676195427,
          -0.6746027652090811,
          -0.5161504692227723,
          0.2675518587457653,
          1.2710464229933724,
          1.2807012511537221,
          -0.813800981946473,
          0.9887296411556364,
          0.34779627811844277,
          1.0722640977196165,
          0.6433973284268374,
          0.40989450323414944,
          -1.4733258160007474,
          -0.9412466041115733,
          -0.10393012533579014,
          -0.6633454096051882,
          0.015757602282605216,
          1.9300001620261522,
          0.3233316683803168,
          1.392081529793989,
          1.4443614670956944,
          -0.19790878795053235,
          -0.5544650739226349,
          0.5810930100480569,
          -0.1905863676661684,
          0.6475117163062424,
          -0.4221535516573303,
          -0.9506756238745352,
          -0.3235691101756691,
          1.4337726924059773,
          -0.12164703421491174,
          -1.062327523237242,
          0.11695727946221875,
          -1.007567980517339,
          -3.098258736419873,
          1.235020540831101,
          0.08921425828329375,
          0.704599257819094,
          -1.9902654298561624,
          -1.3954712513866852,
          0.26963792912257833,
          0.24635411911346924,
          1.2620128885536703,
          1.1836800423064873,
          1.400217743322152,
          -0.8679652825501485,
          -0.7350983986807433,
          -2.069993960321671,
          -1.282928343846692,
          0.48351853758115854,
          0.6112862292452989,
          1.1036595971163061,
          -0.5462393578834953,
          -0.33009350560709183,
          -1.629830976151171,
          1.1731247238933304,
          -0.2389716755564296,
          0.10612143852848767,
          0.24536861497171922,
          -1.3303910676401658,
          -1.003306043921901,
          -0.4633435944966815,
          -0.022550288796635908,
          -1.012648189549336,
          -0.7750502400724303,
          -0.04569054422612893,
          -1.2199363247358548,
          -0.46624047284590303,
          -0.018410039343196544,
          0.6315535035946279,
          -0.6522499307304486,
          1.0430884953210082,
          -0.22480352941851106,
          -0.1484017345204255,
          -0.17236561194123814,
          -1.0275961625778565,
          0.819474611828162,
          1.1454383327596491,
          -1.2813189449037186,
          1.753594350607639,
          0.1766289971132849
         ]
        },
        {
         "connectgaps": false,
         "fill": "tozeroy",
         "line": {
          "color": "green",
          "dash": "solid",
          "shape": "linear",
          "width": 0.5
         },
         "mode": "lines",
         "name": "Spread",
         "showlegend": false,
         "type": "scatter",
         "x": [
          0,
          1,
          2,
          3,
          4,
          5,
          6,
          7,
          8,
          9,
          10,
          11,
          12,
          13,
          14,
          15,
          16,
          17,
          18,
          19,
          20,
          21,
          22,
          23,
          24,
          25,
          26,
          27,
          28,
          29,
          30,
          31,
          32,
          33,
          34,
          35,
          36,
          37,
          38,
          39,
          40,
          41,
          42,
          43,
          44,
          45,
          46,
          47,
          48,
          49,
          50,
          51,
          52,
          53,
          54,
          55,
          56,
          57,
          58,
          59,
          60,
          61,
          62,
          63,
          64,
          65,
          66,
          67,
          68,
          69,
          70,
          71,
          72,
          73,
          74,
          75,
          76,
          77,
          78,
          79,
          80,
          81,
          82,
          83,
          84,
          85,
          86,
          87,
          88,
          89,
          90,
          91,
          92,
          93,
          94,
          95,
          96,
          97,
          98,
          99
         ],
         "xaxis": "x2",
         "y": [
          0.913254274308085,
          "",
          0.4338608725770593,
          "",
          0.0005687772297038318,
          2.313082872193667,
          0.19151495773899074,
          "",
          "",
          "",
          "",
          0.2550447902631454,
          1.2815646410716746,
          "",
          1.6336606047869524,
          0.865510376160771,
          1.118542627335784,
          "",
          1.6849510957249638,
          4.642579644875072,
          0.9744892921029848,
          "",
          "",
          "",
          "",
          1.7965404383677925,
          "",
          "",
          "",
          "",
          "",
          0.5786050702358678,
          0.8681508005643307,
          "",
          0.9021143624897364,
          0.9585385470159572,
          "",
          0.7962981487389423,
          "",
          "",
          "",
          0.8336930993835107,
          "",
          "",
          1.2268025881765228,
          "",
          0.3288294602182009,
          1.1588262821536441,
          "",
          0.42560948214609445,
          "",
          1.1942667977429964,
          0.22673794166322925,
          2.3422164093153373,
          "",
          "",
          "",
          1.9882244221231862,
          0.784071730189278,
          "",
          "",
          "",
          "",
          "",
          1.0734495528109111,
          1.9494476950319921,
          1.7847011826356503,
          2.407360859871834,
          1.1512336369048193,
          "",
          "",
          0.3373381195140268,
          0.4904010553001312,
          1.9934853671916302,
          0.023541765733749553,
          1.3077072028822871,
          1.233598566342978,
          "",
          1.2127057490222881,
          2.097050512362819,
          "",
          "",
          3.0660177419192136,
          1.4867341851164224,
          0.2583946765748302,
          0.42958366616422927,
          "",
          0.41116407206089234,
          0.3751035966175661,
          1.07361631545661,
          "",
          0.1934084452306478,
          "",
          0.289355940360976,
          2.0149751555846938,
          "",
          "",
          1.4503675796203508,
          "",
          0.886571895855093
         ],
         "yaxis": "y2"
        },
        {
         "connectgaps": false,
         "fill": "tozeroy",
         "line": {
          "color": "red",
          "dash": "solid",
          "shape": "linear",
          "width": 0.5
         },
         "mode": "lines",
         "name": "Spread",
         "showlegend": false,
         "type": "scatter",
         "x": [
          0,
          1,
          2,
          3,
          4,
          5,
          6,
          7,
          8,
          9,
          10,
          11,
          12,
          13,
          14,
          15,
          16,
          17,
          18,
          19,
          20,
          21,
          22,
          23,
          24,
          25,
          26,
          27,
          28,
          29,
          30,
          31,
          32,
          33,
          34,
          35,
          36,
          37,
          38,
          39,
          40,
          41,
          42,
          43,
          44,
          45,
          46,
          47,
          48,
          49,
          50,
          51,
          52,
          53,
          54,
          55,
          56,
          57,
          58,
          59,
          60,
          61,
          62,
          63,
          64,
          65,
          66,
          67,
          68,
          69,
          70,
          71,
          72,
          73,
          74,
          75,
          76,
          77,
          78,
          79,
          80,
          81,
          82,
          83,
          84,
          85,
          86,
          87,
          88,
          89,
          90,
          91,
          92,
          93,
          94,
          95,
          96,
          97,
          98,
          99
         ],
         "xaxis": "x2",
         "y": [
          "",
          -1.8650556646192893,
          "",
          -1.277149809044056,
          "",
          "",
          "",
          -1.7472425483426348,
          -2.6486303177725126,
          -1.4285191316081371,
          -0.5488967930531795,
          "",
          "",
          -0.18077059174215715,
          "",
          "",
          "",
          -1.0985296208563995,
          "",
          "",
          "",
          -0.5996811331642813,
          -0.2951546715892569,
          -1.8009348117194879,
          -0.2516388896403059,
          "",
          -1.4343109458714918,
          -0.11391490229136536,
          -1.0951161801644484,
          -1.5401512308023038,
          -1.885770108150724,
          "",
          "",
          -0.6806441327635151,
          "",
          "",
          -1.9639168347103066,
          "",
          -1.927813069077058,
          -1.8350587803642786,
          -0.644520257991037,
          "",
          -1.5097280046343071,
          -1.3158029929150763,
          "",
          -0.22975920956314871,
          "",
          "",
          -2.044996950877462,
          "",
          -0.38447661450084647,
          "",
          "",
          "",
          -1.7355572153688756,
          -0.9201916725076492,
          -0.38837690661028496,
          "",
          "",
          -1.0472162903793931,
          -1.493857001152918,
          -0.04402458635086637,
          -3.218783168422325,
          -0.3359410964201406,
          "",
          "",
          "",
          "",
          "",
          -2.394764530146008,
          -0.8195198571354756,
          "",
          "",
          "",
          "",
          "",
          "",
          -1.6707323242515426,
          "",
          "",
          -0.17363062124739148,
          -0.3388171647830847,
          "",
          "",
          "",
          "",
          -0.1218183915406687,
          "",
          "",
          "",
          -0.8525735118552148,
          "",
          -0.6333672408649224,
          "",
          "",
          -0.46015676288005986,
          -0.9473608190053302,
          "",
          -2.621146085482325,
          ""
         ],
         "yaxis": "y2"
        }
       ],
       "layout": {
        "hovermode": "x",
        "legend": {
         "bgcolor": "#F5F6F9",
         "font": {
          "color": "#4D5663"
         }
        },
        "paper_bgcolor": "#F5F6F9",
        "plot_bgcolor": "#F5F6F9",
        "template": {
         "data": {
          "bar": [
           {
            "error_x": {
             "color": "#2a3f5f"
            },
            "error_y": {
             "color": "#2a3f5f"
            },
            "marker": {
             "line": {
              "color": "#E5ECF6",
              "width": 0.5
             }
            },
            "type": "bar"
           }
          ],
          "barpolar": [
           {
            "marker": {
             "line": {
              "color": "#E5ECF6",
              "width": 0.5
             }
            },
            "type": "barpolar"
           }
          ],
          "carpet": [
           {
            "aaxis": {
             "endlinecolor": "#2a3f5f",
             "gridcolor": "white",
             "linecolor": "white",
             "minorgridcolor": "white",
             "startlinecolor": "#2a3f5f"
            },
            "baxis": {
             "endlinecolor": "#2a3f5f",
             "gridcolor": "white",
             "linecolor": "white",
             "minorgridcolor": "white",
             "startlinecolor": "#2a3f5f"
            },
            "type": "carpet"
           }
          ],
          "choropleth": [
           {
            "colorbar": {
             "outlinewidth": 0,
             "ticks": ""
            },
            "type": "choropleth"
           }
          ],
          "contour": [
           {
            "colorbar": {
             "outlinewidth": 0,
             "ticks": ""
            },
            "colorscale": [
             [
              0,
              "#0d0887"
             ],
             [
              0.1111111111111111,
              "#46039f"
             ],
             [
              0.2222222222222222,
              "#7201a8"
             ],
             [
              0.3333333333333333,
              "#9c179e"
             ],
             [
              0.4444444444444444,
              "#bd3786"
             ],
             [
              0.5555555555555556,
              "#d8576b"
             ],
             [
              0.6666666666666666,
              "#ed7953"
             ],
             [
              0.7777777777777778,
              "#fb9f3a"
             ],
             [
              0.8888888888888888,
              "#fdca26"
             ],
             [
              1,
              "#f0f921"
             ]
            ],
            "type": "contour"
           }
          ],
          "contourcarpet": [
           {
            "colorbar": {
             "outlinewidth": 0,
             "ticks": ""
            },
            "type": "contourcarpet"
           }
          ],
          "heatmap": [
           {
            "colorbar": {
             "outlinewidth": 0,
             "ticks": ""
            },
            "colorscale": [
             [
              0,
              "#0d0887"
             ],
             [
              0.1111111111111111,
              "#46039f"
             ],
             [
              0.2222222222222222,
              "#7201a8"
             ],
             [
              0.3333333333333333,
              "#9c179e"
             ],
             [
              0.4444444444444444,
              "#bd3786"
             ],
             [
              0.5555555555555556,
              "#d8576b"
             ],
             [
              0.6666666666666666,
              "#ed7953"
             ],
             [
              0.7777777777777778,
              "#fb9f3a"
             ],
             [
              0.8888888888888888,
              "#fdca26"
             ],
             [
              1,
              "#f0f921"
             ]
            ],
            "type": "heatmap"
           }
          ],
          "heatmapgl": [
           {
            "colorbar": {
             "outlinewidth": 0,
             "ticks": ""
            },
            "colorscale": [
             [
              0,
              "#0d0887"
             ],
             [
              0.1111111111111111,
              "#46039f"
             ],
             [
              0.2222222222222222,
              "#7201a8"
             ],
             [
              0.3333333333333333,
              "#9c179e"
             ],
             [
              0.4444444444444444,
              "#bd3786"
             ],
             [
              0.5555555555555556,
              "#d8576b"
             ],
             [
              0.6666666666666666,
              "#ed7953"
             ],
             [
              0.7777777777777778,
              "#fb9f3a"
             ],
             [
              0.8888888888888888,
              "#fdca26"
             ],
             [
              1,
              "#f0f921"
             ]
            ],
            "type": "heatmapgl"
           }
          ],
          "histogram": [
           {
            "marker": {
             "colorbar": {
              "outlinewidth": 0,
              "ticks": ""
             }
            },
            "type": "histogram"
           }
          ],
          "histogram2d": [
           {
            "colorbar": {
             "outlinewidth": 0,
             "ticks": ""
            },
            "colorscale": [
             [
              0,
              "#0d0887"
             ],
             [
              0.1111111111111111,
              "#46039f"
             ],
             [
              0.2222222222222222,
              "#7201a8"
             ],
             [
              0.3333333333333333,
              "#9c179e"
             ],
             [
              0.4444444444444444,
              "#bd3786"
             ],
             [
              0.5555555555555556,
              "#d8576b"
             ],
             [
              0.6666666666666666,
              "#ed7953"
             ],
             [
              0.7777777777777778,
              "#fb9f3a"
             ],
             [
              0.8888888888888888,
              "#fdca26"
             ],
             [
              1,
              "#f0f921"
             ]
            ],
            "type": "histogram2d"
           }
          ],
          "histogram2dcontour": [
           {
            "colorbar": {
             "outlinewidth": 0,
             "ticks": ""
            },
            "colorscale": [
             [
              0,
              "#0d0887"
             ],
             [
              0.1111111111111111,
              "#46039f"
             ],
             [
              0.2222222222222222,
              "#7201a8"
             ],
             [
              0.3333333333333333,
              "#9c179e"
             ],
             [
              0.4444444444444444,
              "#bd3786"
             ],
             [
              0.5555555555555556,
              "#d8576b"
             ],
             [
              0.6666666666666666,
              "#ed7953"
             ],
             [
              0.7777777777777778,
              "#fb9f3a"
             ],
             [
              0.8888888888888888,
              "#fdca26"
             ],
             [
              1,
              "#f0f921"
             ]
            ],
            "type": "histogram2dcontour"
           }
          ],
          "mesh3d": [
           {
            "colorbar": {
             "outlinewidth": 0,
             "ticks": ""
            },
            "type": "mesh3d"
           }
          ],
          "parcoords": [
           {
            "line": {
             "colorbar": {
              "outlinewidth": 0,
              "ticks": ""
             }
            },
            "type": "parcoords"
           }
          ],
          "pie": [
           {
            "automargin": true,
            "type": "pie"
           }
          ],
          "scatter": [
           {
            "marker": {
             "colorbar": {
              "outlinewidth": 0,
              "ticks": ""
             }
            },
            "type": "scatter"
           }
          ],
          "scatter3d": [
           {
            "line": {
             "colorbar": {
              "outlinewidth": 0,
              "ticks": ""
             }
            },
            "marker": {
             "colorbar": {
              "outlinewidth": 0,
              "ticks": ""
             }
            },
            "type": "scatter3d"
           }
          ],
          "scattercarpet": [
           {
            "marker": {
             "colorbar": {
              "outlinewidth": 0,
              "ticks": ""
             }
            },
            "type": "scattercarpet"
           }
          ],
          "scattergeo": [
           {
            "marker": {
             "colorbar": {
              "outlinewidth": 0,
              "ticks": ""
             }
            },
            "type": "scattergeo"
           }
          ],
          "scattergl": [
           {
            "marker": {
             "colorbar": {
              "outlinewidth": 0,
              "ticks": ""
             }
            },
            "type": "scattergl"
           }
          ],
          "scattermapbox": [
           {
            "marker": {
             "colorbar": {
              "outlinewidth": 0,
              "ticks": ""
             }
            },
            "type": "scattermapbox"
           }
          ],
          "scatterpolar": [
           {
            "marker": {
             "colorbar": {
              "outlinewidth": 0,
              "ticks": ""
             }
            },
            "type": "scatterpolar"
           }
          ],
          "scatterpolargl": [
           {
            "marker": {
             "colorbar": {
              "outlinewidth": 0,
              "ticks": ""
             }
            },
            "type": "scatterpolargl"
           }
          ],
          "scatterternary": [
           {
            "marker": {
             "colorbar": {
              "outlinewidth": 0,
              "ticks": ""
             }
            },
            "type": "scatterternary"
           }
          ],
          "surface": [
           {
            "colorbar": {
             "outlinewidth": 0,
             "ticks": ""
            },
            "colorscale": [
             [
              0,
              "#0d0887"
             ],
             [
              0.1111111111111111,
              "#46039f"
             ],
             [
              0.2222222222222222,
              "#7201a8"
             ],
             [
              0.3333333333333333,
              "#9c179e"
             ],
             [
              0.4444444444444444,
              "#bd3786"
             ],
             [
              0.5555555555555556,
              "#d8576b"
             ],
             [
              0.6666666666666666,
              "#ed7953"
             ],
             [
              0.7777777777777778,
              "#fb9f3a"
             ],
             [
              0.8888888888888888,
              "#fdca26"
             ],
             [
              1,
              "#f0f921"
             ]
            ],
            "type": "surface"
           }
          ],
          "table": [
           {
            "cells": {
             "fill": {
              "color": "#EBF0F8"
             },
             "line": {
              "color": "white"
             }
            },
            "header": {
             "fill": {
              "color": "#C8D4E3"
             },
             "line": {
              "color": "white"
             }
            },
            "type": "table"
           }
          ]
         },
         "layout": {
          "annotationdefaults": {
           "arrowcolor": "#2a3f5f",
           "arrowhead": 0,
           "arrowwidth": 1
          },
          "coloraxis": {
           "colorbar": {
            "outlinewidth": 0,
            "ticks": ""
           }
          },
          "colorscale": {
           "diverging": [
            [
             0,
             "#8e0152"
            ],
            [
             0.1,
             "#c51b7d"
            ],
            [
             0.2,
             "#de77ae"
            ],
            [
             0.3,
             "#f1b6da"
            ],
            [
             0.4,
             "#fde0ef"
            ],
            [
             0.5,
             "#f7f7f7"
            ],
            [
             0.6,
             "#e6f5d0"
            ],
            [
             0.7,
             "#b8e186"
            ],
            [
             0.8,
             "#7fbc41"
            ],
            [
             0.9,
             "#4d9221"
            ],
            [
             1,
             "#276419"
            ]
           ],
           "sequential": [
            [
             0,
             "#0d0887"
            ],
            [
             0.1111111111111111,
             "#46039f"
            ],
            [
             0.2222222222222222,
             "#7201a8"
            ],
            [
             0.3333333333333333,
             "#9c179e"
            ],
            [
             0.4444444444444444,
             "#bd3786"
            ],
            [
             0.5555555555555556,
             "#d8576b"
            ],
            [
             0.6666666666666666,
             "#ed7953"
            ],
            [
             0.7777777777777778,
             "#fb9f3a"
            ],
            [
             0.8888888888888888,
             "#fdca26"
            ],
            [
             1,
             "#f0f921"
            ]
           ],
           "sequentialminus": [
            [
             0,
             "#0d0887"
            ],
            [
             0.1111111111111111,
             "#46039f"
            ],
            [
             0.2222222222222222,
             "#7201a8"
            ],
            [
             0.3333333333333333,
             "#9c179e"
            ],
            [
             0.4444444444444444,
             "#bd3786"
            ],
            [
             0.5555555555555556,
             "#d8576b"
            ],
            [
             0.6666666666666666,
             "#ed7953"
            ],
            [
             0.7777777777777778,
             "#fb9f3a"
            ],
            [
             0.8888888888888888,
             "#fdca26"
            ],
            [
             1,
             "#f0f921"
            ]
           ]
          },
          "colorway": [
           "#636efa",
           "#EF553B",
           "#00cc96",
           "#ab63fa",
           "#FFA15A",
           "#19d3f3",
           "#FF6692",
           "#B6E880",
           "#FF97FF",
           "#FECB52"
          ],
          "font": {
           "color": "#2a3f5f"
          },
          "geo": {
           "bgcolor": "white",
           "lakecolor": "white",
           "landcolor": "#E5ECF6",
           "showlakes": true,
           "showland": true,
           "subunitcolor": "white"
          },
          "hoverlabel": {
           "align": "left"
          },
          "hovermode": "closest",
          "mapbox": {
           "style": "light"
          },
          "paper_bgcolor": "white",
          "plot_bgcolor": "#E5ECF6",
          "polar": {
           "angularaxis": {
            "gridcolor": "white",
            "linecolor": "white",
            "ticks": ""
           },
           "bgcolor": "#E5ECF6",
           "radialaxis": {
            "gridcolor": "white",
            "linecolor": "white",
            "ticks": ""
           }
          },
          "scene": {
           "xaxis": {
            "backgroundcolor": "#E5ECF6",
            "gridcolor": "white",
            "gridwidth": 2,
            "linecolor": "white",
            "showbackground": true,
            "ticks": "",
            "zerolinecolor": "white"
           },
           "yaxis": {
            "backgroundcolor": "#E5ECF6",
            "gridcolor": "white",
            "gridwidth": 2,
            "linecolor": "white",
            "showbackground": true,
            "ticks": "",
            "zerolinecolor": "white"
           },
           "zaxis": {
            "backgroundcolor": "#E5ECF6",
            "gridcolor": "white",
            "gridwidth": 2,
            "linecolor": "white",
            "showbackground": true,
            "ticks": "",
            "zerolinecolor": "white"
           }
          },
          "shapedefaults": {
           "line": {
            "color": "#2a3f5f"
           }
          },
          "ternary": {
           "aaxis": {
            "gridcolor": "white",
            "linecolor": "white",
            "ticks": ""
           },
           "baxis": {
            "gridcolor": "white",
            "linecolor": "white",
            "ticks": ""
           },
           "bgcolor": "#E5ECF6",
           "caxis": {
            "gridcolor": "white",
            "linecolor": "white",
            "ticks": ""
           }
          },
          "title": {
           "x": 0.05
          },
          "xaxis": {
           "automargin": true,
           "gridcolor": "white",
           "linecolor": "white",
           "ticks": "",
           "title": {
            "standoff": 15
           },
           "zerolinecolor": "white",
           "zerolinewidth": 2
          },
          "yaxis": {
           "automargin": true,
           "gridcolor": "white",
           "linecolor": "white",
           "ticks": "",
           "title": {
            "standoff": 15
           },
           "zerolinecolor": "white",
           "zerolinewidth": 2
          }
         }
        },
        "title": {
         "font": {
          "color": "#4D5663"
         }
        },
        "xaxis": {
         "gridcolor": "#E1E5ED",
         "showgrid": true,
         "tickfont": {
          "color": "#4D5663"
         },
         "title": {
          "font": {
           "color": "#4D5663"
          },
          "text": ""
         },
         "zerolinecolor": "#E1E5ED"
        },
        "xaxis2": {
         "anchor": "y2",
         "gridcolor": "#E1E5ED",
         "showgrid": true,
         "showticklabels": false,
         "tickfont": {
          "color": "#4D5663"
         },
         "title": {
          "font": {
           "color": "#4D5663"
          },
          "text": ""
         },
         "zerolinecolor": "#E1E5ED"
        },
        "yaxis": {
         "domain": [
          0.3,
          1
         ],
         "gridcolor": "#E1E5ED",
         "showgrid": true,
         "tickfont": {
          "color": "#4D5663"
         },
         "title": {
          "font": {
           "color": "#4D5663"
          },
          "text": ""
         },
         "zerolinecolor": "#E1E5ED"
        },
        "yaxis2": {
         "domain": [
          0,
          0.25
         ],
         "gridcolor": "#E1E5ED",
         "showgrid": true,
         "tickfont": {
          "color": "#4D5663"
         },
         "title": {
          "font": {
           "color": "#4D5663"
          },
          "text": "Spread"
         },
         "zerolinecolor": "#E1E5ED"
        }
       }
      },
      "text/html": [
       "<div>\n",
       "        \n",
       "        \n",
       "            <div id=\"56ea0471-b8d2-43b7-91d1-f4cc5c3c49bb\" class=\"plotly-graph-div\" style=\"height:525px; width:100%;\"></div>\n",
       "            <script type=\"text/javascript\">\n",
       "                require([\"plotly\"], function(Plotly) {\n",
       "                    window.PLOTLYENV=window.PLOTLYENV || {};\n",
       "                    window.PLOTLYENV.BASE_URL='https://plot.ly';\n",
       "                    \n",
       "                if (document.getElementById(\"56ea0471-b8d2-43b7-91d1-f4cc5c3c49bb\")) {\n",
       "                    Plotly.newPlot(\n",
       "                        '56ea0471-b8d2-43b7-91d1-f4cc5c3c49bb',\n",
       "                        [{\"line\": {\"color\": \"rgba(255, 153, 51, 1.0)\", \"dash\": \"solid\", \"shape\": \"linear\", \"width\": 1.3}, \"mode\": \"lines\", \"name\": \"A\", \"text\": \"\", \"type\": \"scatter\", \"x\": [0, 1, 2, 3, 4, 5, 6, 7, 8, 9, 10, 11, 12, 13, 14, 15, 16, 17, 18, 19, 20, 21, 22, 23, 24, 25, 26, 27, 28, 29, 30, 31, 32, 33, 34, 35, 36, 37, 38, 39, 40, 41, 42, 43, 44, 45, 46, 47, 48, 49, 50, 51, 52, 53, 54, 55, 56, 57, 58, 59, 60, 61, 62, 63, 64, 65, 66, 67, 68, 69, 70, 71, 72, 73, 74, 75, 76, 77, 78, 79, 80, 81, 82, 83, 84, 85, 86, 87, 88, 89, 90, 91, 92, 93, 94, 95, 96, 97, 98, 99], \"y\": [0.19650022373258236, -1.9941460778502356, 0.6626376887314555, -0.958327863418552, 0.4231241777990569, 0.7113678238984446, -0.09165347023463194, -1.3149597471701424, -1.3933206032441685, -0.5529960919904516, -1.232042488497158, 1.0661400300358617, 0.36496152149907735, 0.12566632897650376, -0.4154383457317713, 1.1145779823073672, 1.512565868621305, 0.1794830651348587, 1.0343723418421487, 2.7907567772555297, 0.2998865268939037, -1.1158316023870536, -0.027602812843491573, -0.5298883887261153, 1.0290623615134162, 0.9827394564213197, -0.4455813047158554, 0.2338813758270774, -0.02285208244483196, -0.8967539023754664, -1.4758756049165747, -0.8947207457648796, -0.07309580354724263, -0.7845742580993053, 0.23876895288454827, 0.9742961492985625, -0.033916672684154374, 1.1196298171192591, -0.535731539283069, -0.3906973132685843, -0.8424290459415693, 0.2792280254608758, -0.9286349945862502, -1.5063893605812446, 1.8743143044827653, -0.651912761220479, -0.6218461636563343, 0.835257171977975, -0.6112242584714845, 0.3039624479311827, -1.4468041377380885, 1.311224077205215, -0.7808300388541097, -0.7560423271045358, -0.5005366745377746, -0.8309774142243554, 0.3162223512088091, -0.002041007732976193, -0.6113995211974071, -0.7775783612568149, -1.2475028820394487, 1.217988302202804, -2.035103126115838, 1.0642766469020115, 0.20548427026076269, 1.2143492963512488, -0.2852927776860206, 1.124432516025142, 1.6347521744859779, -1.7834783009007091, 0.2841397399808306, -0.2089012383694685, 0.16030754969303934, 0.36365439104045916, 1.19666648962708, 1.0687355273258576, 1.3397200048714657, -1.4253637092798235, -0.11768531861787762, 1.093744468440918, -0.636974215744073, -0.3613674535797206, 2.053369552369878, 0.7116839450439921, 0.21270413234870125, -0.7903526585716255, -0.5880588643865717, 0.3927540327176958, 1.006657100212194, 0.4213663847261615, 0.19051498346579346, -0.03139508418786326, -0.7817689753853478, 0.11699032841973789, 0.9873789930068373, 0.3593178489481021, 0.19807751375431895, 0.16904863471663228, -0.8675517348746863, 1.0632008929683778]}, {\"line\": {\"color\": \"rgba(55, 128, 191, 1.0)\", \"dash\": \"solid\", \"shape\": \"linear\", \"width\": 1.3}, \"mode\": \"lines\", \"name\": \"B\", \"text\": \"\", \"type\": \"scatter\", \"x\": [0, 1, 2, 3, 4, 5, 6, 7, 8, 9, 10, 11, 12, 13, 14, 15, 16, 17, 18, 19, 20, 21, 22, 23, 24, 25, 26, 27, 28, 29, 30, 31, 32, 33, 34, 35, 36, 37, 38, 39, 40, 41, 42, 43, 44, 45, 46, 47, 48, 49, 50, 51, 52, 53, 54, 55, 56, 57, 58, 59, 60, 61, 62, 63, 64, 65, 66, 67, 68, 69, 70, 71, 72, 73, 74, 75, 76, 77, 78, 79, 80, 81, 82, 83, 84, 85, 86, 87, 88, 89, 90, 91, 92, 93, 94, 95, 96, 97, 98, 99], \"y\": [-0.7167540505755027, -0.12909041323094617, 0.22877681615439618, 0.31882194562550403, 0.4225554005693531, -1.6017150482952225, -0.2831684279736227, 0.4322828011724924, 1.255309714528344, 0.8755230396176855, -0.6831456954439784, 0.8110952397727162, -0.9166031195725972, 0.3064369207186609, -2.0490989505187236, 0.24906760614659623, 0.39402324128552113, 1.2780126859912582, -0.6505787538828152, -1.8518228676195427, -0.6746027652090811, -0.5161504692227723, 0.2675518587457653, 1.2710464229933724, 1.2807012511537221, -0.813800981946473, 0.9887296411556364, 0.34779627811844277, 1.0722640977196165, 0.6433973284268374, 0.40989450323414944, -1.4733258160007474, -0.9412466041115733, -0.10393012533579014, -0.6633454096051882, 0.015757602282605216, 1.9300001620261522, 0.3233316683803168, 1.392081529793989, 1.4443614670956944, -0.19790878795053235, -0.5544650739226349, 0.5810930100480569, -0.1905863676661684, 0.6475117163062424, -0.4221535516573303, -0.9506756238745352, -0.3235691101756691, 1.4337726924059773, -0.12164703421491174, -1.062327523237242, 0.11695727946221875, -1.007567980517339, -3.098258736419873, 1.235020540831101, 0.08921425828329375, 0.704599257819094, -1.9902654298561624, -1.3954712513866852, 0.26963792912257833, 0.24635411911346924, 1.2620128885536703, 1.1836800423064873, 1.400217743322152, -0.8679652825501485, -0.7350983986807433, -2.069993960321671, -1.282928343846692, 0.48351853758115854, 0.6112862292452989, 1.1036595971163061, -0.5462393578834953, -0.33009350560709183, -1.629830976151171, 1.1731247238933304, -0.2389716755564296, 0.10612143852848767, 0.24536861497171922, -1.3303910676401658, -1.003306043921901, -0.4633435944966815, -0.022550288796635908, -1.012648189549336, -0.7750502400724303, -0.04569054422612893, -1.2199363247358548, -0.46624047284590303, -0.018410039343196544, 0.6315535035946279, -0.6522499307304486, 1.0430884953210082, -0.22480352941851106, -0.1484017345204255, -0.17236561194123814, -1.0275961625778565, 0.819474611828162, 1.1454383327596491, -1.2813189449037186, 1.753594350607639, 0.1766289971132849]}, {\"connectgaps\": false, \"fill\": \"tozeroy\", \"line\": {\"color\": \"green\", \"dash\": \"solid\", \"shape\": \"linear\", \"width\": 0.5}, \"mode\": \"lines\", \"name\": \"Spread\", \"showlegend\": false, \"type\": \"scatter\", \"x\": [0, 1, 2, 3, 4, 5, 6, 7, 8, 9, 10, 11, 12, 13, 14, 15, 16, 17, 18, 19, 20, 21, 22, 23, 24, 25, 26, 27, 28, 29, 30, 31, 32, 33, 34, 35, 36, 37, 38, 39, 40, 41, 42, 43, 44, 45, 46, 47, 48, 49, 50, 51, 52, 53, 54, 55, 56, 57, 58, 59, 60, 61, 62, 63, 64, 65, 66, 67, 68, 69, 70, 71, 72, 73, 74, 75, 76, 77, 78, 79, 80, 81, 82, 83, 84, 85, 86, 87, 88, 89, 90, 91, 92, 93, 94, 95, 96, 97, 98, 99], \"xaxis\": \"x2\", \"y\": [0.913254274308085, \"\", 0.4338608725770593, \"\", 0.0005687772297038318, 2.313082872193667, 0.19151495773899074, \"\", \"\", \"\", \"\", 0.2550447902631454, 1.2815646410716746, \"\", 1.6336606047869524, 0.865510376160771, 1.118542627335784, \"\", 1.6849510957249638, 4.642579644875072, 0.9744892921029848, \"\", \"\", \"\", \"\", 1.7965404383677925, \"\", \"\", \"\", \"\", \"\", 0.5786050702358678, 0.8681508005643307, \"\", 0.9021143624897364, 0.9585385470159572, \"\", 0.7962981487389423, \"\", \"\", \"\", 0.8336930993835107, \"\", \"\", 1.2268025881765228, \"\", 0.3288294602182009, 1.1588262821536441, \"\", 0.42560948214609445, \"\", 1.1942667977429964, 0.22673794166322925, 2.3422164093153373, \"\", \"\", \"\", 1.9882244221231862, 0.784071730189278, \"\", \"\", \"\", \"\", \"\", 1.0734495528109111, 1.9494476950319921, 1.7847011826356503, 2.407360859871834, 1.1512336369048193, \"\", \"\", 0.3373381195140268, 0.4904010553001312, 1.9934853671916302, 0.023541765733749553, 1.3077072028822871, 1.233598566342978, \"\", 1.2127057490222881, 2.097050512362819, \"\", \"\", 3.0660177419192136, 1.4867341851164224, 0.2583946765748302, 0.42958366616422927, \"\", 0.41116407206089234, 0.3751035966175661, 1.07361631545661, \"\", 0.1934084452306478, \"\", 0.289355940360976, 2.0149751555846938, \"\", \"\", 1.4503675796203508, \"\", 0.886571895855093], \"yaxis\": \"y2\"}, {\"connectgaps\": false, \"fill\": \"tozeroy\", \"line\": {\"color\": \"red\", \"dash\": \"solid\", \"shape\": \"linear\", \"width\": 0.5}, \"mode\": \"lines\", \"name\": \"Spread\", \"showlegend\": false, \"type\": \"scatter\", \"x\": [0, 1, 2, 3, 4, 5, 6, 7, 8, 9, 10, 11, 12, 13, 14, 15, 16, 17, 18, 19, 20, 21, 22, 23, 24, 25, 26, 27, 28, 29, 30, 31, 32, 33, 34, 35, 36, 37, 38, 39, 40, 41, 42, 43, 44, 45, 46, 47, 48, 49, 50, 51, 52, 53, 54, 55, 56, 57, 58, 59, 60, 61, 62, 63, 64, 65, 66, 67, 68, 69, 70, 71, 72, 73, 74, 75, 76, 77, 78, 79, 80, 81, 82, 83, 84, 85, 86, 87, 88, 89, 90, 91, 92, 93, 94, 95, 96, 97, 98, 99], \"xaxis\": \"x2\", \"y\": [\"\", -1.8650556646192893, \"\", -1.277149809044056, \"\", \"\", \"\", -1.7472425483426348, -2.6486303177725126, -1.4285191316081371, -0.5488967930531795, \"\", \"\", -0.18077059174215715, \"\", \"\", \"\", -1.0985296208563995, \"\", \"\", \"\", -0.5996811331642813, -0.2951546715892569, -1.8009348117194879, -0.2516388896403059, \"\", -1.4343109458714918, -0.11391490229136536, -1.0951161801644484, -1.5401512308023038, -1.885770108150724, \"\", \"\", -0.6806441327635151, \"\", \"\", -1.9639168347103066, \"\", -1.927813069077058, -1.8350587803642786, -0.644520257991037, \"\", -1.5097280046343071, -1.3158029929150763, \"\", -0.22975920956314871, \"\", \"\", -2.044996950877462, \"\", -0.38447661450084647, \"\", \"\", \"\", -1.7355572153688756, -0.9201916725076492, -0.38837690661028496, \"\", \"\", -1.0472162903793931, -1.493857001152918, -0.04402458635086637, -3.218783168422325, -0.3359410964201406, \"\", \"\", \"\", \"\", \"\", -2.394764530146008, -0.8195198571354756, \"\", \"\", \"\", \"\", \"\", \"\", -1.6707323242515426, \"\", \"\", -0.17363062124739148, -0.3388171647830847, \"\", \"\", \"\", \"\", -0.1218183915406687, \"\", \"\", \"\", -0.8525735118552148, \"\", -0.6333672408649224, \"\", \"\", -0.46015676288005986, -0.9473608190053302, \"\", -2.621146085482325, \"\"], \"yaxis\": \"y2\"}],\n",
       "                        {\"hovermode\": \"x\", \"legend\": {\"bgcolor\": \"#F5F6F9\", \"font\": {\"color\": \"#4D5663\"}}, \"paper_bgcolor\": \"#F5F6F9\", \"plot_bgcolor\": \"#F5F6F9\", \"template\": {\"data\": {\"bar\": [{\"error_x\": {\"color\": \"#2a3f5f\"}, \"error_y\": {\"color\": \"#2a3f5f\"}, \"marker\": {\"line\": {\"color\": \"#E5ECF6\", \"width\": 0.5}}, \"type\": \"bar\"}], \"barpolar\": [{\"marker\": {\"line\": {\"color\": \"#E5ECF6\", \"width\": 0.5}}, \"type\": \"barpolar\"}], \"carpet\": [{\"aaxis\": {\"endlinecolor\": \"#2a3f5f\", \"gridcolor\": \"white\", \"linecolor\": \"white\", \"minorgridcolor\": \"white\", \"startlinecolor\": \"#2a3f5f\"}, \"baxis\": {\"endlinecolor\": \"#2a3f5f\", \"gridcolor\": \"white\", \"linecolor\": \"white\", \"minorgridcolor\": \"white\", \"startlinecolor\": \"#2a3f5f\"}, \"type\": \"carpet\"}], \"choropleth\": [{\"colorbar\": {\"outlinewidth\": 0, \"ticks\": \"\"}, \"type\": \"choropleth\"}], \"contour\": [{\"colorbar\": {\"outlinewidth\": 0, \"ticks\": \"\"}, \"colorscale\": [[0.0, \"#0d0887\"], [0.1111111111111111, \"#46039f\"], [0.2222222222222222, \"#7201a8\"], [0.3333333333333333, \"#9c179e\"], [0.4444444444444444, \"#bd3786\"], [0.5555555555555556, \"#d8576b\"], [0.6666666666666666, \"#ed7953\"], [0.7777777777777778, \"#fb9f3a\"], [0.8888888888888888, \"#fdca26\"], [1.0, \"#f0f921\"]], \"type\": \"contour\"}], \"contourcarpet\": [{\"colorbar\": {\"outlinewidth\": 0, \"ticks\": \"\"}, \"type\": \"contourcarpet\"}], \"heatmap\": [{\"colorbar\": {\"outlinewidth\": 0, \"ticks\": \"\"}, \"colorscale\": [[0.0, \"#0d0887\"], [0.1111111111111111, \"#46039f\"], [0.2222222222222222, \"#7201a8\"], [0.3333333333333333, \"#9c179e\"], [0.4444444444444444, \"#bd3786\"], [0.5555555555555556, \"#d8576b\"], [0.6666666666666666, \"#ed7953\"], [0.7777777777777778, \"#fb9f3a\"], [0.8888888888888888, \"#fdca26\"], [1.0, \"#f0f921\"]], \"type\": \"heatmap\"}], \"heatmapgl\": [{\"colorbar\": {\"outlinewidth\": 0, \"ticks\": \"\"}, \"colorscale\": [[0.0, \"#0d0887\"], [0.1111111111111111, \"#46039f\"], [0.2222222222222222, \"#7201a8\"], [0.3333333333333333, \"#9c179e\"], [0.4444444444444444, \"#bd3786\"], [0.5555555555555556, \"#d8576b\"], [0.6666666666666666, \"#ed7953\"], [0.7777777777777778, \"#fb9f3a\"], [0.8888888888888888, \"#fdca26\"], [1.0, \"#f0f921\"]], \"type\": \"heatmapgl\"}], \"histogram\": [{\"marker\": {\"colorbar\": {\"outlinewidth\": 0, \"ticks\": \"\"}}, \"type\": \"histogram\"}], \"histogram2d\": [{\"colorbar\": {\"outlinewidth\": 0, \"ticks\": \"\"}, \"colorscale\": [[0.0, \"#0d0887\"], [0.1111111111111111, \"#46039f\"], [0.2222222222222222, \"#7201a8\"], [0.3333333333333333, \"#9c179e\"], [0.4444444444444444, \"#bd3786\"], [0.5555555555555556, \"#d8576b\"], [0.6666666666666666, \"#ed7953\"], [0.7777777777777778, \"#fb9f3a\"], [0.8888888888888888, \"#fdca26\"], [1.0, \"#f0f921\"]], \"type\": \"histogram2d\"}], \"histogram2dcontour\": [{\"colorbar\": {\"outlinewidth\": 0, \"ticks\": \"\"}, \"colorscale\": [[0.0, \"#0d0887\"], [0.1111111111111111, \"#46039f\"], [0.2222222222222222, \"#7201a8\"], [0.3333333333333333, \"#9c179e\"], [0.4444444444444444, \"#bd3786\"], [0.5555555555555556, \"#d8576b\"], [0.6666666666666666, \"#ed7953\"], [0.7777777777777778, \"#fb9f3a\"], [0.8888888888888888, \"#fdca26\"], [1.0, \"#f0f921\"]], \"type\": \"histogram2dcontour\"}], \"mesh3d\": [{\"colorbar\": {\"outlinewidth\": 0, \"ticks\": \"\"}, \"type\": \"mesh3d\"}], \"parcoords\": [{\"line\": {\"colorbar\": {\"outlinewidth\": 0, \"ticks\": \"\"}}, \"type\": \"parcoords\"}], \"pie\": [{\"automargin\": true, \"type\": \"pie\"}], \"scatter\": [{\"marker\": {\"colorbar\": {\"outlinewidth\": 0, \"ticks\": \"\"}}, \"type\": \"scatter\"}], \"scatter3d\": [{\"line\": {\"colorbar\": {\"outlinewidth\": 0, \"ticks\": \"\"}}, \"marker\": {\"colorbar\": {\"outlinewidth\": 0, \"ticks\": \"\"}}, \"type\": \"scatter3d\"}], \"scattercarpet\": [{\"marker\": {\"colorbar\": {\"outlinewidth\": 0, \"ticks\": \"\"}}, \"type\": \"scattercarpet\"}], \"scattergeo\": [{\"marker\": {\"colorbar\": {\"outlinewidth\": 0, \"ticks\": \"\"}}, \"type\": \"scattergeo\"}], \"scattergl\": [{\"marker\": {\"colorbar\": {\"outlinewidth\": 0, \"ticks\": \"\"}}, \"type\": \"scattergl\"}], \"scattermapbox\": [{\"marker\": {\"colorbar\": {\"outlinewidth\": 0, \"ticks\": \"\"}}, \"type\": \"scattermapbox\"}], \"scatterpolar\": [{\"marker\": {\"colorbar\": {\"outlinewidth\": 0, \"ticks\": \"\"}}, \"type\": \"scatterpolar\"}], \"scatterpolargl\": [{\"marker\": {\"colorbar\": {\"outlinewidth\": 0, \"ticks\": \"\"}}, \"type\": \"scatterpolargl\"}], \"scatterternary\": [{\"marker\": {\"colorbar\": {\"outlinewidth\": 0, \"ticks\": \"\"}}, \"type\": \"scatterternary\"}], \"surface\": [{\"colorbar\": {\"outlinewidth\": 0, \"ticks\": \"\"}, \"colorscale\": [[0.0, \"#0d0887\"], [0.1111111111111111, \"#46039f\"], [0.2222222222222222, \"#7201a8\"], [0.3333333333333333, \"#9c179e\"], [0.4444444444444444, \"#bd3786\"], [0.5555555555555556, \"#d8576b\"], [0.6666666666666666, \"#ed7953\"], [0.7777777777777778, \"#fb9f3a\"], [0.8888888888888888, \"#fdca26\"], [1.0, \"#f0f921\"]], \"type\": \"surface\"}], \"table\": [{\"cells\": {\"fill\": {\"color\": \"#EBF0F8\"}, \"line\": {\"color\": \"white\"}}, \"header\": {\"fill\": {\"color\": \"#C8D4E3\"}, \"line\": {\"color\": \"white\"}}, \"type\": \"table\"}]}, \"layout\": {\"annotationdefaults\": {\"arrowcolor\": \"#2a3f5f\", \"arrowhead\": 0, \"arrowwidth\": 1}, \"coloraxis\": {\"colorbar\": {\"outlinewidth\": 0, \"ticks\": \"\"}}, \"colorscale\": {\"diverging\": [[0, \"#8e0152\"], [0.1, \"#c51b7d\"], [0.2, \"#de77ae\"], [0.3, \"#f1b6da\"], [0.4, \"#fde0ef\"], [0.5, \"#f7f7f7\"], [0.6, \"#e6f5d0\"], [0.7, \"#b8e186\"], [0.8, \"#7fbc41\"], [0.9, \"#4d9221\"], [1, \"#276419\"]], \"sequential\": [[0.0, \"#0d0887\"], [0.1111111111111111, \"#46039f\"], [0.2222222222222222, \"#7201a8\"], [0.3333333333333333, \"#9c179e\"], [0.4444444444444444, \"#bd3786\"], [0.5555555555555556, \"#d8576b\"], [0.6666666666666666, \"#ed7953\"], [0.7777777777777778, \"#fb9f3a\"], [0.8888888888888888, \"#fdca26\"], [1.0, \"#f0f921\"]], \"sequentialminus\": [[0.0, \"#0d0887\"], [0.1111111111111111, \"#46039f\"], [0.2222222222222222, \"#7201a8\"], [0.3333333333333333, \"#9c179e\"], [0.4444444444444444, \"#bd3786\"], [0.5555555555555556, \"#d8576b\"], [0.6666666666666666, \"#ed7953\"], [0.7777777777777778, \"#fb9f3a\"], [0.8888888888888888, \"#fdca26\"], [1.0, \"#f0f921\"]]}, \"colorway\": [\"#636efa\", \"#EF553B\", \"#00cc96\", \"#ab63fa\", \"#FFA15A\", \"#19d3f3\", \"#FF6692\", \"#B6E880\", \"#FF97FF\", \"#FECB52\"], \"font\": {\"color\": \"#2a3f5f\"}, \"geo\": {\"bgcolor\": \"white\", \"lakecolor\": \"white\", \"landcolor\": \"#E5ECF6\", \"showlakes\": true, \"showland\": true, \"subunitcolor\": \"white\"}, \"hoverlabel\": {\"align\": \"left\"}, \"hovermode\": \"closest\", \"mapbox\": {\"style\": \"light\"}, \"paper_bgcolor\": \"white\", \"plot_bgcolor\": \"#E5ECF6\", \"polar\": {\"angularaxis\": {\"gridcolor\": \"white\", \"linecolor\": \"white\", \"ticks\": \"\"}, \"bgcolor\": \"#E5ECF6\", \"radialaxis\": {\"gridcolor\": \"white\", \"linecolor\": \"white\", \"ticks\": \"\"}}, \"scene\": {\"xaxis\": {\"backgroundcolor\": \"#E5ECF6\", \"gridcolor\": \"white\", \"gridwidth\": 2, \"linecolor\": \"white\", \"showbackground\": true, \"ticks\": \"\", \"zerolinecolor\": \"white\"}, \"yaxis\": {\"backgroundcolor\": \"#E5ECF6\", \"gridcolor\": \"white\", \"gridwidth\": 2, \"linecolor\": \"white\", \"showbackground\": true, \"ticks\": \"\", \"zerolinecolor\": \"white\"}, \"zaxis\": {\"backgroundcolor\": \"#E5ECF6\", \"gridcolor\": \"white\", \"gridwidth\": 2, \"linecolor\": \"white\", \"showbackground\": true, \"ticks\": \"\", \"zerolinecolor\": \"white\"}}, \"shapedefaults\": {\"line\": {\"color\": \"#2a3f5f\"}}, \"ternary\": {\"aaxis\": {\"gridcolor\": \"white\", \"linecolor\": \"white\", \"ticks\": \"\"}, \"baxis\": {\"gridcolor\": \"white\", \"linecolor\": \"white\", \"ticks\": \"\"}, \"bgcolor\": \"#E5ECF6\", \"caxis\": {\"gridcolor\": \"white\", \"linecolor\": \"white\", \"ticks\": \"\"}}, \"title\": {\"x\": 0.05}, \"xaxis\": {\"automargin\": true, \"gridcolor\": \"white\", \"linecolor\": \"white\", \"ticks\": \"\", \"title\": {\"standoff\": 15}, \"zerolinecolor\": \"white\", \"zerolinewidth\": 2}, \"yaxis\": {\"automargin\": true, \"gridcolor\": \"white\", \"linecolor\": \"white\", \"ticks\": \"\", \"title\": {\"standoff\": 15}, \"zerolinecolor\": \"white\", \"zerolinewidth\": 2}}}, \"title\": {\"font\": {\"color\": \"#4D5663\"}}, \"xaxis\": {\"gridcolor\": \"#E1E5ED\", \"showgrid\": true, \"tickfont\": {\"color\": \"#4D5663\"}, \"title\": {\"font\": {\"color\": \"#4D5663\"}, \"text\": \"\"}, \"zerolinecolor\": \"#E1E5ED\"}, \"xaxis2\": {\"anchor\": \"y2\", \"gridcolor\": \"#E1E5ED\", \"showgrid\": true, \"showticklabels\": false, \"tickfont\": {\"color\": \"#4D5663\"}, \"title\": {\"font\": {\"color\": \"#4D5663\"}, \"text\": \"\"}, \"zerolinecolor\": \"#E1E5ED\"}, \"yaxis\": {\"domain\": [0.3, 1], \"gridcolor\": \"#E1E5ED\", \"showgrid\": true, \"tickfont\": {\"color\": \"#4D5663\"}, \"title\": {\"font\": {\"color\": \"#4D5663\"}, \"text\": \"\"}, \"zerolinecolor\": \"#E1E5ED\"}, \"yaxis2\": {\"domain\": [0, 0.25], \"gridcolor\": \"#E1E5ED\", \"showgrid\": true, \"tickfont\": {\"color\": \"#4D5663\"}, \"title\": {\"font\": {\"color\": \"#4D5663\"}, \"text\": \"Spread\"}, \"zerolinecolor\": \"#E1E5ED\"}},\n",
       "                        {\"showLink\": true, \"linkText\": \"Export to plot.ly\", \"plotlyServerURL\": \"https://plot.ly\", \"responsive\": true}\n",
       "                    ).then(function(){\n",
       "                            \n",
       "var gd = document.getElementById('56ea0471-b8d2-43b7-91d1-f4cc5c3c49bb');\n",
       "var x = new MutationObserver(function (mutations, observer) {{\n",
       "        var display = window.getComputedStyle(gd).display;\n",
       "        if (!display || display === 'none') {{\n",
       "            console.log([gd, 'removed!']);\n",
       "            Plotly.purge(gd);\n",
       "            observer.disconnect();\n",
       "        }}\n",
       "}});\n",
       "\n",
       "// Listen for the removal of the full notebook cells\n",
       "var notebookContainer = gd.closest('#notebook-container');\n",
       "if (notebookContainer) {{\n",
       "    x.observe(notebookContainer, {childList: true});\n",
       "}}\n",
       "\n",
       "// Listen for the clearing of the current output cell\n",
       "var outputEl = gd.closest('.output');\n",
       "if (outputEl) {{\n",
       "    x.observe(outputEl, {childList: true});\n",
       "}}\n",
       "\n",
       "                        })\n",
       "                };\n",
       "                });\n",
       "            </script>\n",
       "        </div>"
      ]
     },
     "metadata": {},
     "output_type": "display_data"
    }
   ],
   "source": [
    "df[['A','B']].iplot(kind='spread')"
   ]
  },
  {
   "cell_type": "code",
   "execution_count": 37,
   "metadata": {},
   "outputs": [
    {
     "data": {
      "application/vnd.plotly.v1+json": {
       "config": {
        "linkText": "Export to plot.ly",
        "plotlyServerURL": "https://plot.ly",
        "showLink": true
       },
       "data": [
        {
         "marker": {
          "color": [
           "rgb(255, 153, 51)",
           "rgb(55, 128, 191)",
           "rgb(50, 171, 96)",
           "rgb(128, 0, 128)",
           "rgb(219, 64, 82)",
           "rgb(0, 128, 128)",
           "rgb(255, 255, 51)",
           "rgb(128, 128, 0)",
           "rgb(251, 128, 114)",
           "rgb(128, 177, 211)"
          ],
          "line": {
           "width": 1.3
          },
          "size": [
           61,
           17,
           90,
           47,
           82,
           26,
           95,
           77,
           57,
           28,
           76,
           36,
           43,
           84,
           57,
           71,
           22,
           41,
           65,
           17,
           30,
           59,
           44,
           46,
           74,
           48,
           65,
           66,
           50,
           49,
           23,
           91,
           65,
           95,
           67,
           66,
           73,
           38,
           38,
           12,
           53,
           72,
           40,
           59,
           75,
           44,
           54,
           18,
           31,
           86,
           55,
           98,
           54,
           49,
           27,
           37,
           81,
           81,
           84,
           66,
           47,
           45,
           72,
           61,
           67,
           80,
           58,
           102,
           43,
           41,
           56,
           54,
           51,
           50,
           42,
           60,
           40,
           75,
           50,
           112,
           60,
           95,
           34,
           26,
           62,
           53,
           90,
           19,
           71,
           60,
           68,
           48,
           28,
           53,
           38,
           39,
           66,
           81,
           82,
           73
          ],
          "symbol": "circle"
         },
         "mode": "markers",
         "text": "",
         "type": "scatter",
         "x": [
          0.19650022373258236,
          -1.9941460778502356,
          0.6626376887314555,
          -0.958327863418552,
          0.4231241777990569,
          0.7113678238984446,
          -0.09165347023463194,
          -1.3149597471701424,
          -1.3933206032441685,
          -0.5529960919904516,
          -1.232042488497158,
          1.0661400300358617,
          0.36496152149907735,
          0.12566632897650376,
          -0.4154383457317713,
          1.1145779823073672,
          1.512565868621305,
          0.1794830651348587,
          1.0343723418421487,
          2.7907567772555297,
          0.2998865268939037,
          -1.1158316023870536,
          -0.027602812843491573,
          -0.5298883887261153,
          1.0290623615134162,
          0.9827394564213197,
          -0.4455813047158554,
          0.2338813758270774,
          -0.02285208244483196,
          -0.8967539023754664,
          -1.4758756049165747,
          -0.8947207457648796,
          -0.07309580354724263,
          -0.7845742580993053,
          0.23876895288454827,
          0.9742961492985625,
          -0.033916672684154374,
          1.1196298171192591,
          -0.535731539283069,
          -0.3906973132685843,
          -0.8424290459415693,
          0.2792280254608758,
          -0.9286349945862502,
          -1.5063893605812446,
          1.8743143044827653,
          -0.651912761220479,
          -0.6218461636563343,
          0.835257171977975,
          -0.6112242584714845,
          0.3039624479311827,
          -1.4468041377380885,
          1.311224077205215,
          -0.7808300388541097,
          -0.7560423271045358,
          -0.5005366745377746,
          -0.8309774142243554,
          0.3162223512088091,
          -0.002041007732976193,
          -0.6113995211974071,
          -0.7775783612568149,
          -1.2475028820394487,
          1.217988302202804,
          -2.035103126115838,
          1.0642766469020115,
          0.20548427026076269,
          1.2143492963512488,
          -0.2852927776860206,
          1.124432516025142,
          1.6347521744859779,
          -1.7834783009007091,
          0.2841397399808306,
          -0.2089012383694685,
          0.16030754969303934,
          0.36365439104045916,
          1.19666648962708,
          1.0687355273258576,
          1.3397200048714657,
          -1.4253637092798235,
          -0.11768531861787762,
          1.093744468440918,
          -0.636974215744073,
          -0.3613674535797206,
          2.053369552369878,
          0.7116839450439921,
          0.21270413234870125,
          -0.7903526585716255,
          -0.5880588643865717,
          0.3927540327176958,
          1.006657100212194,
          0.4213663847261615,
          0.19051498346579346,
          -0.03139508418786326,
          -0.7817689753853478,
          0.11699032841973789,
          0.9873789930068373,
          0.3593178489481021,
          0.19807751375431895,
          0.16904863471663228,
          -0.8675517348746863,
          1.0632008929683778
         ],
         "y": [
          -0.7167540505755027,
          -0.12909041323094617,
          0.22877681615439618,
          0.31882194562550403,
          0.4225554005693531,
          -1.6017150482952225,
          -0.2831684279736227,
          0.4322828011724924,
          1.255309714528344,
          0.8755230396176855,
          -0.6831456954439784,
          0.8110952397727162,
          -0.9166031195725972,
          0.3064369207186609,
          -2.0490989505187236,
          0.24906760614659623,
          0.39402324128552113,
          1.2780126859912582,
          -0.6505787538828152,
          -1.8518228676195427,
          -0.6746027652090811,
          -0.5161504692227723,
          0.2675518587457653,
          1.2710464229933724,
          1.2807012511537221,
          -0.813800981946473,
          0.9887296411556364,
          0.34779627811844277,
          1.0722640977196165,
          0.6433973284268374,
          0.40989450323414944,
          -1.4733258160007474,
          -0.9412466041115733,
          -0.10393012533579014,
          -0.6633454096051882,
          0.015757602282605216,
          1.9300001620261522,
          0.3233316683803168,
          1.392081529793989,
          1.4443614670956944,
          -0.19790878795053235,
          -0.5544650739226349,
          0.5810930100480569,
          -0.1905863676661684,
          0.6475117163062424,
          -0.4221535516573303,
          -0.9506756238745352,
          -0.3235691101756691,
          1.4337726924059773,
          -0.12164703421491174,
          -1.062327523237242,
          0.11695727946221875,
          -1.007567980517339,
          -3.098258736419873,
          1.235020540831101,
          0.08921425828329375,
          0.704599257819094,
          -1.9902654298561624,
          -1.3954712513866852,
          0.26963792912257833,
          0.24635411911346924,
          1.2620128885536703,
          1.1836800423064873,
          1.400217743322152,
          -0.8679652825501485,
          -0.7350983986807433,
          -2.069993960321671,
          -1.282928343846692,
          0.48351853758115854,
          0.6112862292452989,
          1.1036595971163061,
          -0.5462393578834953,
          -0.33009350560709183,
          -1.629830976151171,
          1.1731247238933304,
          -0.2389716755564296,
          0.10612143852848767,
          0.24536861497171922,
          -1.3303910676401658,
          -1.003306043921901,
          -0.4633435944966815,
          -0.022550288796635908,
          -1.012648189549336,
          -0.7750502400724303,
          -0.04569054422612893,
          -1.2199363247358548,
          -0.46624047284590303,
          -0.018410039343196544,
          0.6315535035946279,
          -0.6522499307304486,
          1.0430884953210082,
          -0.22480352941851106,
          -0.1484017345204255,
          -0.17236561194123814,
          -1.0275961625778565,
          0.819474611828162,
          1.1454383327596491,
          -1.2813189449037186,
          1.753594350607639,
          0.1766289971132849
         ]
        }
       ],
       "layout": {
        "legend": {
         "bgcolor": "#F5F6F9",
         "font": {
          "color": "#4D5663"
         }
        },
        "paper_bgcolor": "#F5F6F9",
        "plot_bgcolor": "#F5F6F9",
        "template": {
         "data": {
          "bar": [
           {
            "error_x": {
             "color": "#2a3f5f"
            },
            "error_y": {
             "color": "#2a3f5f"
            },
            "marker": {
             "line": {
              "color": "#E5ECF6",
              "width": 0.5
             }
            },
            "type": "bar"
           }
          ],
          "barpolar": [
           {
            "marker": {
             "line": {
              "color": "#E5ECF6",
              "width": 0.5
             }
            },
            "type": "barpolar"
           }
          ],
          "carpet": [
           {
            "aaxis": {
             "endlinecolor": "#2a3f5f",
             "gridcolor": "white",
             "linecolor": "white",
             "minorgridcolor": "white",
             "startlinecolor": "#2a3f5f"
            },
            "baxis": {
             "endlinecolor": "#2a3f5f",
             "gridcolor": "white",
             "linecolor": "white",
             "minorgridcolor": "white",
             "startlinecolor": "#2a3f5f"
            },
            "type": "carpet"
           }
          ],
          "choropleth": [
           {
            "colorbar": {
             "outlinewidth": 0,
             "ticks": ""
            },
            "type": "choropleth"
           }
          ],
          "contour": [
           {
            "colorbar": {
             "outlinewidth": 0,
             "ticks": ""
            },
            "colorscale": [
             [
              0,
              "#0d0887"
             ],
             [
              0.1111111111111111,
              "#46039f"
             ],
             [
              0.2222222222222222,
              "#7201a8"
             ],
             [
              0.3333333333333333,
              "#9c179e"
             ],
             [
              0.4444444444444444,
              "#bd3786"
             ],
             [
              0.5555555555555556,
              "#d8576b"
             ],
             [
              0.6666666666666666,
              "#ed7953"
             ],
             [
              0.7777777777777778,
              "#fb9f3a"
             ],
             [
              0.8888888888888888,
              "#fdca26"
             ],
             [
              1,
              "#f0f921"
             ]
            ],
            "type": "contour"
           }
          ],
          "contourcarpet": [
           {
            "colorbar": {
             "outlinewidth": 0,
             "ticks": ""
            },
            "type": "contourcarpet"
           }
          ],
          "heatmap": [
           {
            "colorbar": {
             "outlinewidth": 0,
             "ticks": ""
            },
            "colorscale": [
             [
              0,
              "#0d0887"
             ],
             [
              0.1111111111111111,
              "#46039f"
             ],
             [
              0.2222222222222222,
              "#7201a8"
             ],
             [
              0.3333333333333333,
              "#9c179e"
             ],
             [
              0.4444444444444444,
              "#bd3786"
             ],
             [
              0.5555555555555556,
              "#d8576b"
             ],
             [
              0.6666666666666666,
              "#ed7953"
             ],
             [
              0.7777777777777778,
              "#fb9f3a"
             ],
             [
              0.8888888888888888,
              "#fdca26"
             ],
             [
              1,
              "#f0f921"
             ]
            ],
            "type": "heatmap"
           }
          ],
          "heatmapgl": [
           {
            "colorbar": {
             "outlinewidth": 0,
             "ticks": ""
            },
            "colorscale": [
             [
              0,
              "#0d0887"
             ],
             [
              0.1111111111111111,
              "#46039f"
             ],
             [
              0.2222222222222222,
              "#7201a8"
             ],
             [
              0.3333333333333333,
              "#9c179e"
             ],
             [
              0.4444444444444444,
              "#bd3786"
             ],
             [
              0.5555555555555556,
              "#d8576b"
             ],
             [
              0.6666666666666666,
              "#ed7953"
             ],
             [
              0.7777777777777778,
              "#fb9f3a"
             ],
             [
              0.8888888888888888,
              "#fdca26"
             ],
             [
              1,
              "#f0f921"
             ]
            ],
            "type": "heatmapgl"
           }
          ],
          "histogram": [
           {
            "marker": {
             "colorbar": {
              "outlinewidth": 0,
              "ticks": ""
             }
            },
            "type": "histogram"
           }
          ],
          "histogram2d": [
           {
            "colorbar": {
             "outlinewidth": 0,
             "ticks": ""
            },
            "colorscale": [
             [
              0,
              "#0d0887"
             ],
             [
              0.1111111111111111,
              "#46039f"
             ],
             [
              0.2222222222222222,
              "#7201a8"
             ],
             [
              0.3333333333333333,
              "#9c179e"
             ],
             [
              0.4444444444444444,
              "#bd3786"
             ],
             [
              0.5555555555555556,
              "#d8576b"
             ],
             [
              0.6666666666666666,
              "#ed7953"
             ],
             [
              0.7777777777777778,
              "#fb9f3a"
             ],
             [
              0.8888888888888888,
              "#fdca26"
             ],
             [
              1,
              "#f0f921"
             ]
            ],
            "type": "histogram2d"
           }
          ],
          "histogram2dcontour": [
           {
            "colorbar": {
             "outlinewidth": 0,
             "ticks": ""
            },
            "colorscale": [
             [
              0,
              "#0d0887"
             ],
             [
              0.1111111111111111,
              "#46039f"
             ],
             [
              0.2222222222222222,
              "#7201a8"
             ],
             [
              0.3333333333333333,
              "#9c179e"
             ],
             [
              0.4444444444444444,
              "#bd3786"
             ],
             [
              0.5555555555555556,
              "#d8576b"
             ],
             [
              0.6666666666666666,
              "#ed7953"
             ],
             [
              0.7777777777777778,
              "#fb9f3a"
             ],
             [
              0.8888888888888888,
              "#fdca26"
             ],
             [
              1,
              "#f0f921"
             ]
            ],
            "type": "histogram2dcontour"
           }
          ],
          "mesh3d": [
           {
            "colorbar": {
             "outlinewidth": 0,
             "ticks": ""
            },
            "type": "mesh3d"
           }
          ],
          "parcoords": [
           {
            "line": {
             "colorbar": {
              "outlinewidth": 0,
              "ticks": ""
             }
            },
            "type": "parcoords"
           }
          ],
          "pie": [
           {
            "automargin": true,
            "type": "pie"
           }
          ],
          "scatter": [
           {
            "marker": {
             "colorbar": {
              "outlinewidth": 0,
              "ticks": ""
             }
            },
            "type": "scatter"
           }
          ],
          "scatter3d": [
           {
            "line": {
             "colorbar": {
              "outlinewidth": 0,
              "ticks": ""
             }
            },
            "marker": {
             "colorbar": {
              "outlinewidth": 0,
              "ticks": ""
             }
            },
            "type": "scatter3d"
           }
          ],
          "scattercarpet": [
           {
            "marker": {
             "colorbar": {
              "outlinewidth": 0,
              "ticks": ""
             }
            },
            "type": "scattercarpet"
           }
          ],
          "scattergeo": [
           {
            "marker": {
             "colorbar": {
              "outlinewidth": 0,
              "ticks": ""
             }
            },
            "type": "scattergeo"
           }
          ],
          "scattergl": [
           {
            "marker": {
             "colorbar": {
              "outlinewidth": 0,
              "ticks": ""
             }
            },
            "type": "scattergl"
           }
          ],
          "scattermapbox": [
           {
            "marker": {
             "colorbar": {
              "outlinewidth": 0,
              "ticks": ""
             }
            },
            "type": "scattermapbox"
           }
          ],
          "scatterpolar": [
           {
            "marker": {
             "colorbar": {
              "outlinewidth": 0,
              "ticks": ""
             }
            },
            "type": "scatterpolar"
           }
          ],
          "scatterpolargl": [
           {
            "marker": {
             "colorbar": {
              "outlinewidth": 0,
              "ticks": ""
             }
            },
            "type": "scatterpolargl"
           }
          ],
          "scatterternary": [
           {
            "marker": {
             "colorbar": {
              "outlinewidth": 0,
              "ticks": ""
             }
            },
            "type": "scatterternary"
           }
          ],
          "surface": [
           {
            "colorbar": {
             "outlinewidth": 0,
             "ticks": ""
            },
            "colorscale": [
             [
              0,
              "#0d0887"
             ],
             [
              0.1111111111111111,
              "#46039f"
             ],
             [
              0.2222222222222222,
              "#7201a8"
             ],
             [
              0.3333333333333333,
              "#9c179e"
             ],
             [
              0.4444444444444444,
              "#bd3786"
             ],
             [
              0.5555555555555556,
              "#d8576b"
             ],
             [
              0.6666666666666666,
              "#ed7953"
             ],
             [
              0.7777777777777778,
              "#fb9f3a"
             ],
             [
              0.8888888888888888,
              "#fdca26"
             ],
             [
              1,
              "#f0f921"
             ]
            ],
            "type": "surface"
           }
          ],
          "table": [
           {
            "cells": {
             "fill": {
              "color": "#EBF0F8"
             },
             "line": {
              "color": "white"
             }
            },
            "header": {
             "fill": {
              "color": "#C8D4E3"
             },
             "line": {
              "color": "white"
             }
            },
            "type": "table"
           }
          ]
         },
         "layout": {
          "annotationdefaults": {
           "arrowcolor": "#2a3f5f",
           "arrowhead": 0,
           "arrowwidth": 1
          },
          "coloraxis": {
           "colorbar": {
            "outlinewidth": 0,
            "ticks": ""
           }
          },
          "colorscale": {
           "diverging": [
            [
             0,
             "#8e0152"
            ],
            [
             0.1,
             "#c51b7d"
            ],
            [
             0.2,
             "#de77ae"
            ],
            [
             0.3,
             "#f1b6da"
            ],
            [
             0.4,
             "#fde0ef"
            ],
            [
             0.5,
             "#f7f7f7"
            ],
            [
             0.6,
             "#e6f5d0"
            ],
            [
             0.7,
             "#b8e186"
            ],
            [
             0.8,
             "#7fbc41"
            ],
            [
             0.9,
             "#4d9221"
            ],
            [
             1,
             "#276419"
            ]
           ],
           "sequential": [
            [
             0,
             "#0d0887"
            ],
            [
             0.1111111111111111,
             "#46039f"
            ],
            [
             0.2222222222222222,
             "#7201a8"
            ],
            [
             0.3333333333333333,
             "#9c179e"
            ],
            [
             0.4444444444444444,
             "#bd3786"
            ],
            [
             0.5555555555555556,
             "#d8576b"
            ],
            [
             0.6666666666666666,
             "#ed7953"
            ],
            [
             0.7777777777777778,
             "#fb9f3a"
            ],
            [
             0.8888888888888888,
             "#fdca26"
            ],
            [
             1,
             "#f0f921"
            ]
           ],
           "sequentialminus": [
            [
             0,
             "#0d0887"
            ],
            [
             0.1111111111111111,
             "#46039f"
            ],
            [
             0.2222222222222222,
             "#7201a8"
            ],
            [
             0.3333333333333333,
             "#9c179e"
            ],
            [
             0.4444444444444444,
             "#bd3786"
            ],
            [
             0.5555555555555556,
             "#d8576b"
            ],
            [
             0.6666666666666666,
             "#ed7953"
            ],
            [
             0.7777777777777778,
             "#fb9f3a"
            ],
            [
             0.8888888888888888,
             "#fdca26"
            ],
            [
             1,
             "#f0f921"
            ]
           ]
          },
          "colorway": [
           "#636efa",
           "#EF553B",
           "#00cc96",
           "#ab63fa",
           "#FFA15A",
           "#19d3f3",
           "#FF6692",
           "#B6E880",
           "#FF97FF",
           "#FECB52"
          ],
          "font": {
           "color": "#2a3f5f"
          },
          "geo": {
           "bgcolor": "white",
           "lakecolor": "white",
           "landcolor": "#E5ECF6",
           "showlakes": true,
           "showland": true,
           "subunitcolor": "white"
          },
          "hoverlabel": {
           "align": "left"
          },
          "hovermode": "closest",
          "mapbox": {
           "style": "light"
          },
          "paper_bgcolor": "white",
          "plot_bgcolor": "#E5ECF6",
          "polar": {
           "angularaxis": {
            "gridcolor": "white",
            "linecolor": "white",
            "ticks": ""
           },
           "bgcolor": "#E5ECF6",
           "radialaxis": {
            "gridcolor": "white",
            "linecolor": "white",
            "ticks": ""
           }
          },
          "scene": {
           "xaxis": {
            "backgroundcolor": "#E5ECF6",
            "gridcolor": "white",
            "gridwidth": 2,
            "linecolor": "white",
            "showbackground": true,
            "ticks": "",
            "zerolinecolor": "white"
           },
           "yaxis": {
            "backgroundcolor": "#E5ECF6",
            "gridcolor": "white",
            "gridwidth": 2,
            "linecolor": "white",
            "showbackground": true,
            "ticks": "",
            "zerolinecolor": "white"
           },
           "zaxis": {
            "backgroundcolor": "#E5ECF6",
            "gridcolor": "white",
            "gridwidth": 2,
            "linecolor": "white",
            "showbackground": true,
            "ticks": "",
            "zerolinecolor": "white"
           }
          },
          "shapedefaults": {
           "line": {
            "color": "#2a3f5f"
           }
          },
          "ternary": {
           "aaxis": {
            "gridcolor": "white",
            "linecolor": "white",
            "ticks": ""
           },
           "baxis": {
            "gridcolor": "white",
            "linecolor": "white",
            "ticks": ""
           },
           "bgcolor": "#E5ECF6",
           "caxis": {
            "gridcolor": "white",
            "linecolor": "white",
            "ticks": ""
           }
          },
          "title": {
           "x": 0.05
          },
          "xaxis": {
           "automargin": true,
           "gridcolor": "white",
           "linecolor": "white",
           "ticks": "",
           "title": {
            "standoff": 15
           },
           "zerolinecolor": "white",
           "zerolinewidth": 2
          },
          "yaxis": {
           "automargin": true,
           "gridcolor": "white",
           "linecolor": "white",
           "ticks": "",
           "title": {
            "standoff": 15
           },
           "zerolinecolor": "white",
           "zerolinewidth": 2
          }
         }
        },
        "title": {
         "font": {
          "color": "#4D5663"
         }
        },
        "xaxis": {
         "gridcolor": "#E1E5ED",
         "showgrid": true,
         "tickfont": {
          "color": "#4D5663"
         },
         "title": {
          "font": {
           "color": "#4D5663"
          },
          "text": ""
         },
         "zerolinecolor": "#E1E5ED"
        },
        "yaxis": {
         "gridcolor": "#E1E5ED",
         "showgrid": true,
         "tickfont": {
          "color": "#4D5663"
         },
         "title": {
          "font": {
           "color": "#4D5663"
          },
          "text": ""
         },
         "zerolinecolor": "#E1E5ED"
        }
       }
      },
      "text/html": [
       "<div>\n",
       "        \n",
       "        \n",
       "            <div id=\"c0b7ce05-164e-49bc-aebe-9cfe639c0d2e\" class=\"plotly-graph-div\" style=\"height:525px; width:100%;\"></div>\n",
       "            <script type=\"text/javascript\">\n",
       "                require([\"plotly\"], function(Plotly) {\n",
       "                    window.PLOTLYENV=window.PLOTLYENV || {};\n",
       "                    window.PLOTLYENV.BASE_URL='https://plot.ly';\n",
       "                    \n",
       "                if (document.getElementById(\"c0b7ce05-164e-49bc-aebe-9cfe639c0d2e\")) {\n",
       "                    Plotly.newPlot(\n",
       "                        'c0b7ce05-164e-49bc-aebe-9cfe639c0d2e',\n",
       "                        [{\"marker\": {\"color\": [\"rgb(255, 153, 51)\", \"rgb(55, 128, 191)\", \"rgb(50, 171, 96)\", \"rgb(128, 0, 128)\", \"rgb(219, 64, 82)\", \"rgb(0, 128, 128)\", \"rgb(255, 255, 51)\", \"rgb(128, 128, 0)\", \"rgb(251, 128, 114)\", \"rgb(128, 177, 211)\"], \"line\": {\"width\": 1.3}, \"size\": [61, 17, 90, 47, 82, 26, 95, 77, 57, 28, 76, 36, 43, 84, 57, 71, 22, 41, 65, 17, 30, 59, 44, 46, 74, 48, 65, 66, 50, 49, 23, 91, 65, 95, 67, 66, 73, 38, 38, 12, 53, 72, 40, 59, 75, 44, 54, 18, 31, 86, 55, 98, 54, 49, 27, 37, 81, 81, 84, 66, 47, 45, 72, 61, 67, 80, 58, 102, 43, 41, 56, 54, 51, 50, 42, 60, 40, 75, 50, 112, 60, 95, 34, 26, 62, 53, 90, 19, 71, 60, 68, 48, 28, 53, 38, 39, 66, 81, 82, 73], \"symbol\": \"circle\"}, \"mode\": \"markers\", \"text\": \"\", \"type\": \"scatter\", \"x\": [0.19650022373258236, -1.9941460778502356, 0.6626376887314555, -0.958327863418552, 0.4231241777990569, 0.7113678238984446, -0.09165347023463194, -1.3149597471701424, -1.3933206032441685, -0.5529960919904516, -1.232042488497158, 1.0661400300358617, 0.36496152149907735, 0.12566632897650376, -0.4154383457317713, 1.1145779823073672, 1.512565868621305, 0.1794830651348587, 1.0343723418421487, 2.7907567772555297, 0.2998865268939037, -1.1158316023870536, -0.027602812843491573, -0.5298883887261153, 1.0290623615134162, 0.9827394564213197, -0.4455813047158554, 0.2338813758270774, -0.02285208244483196, -0.8967539023754664, -1.4758756049165747, -0.8947207457648796, -0.07309580354724263, -0.7845742580993053, 0.23876895288454827, 0.9742961492985625, -0.033916672684154374, 1.1196298171192591, -0.535731539283069, -0.3906973132685843, -0.8424290459415693, 0.2792280254608758, -0.9286349945862502, -1.5063893605812446, 1.8743143044827653, -0.651912761220479, -0.6218461636563343, 0.835257171977975, -0.6112242584714845, 0.3039624479311827, -1.4468041377380885, 1.311224077205215, -0.7808300388541097, -0.7560423271045358, -0.5005366745377746, -0.8309774142243554, 0.3162223512088091, -0.002041007732976193, -0.6113995211974071, -0.7775783612568149, -1.2475028820394487, 1.217988302202804, -2.035103126115838, 1.0642766469020115, 0.20548427026076269, 1.2143492963512488, -0.2852927776860206, 1.124432516025142, 1.6347521744859779, -1.7834783009007091, 0.2841397399808306, -0.2089012383694685, 0.16030754969303934, 0.36365439104045916, 1.19666648962708, 1.0687355273258576, 1.3397200048714657, -1.4253637092798235, -0.11768531861787762, 1.093744468440918, -0.636974215744073, -0.3613674535797206, 2.053369552369878, 0.7116839450439921, 0.21270413234870125, -0.7903526585716255, -0.5880588643865717, 0.3927540327176958, 1.006657100212194, 0.4213663847261615, 0.19051498346579346, -0.03139508418786326, -0.7817689753853478, 0.11699032841973789, 0.9873789930068373, 0.3593178489481021, 0.19807751375431895, 0.16904863471663228, -0.8675517348746863, 1.0632008929683778], \"y\": [-0.7167540505755027, -0.12909041323094617, 0.22877681615439618, 0.31882194562550403, 0.4225554005693531, -1.6017150482952225, -0.2831684279736227, 0.4322828011724924, 1.255309714528344, 0.8755230396176855, -0.6831456954439784, 0.8110952397727162, -0.9166031195725972, 0.3064369207186609, -2.0490989505187236, 0.24906760614659623, 0.39402324128552113, 1.2780126859912582, -0.6505787538828152, -1.8518228676195427, -0.6746027652090811, -0.5161504692227723, 0.2675518587457653, 1.2710464229933724, 1.2807012511537221, -0.813800981946473, 0.9887296411556364, 0.34779627811844277, 1.0722640977196165, 0.6433973284268374, 0.40989450323414944, -1.4733258160007474, -0.9412466041115733, -0.10393012533579014, -0.6633454096051882, 0.015757602282605216, 1.9300001620261522, 0.3233316683803168, 1.392081529793989, 1.4443614670956944, -0.19790878795053235, -0.5544650739226349, 0.5810930100480569, -0.1905863676661684, 0.6475117163062424, -0.4221535516573303, -0.9506756238745352, -0.3235691101756691, 1.4337726924059773, -0.12164703421491174, -1.062327523237242, 0.11695727946221875, -1.007567980517339, -3.098258736419873, 1.235020540831101, 0.08921425828329375, 0.704599257819094, -1.9902654298561624, -1.3954712513866852, 0.26963792912257833, 0.24635411911346924, 1.2620128885536703, 1.1836800423064873, 1.400217743322152, -0.8679652825501485, -0.7350983986807433, -2.069993960321671, -1.282928343846692, 0.48351853758115854, 0.6112862292452989, 1.1036595971163061, -0.5462393578834953, -0.33009350560709183, -1.629830976151171, 1.1731247238933304, -0.2389716755564296, 0.10612143852848767, 0.24536861497171922, -1.3303910676401658, -1.003306043921901, -0.4633435944966815, -0.022550288796635908, -1.012648189549336, -0.7750502400724303, -0.04569054422612893, -1.2199363247358548, -0.46624047284590303, -0.018410039343196544, 0.6315535035946279, -0.6522499307304486, 1.0430884953210082, -0.22480352941851106, -0.1484017345204255, -0.17236561194123814, -1.0275961625778565, 0.819474611828162, 1.1454383327596491, -1.2813189449037186, 1.753594350607639, 0.1766289971132849]}],\n",
       "                        {\"legend\": {\"bgcolor\": \"#F5F6F9\", \"font\": {\"color\": \"#4D5663\"}}, \"paper_bgcolor\": \"#F5F6F9\", \"plot_bgcolor\": \"#F5F6F9\", \"template\": {\"data\": {\"bar\": [{\"error_x\": {\"color\": \"#2a3f5f\"}, \"error_y\": {\"color\": \"#2a3f5f\"}, \"marker\": {\"line\": {\"color\": \"#E5ECF6\", \"width\": 0.5}}, \"type\": \"bar\"}], \"barpolar\": [{\"marker\": {\"line\": {\"color\": \"#E5ECF6\", \"width\": 0.5}}, \"type\": \"barpolar\"}], \"carpet\": [{\"aaxis\": {\"endlinecolor\": \"#2a3f5f\", \"gridcolor\": \"white\", \"linecolor\": \"white\", \"minorgridcolor\": \"white\", \"startlinecolor\": \"#2a3f5f\"}, \"baxis\": {\"endlinecolor\": \"#2a3f5f\", \"gridcolor\": \"white\", \"linecolor\": \"white\", \"minorgridcolor\": \"white\", \"startlinecolor\": \"#2a3f5f\"}, \"type\": \"carpet\"}], \"choropleth\": [{\"colorbar\": {\"outlinewidth\": 0, \"ticks\": \"\"}, \"type\": \"choropleth\"}], \"contour\": [{\"colorbar\": {\"outlinewidth\": 0, \"ticks\": \"\"}, \"colorscale\": [[0.0, \"#0d0887\"], [0.1111111111111111, \"#46039f\"], [0.2222222222222222, \"#7201a8\"], [0.3333333333333333, \"#9c179e\"], [0.4444444444444444, \"#bd3786\"], [0.5555555555555556, \"#d8576b\"], [0.6666666666666666, \"#ed7953\"], [0.7777777777777778, \"#fb9f3a\"], [0.8888888888888888, \"#fdca26\"], [1.0, \"#f0f921\"]], \"type\": \"contour\"}], \"contourcarpet\": [{\"colorbar\": {\"outlinewidth\": 0, \"ticks\": \"\"}, \"type\": \"contourcarpet\"}], \"heatmap\": [{\"colorbar\": {\"outlinewidth\": 0, \"ticks\": \"\"}, \"colorscale\": [[0.0, \"#0d0887\"], [0.1111111111111111, \"#46039f\"], [0.2222222222222222, \"#7201a8\"], [0.3333333333333333, \"#9c179e\"], [0.4444444444444444, \"#bd3786\"], [0.5555555555555556, \"#d8576b\"], [0.6666666666666666, \"#ed7953\"], [0.7777777777777778, \"#fb9f3a\"], [0.8888888888888888, \"#fdca26\"], [1.0, \"#f0f921\"]], \"type\": \"heatmap\"}], \"heatmapgl\": [{\"colorbar\": {\"outlinewidth\": 0, \"ticks\": \"\"}, \"colorscale\": [[0.0, \"#0d0887\"], [0.1111111111111111, \"#46039f\"], [0.2222222222222222, \"#7201a8\"], [0.3333333333333333, \"#9c179e\"], [0.4444444444444444, \"#bd3786\"], [0.5555555555555556, \"#d8576b\"], [0.6666666666666666, \"#ed7953\"], [0.7777777777777778, \"#fb9f3a\"], [0.8888888888888888, \"#fdca26\"], [1.0, \"#f0f921\"]], \"type\": \"heatmapgl\"}], \"histogram\": [{\"marker\": {\"colorbar\": {\"outlinewidth\": 0, \"ticks\": \"\"}}, \"type\": \"histogram\"}], \"histogram2d\": [{\"colorbar\": {\"outlinewidth\": 0, \"ticks\": \"\"}, \"colorscale\": [[0.0, \"#0d0887\"], [0.1111111111111111, \"#46039f\"], [0.2222222222222222, \"#7201a8\"], [0.3333333333333333, \"#9c179e\"], [0.4444444444444444, \"#bd3786\"], [0.5555555555555556, \"#d8576b\"], [0.6666666666666666, \"#ed7953\"], [0.7777777777777778, \"#fb9f3a\"], [0.8888888888888888, \"#fdca26\"], [1.0, \"#f0f921\"]], \"type\": \"histogram2d\"}], \"histogram2dcontour\": [{\"colorbar\": {\"outlinewidth\": 0, \"ticks\": \"\"}, \"colorscale\": [[0.0, \"#0d0887\"], [0.1111111111111111, \"#46039f\"], [0.2222222222222222, \"#7201a8\"], [0.3333333333333333, \"#9c179e\"], [0.4444444444444444, \"#bd3786\"], [0.5555555555555556, \"#d8576b\"], [0.6666666666666666, \"#ed7953\"], [0.7777777777777778, \"#fb9f3a\"], [0.8888888888888888, \"#fdca26\"], [1.0, \"#f0f921\"]], \"type\": \"histogram2dcontour\"}], \"mesh3d\": [{\"colorbar\": {\"outlinewidth\": 0, \"ticks\": \"\"}, \"type\": \"mesh3d\"}], \"parcoords\": [{\"line\": {\"colorbar\": {\"outlinewidth\": 0, \"ticks\": \"\"}}, \"type\": \"parcoords\"}], \"pie\": [{\"automargin\": true, \"type\": \"pie\"}], \"scatter\": [{\"marker\": {\"colorbar\": {\"outlinewidth\": 0, \"ticks\": \"\"}}, \"type\": \"scatter\"}], \"scatter3d\": [{\"line\": {\"colorbar\": {\"outlinewidth\": 0, \"ticks\": \"\"}}, \"marker\": {\"colorbar\": {\"outlinewidth\": 0, \"ticks\": \"\"}}, \"type\": \"scatter3d\"}], \"scattercarpet\": [{\"marker\": {\"colorbar\": {\"outlinewidth\": 0, \"ticks\": \"\"}}, \"type\": \"scattercarpet\"}], \"scattergeo\": [{\"marker\": {\"colorbar\": {\"outlinewidth\": 0, \"ticks\": \"\"}}, \"type\": \"scattergeo\"}], \"scattergl\": [{\"marker\": {\"colorbar\": {\"outlinewidth\": 0, \"ticks\": \"\"}}, \"type\": \"scattergl\"}], \"scattermapbox\": [{\"marker\": {\"colorbar\": {\"outlinewidth\": 0, \"ticks\": \"\"}}, \"type\": \"scattermapbox\"}], \"scatterpolar\": [{\"marker\": {\"colorbar\": {\"outlinewidth\": 0, \"ticks\": \"\"}}, \"type\": \"scatterpolar\"}], \"scatterpolargl\": [{\"marker\": {\"colorbar\": {\"outlinewidth\": 0, \"ticks\": \"\"}}, \"type\": \"scatterpolargl\"}], \"scatterternary\": [{\"marker\": {\"colorbar\": {\"outlinewidth\": 0, \"ticks\": \"\"}}, \"type\": \"scatterternary\"}], \"surface\": [{\"colorbar\": {\"outlinewidth\": 0, \"ticks\": \"\"}, \"colorscale\": [[0.0, \"#0d0887\"], [0.1111111111111111, \"#46039f\"], [0.2222222222222222, \"#7201a8\"], [0.3333333333333333, \"#9c179e\"], [0.4444444444444444, \"#bd3786\"], [0.5555555555555556, \"#d8576b\"], [0.6666666666666666, \"#ed7953\"], [0.7777777777777778, \"#fb9f3a\"], [0.8888888888888888, \"#fdca26\"], [1.0, \"#f0f921\"]], \"type\": \"surface\"}], \"table\": [{\"cells\": {\"fill\": {\"color\": \"#EBF0F8\"}, \"line\": {\"color\": \"white\"}}, \"header\": {\"fill\": {\"color\": \"#C8D4E3\"}, \"line\": {\"color\": \"white\"}}, \"type\": \"table\"}]}, \"layout\": {\"annotationdefaults\": {\"arrowcolor\": \"#2a3f5f\", \"arrowhead\": 0, \"arrowwidth\": 1}, \"coloraxis\": {\"colorbar\": {\"outlinewidth\": 0, \"ticks\": \"\"}}, \"colorscale\": {\"diverging\": [[0, \"#8e0152\"], [0.1, \"#c51b7d\"], [0.2, \"#de77ae\"], [0.3, \"#f1b6da\"], [0.4, \"#fde0ef\"], [0.5, \"#f7f7f7\"], [0.6, \"#e6f5d0\"], [0.7, \"#b8e186\"], [0.8, \"#7fbc41\"], [0.9, \"#4d9221\"], [1, \"#276419\"]], \"sequential\": [[0.0, \"#0d0887\"], [0.1111111111111111, \"#46039f\"], [0.2222222222222222, \"#7201a8\"], [0.3333333333333333, \"#9c179e\"], [0.4444444444444444, \"#bd3786\"], [0.5555555555555556, \"#d8576b\"], [0.6666666666666666, \"#ed7953\"], [0.7777777777777778, \"#fb9f3a\"], [0.8888888888888888, \"#fdca26\"], [1.0, \"#f0f921\"]], \"sequentialminus\": [[0.0, \"#0d0887\"], [0.1111111111111111, \"#46039f\"], [0.2222222222222222, \"#7201a8\"], [0.3333333333333333, \"#9c179e\"], [0.4444444444444444, \"#bd3786\"], [0.5555555555555556, \"#d8576b\"], [0.6666666666666666, \"#ed7953\"], [0.7777777777777778, \"#fb9f3a\"], [0.8888888888888888, \"#fdca26\"], [1.0, \"#f0f921\"]]}, \"colorway\": [\"#636efa\", \"#EF553B\", \"#00cc96\", \"#ab63fa\", \"#FFA15A\", \"#19d3f3\", \"#FF6692\", \"#B6E880\", \"#FF97FF\", \"#FECB52\"], \"font\": {\"color\": \"#2a3f5f\"}, \"geo\": {\"bgcolor\": \"white\", \"lakecolor\": \"white\", \"landcolor\": \"#E5ECF6\", \"showlakes\": true, \"showland\": true, \"subunitcolor\": \"white\"}, \"hoverlabel\": {\"align\": \"left\"}, \"hovermode\": \"closest\", \"mapbox\": {\"style\": \"light\"}, \"paper_bgcolor\": \"white\", \"plot_bgcolor\": \"#E5ECF6\", \"polar\": {\"angularaxis\": {\"gridcolor\": \"white\", \"linecolor\": \"white\", \"ticks\": \"\"}, \"bgcolor\": \"#E5ECF6\", \"radialaxis\": {\"gridcolor\": \"white\", \"linecolor\": \"white\", \"ticks\": \"\"}}, \"scene\": {\"xaxis\": {\"backgroundcolor\": \"#E5ECF6\", \"gridcolor\": \"white\", \"gridwidth\": 2, \"linecolor\": \"white\", \"showbackground\": true, \"ticks\": \"\", \"zerolinecolor\": \"white\"}, \"yaxis\": {\"backgroundcolor\": \"#E5ECF6\", \"gridcolor\": \"white\", \"gridwidth\": 2, \"linecolor\": \"white\", \"showbackground\": true, \"ticks\": \"\", \"zerolinecolor\": \"white\"}, \"zaxis\": {\"backgroundcolor\": \"#E5ECF6\", \"gridcolor\": \"white\", \"gridwidth\": 2, \"linecolor\": \"white\", \"showbackground\": true, \"ticks\": \"\", \"zerolinecolor\": \"white\"}}, \"shapedefaults\": {\"line\": {\"color\": \"#2a3f5f\"}}, \"ternary\": {\"aaxis\": {\"gridcolor\": \"white\", \"linecolor\": \"white\", \"ticks\": \"\"}, \"baxis\": {\"gridcolor\": \"white\", \"linecolor\": \"white\", \"ticks\": \"\"}, \"bgcolor\": \"#E5ECF6\", \"caxis\": {\"gridcolor\": \"white\", \"linecolor\": \"white\", \"ticks\": \"\"}}, \"title\": {\"x\": 0.05}, \"xaxis\": {\"automargin\": true, \"gridcolor\": \"white\", \"linecolor\": \"white\", \"ticks\": \"\", \"title\": {\"standoff\": 15}, \"zerolinecolor\": \"white\", \"zerolinewidth\": 2}, \"yaxis\": {\"automargin\": true, \"gridcolor\": \"white\", \"linecolor\": \"white\", \"ticks\": \"\", \"title\": {\"standoff\": 15}, \"zerolinecolor\": \"white\", \"zerolinewidth\": 2}}}, \"title\": {\"font\": {\"color\": \"#4D5663\"}}, \"xaxis\": {\"gridcolor\": \"#E1E5ED\", \"showgrid\": true, \"tickfont\": {\"color\": \"#4D5663\"}, \"title\": {\"font\": {\"color\": \"#4D5663\"}, \"text\": \"\"}, \"zerolinecolor\": \"#E1E5ED\"}, \"yaxis\": {\"gridcolor\": \"#E1E5ED\", \"showgrid\": true, \"tickfont\": {\"color\": \"#4D5663\"}, \"title\": {\"font\": {\"color\": \"#4D5663\"}, \"text\": \"\"}, \"zerolinecolor\": \"#E1E5ED\"}},\n",
       "                        {\"showLink\": true, \"linkText\": \"Export to plot.ly\", \"plotlyServerURL\": \"https://plot.ly\", \"responsive\": true}\n",
       "                    ).then(function(){\n",
       "                            \n",
       "var gd = document.getElementById('c0b7ce05-164e-49bc-aebe-9cfe639c0d2e');\n",
       "var x = new MutationObserver(function (mutations, observer) {{\n",
       "        var display = window.getComputedStyle(gd).display;\n",
       "        if (!display || display === 'none') {{\n",
       "            console.log([gd, 'removed!']);\n",
       "            Plotly.purge(gd);\n",
       "            observer.disconnect();\n",
       "        }}\n",
       "}});\n",
       "\n",
       "// Listen for the removal of the full notebook cells\n",
       "var notebookContainer = gd.closest('#notebook-container');\n",
       "if (notebookContainer) {{\n",
       "    x.observe(notebookContainer, {childList: true});\n",
       "}}\n",
       "\n",
       "// Listen for the clearing of the current output cell\n",
       "var outputEl = gd.closest('.output');\n",
       "if (outputEl) {{\n",
       "    x.observe(outputEl, {childList: true});\n",
       "}}\n",
       "\n",
       "                        })\n",
       "                };\n",
       "                });\n",
       "            </script>\n",
       "        </div>"
      ]
     },
     "metadata": {},
     "output_type": "display_data"
    }
   ],
   "source": [
    "df.iplot(kind='bubble',x='A',y='B',size='C')"
   ]
  },
  {
   "cell_type": "code",
   "execution_count": 38,
   "metadata": {},
   "outputs": [
    {
     "data": {
      "application/vnd.plotly.v1+json": {
       "config": {
        "linkText": "Export to plot.ly",
        "plotlyServerURL": "https://plot.ly",
        "showLink": true
       },
       "data": [
        {
         "histfunc": "count",
         "histnorm": "",
         "marker": {
          "color": "rgba(255, 153, 51, 1.0)",
          "line": {
           "color": "#4D5663",
           "width": 1.3
          }
         },
         "name": "A",
         "nbinsx": 10,
         "opacity": 0.8,
         "orientation": "v",
         "type": "histogram",
         "x": [
          0.19650022373258236,
          -1.9941460778502356,
          0.6626376887314555,
          -0.958327863418552,
          0.4231241777990569,
          0.7113678238984446,
          -0.09165347023463194,
          -1.3149597471701424,
          -1.3933206032441685,
          -0.5529960919904516,
          -1.232042488497158,
          1.0661400300358617,
          0.36496152149907735,
          0.12566632897650376,
          -0.4154383457317713,
          1.1145779823073672,
          1.512565868621305,
          0.1794830651348587,
          1.0343723418421487,
          2.7907567772555297,
          0.2998865268939037,
          -1.1158316023870536,
          -0.027602812843491573,
          -0.5298883887261153,
          1.0290623615134162,
          0.9827394564213197,
          -0.4455813047158554,
          0.2338813758270774,
          -0.02285208244483196,
          -0.8967539023754664,
          -1.4758756049165747,
          -0.8947207457648796,
          -0.07309580354724263,
          -0.7845742580993053,
          0.23876895288454827,
          0.9742961492985625,
          -0.033916672684154374,
          1.1196298171192591,
          -0.535731539283069,
          -0.3906973132685843,
          -0.8424290459415693,
          0.2792280254608758,
          -0.9286349945862502,
          -1.5063893605812446,
          1.8743143044827653,
          -0.651912761220479,
          -0.6218461636563343,
          0.835257171977975,
          -0.6112242584714845,
          0.3039624479311827,
          -1.4468041377380885,
          1.311224077205215,
          -0.7808300388541097,
          -0.7560423271045358,
          -0.5005366745377746,
          -0.8309774142243554,
          0.3162223512088091,
          -0.002041007732976193,
          -0.6113995211974071,
          -0.7775783612568149,
          -1.2475028820394487,
          1.217988302202804,
          -2.035103126115838,
          1.0642766469020115,
          0.20548427026076269,
          1.2143492963512488,
          -0.2852927776860206,
          1.124432516025142,
          1.6347521744859779,
          -1.7834783009007091,
          0.2841397399808306,
          -0.2089012383694685,
          0.16030754969303934,
          0.36365439104045916,
          1.19666648962708,
          1.0687355273258576,
          1.3397200048714657,
          -1.4253637092798235,
          -0.11768531861787762,
          1.093744468440918,
          -0.636974215744073,
          -0.3613674535797206,
          2.053369552369878,
          0.7116839450439921,
          0.21270413234870125,
          -0.7903526585716255,
          -0.5880588643865717,
          0.3927540327176958,
          1.006657100212194,
          0.4213663847261615,
          0.19051498346579346,
          -0.03139508418786326,
          -0.7817689753853478,
          0.11699032841973789,
          0.9873789930068373,
          0.3593178489481021,
          0.19807751375431895,
          0.16904863471663228,
          -0.8675517348746863,
          1.0632008929683778
         ],
         "xaxis": "x",
         "yaxis": "y"
        },
        {
         "line": {
          "color": "rgba(128, 128, 128, 1.0)",
          "dash": "solid",
          "shape": "linear",
          "width": 1.3
         },
         "marker": {
          "size": 2,
          "symbol": "circle"
         },
         "mode": "markers",
         "name": "A",
         "text": "",
         "type": "scatter",
         "x": [
          -0.7167540505755027,
          -0.12909041323094617,
          0.22877681615439618,
          0.31882194562550403,
          0.4225554005693531,
          -1.6017150482952225,
          -0.2831684279736227,
          0.4322828011724924,
          1.255309714528344,
          0.8755230396176855,
          -0.6831456954439784,
          0.8110952397727162,
          -0.9166031195725972,
          0.3064369207186609,
          -2.0490989505187236,
          0.24906760614659623,
          0.39402324128552113,
          1.2780126859912582,
          -0.6505787538828152,
          -1.8518228676195427,
          -0.6746027652090811,
          -0.5161504692227723,
          0.2675518587457653,
          1.2710464229933724,
          1.2807012511537221,
          -0.813800981946473,
          0.9887296411556364,
          0.34779627811844277,
          1.0722640977196165,
          0.6433973284268374,
          0.40989450323414944,
          -1.4733258160007474,
          -0.9412466041115733,
          -0.10393012533579014,
          -0.6633454096051882,
          0.015757602282605216,
          1.9300001620261522,
          0.3233316683803168,
          1.392081529793989,
          1.4443614670956944,
          -0.19790878795053235,
          -0.5544650739226349,
          0.5810930100480569,
          -0.1905863676661684,
          0.6475117163062424,
          -0.4221535516573303,
          -0.9506756238745352,
          -0.3235691101756691,
          1.4337726924059773,
          -0.12164703421491174,
          -1.062327523237242,
          0.11695727946221875,
          -1.007567980517339,
          -3.098258736419873,
          1.235020540831101,
          0.08921425828329375,
          0.704599257819094,
          -1.9902654298561624,
          -1.3954712513866852,
          0.26963792912257833,
          0.24635411911346924,
          1.2620128885536703,
          1.1836800423064873,
          1.400217743322152,
          -0.8679652825501485,
          -0.7350983986807433,
          -2.069993960321671,
          -1.282928343846692,
          0.48351853758115854,
          0.6112862292452989,
          1.1036595971163061,
          -0.5462393578834953,
          -0.33009350560709183,
          -1.629830976151171,
          1.1731247238933304,
          -0.2389716755564296,
          0.10612143852848767,
          0.24536861497171922,
          -1.3303910676401658,
          -1.003306043921901,
          -0.4633435944966815,
          -0.022550288796635908,
          -1.012648189549336,
          -0.7750502400724303,
          -0.04569054422612893,
          -1.2199363247358548,
          -0.46624047284590303,
          -0.018410039343196544,
          0.6315535035946279,
          -0.6522499307304486,
          1.0430884953210082,
          -0.22480352941851106,
          -0.1484017345204255,
          -0.17236561194123814,
          -1.0275961625778565,
          0.819474611828162,
          1.1454383327596491,
          -1.2813189449037186,
          1.753594350607639,
          0.1766289971132849
         ],
         "xaxis": "x2",
         "y": [
          0.19650022373258236,
          -1.9941460778502356,
          0.6626376887314555,
          -0.958327863418552,
          0.4231241777990569,
          0.7113678238984446,
          -0.09165347023463194,
          -1.3149597471701424,
          -1.3933206032441685,
          -0.5529960919904516,
          -1.232042488497158,
          1.0661400300358617,
          0.36496152149907735,
          0.12566632897650376,
          -0.4154383457317713,
          1.1145779823073672,
          1.512565868621305,
          0.1794830651348587,
          1.0343723418421487,
          2.7907567772555297,
          0.2998865268939037,
          -1.1158316023870536,
          -0.027602812843491573,
          -0.5298883887261153,
          1.0290623615134162,
          0.9827394564213197,
          -0.4455813047158554,
          0.2338813758270774,
          -0.02285208244483196,
          -0.8967539023754664,
          -1.4758756049165747,
          -0.8947207457648796,
          -0.07309580354724263,
          -0.7845742580993053,
          0.23876895288454827,
          0.9742961492985625,
          -0.033916672684154374,
          1.1196298171192591,
          -0.535731539283069,
          -0.3906973132685843,
          -0.8424290459415693,
          0.2792280254608758,
          -0.9286349945862502,
          -1.5063893605812446,
          1.8743143044827653,
          -0.651912761220479,
          -0.6218461636563343,
          0.835257171977975,
          -0.6112242584714845,
          0.3039624479311827,
          -1.4468041377380885,
          1.311224077205215,
          -0.7808300388541097,
          -0.7560423271045358,
          -0.5005366745377746,
          -0.8309774142243554,
          0.3162223512088091,
          -0.002041007732976193,
          -0.6113995211974071,
          -0.7775783612568149,
          -1.2475028820394487,
          1.217988302202804,
          -2.035103126115838,
          1.0642766469020115,
          0.20548427026076269,
          1.2143492963512488,
          -0.2852927776860206,
          1.124432516025142,
          1.6347521744859779,
          -1.7834783009007091,
          0.2841397399808306,
          -0.2089012383694685,
          0.16030754969303934,
          0.36365439104045916,
          1.19666648962708,
          1.0687355273258576,
          1.3397200048714657,
          -1.4253637092798235,
          -0.11768531861787762,
          1.093744468440918,
          -0.636974215744073,
          -0.3613674535797206,
          2.053369552369878,
          0.7116839450439921,
          0.21270413234870125,
          -0.7903526585716255,
          -0.5880588643865717,
          0.3927540327176958,
          1.006657100212194,
          0.4213663847261615,
          0.19051498346579346,
          -0.03139508418786326,
          -0.7817689753853478,
          0.11699032841973789,
          0.9873789930068373,
          0.3593178489481021,
          0.19807751375431895,
          0.16904863471663228,
          -0.8675517348746863,
          1.0632008929683778
         ],
         "yaxis": "y2"
        },
        {
         "line": {
          "color": "rgba(128, 128, 128, 1.0)",
          "dash": "solid",
          "shape": "linear",
          "width": 1.3
         },
         "marker": {
          "size": 2,
          "symbol": "circle"
         },
         "mode": "markers",
         "name": "A",
         "text": "",
         "type": "scatter",
         "x": [
          0.20622876273106594,
          -1.7582658186110154,
          1.4969648432620881,
          -0.40657867926378977,
          1.1754382926242963,
          -1.3658457286532277,
          1.7304271824807045,
          0.9210670378195593,
          0.018536153324841338,
          -1.3053265208086002,
          0.8948835174263292,
          -0.9046451320147075,
          -0.6259190248888457,
          1.2599386480021038,
          0.013077683955397853,
          0.6798722793361448,
          -1.558151015284966,
          -0.678400753157479,
          0.40645450682141293,
          -1.7681206957487599,
          -1.1823300566295585,
          0.12044471170225582,
          -0.5759437193670766,
          -0.4782778980130167,
          0.8006787638594658,
          -0.3995816382995518,
          0.3719799766359585,
          0.45511605232163177,
          -0.2981312038552599,
          -0.3422409295806544,
          -1.5099816530748422,
          1.5594654795670082,
          0.38323229966132805,
          1.7559936574220256,
          0.4716137758822409,
          0.41398222117028377,
          0.7516244288447266,
          -0.8276126180427615,
          -0.8331636757462645,
          -2.0289526269137848,
          -0.1719540743163901,
          0.7060660905554883,
          -0.7480035478099717,
          0.10803639800458438,
          0.8368015456560084,
          -0.5398560104229473,
          -0.09363686742962193,
          -1.7245614127632307,
          -1.1561615962226712,
          1.3251435998718424,
          -0.06301171349649078,
          1.8871000709184729,
          -0.13045548140964353,
          -0.34615819598680553,
          -1.3147370878520375,
          -0.8550327054325254,
          1.1293722200174279,
          1.1120478010694546,
          1.2411615985025872,
          0.436363696278438,
          -0.4085453570183543,
          -0.5174649338270388,
          0.6847358639157233,
          0.195518110370209,
          0.49085497407584355,
          1.05466463532716,
          0.05629101238377474,
          2.071854496390022,
          -0.6042931635249521,
          -0.6853498467718027,
          -0.0009068095686971332,
          -0.12956732099735038,
          -0.22336632400404072,
          -0.283396072867283,
          -0.6425776848050261,
          0.1618564718941374,
          -0.7210807710831003,
          0.8460059149541216,
          -0.306617857501679,
          2.488109159805582,
          0.14856910804556547,
          1.7498181667323272,
          -1.0073476808783985,
          -1.3947093769604566,
          0.26308360838099903,
          -0.1665680808292545,
          1.522398432951192,
          -1.6776997614965026,
          0.6735306871847314,
          0.18419053161823734,
          0.5200692599146426,
          -0.36668720771838215,
          -1.2832201844922588,
          -0.17268525629315462,
          -0.8518939490336926,
          -0.7718894615673308,
          0.4294553382389916,
          1.1089994531932286,
          1.1726024821047942,
          0.7398346113115881
         ],
         "xaxis": "x3",
         "y": [
          0.19650022373258236,
          -1.9941460778502356,
          0.6626376887314555,
          -0.958327863418552,
          0.4231241777990569,
          0.7113678238984446,
          -0.09165347023463194,
          -1.3149597471701424,
          -1.3933206032441685,
          -0.5529960919904516,
          -1.232042488497158,
          1.0661400300358617,
          0.36496152149907735,
          0.12566632897650376,
          -0.4154383457317713,
          1.1145779823073672,
          1.512565868621305,
          0.1794830651348587,
          1.0343723418421487,
          2.7907567772555297,
          0.2998865268939037,
          -1.1158316023870536,
          -0.027602812843491573,
          -0.5298883887261153,
          1.0290623615134162,
          0.9827394564213197,
          -0.4455813047158554,
          0.2338813758270774,
          -0.02285208244483196,
          -0.8967539023754664,
          -1.4758756049165747,
          -0.8947207457648796,
          -0.07309580354724263,
          -0.7845742580993053,
          0.23876895288454827,
          0.9742961492985625,
          -0.033916672684154374,
          1.1196298171192591,
          -0.535731539283069,
          -0.3906973132685843,
          -0.8424290459415693,
          0.2792280254608758,
          -0.9286349945862502,
          -1.5063893605812446,
          1.8743143044827653,
          -0.651912761220479,
          -0.6218461636563343,
          0.835257171977975,
          -0.6112242584714845,
          0.3039624479311827,
          -1.4468041377380885,
          1.311224077205215,
          -0.7808300388541097,
          -0.7560423271045358,
          -0.5005366745377746,
          -0.8309774142243554,
          0.3162223512088091,
          -0.002041007732976193,
          -0.6113995211974071,
          -0.7775783612568149,
          -1.2475028820394487,
          1.217988302202804,
          -2.035103126115838,
          1.0642766469020115,
          0.20548427026076269,
          1.2143492963512488,
          -0.2852927776860206,
          1.124432516025142,
          1.6347521744859779,
          -1.7834783009007091,
          0.2841397399808306,
          -0.2089012383694685,
          0.16030754969303934,
          0.36365439104045916,
          1.19666648962708,
          1.0687355273258576,
          1.3397200048714657,
          -1.4253637092798235,
          -0.11768531861787762,
          1.093744468440918,
          -0.636974215744073,
          -0.3613674535797206,
          2.053369552369878,
          0.7116839450439921,
          0.21270413234870125,
          -0.7903526585716255,
          -0.5880588643865717,
          0.3927540327176958,
          1.006657100212194,
          0.4213663847261615,
          0.19051498346579346,
          -0.03139508418786326,
          -0.7817689753853478,
          0.11699032841973789,
          0.9873789930068373,
          0.3593178489481021,
          0.19807751375431895,
          0.16904863471663228,
          -0.8675517348746863,
          1.0632008929683778
         ],
         "yaxis": "y3"
        },
        {
         "line": {
          "color": "rgba(128, 128, 128, 1.0)",
          "dash": "solid",
          "shape": "linear",
          "width": 1.3
         },
         "marker": {
          "size": 2,
          "symbol": "circle"
         },
         "mode": "markers",
         "name": "A",
         "text": "",
         "type": "scatter",
         "x": [
          -0.505183837528164,
          -0.0276329219801729,
          -0.9063075245742348,
          0.19451494584850162,
          0.44901830076031013,
          -2.007703338660613,
          -0.1297734677004214,
          0.9278871126076236,
          0.2262394703311532,
          1.7987183107730271,
          1.5646802438302365,
          -0.7462365845788629,
          0.08568229363463313,
          -0.18592884003455212,
          1.689056586530158,
          -0.04284530382005643,
          1.558350099904935,
          0.5048452086815636,
          0.5137112673569676,
          2.090585346251317,
          0.8660329992889156,
          -1.098023318888969,
          -0.14996271561242672,
          0.11185457887145386,
          1.086802812279443,
          -0.4624890992824662,
          -1.355953933628624,
          -0.7820390303836555,
          -1.3773935469011958,
          0.4083286329725384,
          -0.14080901705025084,
          -0.4502111210451887,
          -0.004223835712109334,
          0.748127230155246,
          0.7936355298110129,
          1.4838053627725512,
          0.2067669984246998,
          0.7771102339809596,
          1.3804578000154384,
          0.8201211239253432,
          -1.351085749813894,
          -1.4133365180460378,
          -0.6115690849479227,
          -0.8878336842883038,
          -0.08424627838717429,
          0.9138469282694803,
          -1.0246405899433415,
          -0.8424777802141452,
          0.8282483419632345,
          -1.2046591639446385,
          0.3712505968905831,
          -0.6686622801935974,
          -0.9275466867602205,
          -0.8302902757272163,
          -1.3438834821775725,
          -0.6166413257716978,
          0.3141640162386474,
          -0.05075064310173611,
          0.7350294724082517,
          0.06218334613367416,
          -2.194951395344034,
          -1.1179842037676107,
          -0.12177572734257305,
          0.6429150116102603,
          -0.98207877416493,
          0.39046557417975947,
          -0.7329755436359863,
          -2.667276213857281,
          1.3664013700856121,
          0.6764338886337651,
          -1.0480130896248643,
          0.9613367285215236,
          0.42750990402040934,
          -0.29709998383450853,
          0.2835914692290397,
          0.42591860335936105,
          0.01844044587431985,
          -0.4148182824242851,
          0.38671775577926304,
          -1.465722489216768,
          1.060921112651931,
          -0.26342549483741046,
          -0.2640785213362949,
          0.888097724042476,
          0.2632089279727065,
          -0.5520278114936636,
          -0.27146734538056994,
          -0.18449113710418427,
          1.2564667521349653,
          0.6942329857010153,
          -0.3130156423041538,
          0.806609936012424,
          -0.020201071164758166,
          2.274636494169897,
          -0.0748684818098725,
          -1.8140994778789923,
          -0.22648946000572145,
          -0.8886647680304275,
          0.8289382664456802,
          0.04030063947334295
         ],
         "xaxis": "x4",
         "y": [
          0.19650022373258236,
          -1.9941460778502356,
          0.6626376887314555,
          -0.958327863418552,
          0.4231241777990569,
          0.7113678238984446,
          -0.09165347023463194,
          -1.3149597471701424,
          -1.3933206032441685,
          -0.5529960919904516,
          -1.232042488497158,
          1.0661400300358617,
          0.36496152149907735,
          0.12566632897650376,
          -0.4154383457317713,
          1.1145779823073672,
          1.512565868621305,
          0.1794830651348587,
          1.0343723418421487,
          2.7907567772555297,
          0.2998865268939037,
          -1.1158316023870536,
          -0.027602812843491573,
          -0.5298883887261153,
          1.0290623615134162,
          0.9827394564213197,
          -0.4455813047158554,
          0.2338813758270774,
          -0.02285208244483196,
          -0.8967539023754664,
          -1.4758756049165747,
          -0.8947207457648796,
          -0.07309580354724263,
          -0.7845742580993053,
          0.23876895288454827,
          0.9742961492985625,
          -0.033916672684154374,
          1.1196298171192591,
          -0.535731539283069,
          -0.3906973132685843,
          -0.8424290459415693,
          0.2792280254608758,
          -0.9286349945862502,
          -1.5063893605812446,
          1.8743143044827653,
          -0.651912761220479,
          -0.6218461636563343,
          0.835257171977975,
          -0.6112242584714845,
          0.3039624479311827,
          -1.4468041377380885,
          1.311224077205215,
          -0.7808300388541097,
          -0.7560423271045358,
          -0.5005366745377746,
          -0.8309774142243554,
          0.3162223512088091,
          -0.002041007732976193,
          -0.6113995211974071,
          -0.7775783612568149,
          -1.2475028820394487,
          1.217988302202804,
          -2.035103126115838,
          1.0642766469020115,
          0.20548427026076269,
          1.2143492963512488,
          -0.2852927776860206,
          1.124432516025142,
          1.6347521744859779,
          -1.7834783009007091,
          0.2841397399808306,
          -0.2089012383694685,
          0.16030754969303934,
          0.36365439104045916,
          1.19666648962708,
          1.0687355273258576,
          1.3397200048714657,
          -1.4253637092798235,
          -0.11768531861787762,
          1.093744468440918,
          -0.636974215744073,
          -0.3613674535797206,
          2.053369552369878,
          0.7116839450439921,
          0.21270413234870125,
          -0.7903526585716255,
          -0.5880588643865717,
          0.3927540327176958,
          1.006657100212194,
          0.4213663847261615,
          0.19051498346579346,
          -0.03139508418786326,
          -0.7817689753853478,
          0.11699032841973789,
          0.9873789930068373,
          0.3593178489481021,
          0.19807751375431895,
          0.16904863471663228,
          -0.8675517348746863,
          1.0632008929683778
         ],
         "yaxis": "y4"
        },
        {
         "line": {
          "color": "rgba(128, 128, 128, 1.0)",
          "dash": "solid",
          "shape": "linear",
          "width": 1.3
         },
         "marker": {
          "size": 2,
          "symbol": "circle"
         },
         "mode": "markers",
         "name": "B",
         "text": "",
         "type": "scatter",
         "x": [
          0.19650022373258236,
          -1.9941460778502356,
          0.6626376887314555,
          -0.958327863418552,
          0.4231241777990569,
          0.7113678238984446,
          -0.09165347023463194,
          -1.3149597471701424,
          -1.3933206032441685,
          -0.5529960919904516,
          -1.232042488497158,
          1.0661400300358617,
          0.36496152149907735,
          0.12566632897650376,
          -0.4154383457317713,
          1.1145779823073672,
          1.512565868621305,
          0.1794830651348587,
          1.0343723418421487,
          2.7907567772555297,
          0.2998865268939037,
          -1.1158316023870536,
          -0.027602812843491573,
          -0.5298883887261153,
          1.0290623615134162,
          0.9827394564213197,
          -0.4455813047158554,
          0.2338813758270774,
          -0.02285208244483196,
          -0.8967539023754664,
          -1.4758756049165747,
          -0.8947207457648796,
          -0.07309580354724263,
          -0.7845742580993053,
          0.23876895288454827,
          0.9742961492985625,
          -0.033916672684154374,
          1.1196298171192591,
          -0.535731539283069,
          -0.3906973132685843,
          -0.8424290459415693,
          0.2792280254608758,
          -0.9286349945862502,
          -1.5063893605812446,
          1.8743143044827653,
          -0.651912761220479,
          -0.6218461636563343,
          0.835257171977975,
          -0.6112242584714845,
          0.3039624479311827,
          -1.4468041377380885,
          1.311224077205215,
          -0.7808300388541097,
          -0.7560423271045358,
          -0.5005366745377746,
          -0.8309774142243554,
          0.3162223512088091,
          -0.002041007732976193,
          -0.6113995211974071,
          -0.7775783612568149,
          -1.2475028820394487,
          1.217988302202804,
          -2.035103126115838,
          1.0642766469020115,
          0.20548427026076269,
          1.2143492963512488,
          -0.2852927776860206,
          1.124432516025142,
          1.6347521744859779,
          -1.7834783009007091,
          0.2841397399808306,
          -0.2089012383694685,
          0.16030754969303934,
          0.36365439104045916,
          1.19666648962708,
          1.0687355273258576,
          1.3397200048714657,
          -1.4253637092798235,
          -0.11768531861787762,
          1.093744468440918,
          -0.636974215744073,
          -0.3613674535797206,
          2.053369552369878,
          0.7116839450439921,
          0.21270413234870125,
          -0.7903526585716255,
          -0.5880588643865717,
          0.3927540327176958,
          1.006657100212194,
          0.4213663847261615,
          0.19051498346579346,
          -0.03139508418786326,
          -0.7817689753853478,
          0.11699032841973789,
          0.9873789930068373,
          0.3593178489481021,
          0.19807751375431895,
          0.16904863471663228,
          -0.8675517348746863,
          1.0632008929683778
         ],
         "xaxis": "x5",
         "y": [
          -0.7167540505755027,
          -0.12909041323094617,
          0.22877681615439618,
          0.31882194562550403,
          0.4225554005693531,
          -1.6017150482952225,
          -0.2831684279736227,
          0.4322828011724924,
          1.255309714528344,
          0.8755230396176855,
          -0.6831456954439784,
          0.8110952397727162,
          -0.9166031195725972,
          0.3064369207186609,
          -2.0490989505187236,
          0.24906760614659623,
          0.39402324128552113,
          1.2780126859912582,
          -0.6505787538828152,
          -1.8518228676195427,
          -0.6746027652090811,
          -0.5161504692227723,
          0.2675518587457653,
          1.2710464229933724,
          1.2807012511537221,
          -0.813800981946473,
          0.9887296411556364,
          0.34779627811844277,
          1.0722640977196165,
          0.6433973284268374,
          0.40989450323414944,
          -1.4733258160007474,
          -0.9412466041115733,
          -0.10393012533579014,
          -0.6633454096051882,
          0.015757602282605216,
          1.9300001620261522,
          0.3233316683803168,
          1.392081529793989,
          1.4443614670956944,
          -0.19790878795053235,
          -0.5544650739226349,
          0.5810930100480569,
          -0.1905863676661684,
          0.6475117163062424,
          -0.4221535516573303,
          -0.9506756238745352,
          -0.3235691101756691,
          1.4337726924059773,
          -0.12164703421491174,
          -1.062327523237242,
          0.11695727946221875,
          -1.007567980517339,
          -3.098258736419873,
          1.235020540831101,
          0.08921425828329375,
          0.704599257819094,
          -1.9902654298561624,
          -1.3954712513866852,
          0.26963792912257833,
          0.24635411911346924,
          1.2620128885536703,
          1.1836800423064873,
          1.400217743322152,
          -0.8679652825501485,
          -0.7350983986807433,
          -2.069993960321671,
          -1.282928343846692,
          0.48351853758115854,
          0.6112862292452989,
          1.1036595971163061,
          -0.5462393578834953,
          -0.33009350560709183,
          -1.629830976151171,
          1.1731247238933304,
          -0.2389716755564296,
          0.10612143852848767,
          0.24536861497171922,
          -1.3303910676401658,
          -1.003306043921901,
          -0.4633435944966815,
          -0.022550288796635908,
          -1.012648189549336,
          -0.7750502400724303,
          -0.04569054422612893,
          -1.2199363247358548,
          -0.46624047284590303,
          -0.018410039343196544,
          0.6315535035946279,
          -0.6522499307304486,
          1.0430884953210082,
          -0.22480352941851106,
          -0.1484017345204255,
          -0.17236561194123814,
          -1.0275961625778565,
          0.819474611828162,
          1.1454383327596491,
          -1.2813189449037186,
          1.753594350607639,
          0.1766289971132849
         ],
         "yaxis": "y5"
        },
        {
         "histfunc": "count",
         "histnorm": "",
         "marker": {
          "color": "rgba(55, 128, 191, 1.0)",
          "line": {
           "color": "#4D5663",
           "width": 1.3
          }
         },
         "name": "B",
         "nbinsx": 10,
         "opacity": 0.8,
         "orientation": "v",
         "type": "histogram",
         "x": [
          -0.7167540505755027,
          -0.12909041323094617,
          0.22877681615439618,
          0.31882194562550403,
          0.4225554005693531,
          -1.6017150482952225,
          -0.2831684279736227,
          0.4322828011724924,
          1.255309714528344,
          0.8755230396176855,
          -0.6831456954439784,
          0.8110952397727162,
          -0.9166031195725972,
          0.3064369207186609,
          -2.0490989505187236,
          0.24906760614659623,
          0.39402324128552113,
          1.2780126859912582,
          -0.6505787538828152,
          -1.8518228676195427,
          -0.6746027652090811,
          -0.5161504692227723,
          0.2675518587457653,
          1.2710464229933724,
          1.2807012511537221,
          -0.813800981946473,
          0.9887296411556364,
          0.34779627811844277,
          1.0722640977196165,
          0.6433973284268374,
          0.40989450323414944,
          -1.4733258160007474,
          -0.9412466041115733,
          -0.10393012533579014,
          -0.6633454096051882,
          0.015757602282605216,
          1.9300001620261522,
          0.3233316683803168,
          1.392081529793989,
          1.4443614670956944,
          -0.19790878795053235,
          -0.5544650739226349,
          0.5810930100480569,
          -0.1905863676661684,
          0.6475117163062424,
          -0.4221535516573303,
          -0.9506756238745352,
          -0.3235691101756691,
          1.4337726924059773,
          -0.12164703421491174,
          -1.062327523237242,
          0.11695727946221875,
          -1.007567980517339,
          -3.098258736419873,
          1.235020540831101,
          0.08921425828329375,
          0.704599257819094,
          -1.9902654298561624,
          -1.3954712513866852,
          0.26963792912257833,
          0.24635411911346924,
          1.2620128885536703,
          1.1836800423064873,
          1.400217743322152,
          -0.8679652825501485,
          -0.7350983986807433,
          -2.069993960321671,
          -1.282928343846692,
          0.48351853758115854,
          0.6112862292452989,
          1.1036595971163061,
          -0.5462393578834953,
          -0.33009350560709183,
          -1.629830976151171,
          1.1731247238933304,
          -0.2389716755564296,
          0.10612143852848767,
          0.24536861497171922,
          -1.3303910676401658,
          -1.003306043921901,
          -0.4633435944966815,
          -0.022550288796635908,
          -1.012648189549336,
          -0.7750502400724303,
          -0.04569054422612893,
          -1.2199363247358548,
          -0.46624047284590303,
          -0.018410039343196544,
          0.6315535035946279,
          -0.6522499307304486,
          1.0430884953210082,
          -0.22480352941851106,
          -0.1484017345204255,
          -0.17236561194123814,
          -1.0275961625778565,
          0.819474611828162,
          1.1454383327596491,
          -1.2813189449037186,
          1.753594350607639,
          0.1766289971132849
         ],
         "xaxis": "x6",
         "yaxis": "y6"
        },
        {
         "line": {
          "color": "rgba(128, 128, 128, 1.0)",
          "dash": "solid",
          "shape": "linear",
          "width": 1.3
         },
         "marker": {
          "size": 2,
          "symbol": "circle"
         },
         "mode": "markers",
         "name": "B",
         "text": "",
         "type": "scatter",
         "x": [
          0.20622876273106594,
          -1.7582658186110154,
          1.4969648432620881,
          -0.40657867926378977,
          1.1754382926242963,
          -1.3658457286532277,
          1.7304271824807045,
          0.9210670378195593,
          0.018536153324841338,
          -1.3053265208086002,
          0.8948835174263292,
          -0.9046451320147075,
          -0.6259190248888457,
          1.2599386480021038,
          0.013077683955397853,
          0.6798722793361448,
          -1.558151015284966,
          -0.678400753157479,
          0.40645450682141293,
          -1.7681206957487599,
          -1.1823300566295585,
          0.12044471170225582,
          -0.5759437193670766,
          -0.4782778980130167,
          0.8006787638594658,
          -0.3995816382995518,
          0.3719799766359585,
          0.45511605232163177,
          -0.2981312038552599,
          -0.3422409295806544,
          -1.5099816530748422,
          1.5594654795670082,
          0.38323229966132805,
          1.7559936574220256,
          0.4716137758822409,
          0.41398222117028377,
          0.7516244288447266,
          -0.8276126180427615,
          -0.8331636757462645,
          -2.0289526269137848,
          -0.1719540743163901,
          0.7060660905554883,
          -0.7480035478099717,
          0.10803639800458438,
          0.8368015456560084,
          -0.5398560104229473,
          -0.09363686742962193,
          -1.7245614127632307,
          -1.1561615962226712,
          1.3251435998718424,
          -0.06301171349649078,
          1.8871000709184729,
          -0.13045548140964353,
          -0.34615819598680553,
          -1.3147370878520375,
          -0.8550327054325254,
          1.1293722200174279,
          1.1120478010694546,
          1.2411615985025872,
          0.436363696278438,
          -0.4085453570183543,
          -0.5174649338270388,
          0.6847358639157233,
          0.195518110370209,
          0.49085497407584355,
          1.05466463532716,
          0.05629101238377474,
          2.071854496390022,
          -0.6042931635249521,
          -0.6853498467718027,
          -0.0009068095686971332,
          -0.12956732099735038,
          -0.22336632400404072,
          -0.283396072867283,
          -0.6425776848050261,
          0.1618564718941374,
          -0.7210807710831003,
          0.8460059149541216,
          -0.306617857501679,
          2.488109159805582,
          0.14856910804556547,
          1.7498181667323272,
          -1.0073476808783985,
          -1.3947093769604566,
          0.26308360838099903,
          -0.1665680808292545,
          1.522398432951192,
          -1.6776997614965026,
          0.6735306871847314,
          0.18419053161823734,
          0.5200692599146426,
          -0.36668720771838215,
          -1.2832201844922588,
          -0.17268525629315462,
          -0.8518939490336926,
          -0.7718894615673308,
          0.4294553382389916,
          1.1089994531932286,
          1.1726024821047942,
          0.7398346113115881
         ],
         "xaxis": "x7",
         "y": [
          -0.7167540505755027,
          -0.12909041323094617,
          0.22877681615439618,
          0.31882194562550403,
          0.4225554005693531,
          -1.6017150482952225,
          -0.2831684279736227,
          0.4322828011724924,
          1.255309714528344,
          0.8755230396176855,
          -0.6831456954439784,
          0.8110952397727162,
          -0.9166031195725972,
          0.3064369207186609,
          -2.0490989505187236,
          0.24906760614659623,
          0.39402324128552113,
          1.2780126859912582,
          -0.6505787538828152,
          -1.8518228676195427,
          -0.6746027652090811,
          -0.5161504692227723,
          0.2675518587457653,
          1.2710464229933724,
          1.2807012511537221,
          -0.813800981946473,
          0.9887296411556364,
          0.34779627811844277,
          1.0722640977196165,
          0.6433973284268374,
          0.40989450323414944,
          -1.4733258160007474,
          -0.9412466041115733,
          -0.10393012533579014,
          -0.6633454096051882,
          0.015757602282605216,
          1.9300001620261522,
          0.3233316683803168,
          1.392081529793989,
          1.4443614670956944,
          -0.19790878795053235,
          -0.5544650739226349,
          0.5810930100480569,
          -0.1905863676661684,
          0.6475117163062424,
          -0.4221535516573303,
          -0.9506756238745352,
          -0.3235691101756691,
          1.4337726924059773,
          -0.12164703421491174,
          -1.062327523237242,
          0.11695727946221875,
          -1.007567980517339,
          -3.098258736419873,
          1.235020540831101,
          0.08921425828329375,
          0.704599257819094,
          -1.9902654298561624,
          -1.3954712513866852,
          0.26963792912257833,
          0.24635411911346924,
          1.2620128885536703,
          1.1836800423064873,
          1.400217743322152,
          -0.8679652825501485,
          -0.7350983986807433,
          -2.069993960321671,
          -1.282928343846692,
          0.48351853758115854,
          0.6112862292452989,
          1.1036595971163061,
          -0.5462393578834953,
          -0.33009350560709183,
          -1.629830976151171,
          1.1731247238933304,
          -0.2389716755564296,
          0.10612143852848767,
          0.24536861497171922,
          -1.3303910676401658,
          -1.003306043921901,
          -0.4633435944966815,
          -0.022550288796635908,
          -1.012648189549336,
          -0.7750502400724303,
          -0.04569054422612893,
          -1.2199363247358548,
          -0.46624047284590303,
          -0.018410039343196544,
          0.6315535035946279,
          -0.6522499307304486,
          1.0430884953210082,
          -0.22480352941851106,
          -0.1484017345204255,
          -0.17236561194123814,
          -1.0275961625778565,
          0.819474611828162,
          1.1454383327596491,
          -1.2813189449037186,
          1.753594350607639,
          0.1766289971132849
         ],
         "yaxis": "y7"
        },
        {
         "line": {
          "color": "rgba(128, 128, 128, 1.0)",
          "dash": "solid",
          "shape": "linear",
          "width": 1.3
         },
         "marker": {
          "size": 2,
          "symbol": "circle"
         },
         "mode": "markers",
         "name": "B",
         "text": "",
         "type": "scatter",
         "x": [
          -0.505183837528164,
          -0.0276329219801729,
          -0.9063075245742348,
          0.19451494584850162,
          0.44901830076031013,
          -2.007703338660613,
          -0.1297734677004214,
          0.9278871126076236,
          0.2262394703311532,
          1.7987183107730271,
          1.5646802438302365,
          -0.7462365845788629,
          0.08568229363463313,
          -0.18592884003455212,
          1.689056586530158,
          -0.04284530382005643,
          1.558350099904935,
          0.5048452086815636,
          0.5137112673569676,
          2.090585346251317,
          0.8660329992889156,
          -1.098023318888969,
          -0.14996271561242672,
          0.11185457887145386,
          1.086802812279443,
          -0.4624890992824662,
          -1.355953933628624,
          -0.7820390303836555,
          -1.3773935469011958,
          0.4083286329725384,
          -0.14080901705025084,
          -0.4502111210451887,
          -0.004223835712109334,
          0.748127230155246,
          0.7936355298110129,
          1.4838053627725512,
          0.2067669984246998,
          0.7771102339809596,
          1.3804578000154384,
          0.8201211239253432,
          -1.351085749813894,
          -1.4133365180460378,
          -0.6115690849479227,
          -0.8878336842883038,
          -0.08424627838717429,
          0.9138469282694803,
          -1.0246405899433415,
          -0.8424777802141452,
          0.8282483419632345,
          -1.2046591639446385,
          0.3712505968905831,
          -0.6686622801935974,
          -0.9275466867602205,
          -0.8302902757272163,
          -1.3438834821775725,
          -0.6166413257716978,
          0.3141640162386474,
          -0.05075064310173611,
          0.7350294724082517,
          0.06218334613367416,
          -2.194951395344034,
          -1.1179842037676107,
          -0.12177572734257305,
          0.6429150116102603,
          -0.98207877416493,
          0.39046557417975947,
          -0.7329755436359863,
          -2.667276213857281,
          1.3664013700856121,
          0.6764338886337651,
          -1.0480130896248643,
          0.9613367285215236,
          0.42750990402040934,
          -0.29709998383450853,
          0.2835914692290397,
          0.42591860335936105,
          0.01844044587431985,
          -0.4148182824242851,
          0.38671775577926304,
          -1.465722489216768,
          1.060921112651931,
          -0.26342549483741046,
          -0.2640785213362949,
          0.888097724042476,
          0.2632089279727065,
          -0.5520278114936636,
          -0.27146734538056994,
          -0.18449113710418427,
          1.2564667521349653,
          0.6942329857010153,
          -0.3130156423041538,
          0.806609936012424,
          -0.020201071164758166,
          2.274636494169897,
          -0.0748684818098725,
          -1.8140994778789923,
          -0.22648946000572145,
          -0.8886647680304275,
          0.8289382664456802,
          0.04030063947334295
         ],
         "xaxis": "x8",
         "y": [
          -0.7167540505755027,
          -0.12909041323094617,
          0.22877681615439618,
          0.31882194562550403,
          0.4225554005693531,
          -1.6017150482952225,
          -0.2831684279736227,
          0.4322828011724924,
          1.255309714528344,
          0.8755230396176855,
          -0.6831456954439784,
          0.8110952397727162,
          -0.9166031195725972,
          0.3064369207186609,
          -2.0490989505187236,
          0.24906760614659623,
          0.39402324128552113,
          1.2780126859912582,
          -0.6505787538828152,
          -1.8518228676195427,
          -0.6746027652090811,
          -0.5161504692227723,
          0.2675518587457653,
          1.2710464229933724,
          1.2807012511537221,
          -0.813800981946473,
          0.9887296411556364,
          0.34779627811844277,
          1.0722640977196165,
          0.6433973284268374,
          0.40989450323414944,
          -1.4733258160007474,
          -0.9412466041115733,
          -0.10393012533579014,
          -0.6633454096051882,
          0.015757602282605216,
          1.9300001620261522,
          0.3233316683803168,
          1.392081529793989,
          1.4443614670956944,
          -0.19790878795053235,
          -0.5544650739226349,
          0.5810930100480569,
          -0.1905863676661684,
          0.6475117163062424,
          -0.4221535516573303,
          -0.9506756238745352,
          -0.3235691101756691,
          1.4337726924059773,
          -0.12164703421491174,
          -1.062327523237242,
          0.11695727946221875,
          -1.007567980517339,
          -3.098258736419873,
          1.235020540831101,
          0.08921425828329375,
          0.704599257819094,
          -1.9902654298561624,
          -1.3954712513866852,
          0.26963792912257833,
          0.24635411911346924,
          1.2620128885536703,
          1.1836800423064873,
          1.400217743322152,
          -0.8679652825501485,
          -0.7350983986807433,
          -2.069993960321671,
          -1.282928343846692,
          0.48351853758115854,
          0.6112862292452989,
          1.1036595971163061,
          -0.5462393578834953,
          -0.33009350560709183,
          -1.629830976151171,
          1.1731247238933304,
          -0.2389716755564296,
          0.10612143852848767,
          0.24536861497171922,
          -1.3303910676401658,
          -1.003306043921901,
          -0.4633435944966815,
          -0.022550288796635908,
          -1.012648189549336,
          -0.7750502400724303,
          -0.04569054422612893,
          -1.2199363247358548,
          -0.46624047284590303,
          -0.018410039343196544,
          0.6315535035946279,
          -0.6522499307304486,
          1.0430884953210082,
          -0.22480352941851106,
          -0.1484017345204255,
          -0.17236561194123814,
          -1.0275961625778565,
          0.819474611828162,
          1.1454383327596491,
          -1.2813189449037186,
          1.753594350607639,
          0.1766289971132849
         ],
         "yaxis": "y8"
        },
        {
         "line": {
          "color": "rgba(128, 128, 128, 1.0)",
          "dash": "solid",
          "shape": "linear",
          "width": 1.3
         },
         "marker": {
          "size": 2,
          "symbol": "circle"
         },
         "mode": "markers",
         "name": "C",
         "text": "",
         "type": "scatter",
         "x": [
          0.19650022373258236,
          -1.9941460778502356,
          0.6626376887314555,
          -0.958327863418552,
          0.4231241777990569,
          0.7113678238984446,
          -0.09165347023463194,
          -1.3149597471701424,
          -1.3933206032441685,
          -0.5529960919904516,
          -1.232042488497158,
          1.0661400300358617,
          0.36496152149907735,
          0.12566632897650376,
          -0.4154383457317713,
          1.1145779823073672,
          1.512565868621305,
          0.1794830651348587,
          1.0343723418421487,
          2.7907567772555297,
          0.2998865268939037,
          -1.1158316023870536,
          -0.027602812843491573,
          -0.5298883887261153,
          1.0290623615134162,
          0.9827394564213197,
          -0.4455813047158554,
          0.2338813758270774,
          -0.02285208244483196,
          -0.8967539023754664,
          -1.4758756049165747,
          -0.8947207457648796,
          -0.07309580354724263,
          -0.7845742580993053,
          0.23876895288454827,
          0.9742961492985625,
          -0.033916672684154374,
          1.1196298171192591,
          -0.535731539283069,
          -0.3906973132685843,
          -0.8424290459415693,
          0.2792280254608758,
          -0.9286349945862502,
          -1.5063893605812446,
          1.8743143044827653,
          -0.651912761220479,
          -0.6218461636563343,
          0.835257171977975,
          -0.6112242584714845,
          0.3039624479311827,
          -1.4468041377380885,
          1.311224077205215,
          -0.7808300388541097,
          -0.7560423271045358,
          -0.5005366745377746,
          -0.8309774142243554,
          0.3162223512088091,
          -0.002041007732976193,
          -0.6113995211974071,
          -0.7775783612568149,
          -1.2475028820394487,
          1.217988302202804,
          -2.035103126115838,
          1.0642766469020115,
          0.20548427026076269,
          1.2143492963512488,
          -0.2852927776860206,
          1.124432516025142,
          1.6347521744859779,
          -1.7834783009007091,
          0.2841397399808306,
          -0.2089012383694685,
          0.16030754969303934,
          0.36365439104045916,
          1.19666648962708,
          1.0687355273258576,
          1.3397200048714657,
          -1.4253637092798235,
          -0.11768531861787762,
          1.093744468440918,
          -0.636974215744073,
          -0.3613674535797206,
          2.053369552369878,
          0.7116839450439921,
          0.21270413234870125,
          -0.7903526585716255,
          -0.5880588643865717,
          0.3927540327176958,
          1.006657100212194,
          0.4213663847261615,
          0.19051498346579346,
          -0.03139508418786326,
          -0.7817689753853478,
          0.11699032841973789,
          0.9873789930068373,
          0.3593178489481021,
          0.19807751375431895,
          0.16904863471663228,
          -0.8675517348746863,
          1.0632008929683778
         ],
         "xaxis": "x9",
         "y": [
          0.20622876273106594,
          -1.7582658186110154,
          1.4969648432620881,
          -0.40657867926378977,
          1.1754382926242963,
          -1.3658457286532277,
          1.7304271824807045,
          0.9210670378195593,
          0.018536153324841338,
          -1.3053265208086002,
          0.8948835174263292,
          -0.9046451320147075,
          -0.6259190248888457,
          1.2599386480021038,
          0.013077683955397853,
          0.6798722793361448,
          -1.558151015284966,
          -0.678400753157479,
          0.40645450682141293,
          -1.7681206957487599,
          -1.1823300566295585,
          0.12044471170225582,
          -0.5759437193670766,
          -0.4782778980130167,
          0.8006787638594658,
          -0.3995816382995518,
          0.3719799766359585,
          0.45511605232163177,
          -0.2981312038552599,
          -0.3422409295806544,
          -1.5099816530748422,
          1.5594654795670082,
          0.38323229966132805,
          1.7559936574220256,
          0.4716137758822409,
          0.41398222117028377,
          0.7516244288447266,
          -0.8276126180427615,
          -0.8331636757462645,
          -2.0289526269137848,
          -0.1719540743163901,
          0.7060660905554883,
          -0.7480035478099717,
          0.10803639800458438,
          0.8368015456560084,
          -0.5398560104229473,
          -0.09363686742962193,
          -1.7245614127632307,
          -1.1561615962226712,
          1.3251435998718424,
          -0.06301171349649078,
          1.8871000709184729,
          -0.13045548140964353,
          -0.34615819598680553,
          -1.3147370878520375,
          -0.8550327054325254,
          1.1293722200174279,
          1.1120478010694546,
          1.2411615985025872,
          0.436363696278438,
          -0.4085453570183543,
          -0.5174649338270388,
          0.6847358639157233,
          0.195518110370209,
          0.49085497407584355,
          1.05466463532716,
          0.05629101238377474,
          2.071854496390022,
          -0.6042931635249521,
          -0.6853498467718027,
          -0.0009068095686971332,
          -0.12956732099735038,
          -0.22336632400404072,
          -0.283396072867283,
          -0.6425776848050261,
          0.1618564718941374,
          -0.7210807710831003,
          0.8460059149541216,
          -0.306617857501679,
          2.488109159805582,
          0.14856910804556547,
          1.7498181667323272,
          -1.0073476808783985,
          -1.3947093769604566,
          0.26308360838099903,
          -0.1665680808292545,
          1.522398432951192,
          -1.6776997614965026,
          0.6735306871847314,
          0.18419053161823734,
          0.5200692599146426,
          -0.36668720771838215,
          -1.2832201844922588,
          -0.17268525629315462,
          -0.8518939490336926,
          -0.7718894615673308,
          0.4294553382389916,
          1.1089994531932286,
          1.1726024821047942,
          0.7398346113115881
         ],
         "yaxis": "y9"
        },
        {
         "line": {
          "color": "rgba(128, 128, 128, 1.0)",
          "dash": "solid",
          "shape": "linear",
          "width": 1.3
         },
         "marker": {
          "size": 2,
          "symbol": "circle"
         },
         "mode": "markers",
         "name": "C",
         "text": "",
         "type": "scatter",
         "x": [
          -0.7167540505755027,
          -0.12909041323094617,
          0.22877681615439618,
          0.31882194562550403,
          0.4225554005693531,
          -1.6017150482952225,
          -0.2831684279736227,
          0.4322828011724924,
          1.255309714528344,
          0.8755230396176855,
          -0.6831456954439784,
          0.8110952397727162,
          -0.9166031195725972,
          0.3064369207186609,
          -2.0490989505187236,
          0.24906760614659623,
          0.39402324128552113,
          1.2780126859912582,
          -0.6505787538828152,
          -1.8518228676195427,
          -0.6746027652090811,
          -0.5161504692227723,
          0.2675518587457653,
          1.2710464229933724,
          1.2807012511537221,
          -0.813800981946473,
          0.9887296411556364,
          0.34779627811844277,
          1.0722640977196165,
          0.6433973284268374,
          0.40989450323414944,
          -1.4733258160007474,
          -0.9412466041115733,
          -0.10393012533579014,
          -0.6633454096051882,
          0.015757602282605216,
          1.9300001620261522,
          0.3233316683803168,
          1.392081529793989,
          1.4443614670956944,
          -0.19790878795053235,
          -0.5544650739226349,
          0.5810930100480569,
          -0.1905863676661684,
          0.6475117163062424,
          -0.4221535516573303,
          -0.9506756238745352,
          -0.3235691101756691,
          1.4337726924059773,
          -0.12164703421491174,
          -1.062327523237242,
          0.11695727946221875,
          -1.007567980517339,
          -3.098258736419873,
          1.235020540831101,
          0.08921425828329375,
          0.704599257819094,
          -1.9902654298561624,
          -1.3954712513866852,
          0.26963792912257833,
          0.24635411911346924,
          1.2620128885536703,
          1.1836800423064873,
          1.400217743322152,
          -0.8679652825501485,
          -0.7350983986807433,
          -2.069993960321671,
          -1.282928343846692,
          0.48351853758115854,
          0.6112862292452989,
          1.1036595971163061,
          -0.5462393578834953,
          -0.33009350560709183,
          -1.629830976151171,
          1.1731247238933304,
          -0.2389716755564296,
          0.10612143852848767,
          0.24536861497171922,
          -1.3303910676401658,
          -1.003306043921901,
          -0.4633435944966815,
          -0.022550288796635908,
          -1.012648189549336,
          -0.7750502400724303,
          -0.04569054422612893,
          -1.2199363247358548,
          -0.46624047284590303,
          -0.018410039343196544,
          0.6315535035946279,
          -0.6522499307304486,
          1.0430884953210082,
          -0.22480352941851106,
          -0.1484017345204255,
          -0.17236561194123814,
          -1.0275961625778565,
          0.819474611828162,
          1.1454383327596491,
          -1.2813189449037186,
          1.753594350607639,
          0.1766289971132849
         ],
         "xaxis": "x10",
         "y": [
          0.20622876273106594,
          -1.7582658186110154,
          1.4969648432620881,
          -0.40657867926378977,
          1.1754382926242963,
          -1.3658457286532277,
          1.7304271824807045,
          0.9210670378195593,
          0.018536153324841338,
          -1.3053265208086002,
          0.8948835174263292,
          -0.9046451320147075,
          -0.6259190248888457,
          1.2599386480021038,
          0.013077683955397853,
          0.6798722793361448,
          -1.558151015284966,
          -0.678400753157479,
          0.40645450682141293,
          -1.7681206957487599,
          -1.1823300566295585,
          0.12044471170225582,
          -0.5759437193670766,
          -0.4782778980130167,
          0.8006787638594658,
          -0.3995816382995518,
          0.3719799766359585,
          0.45511605232163177,
          -0.2981312038552599,
          -0.3422409295806544,
          -1.5099816530748422,
          1.5594654795670082,
          0.38323229966132805,
          1.7559936574220256,
          0.4716137758822409,
          0.41398222117028377,
          0.7516244288447266,
          -0.8276126180427615,
          -0.8331636757462645,
          -2.0289526269137848,
          -0.1719540743163901,
          0.7060660905554883,
          -0.7480035478099717,
          0.10803639800458438,
          0.8368015456560084,
          -0.5398560104229473,
          -0.09363686742962193,
          -1.7245614127632307,
          -1.1561615962226712,
          1.3251435998718424,
          -0.06301171349649078,
          1.8871000709184729,
          -0.13045548140964353,
          -0.34615819598680553,
          -1.3147370878520375,
          -0.8550327054325254,
          1.1293722200174279,
          1.1120478010694546,
          1.2411615985025872,
          0.436363696278438,
          -0.4085453570183543,
          -0.5174649338270388,
          0.6847358639157233,
          0.195518110370209,
          0.49085497407584355,
          1.05466463532716,
          0.05629101238377474,
          2.071854496390022,
          -0.6042931635249521,
          -0.6853498467718027,
          -0.0009068095686971332,
          -0.12956732099735038,
          -0.22336632400404072,
          -0.283396072867283,
          -0.6425776848050261,
          0.1618564718941374,
          -0.7210807710831003,
          0.8460059149541216,
          -0.306617857501679,
          2.488109159805582,
          0.14856910804556547,
          1.7498181667323272,
          -1.0073476808783985,
          -1.3947093769604566,
          0.26308360838099903,
          -0.1665680808292545,
          1.522398432951192,
          -1.6776997614965026,
          0.6735306871847314,
          0.18419053161823734,
          0.5200692599146426,
          -0.36668720771838215,
          -1.2832201844922588,
          -0.17268525629315462,
          -0.8518939490336926,
          -0.7718894615673308,
          0.4294553382389916,
          1.1089994531932286,
          1.1726024821047942,
          0.7398346113115881
         ],
         "yaxis": "y10"
        },
        {
         "histfunc": "count",
         "histnorm": "",
         "marker": {
          "color": "rgba(50, 171, 96, 1.0)",
          "line": {
           "color": "#4D5663",
           "width": 1.3
          }
         },
         "name": "C",
         "nbinsx": 10,
         "opacity": 0.8,
         "orientation": "v",
         "type": "histogram",
         "x": [
          0.20622876273106594,
          -1.7582658186110154,
          1.4969648432620881,
          -0.40657867926378977,
          1.1754382926242963,
          -1.3658457286532277,
          1.7304271824807045,
          0.9210670378195593,
          0.018536153324841338,
          -1.3053265208086002,
          0.8948835174263292,
          -0.9046451320147075,
          -0.6259190248888457,
          1.2599386480021038,
          0.013077683955397853,
          0.6798722793361448,
          -1.558151015284966,
          -0.678400753157479,
          0.40645450682141293,
          -1.7681206957487599,
          -1.1823300566295585,
          0.12044471170225582,
          -0.5759437193670766,
          -0.4782778980130167,
          0.8006787638594658,
          -0.3995816382995518,
          0.3719799766359585,
          0.45511605232163177,
          -0.2981312038552599,
          -0.3422409295806544,
          -1.5099816530748422,
          1.5594654795670082,
          0.38323229966132805,
          1.7559936574220256,
          0.4716137758822409,
          0.41398222117028377,
          0.7516244288447266,
          -0.8276126180427615,
          -0.8331636757462645,
          -2.0289526269137848,
          -0.1719540743163901,
          0.7060660905554883,
          -0.7480035478099717,
          0.10803639800458438,
          0.8368015456560084,
          -0.5398560104229473,
          -0.09363686742962193,
          -1.7245614127632307,
          -1.1561615962226712,
          1.3251435998718424,
          -0.06301171349649078,
          1.8871000709184729,
          -0.13045548140964353,
          -0.34615819598680553,
          -1.3147370878520375,
          -0.8550327054325254,
          1.1293722200174279,
          1.1120478010694546,
          1.2411615985025872,
          0.436363696278438,
          -0.4085453570183543,
          -0.5174649338270388,
          0.6847358639157233,
          0.195518110370209,
          0.49085497407584355,
          1.05466463532716,
          0.05629101238377474,
          2.071854496390022,
          -0.6042931635249521,
          -0.6853498467718027,
          -0.0009068095686971332,
          -0.12956732099735038,
          -0.22336632400404072,
          -0.283396072867283,
          -0.6425776848050261,
          0.1618564718941374,
          -0.7210807710831003,
          0.8460059149541216,
          -0.306617857501679,
          2.488109159805582,
          0.14856910804556547,
          1.7498181667323272,
          -1.0073476808783985,
          -1.3947093769604566,
          0.26308360838099903,
          -0.1665680808292545,
          1.522398432951192,
          -1.6776997614965026,
          0.6735306871847314,
          0.18419053161823734,
          0.5200692599146426,
          -0.36668720771838215,
          -1.2832201844922588,
          -0.17268525629315462,
          -0.8518939490336926,
          -0.7718894615673308,
          0.4294553382389916,
          1.1089994531932286,
          1.1726024821047942,
          0.7398346113115881
         ],
         "xaxis": "x11",
         "yaxis": "y11"
        },
        {
         "line": {
          "color": "rgba(128, 128, 128, 1.0)",
          "dash": "solid",
          "shape": "linear",
          "width": 1.3
         },
         "marker": {
          "size": 2,
          "symbol": "circle"
         },
         "mode": "markers",
         "name": "C",
         "text": "",
         "type": "scatter",
         "x": [
          -0.505183837528164,
          -0.0276329219801729,
          -0.9063075245742348,
          0.19451494584850162,
          0.44901830076031013,
          -2.007703338660613,
          -0.1297734677004214,
          0.9278871126076236,
          0.2262394703311532,
          1.7987183107730271,
          1.5646802438302365,
          -0.7462365845788629,
          0.08568229363463313,
          -0.18592884003455212,
          1.689056586530158,
          -0.04284530382005643,
          1.558350099904935,
          0.5048452086815636,
          0.5137112673569676,
          2.090585346251317,
          0.8660329992889156,
          -1.098023318888969,
          -0.14996271561242672,
          0.11185457887145386,
          1.086802812279443,
          -0.4624890992824662,
          -1.355953933628624,
          -0.7820390303836555,
          -1.3773935469011958,
          0.4083286329725384,
          -0.14080901705025084,
          -0.4502111210451887,
          -0.004223835712109334,
          0.748127230155246,
          0.7936355298110129,
          1.4838053627725512,
          0.2067669984246998,
          0.7771102339809596,
          1.3804578000154384,
          0.8201211239253432,
          -1.351085749813894,
          -1.4133365180460378,
          -0.6115690849479227,
          -0.8878336842883038,
          -0.08424627838717429,
          0.9138469282694803,
          -1.0246405899433415,
          -0.8424777802141452,
          0.8282483419632345,
          -1.2046591639446385,
          0.3712505968905831,
          -0.6686622801935974,
          -0.9275466867602205,
          -0.8302902757272163,
          -1.3438834821775725,
          -0.6166413257716978,
          0.3141640162386474,
          -0.05075064310173611,
          0.7350294724082517,
          0.06218334613367416,
          -2.194951395344034,
          -1.1179842037676107,
          -0.12177572734257305,
          0.6429150116102603,
          -0.98207877416493,
          0.39046557417975947,
          -0.7329755436359863,
          -2.667276213857281,
          1.3664013700856121,
          0.6764338886337651,
          -1.0480130896248643,
          0.9613367285215236,
          0.42750990402040934,
          -0.29709998383450853,
          0.2835914692290397,
          0.42591860335936105,
          0.01844044587431985,
          -0.4148182824242851,
          0.38671775577926304,
          -1.465722489216768,
          1.060921112651931,
          -0.26342549483741046,
          -0.2640785213362949,
          0.888097724042476,
          0.2632089279727065,
          -0.5520278114936636,
          -0.27146734538056994,
          -0.18449113710418427,
          1.2564667521349653,
          0.6942329857010153,
          -0.3130156423041538,
          0.806609936012424,
          -0.020201071164758166,
          2.274636494169897,
          -0.0748684818098725,
          -1.8140994778789923,
          -0.22648946000572145,
          -0.8886647680304275,
          0.8289382664456802,
          0.04030063947334295
         ],
         "xaxis": "x12",
         "y": [
          0.20622876273106594,
          -1.7582658186110154,
          1.4969648432620881,
          -0.40657867926378977,
          1.1754382926242963,
          -1.3658457286532277,
          1.7304271824807045,
          0.9210670378195593,
          0.018536153324841338,
          -1.3053265208086002,
          0.8948835174263292,
          -0.9046451320147075,
          -0.6259190248888457,
          1.2599386480021038,
          0.013077683955397853,
          0.6798722793361448,
          -1.558151015284966,
          -0.678400753157479,
          0.40645450682141293,
          -1.7681206957487599,
          -1.1823300566295585,
          0.12044471170225582,
          -0.5759437193670766,
          -0.4782778980130167,
          0.8006787638594658,
          -0.3995816382995518,
          0.3719799766359585,
          0.45511605232163177,
          -0.2981312038552599,
          -0.3422409295806544,
          -1.5099816530748422,
          1.5594654795670082,
          0.38323229966132805,
          1.7559936574220256,
          0.4716137758822409,
          0.41398222117028377,
          0.7516244288447266,
          -0.8276126180427615,
          -0.8331636757462645,
          -2.0289526269137848,
          -0.1719540743163901,
          0.7060660905554883,
          -0.7480035478099717,
          0.10803639800458438,
          0.8368015456560084,
          -0.5398560104229473,
          -0.09363686742962193,
          -1.7245614127632307,
          -1.1561615962226712,
          1.3251435998718424,
          -0.06301171349649078,
          1.8871000709184729,
          -0.13045548140964353,
          -0.34615819598680553,
          -1.3147370878520375,
          -0.8550327054325254,
          1.1293722200174279,
          1.1120478010694546,
          1.2411615985025872,
          0.436363696278438,
          -0.4085453570183543,
          -0.5174649338270388,
          0.6847358639157233,
          0.195518110370209,
          0.49085497407584355,
          1.05466463532716,
          0.05629101238377474,
          2.071854496390022,
          -0.6042931635249521,
          -0.6853498467718027,
          -0.0009068095686971332,
          -0.12956732099735038,
          -0.22336632400404072,
          -0.283396072867283,
          -0.6425776848050261,
          0.1618564718941374,
          -0.7210807710831003,
          0.8460059149541216,
          -0.306617857501679,
          2.488109159805582,
          0.14856910804556547,
          1.7498181667323272,
          -1.0073476808783985,
          -1.3947093769604566,
          0.26308360838099903,
          -0.1665680808292545,
          1.522398432951192,
          -1.6776997614965026,
          0.6735306871847314,
          0.18419053161823734,
          0.5200692599146426,
          -0.36668720771838215,
          -1.2832201844922588,
          -0.17268525629315462,
          -0.8518939490336926,
          -0.7718894615673308,
          0.4294553382389916,
          1.1089994531932286,
          1.1726024821047942,
          0.7398346113115881
         ],
         "yaxis": "y12"
        },
        {
         "line": {
          "color": "rgba(128, 128, 128, 1.0)",
          "dash": "solid",
          "shape": "linear",
          "width": 1.3
         },
         "marker": {
          "size": 2,
          "symbol": "circle"
         },
         "mode": "markers",
         "name": "D",
         "text": "",
         "type": "scatter",
         "x": [
          0.19650022373258236,
          -1.9941460778502356,
          0.6626376887314555,
          -0.958327863418552,
          0.4231241777990569,
          0.7113678238984446,
          -0.09165347023463194,
          -1.3149597471701424,
          -1.3933206032441685,
          -0.5529960919904516,
          -1.232042488497158,
          1.0661400300358617,
          0.36496152149907735,
          0.12566632897650376,
          -0.4154383457317713,
          1.1145779823073672,
          1.512565868621305,
          0.1794830651348587,
          1.0343723418421487,
          2.7907567772555297,
          0.2998865268939037,
          -1.1158316023870536,
          -0.027602812843491573,
          -0.5298883887261153,
          1.0290623615134162,
          0.9827394564213197,
          -0.4455813047158554,
          0.2338813758270774,
          -0.02285208244483196,
          -0.8967539023754664,
          -1.4758756049165747,
          -0.8947207457648796,
          -0.07309580354724263,
          -0.7845742580993053,
          0.23876895288454827,
          0.9742961492985625,
          -0.033916672684154374,
          1.1196298171192591,
          -0.535731539283069,
          -0.3906973132685843,
          -0.8424290459415693,
          0.2792280254608758,
          -0.9286349945862502,
          -1.5063893605812446,
          1.8743143044827653,
          -0.651912761220479,
          -0.6218461636563343,
          0.835257171977975,
          -0.6112242584714845,
          0.3039624479311827,
          -1.4468041377380885,
          1.311224077205215,
          -0.7808300388541097,
          -0.7560423271045358,
          -0.5005366745377746,
          -0.8309774142243554,
          0.3162223512088091,
          -0.002041007732976193,
          -0.6113995211974071,
          -0.7775783612568149,
          -1.2475028820394487,
          1.217988302202804,
          -2.035103126115838,
          1.0642766469020115,
          0.20548427026076269,
          1.2143492963512488,
          -0.2852927776860206,
          1.124432516025142,
          1.6347521744859779,
          -1.7834783009007091,
          0.2841397399808306,
          -0.2089012383694685,
          0.16030754969303934,
          0.36365439104045916,
          1.19666648962708,
          1.0687355273258576,
          1.3397200048714657,
          -1.4253637092798235,
          -0.11768531861787762,
          1.093744468440918,
          -0.636974215744073,
          -0.3613674535797206,
          2.053369552369878,
          0.7116839450439921,
          0.21270413234870125,
          -0.7903526585716255,
          -0.5880588643865717,
          0.3927540327176958,
          1.006657100212194,
          0.4213663847261615,
          0.19051498346579346,
          -0.03139508418786326,
          -0.7817689753853478,
          0.11699032841973789,
          0.9873789930068373,
          0.3593178489481021,
          0.19807751375431895,
          0.16904863471663228,
          -0.8675517348746863,
          1.0632008929683778
         ],
         "xaxis": "x13",
         "y": [
          -0.505183837528164,
          -0.0276329219801729,
          -0.9063075245742348,
          0.19451494584850162,
          0.44901830076031013,
          -2.007703338660613,
          -0.1297734677004214,
          0.9278871126076236,
          0.2262394703311532,
          1.7987183107730271,
          1.5646802438302365,
          -0.7462365845788629,
          0.08568229363463313,
          -0.18592884003455212,
          1.689056586530158,
          -0.04284530382005643,
          1.558350099904935,
          0.5048452086815636,
          0.5137112673569676,
          2.090585346251317,
          0.8660329992889156,
          -1.098023318888969,
          -0.14996271561242672,
          0.11185457887145386,
          1.086802812279443,
          -0.4624890992824662,
          -1.355953933628624,
          -0.7820390303836555,
          -1.3773935469011958,
          0.4083286329725384,
          -0.14080901705025084,
          -0.4502111210451887,
          -0.004223835712109334,
          0.748127230155246,
          0.7936355298110129,
          1.4838053627725512,
          0.2067669984246998,
          0.7771102339809596,
          1.3804578000154384,
          0.8201211239253432,
          -1.351085749813894,
          -1.4133365180460378,
          -0.6115690849479227,
          -0.8878336842883038,
          -0.08424627838717429,
          0.9138469282694803,
          -1.0246405899433415,
          -0.8424777802141452,
          0.8282483419632345,
          -1.2046591639446385,
          0.3712505968905831,
          -0.6686622801935974,
          -0.9275466867602205,
          -0.8302902757272163,
          -1.3438834821775725,
          -0.6166413257716978,
          0.3141640162386474,
          -0.05075064310173611,
          0.7350294724082517,
          0.06218334613367416,
          -2.194951395344034,
          -1.1179842037676107,
          -0.12177572734257305,
          0.6429150116102603,
          -0.98207877416493,
          0.39046557417975947,
          -0.7329755436359863,
          -2.667276213857281,
          1.3664013700856121,
          0.6764338886337651,
          -1.0480130896248643,
          0.9613367285215236,
          0.42750990402040934,
          -0.29709998383450853,
          0.2835914692290397,
          0.42591860335936105,
          0.01844044587431985,
          -0.4148182824242851,
          0.38671775577926304,
          -1.465722489216768,
          1.060921112651931,
          -0.26342549483741046,
          -0.2640785213362949,
          0.888097724042476,
          0.2632089279727065,
          -0.5520278114936636,
          -0.27146734538056994,
          -0.18449113710418427,
          1.2564667521349653,
          0.6942329857010153,
          -0.3130156423041538,
          0.806609936012424,
          -0.020201071164758166,
          2.274636494169897,
          -0.0748684818098725,
          -1.8140994778789923,
          -0.22648946000572145,
          -0.8886647680304275,
          0.8289382664456802,
          0.04030063947334295
         ],
         "yaxis": "y13"
        },
        {
         "line": {
          "color": "rgba(128, 128, 128, 1.0)",
          "dash": "solid",
          "shape": "linear",
          "width": 1.3
         },
         "marker": {
          "size": 2,
          "symbol": "circle"
         },
         "mode": "markers",
         "name": "D",
         "text": "",
         "type": "scatter",
         "x": [
          -0.7167540505755027,
          -0.12909041323094617,
          0.22877681615439618,
          0.31882194562550403,
          0.4225554005693531,
          -1.6017150482952225,
          -0.2831684279736227,
          0.4322828011724924,
          1.255309714528344,
          0.8755230396176855,
          -0.6831456954439784,
          0.8110952397727162,
          -0.9166031195725972,
          0.3064369207186609,
          -2.0490989505187236,
          0.24906760614659623,
          0.39402324128552113,
          1.2780126859912582,
          -0.6505787538828152,
          -1.8518228676195427,
          -0.6746027652090811,
          -0.5161504692227723,
          0.2675518587457653,
          1.2710464229933724,
          1.2807012511537221,
          -0.813800981946473,
          0.9887296411556364,
          0.34779627811844277,
          1.0722640977196165,
          0.6433973284268374,
          0.40989450323414944,
          -1.4733258160007474,
          -0.9412466041115733,
          -0.10393012533579014,
          -0.6633454096051882,
          0.015757602282605216,
          1.9300001620261522,
          0.3233316683803168,
          1.392081529793989,
          1.4443614670956944,
          -0.19790878795053235,
          -0.5544650739226349,
          0.5810930100480569,
          -0.1905863676661684,
          0.6475117163062424,
          -0.4221535516573303,
          -0.9506756238745352,
          -0.3235691101756691,
          1.4337726924059773,
          -0.12164703421491174,
          -1.062327523237242,
          0.11695727946221875,
          -1.007567980517339,
          -3.098258736419873,
          1.235020540831101,
          0.08921425828329375,
          0.704599257819094,
          -1.9902654298561624,
          -1.3954712513866852,
          0.26963792912257833,
          0.24635411911346924,
          1.2620128885536703,
          1.1836800423064873,
          1.400217743322152,
          -0.8679652825501485,
          -0.7350983986807433,
          -2.069993960321671,
          -1.282928343846692,
          0.48351853758115854,
          0.6112862292452989,
          1.1036595971163061,
          -0.5462393578834953,
          -0.33009350560709183,
          -1.629830976151171,
          1.1731247238933304,
          -0.2389716755564296,
          0.10612143852848767,
          0.24536861497171922,
          -1.3303910676401658,
          -1.003306043921901,
          -0.4633435944966815,
          -0.022550288796635908,
          -1.012648189549336,
          -0.7750502400724303,
          -0.04569054422612893,
          -1.2199363247358548,
          -0.46624047284590303,
          -0.018410039343196544,
          0.6315535035946279,
          -0.6522499307304486,
          1.0430884953210082,
          -0.22480352941851106,
          -0.1484017345204255,
          -0.17236561194123814,
          -1.0275961625778565,
          0.819474611828162,
          1.1454383327596491,
          -1.2813189449037186,
          1.753594350607639,
          0.1766289971132849
         ],
         "xaxis": "x14",
         "y": [
          -0.505183837528164,
          -0.0276329219801729,
          -0.9063075245742348,
          0.19451494584850162,
          0.44901830076031013,
          -2.007703338660613,
          -0.1297734677004214,
          0.9278871126076236,
          0.2262394703311532,
          1.7987183107730271,
          1.5646802438302365,
          -0.7462365845788629,
          0.08568229363463313,
          -0.18592884003455212,
          1.689056586530158,
          -0.04284530382005643,
          1.558350099904935,
          0.5048452086815636,
          0.5137112673569676,
          2.090585346251317,
          0.8660329992889156,
          -1.098023318888969,
          -0.14996271561242672,
          0.11185457887145386,
          1.086802812279443,
          -0.4624890992824662,
          -1.355953933628624,
          -0.7820390303836555,
          -1.3773935469011958,
          0.4083286329725384,
          -0.14080901705025084,
          -0.4502111210451887,
          -0.004223835712109334,
          0.748127230155246,
          0.7936355298110129,
          1.4838053627725512,
          0.2067669984246998,
          0.7771102339809596,
          1.3804578000154384,
          0.8201211239253432,
          -1.351085749813894,
          -1.4133365180460378,
          -0.6115690849479227,
          -0.8878336842883038,
          -0.08424627838717429,
          0.9138469282694803,
          -1.0246405899433415,
          -0.8424777802141452,
          0.8282483419632345,
          -1.2046591639446385,
          0.3712505968905831,
          -0.6686622801935974,
          -0.9275466867602205,
          -0.8302902757272163,
          -1.3438834821775725,
          -0.6166413257716978,
          0.3141640162386474,
          -0.05075064310173611,
          0.7350294724082517,
          0.06218334613367416,
          -2.194951395344034,
          -1.1179842037676107,
          -0.12177572734257305,
          0.6429150116102603,
          -0.98207877416493,
          0.39046557417975947,
          -0.7329755436359863,
          -2.667276213857281,
          1.3664013700856121,
          0.6764338886337651,
          -1.0480130896248643,
          0.9613367285215236,
          0.42750990402040934,
          -0.29709998383450853,
          0.2835914692290397,
          0.42591860335936105,
          0.01844044587431985,
          -0.4148182824242851,
          0.38671775577926304,
          -1.465722489216768,
          1.060921112651931,
          -0.26342549483741046,
          -0.2640785213362949,
          0.888097724042476,
          0.2632089279727065,
          -0.5520278114936636,
          -0.27146734538056994,
          -0.18449113710418427,
          1.2564667521349653,
          0.6942329857010153,
          -0.3130156423041538,
          0.806609936012424,
          -0.020201071164758166,
          2.274636494169897,
          -0.0748684818098725,
          -1.8140994778789923,
          -0.22648946000572145,
          -0.8886647680304275,
          0.8289382664456802,
          0.04030063947334295
         ],
         "yaxis": "y14"
        },
        {
         "line": {
          "color": "rgba(128, 128, 128, 1.0)",
          "dash": "solid",
          "shape": "linear",
          "width": 1.3
         },
         "marker": {
          "size": 2,
          "symbol": "circle"
         },
         "mode": "markers",
         "name": "D",
         "text": "",
         "type": "scatter",
         "x": [
          0.20622876273106594,
          -1.7582658186110154,
          1.4969648432620881,
          -0.40657867926378977,
          1.1754382926242963,
          -1.3658457286532277,
          1.7304271824807045,
          0.9210670378195593,
          0.018536153324841338,
          -1.3053265208086002,
          0.8948835174263292,
          -0.9046451320147075,
          -0.6259190248888457,
          1.2599386480021038,
          0.013077683955397853,
          0.6798722793361448,
          -1.558151015284966,
          -0.678400753157479,
          0.40645450682141293,
          -1.7681206957487599,
          -1.1823300566295585,
          0.12044471170225582,
          -0.5759437193670766,
          -0.4782778980130167,
          0.8006787638594658,
          -0.3995816382995518,
          0.3719799766359585,
          0.45511605232163177,
          -0.2981312038552599,
          -0.3422409295806544,
          -1.5099816530748422,
          1.5594654795670082,
          0.38323229966132805,
          1.7559936574220256,
          0.4716137758822409,
          0.41398222117028377,
          0.7516244288447266,
          -0.8276126180427615,
          -0.8331636757462645,
          -2.0289526269137848,
          -0.1719540743163901,
          0.7060660905554883,
          -0.7480035478099717,
          0.10803639800458438,
          0.8368015456560084,
          -0.5398560104229473,
          -0.09363686742962193,
          -1.7245614127632307,
          -1.1561615962226712,
          1.3251435998718424,
          -0.06301171349649078,
          1.8871000709184729,
          -0.13045548140964353,
          -0.34615819598680553,
          -1.3147370878520375,
          -0.8550327054325254,
          1.1293722200174279,
          1.1120478010694546,
          1.2411615985025872,
          0.436363696278438,
          -0.4085453570183543,
          -0.5174649338270388,
          0.6847358639157233,
          0.195518110370209,
          0.49085497407584355,
          1.05466463532716,
          0.05629101238377474,
          2.071854496390022,
          -0.6042931635249521,
          -0.6853498467718027,
          -0.0009068095686971332,
          -0.12956732099735038,
          -0.22336632400404072,
          -0.283396072867283,
          -0.6425776848050261,
          0.1618564718941374,
          -0.7210807710831003,
          0.8460059149541216,
          -0.306617857501679,
          2.488109159805582,
          0.14856910804556547,
          1.7498181667323272,
          -1.0073476808783985,
          -1.3947093769604566,
          0.26308360838099903,
          -0.1665680808292545,
          1.522398432951192,
          -1.6776997614965026,
          0.6735306871847314,
          0.18419053161823734,
          0.5200692599146426,
          -0.36668720771838215,
          -1.2832201844922588,
          -0.17268525629315462,
          -0.8518939490336926,
          -0.7718894615673308,
          0.4294553382389916,
          1.1089994531932286,
          1.1726024821047942,
          0.7398346113115881
         ],
         "xaxis": "x15",
         "y": [
          -0.505183837528164,
          -0.0276329219801729,
          -0.9063075245742348,
          0.19451494584850162,
          0.44901830076031013,
          -2.007703338660613,
          -0.1297734677004214,
          0.9278871126076236,
          0.2262394703311532,
          1.7987183107730271,
          1.5646802438302365,
          -0.7462365845788629,
          0.08568229363463313,
          -0.18592884003455212,
          1.689056586530158,
          -0.04284530382005643,
          1.558350099904935,
          0.5048452086815636,
          0.5137112673569676,
          2.090585346251317,
          0.8660329992889156,
          -1.098023318888969,
          -0.14996271561242672,
          0.11185457887145386,
          1.086802812279443,
          -0.4624890992824662,
          -1.355953933628624,
          -0.7820390303836555,
          -1.3773935469011958,
          0.4083286329725384,
          -0.14080901705025084,
          -0.4502111210451887,
          -0.004223835712109334,
          0.748127230155246,
          0.7936355298110129,
          1.4838053627725512,
          0.2067669984246998,
          0.7771102339809596,
          1.3804578000154384,
          0.8201211239253432,
          -1.351085749813894,
          -1.4133365180460378,
          -0.6115690849479227,
          -0.8878336842883038,
          -0.08424627838717429,
          0.9138469282694803,
          -1.0246405899433415,
          -0.8424777802141452,
          0.8282483419632345,
          -1.2046591639446385,
          0.3712505968905831,
          -0.6686622801935974,
          -0.9275466867602205,
          -0.8302902757272163,
          -1.3438834821775725,
          -0.6166413257716978,
          0.3141640162386474,
          -0.05075064310173611,
          0.7350294724082517,
          0.06218334613367416,
          -2.194951395344034,
          -1.1179842037676107,
          -0.12177572734257305,
          0.6429150116102603,
          -0.98207877416493,
          0.39046557417975947,
          -0.7329755436359863,
          -2.667276213857281,
          1.3664013700856121,
          0.6764338886337651,
          -1.0480130896248643,
          0.9613367285215236,
          0.42750990402040934,
          -0.29709998383450853,
          0.2835914692290397,
          0.42591860335936105,
          0.01844044587431985,
          -0.4148182824242851,
          0.38671775577926304,
          -1.465722489216768,
          1.060921112651931,
          -0.26342549483741046,
          -0.2640785213362949,
          0.888097724042476,
          0.2632089279727065,
          -0.5520278114936636,
          -0.27146734538056994,
          -0.18449113710418427,
          1.2564667521349653,
          0.6942329857010153,
          -0.3130156423041538,
          0.806609936012424,
          -0.020201071164758166,
          2.274636494169897,
          -0.0748684818098725,
          -1.8140994778789923,
          -0.22648946000572145,
          -0.8886647680304275,
          0.8289382664456802,
          0.04030063947334295
         ],
         "yaxis": "y15"
        },
        {
         "histfunc": "count",
         "histnorm": "",
         "marker": {
          "color": "rgba(128, 0, 128, 1.0)",
          "line": {
           "color": "#4D5663",
           "width": 1.3
          }
         },
         "name": "D",
         "nbinsx": 10,
         "opacity": 0.8,
         "orientation": "v",
         "type": "histogram",
         "x": [
          -0.505183837528164,
          -0.0276329219801729,
          -0.9063075245742348,
          0.19451494584850162,
          0.44901830076031013,
          -2.007703338660613,
          -0.1297734677004214,
          0.9278871126076236,
          0.2262394703311532,
          1.7987183107730271,
          1.5646802438302365,
          -0.7462365845788629,
          0.08568229363463313,
          -0.18592884003455212,
          1.689056586530158,
          -0.04284530382005643,
          1.558350099904935,
          0.5048452086815636,
          0.5137112673569676,
          2.090585346251317,
          0.8660329992889156,
          -1.098023318888969,
          -0.14996271561242672,
          0.11185457887145386,
          1.086802812279443,
          -0.4624890992824662,
          -1.355953933628624,
          -0.7820390303836555,
          -1.3773935469011958,
          0.4083286329725384,
          -0.14080901705025084,
          -0.4502111210451887,
          -0.004223835712109334,
          0.748127230155246,
          0.7936355298110129,
          1.4838053627725512,
          0.2067669984246998,
          0.7771102339809596,
          1.3804578000154384,
          0.8201211239253432,
          -1.351085749813894,
          -1.4133365180460378,
          -0.6115690849479227,
          -0.8878336842883038,
          -0.08424627838717429,
          0.9138469282694803,
          -1.0246405899433415,
          -0.8424777802141452,
          0.8282483419632345,
          -1.2046591639446385,
          0.3712505968905831,
          -0.6686622801935974,
          -0.9275466867602205,
          -0.8302902757272163,
          -1.3438834821775725,
          -0.6166413257716978,
          0.3141640162386474,
          -0.05075064310173611,
          0.7350294724082517,
          0.06218334613367416,
          -2.194951395344034,
          -1.1179842037676107,
          -0.12177572734257305,
          0.6429150116102603,
          -0.98207877416493,
          0.39046557417975947,
          -0.7329755436359863,
          -2.667276213857281,
          1.3664013700856121,
          0.6764338886337651,
          -1.0480130896248643,
          0.9613367285215236,
          0.42750990402040934,
          -0.29709998383450853,
          0.2835914692290397,
          0.42591860335936105,
          0.01844044587431985,
          -0.4148182824242851,
          0.38671775577926304,
          -1.465722489216768,
          1.060921112651931,
          -0.26342549483741046,
          -0.2640785213362949,
          0.888097724042476,
          0.2632089279727065,
          -0.5520278114936636,
          -0.27146734538056994,
          -0.18449113710418427,
          1.2564667521349653,
          0.6942329857010153,
          -0.3130156423041538,
          0.806609936012424,
          -0.020201071164758166,
          2.274636494169897,
          -0.0748684818098725,
          -1.8140994778789923,
          -0.22648946000572145,
          -0.8886647680304275,
          0.8289382664456802,
          0.04030063947334295
         ],
         "xaxis": "x16",
         "yaxis": "y16"
        }
       ],
       "layout": {
        "bargap": 0.02,
        "legend": {
         "bgcolor": "#F5F6F9",
         "font": {
          "color": "#4D5663"
         }
        },
        "paper_bgcolor": "#F5F6F9",
        "plot_bgcolor": "#F5F6F9",
        "showlegend": false,
        "template": {
         "data": {
          "bar": [
           {
            "error_x": {
             "color": "#2a3f5f"
            },
            "error_y": {
             "color": "#2a3f5f"
            },
            "marker": {
             "line": {
              "color": "#E5ECF6",
              "width": 0.5
             }
            },
            "type": "bar"
           }
          ],
          "barpolar": [
           {
            "marker": {
             "line": {
              "color": "#E5ECF6",
              "width": 0.5
             }
            },
            "type": "barpolar"
           }
          ],
          "carpet": [
           {
            "aaxis": {
             "endlinecolor": "#2a3f5f",
             "gridcolor": "white",
             "linecolor": "white",
             "minorgridcolor": "white",
             "startlinecolor": "#2a3f5f"
            },
            "baxis": {
             "endlinecolor": "#2a3f5f",
             "gridcolor": "white",
             "linecolor": "white",
             "minorgridcolor": "white",
             "startlinecolor": "#2a3f5f"
            },
            "type": "carpet"
           }
          ],
          "choropleth": [
           {
            "colorbar": {
             "outlinewidth": 0,
             "ticks": ""
            },
            "type": "choropleth"
           }
          ],
          "contour": [
           {
            "colorbar": {
             "outlinewidth": 0,
             "ticks": ""
            },
            "colorscale": [
             [
              0,
              "#0d0887"
             ],
             [
              0.1111111111111111,
              "#46039f"
             ],
             [
              0.2222222222222222,
              "#7201a8"
             ],
             [
              0.3333333333333333,
              "#9c179e"
             ],
             [
              0.4444444444444444,
              "#bd3786"
             ],
             [
              0.5555555555555556,
              "#d8576b"
             ],
             [
              0.6666666666666666,
              "#ed7953"
             ],
             [
              0.7777777777777778,
              "#fb9f3a"
             ],
             [
              0.8888888888888888,
              "#fdca26"
             ],
             [
              1,
              "#f0f921"
             ]
            ],
            "type": "contour"
           }
          ],
          "contourcarpet": [
           {
            "colorbar": {
             "outlinewidth": 0,
             "ticks": ""
            },
            "type": "contourcarpet"
           }
          ],
          "heatmap": [
           {
            "colorbar": {
             "outlinewidth": 0,
             "ticks": ""
            },
            "colorscale": [
             [
              0,
              "#0d0887"
             ],
             [
              0.1111111111111111,
              "#46039f"
             ],
             [
              0.2222222222222222,
              "#7201a8"
             ],
             [
              0.3333333333333333,
              "#9c179e"
             ],
             [
              0.4444444444444444,
              "#bd3786"
             ],
             [
              0.5555555555555556,
              "#d8576b"
             ],
             [
              0.6666666666666666,
              "#ed7953"
             ],
             [
              0.7777777777777778,
              "#fb9f3a"
             ],
             [
              0.8888888888888888,
              "#fdca26"
             ],
             [
              1,
              "#f0f921"
             ]
            ],
            "type": "heatmap"
           }
          ],
          "heatmapgl": [
           {
            "colorbar": {
             "outlinewidth": 0,
             "ticks": ""
            },
            "colorscale": [
             [
              0,
              "#0d0887"
             ],
             [
              0.1111111111111111,
              "#46039f"
             ],
             [
              0.2222222222222222,
              "#7201a8"
             ],
             [
              0.3333333333333333,
              "#9c179e"
             ],
             [
              0.4444444444444444,
              "#bd3786"
             ],
             [
              0.5555555555555556,
              "#d8576b"
             ],
             [
              0.6666666666666666,
              "#ed7953"
             ],
             [
              0.7777777777777778,
              "#fb9f3a"
             ],
             [
              0.8888888888888888,
              "#fdca26"
             ],
             [
              1,
              "#f0f921"
             ]
            ],
            "type": "heatmapgl"
           }
          ],
          "histogram": [
           {
            "marker": {
             "colorbar": {
              "outlinewidth": 0,
              "ticks": ""
             }
            },
            "type": "histogram"
           }
          ],
          "histogram2d": [
           {
            "colorbar": {
             "outlinewidth": 0,
             "ticks": ""
            },
            "colorscale": [
             [
              0,
              "#0d0887"
             ],
             [
              0.1111111111111111,
              "#46039f"
             ],
             [
              0.2222222222222222,
              "#7201a8"
             ],
             [
              0.3333333333333333,
              "#9c179e"
             ],
             [
              0.4444444444444444,
              "#bd3786"
             ],
             [
              0.5555555555555556,
              "#d8576b"
             ],
             [
              0.6666666666666666,
              "#ed7953"
             ],
             [
              0.7777777777777778,
              "#fb9f3a"
             ],
             [
              0.8888888888888888,
              "#fdca26"
             ],
             [
              1,
              "#f0f921"
             ]
            ],
            "type": "histogram2d"
           }
          ],
          "histogram2dcontour": [
           {
            "colorbar": {
             "outlinewidth": 0,
             "ticks": ""
            },
            "colorscale": [
             [
              0,
              "#0d0887"
             ],
             [
              0.1111111111111111,
              "#46039f"
             ],
             [
              0.2222222222222222,
              "#7201a8"
             ],
             [
              0.3333333333333333,
              "#9c179e"
             ],
             [
              0.4444444444444444,
              "#bd3786"
             ],
             [
              0.5555555555555556,
              "#d8576b"
             ],
             [
              0.6666666666666666,
              "#ed7953"
             ],
             [
              0.7777777777777778,
              "#fb9f3a"
             ],
             [
              0.8888888888888888,
              "#fdca26"
             ],
             [
              1,
              "#f0f921"
             ]
            ],
            "type": "histogram2dcontour"
           }
          ],
          "mesh3d": [
           {
            "colorbar": {
             "outlinewidth": 0,
             "ticks": ""
            },
            "type": "mesh3d"
           }
          ],
          "parcoords": [
           {
            "line": {
             "colorbar": {
              "outlinewidth": 0,
              "ticks": ""
             }
            },
            "type": "parcoords"
           }
          ],
          "pie": [
           {
            "automargin": true,
            "type": "pie"
           }
          ],
          "scatter": [
           {
            "marker": {
             "colorbar": {
              "outlinewidth": 0,
              "ticks": ""
             }
            },
            "type": "scatter"
           }
          ],
          "scatter3d": [
           {
            "line": {
             "colorbar": {
              "outlinewidth": 0,
              "ticks": ""
             }
            },
            "marker": {
             "colorbar": {
              "outlinewidth": 0,
              "ticks": ""
             }
            },
            "type": "scatter3d"
           }
          ],
          "scattercarpet": [
           {
            "marker": {
             "colorbar": {
              "outlinewidth": 0,
              "ticks": ""
             }
            },
            "type": "scattercarpet"
           }
          ],
          "scattergeo": [
           {
            "marker": {
             "colorbar": {
              "outlinewidth": 0,
              "ticks": ""
             }
            },
            "type": "scattergeo"
           }
          ],
          "scattergl": [
           {
            "marker": {
             "colorbar": {
              "outlinewidth": 0,
              "ticks": ""
             }
            },
            "type": "scattergl"
           }
          ],
          "scattermapbox": [
           {
            "marker": {
             "colorbar": {
              "outlinewidth": 0,
              "ticks": ""
             }
            },
            "type": "scattermapbox"
           }
          ],
          "scatterpolar": [
           {
            "marker": {
             "colorbar": {
              "outlinewidth": 0,
              "ticks": ""
             }
            },
            "type": "scatterpolar"
           }
          ],
          "scatterpolargl": [
           {
            "marker": {
             "colorbar": {
              "outlinewidth": 0,
              "ticks": ""
             }
            },
            "type": "scatterpolargl"
           }
          ],
          "scatterternary": [
           {
            "marker": {
             "colorbar": {
              "outlinewidth": 0,
              "ticks": ""
             }
            },
            "type": "scatterternary"
           }
          ],
          "surface": [
           {
            "colorbar": {
             "outlinewidth": 0,
             "ticks": ""
            },
            "colorscale": [
             [
              0,
              "#0d0887"
             ],
             [
              0.1111111111111111,
              "#46039f"
             ],
             [
              0.2222222222222222,
              "#7201a8"
             ],
             [
              0.3333333333333333,
              "#9c179e"
             ],
             [
              0.4444444444444444,
              "#bd3786"
             ],
             [
              0.5555555555555556,
              "#d8576b"
             ],
             [
              0.6666666666666666,
              "#ed7953"
             ],
             [
              0.7777777777777778,
              "#fb9f3a"
             ],
             [
              0.8888888888888888,
              "#fdca26"
             ],
             [
              1,
              "#f0f921"
             ]
            ],
            "type": "surface"
           }
          ],
          "table": [
           {
            "cells": {
             "fill": {
              "color": "#EBF0F8"
             },
             "line": {
              "color": "white"
             }
            },
            "header": {
             "fill": {
              "color": "#C8D4E3"
             },
             "line": {
              "color": "white"
             }
            },
            "type": "table"
           }
          ]
         },
         "layout": {
          "annotationdefaults": {
           "arrowcolor": "#2a3f5f",
           "arrowhead": 0,
           "arrowwidth": 1
          },
          "coloraxis": {
           "colorbar": {
            "outlinewidth": 0,
            "ticks": ""
           }
          },
          "colorscale": {
           "diverging": [
            [
             0,
             "#8e0152"
            ],
            [
             0.1,
             "#c51b7d"
            ],
            [
             0.2,
             "#de77ae"
            ],
            [
             0.3,
             "#f1b6da"
            ],
            [
             0.4,
             "#fde0ef"
            ],
            [
             0.5,
             "#f7f7f7"
            ],
            [
             0.6,
             "#e6f5d0"
            ],
            [
             0.7,
             "#b8e186"
            ],
            [
             0.8,
             "#7fbc41"
            ],
            [
             0.9,
             "#4d9221"
            ],
            [
             1,
             "#276419"
            ]
           ],
           "sequential": [
            [
             0,
             "#0d0887"
            ],
            [
             0.1111111111111111,
             "#46039f"
            ],
            [
             0.2222222222222222,
             "#7201a8"
            ],
            [
             0.3333333333333333,
             "#9c179e"
            ],
            [
             0.4444444444444444,
             "#bd3786"
            ],
            [
             0.5555555555555556,
             "#d8576b"
            ],
            [
             0.6666666666666666,
             "#ed7953"
            ],
            [
             0.7777777777777778,
             "#fb9f3a"
            ],
            [
             0.8888888888888888,
             "#fdca26"
            ],
            [
             1,
             "#f0f921"
            ]
           ],
           "sequentialminus": [
            [
             0,
             "#0d0887"
            ],
            [
             0.1111111111111111,
             "#46039f"
            ],
            [
             0.2222222222222222,
             "#7201a8"
            ],
            [
             0.3333333333333333,
             "#9c179e"
            ],
            [
             0.4444444444444444,
             "#bd3786"
            ],
            [
             0.5555555555555556,
             "#d8576b"
            ],
            [
             0.6666666666666666,
             "#ed7953"
            ],
            [
             0.7777777777777778,
             "#fb9f3a"
            ],
            [
             0.8888888888888888,
             "#fdca26"
            ],
            [
             1,
             "#f0f921"
            ]
           ]
          },
          "colorway": [
           "#636efa",
           "#EF553B",
           "#00cc96",
           "#ab63fa",
           "#FFA15A",
           "#19d3f3",
           "#FF6692",
           "#B6E880",
           "#FF97FF",
           "#FECB52"
          ],
          "font": {
           "color": "#2a3f5f"
          },
          "geo": {
           "bgcolor": "white",
           "lakecolor": "white",
           "landcolor": "#E5ECF6",
           "showlakes": true,
           "showland": true,
           "subunitcolor": "white"
          },
          "hoverlabel": {
           "align": "left"
          },
          "hovermode": "closest",
          "mapbox": {
           "style": "light"
          },
          "paper_bgcolor": "white",
          "plot_bgcolor": "#E5ECF6",
          "polar": {
           "angularaxis": {
            "gridcolor": "white",
            "linecolor": "white",
            "ticks": ""
           },
           "bgcolor": "#E5ECF6",
           "radialaxis": {
            "gridcolor": "white",
            "linecolor": "white",
            "ticks": ""
           }
          },
          "scene": {
           "xaxis": {
            "backgroundcolor": "#E5ECF6",
            "gridcolor": "white",
            "gridwidth": 2,
            "linecolor": "white",
            "showbackground": true,
            "ticks": "",
            "zerolinecolor": "white"
           },
           "yaxis": {
            "backgroundcolor": "#E5ECF6",
            "gridcolor": "white",
            "gridwidth": 2,
            "linecolor": "white",
            "showbackground": true,
            "ticks": "",
            "zerolinecolor": "white"
           },
           "zaxis": {
            "backgroundcolor": "#E5ECF6",
            "gridcolor": "white",
            "gridwidth": 2,
            "linecolor": "white",
            "showbackground": true,
            "ticks": "",
            "zerolinecolor": "white"
           }
          },
          "shapedefaults": {
           "line": {
            "color": "#2a3f5f"
           }
          },
          "ternary": {
           "aaxis": {
            "gridcolor": "white",
            "linecolor": "white",
            "ticks": ""
           },
           "baxis": {
            "gridcolor": "white",
            "linecolor": "white",
            "ticks": ""
           },
           "bgcolor": "#E5ECF6",
           "caxis": {
            "gridcolor": "white",
            "linecolor": "white",
            "ticks": ""
           }
          },
          "title": {
           "x": 0.05
          },
          "xaxis": {
           "automargin": true,
           "gridcolor": "white",
           "linecolor": "white",
           "ticks": "",
           "title": {
            "standoff": 15
           },
           "zerolinecolor": "white",
           "zerolinewidth": 2
          },
          "yaxis": {
           "automargin": true,
           "gridcolor": "white",
           "linecolor": "white",
           "ticks": "",
           "title": {
            "standoff": 15
           },
           "zerolinecolor": "white",
           "zerolinewidth": 2
          }
         }
        },
        "title": {
         "font": {
          "color": "#4D5663"
         }
        },
        "xaxis": {
         "anchor": "y",
         "domain": [
          0,
          0.2125
         ],
         "gridcolor": "#E1E5ED",
         "showgrid": false,
         "tickfont": {
          "color": "#4D5663"
         },
         "title": {
          "font": {
           "color": "#4D5663"
          },
          "text": ""
         },
         "zerolinecolor": "#E1E5ED"
        },
        "xaxis10": {
         "anchor": "y10",
         "domain": [
          0.2625,
          0.475
         ],
         "gridcolor": "#E1E5ED",
         "showgrid": false,
         "tickfont": {
          "color": "#4D5663"
         },
         "title": {
          "font": {
           "color": "#4D5663"
          },
          "text": ""
         },
         "zerolinecolor": "#E1E5ED"
        },
        "xaxis11": {
         "anchor": "y11",
         "domain": [
          0.525,
          0.7375
         ],
         "gridcolor": "#E1E5ED",
         "showgrid": false,
         "tickfont": {
          "color": "#4D5663"
         },
         "title": {
          "font": {
           "color": "#4D5663"
          },
          "text": ""
         },
         "zerolinecolor": "#E1E5ED"
        },
        "xaxis12": {
         "anchor": "y12",
         "domain": [
          0.7875,
          1
         ],
         "gridcolor": "#E1E5ED",
         "showgrid": false,
         "tickfont": {
          "color": "#4D5663"
         },
         "title": {
          "font": {
           "color": "#4D5663"
          },
          "text": ""
         },
         "zerolinecolor": "#E1E5ED"
        },
        "xaxis13": {
         "anchor": "y13",
         "domain": [
          0,
          0.2125
         ],
         "gridcolor": "#E1E5ED",
         "showgrid": false,
         "tickfont": {
          "color": "#4D5663"
         },
         "title": {
          "font": {
           "color": "#4D5663"
          },
          "text": ""
         },
         "zerolinecolor": "#E1E5ED"
        },
        "xaxis14": {
         "anchor": "y14",
         "domain": [
          0.2625,
          0.475
         ],
         "gridcolor": "#E1E5ED",
         "showgrid": false,
         "tickfont": {
          "color": "#4D5663"
         },
         "title": {
          "font": {
           "color": "#4D5663"
          },
          "text": ""
         },
         "zerolinecolor": "#E1E5ED"
        },
        "xaxis15": {
         "anchor": "y15",
         "domain": [
          0.525,
          0.7375
         ],
         "gridcolor": "#E1E5ED",
         "showgrid": false,
         "tickfont": {
          "color": "#4D5663"
         },
         "title": {
          "font": {
           "color": "#4D5663"
          },
          "text": ""
         },
         "zerolinecolor": "#E1E5ED"
        },
        "xaxis16": {
         "anchor": "y16",
         "domain": [
          0.7875,
          1
         ],
         "gridcolor": "#E1E5ED",
         "showgrid": false,
         "tickfont": {
          "color": "#4D5663"
         },
         "title": {
          "font": {
           "color": "#4D5663"
          },
          "text": ""
         },
         "zerolinecolor": "#E1E5ED"
        },
        "xaxis2": {
         "anchor": "y2",
         "domain": [
          0.2625,
          0.475
         ],
         "gridcolor": "#E1E5ED",
         "showgrid": false,
         "tickfont": {
          "color": "#4D5663"
         },
         "title": {
          "font": {
           "color": "#4D5663"
          },
          "text": ""
         },
         "zerolinecolor": "#E1E5ED"
        },
        "xaxis3": {
         "anchor": "y3",
         "domain": [
          0.525,
          0.7375
         ],
         "gridcolor": "#E1E5ED",
         "showgrid": false,
         "tickfont": {
          "color": "#4D5663"
         },
         "title": {
          "font": {
           "color": "#4D5663"
          },
          "text": ""
         },
         "zerolinecolor": "#E1E5ED"
        },
        "xaxis4": {
         "anchor": "y4",
         "domain": [
          0.7875,
          1
         ],
         "gridcolor": "#E1E5ED",
         "showgrid": false,
         "tickfont": {
          "color": "#4D5663"
         },
         "title": {
          "font": {
           "color": "#4D5663"
          },
          "text": ""
         },
         "zerolinecolor": "#E1E5ED"
        },
        "xaxis5": {
         "anchor": "y5",
         "domain": [
          0,
          0.2125
         ],
         "gridcolor": "#E1E5ED",
         "showgrid": false,
         "tickfont": {
          "color": "#4D5663"
         },
         "title": {
          "font": {
           "color": "#4D5663"
          },
          "text": ""
         },
         "zerolinecolor": "#E1E5ED"
        },
        "xaxis6": {
         "anchor": "y6",
         "domain": [
          0.2625,
          0.475
         ],
         "gridcolor": "#E1E5ED",
         "showgrid": false,
         "tickfont": {
          "color": "#4D5663"
         },
         "title": {
          "font": {
           "color": "#4D5663"
          },
          "text": ""
         },
         "zerolinecolor": "#E1E5ED"
        },
        "xaxis7": {
         "anchor": "y7",
         "domain": [
          0.525,
          0.7375
         ],
         "gridcolor": "#E1E5ED",
         "showgrid": false,
         "tickfont": {
          "color": "#4D5663"
         },
         "title": {
          "font": {
           "color": "#4D5663"
          },
          "text": ""
         },
         "zerolinecolor": "#E1E5ED"
        },
        "xaxis8": {
         "anchor": "y8",
         "domain": [
          0.7875,
          1
         ],
         "gridcolor": "#E1E5ED",
         "showgrid": false,
         "tickfont": {
          "color": "#4D5663"
         },
         "title": {
          "font": {
           "color": "#4D5663"
          },
          "text": ""
         },
         "zerolinecolor": "#E1E5ED"
        },
        "xaxis9": {
         "anchor": "y9",
         "domain": [
          0,
          0.2125
         ],
         "gridcolor": "#E1E5ED",
         "showgrid": false,
         "tickfont": {
          "color": "#4D5663"
         },
         "title": {
          "font": {
           "color": "#4D5663"
          },
          "text": ""
         },
         "zerolinecolor": "#E1E5ED"
        },
        "yaxis": {
         "anchor": "x",
         "domain": [
          0.8025,
          1
         ],
         "gridcolor": "#E1E5ED",
         "showgrid": false,
         "tickfont": {
          "color": "#4D5663"
         },
         "title": {
          "font": {
           "color": "#4D5663"
          },
          "text": ""
         },
         "zerolinecolor": "#E1E5ED"
        },
        "yaxis10": {
         "anchor": "x10",
         "domain": [
          0.2675,
          0.465
         ],
         "gridcolor": "#E1E5ED",
         "showgrid": false,
         "tickfont": {
          "color": "#4D5663"
         },
         "title": {
          "font": {
           "color": "#4D5663"
          },
          "text": ""
         },
         "zerolinecolor": "#E1E5ED"
        },
        "yaxis11": {
         "anchor": "x11",
         "domain": [
          0.2675,
          0.465
         ],
         "gridcolor": "#E1E5ED",
         "showgrid": false,
         "tickfont": {
          "color": "#4D5663"
         },
         "title": {
          "font": {
           "color": "#4D5663"
          },
          "text": ""
         },
         "zerolinecolor": "#E1E5ED"
        },
        "yaxis12": {
         "anchor": "x12",
         "domain": [
          0.2675,
          0.465
         ],
         "gridcolor": "#E1E5ED",
         "showgrid": false,
         "tickfont": {
          "color": "#4D5663"
         },
         "title": {
          "font": {
           "color": "#4D5663"
          },
          "text": ""
         },
         "zerolinecolor": "#E1E5ED"
        },
        "yaxis13": {
         "anchor": "x13",
         "domain": [
          0,
          0.1975
         ],
         "gridcolor": "#E1E5ED",
         "showgrid": false,
         "tickfont": {
          "color": "#4D5663"
         },
         "title": {
          "font": {
           "color": "#4D5663"
          },
          "text": ""
         },
         "zerolinecolor": "#E1E5ED"
        },
        "yaxis14": {
         "anchor": "x14",
         "domain": [
          0,
          0.1975
         ],
         "gridcolor": "#E1E5ED",
         "showgrid": false,
         "tickfont": {
          "color": "#4D5663"
         },
         "title": {
          "font": {
           "color": "#4D5663"
          },
          "text": ""
         },
         "zerolinecolor": "#E1E5ED"
        },
        "yaxis15": {
         "anchor": "x15",
         "domain": [
          0,
          0.1975
         ],
         "gridcolor": "#E1E5ED",
         "showgrid": false,
         "tickfont": {
          "color": "#4D5663"
         },
         "title": {
          "font": {
           "color": "#4D5663"
          },
          "text": ""
         },
         "zerolinecolor": "#E1E5ED"
        },
        "yaxis16": {
         "anchor": "x16",
         "domain": [
          0,
          0.1975
         ],
         "gridcolor": "#E1E5ED",
         "showgrid": false,
         "tickfont": {
          "color": "#4D5663"
         },
         "title": {
          "font": {
           "color": "#4D5663"
          },
          "text": ""
         },
         "zerolinecolor": "#E1E5ED"
        },
        "yaxis2": {
         "anchor": "x2",
         "domain": [
          0.8025,
          1
         ],
         "gridcolor": "#E1E5ED",
         "showgrid": false,
         "tickfont": {
          "color": "#4D5663"
         },
         "title": {
          "font": {
           "color": "#4D5663"
          },
          "text": ""
         },
         "zerolinecolor": "#E1E5ED"
        },
        "yaxis3": {
         "anchor": "x3",
         "domain": [
          0.8025,
          1
         ],
         "gridcolor": "#E1E5ED",
         "showgrid": false,
         "tickfont": {
          "color": "#4D5663"
         },
         "title": {
          "font": {
           "color": "#4D5663"
          },
          "text": ""
         },
         "zerolinecolor": "#E1E5ED"
        },
        "yaxis4": {
         "anchor": "x4",
         "domain": [
          0.8025,
          1
         ],
         "gridcolor": "#E1E5ED",
         "showgrid": false,
         "tickfont": {
          "color": "#4D5663"
         },
         "title": {
          "font": {
           "color": "#4D5663"
          },
          "text": ""
         },
         "zerolinecolor": "#E1E5ED"
        },
        "yaxis5": {
         "anchor": "x5",
         "domain": [
          0.535,
          0.7325
         ],
         "gridcolor": "#E1E5ED",
         "showgrid": false,
         "tickfont": {
          "color": "#4D5663"
         },
         "title": {
          "font": {
           "color": "#4D5663"
          },
          "text": ""
         },
         "zerolinecolor": "#E1E5ED"
        },
        "yaxis6": {
         "anchor": "x6",
         "domain": [
          0.535,
          0.7325
         ],
         "gridcolor": "#E1E5ED",
         "showgrid": false,
         "tickfont": {
          "color": "#4D5663"
         },
         "title": {
          "font": {
           "color": "#4D5663"
          },
          "text": ""
         },
         "zerolinecolor": "#E1E5ED"
        },
        "yaxis7": {
         "anchor": "x7",
         "domain": [
          0.535,
          0.7325
         ],
         "gridcolor": "#E1E5ED",
         "showgrid": false,
         "tickfont": {
          "color": "#4D5663"
         },
         "title": {
          "font": {
           "color": "#4D5663"
          },
          "text": ""
         },
         "zerolinecolor": "#E1E5ED"
        },
        "yaxis8": {
         "anchor": "x8",
         "domain": [
          0.535,
          0.7325
         ],
         "gridcolor": "#E1E5ED",
         "showgrid": false,
         "tickfont": {
          "color": "#4D5663"
         },
         "title": {
          "font": {
           "color": "#4D5663"
          },
          "text": ""
         },
         "zerolinecolor": "#E1E5ED"
        },
        "yaxis9": {
         "anchor": "x9",
         "domain": [
          0.2675,
          0.465
         ],
         "gridcolor": "#E1E5ED",
         "showgrid": false,
         "tickfont": {
          "color": "#4D5663"
         },
         "title": {
          "font": {
           "color": "#4D5663"
          },
          "text": ""
         },
         "zerolinecolor": "#E1E5ED"
        }
       }
      },
      "text/html": [
       "<div>\n",
       "        \n",
       "        \n",
       "            <div id=\"a412cbd1-e789-48e3-8fbc-1c1163ca8945\" class=\"plotly-graph-div\" style=\"height:525px; width:100%;\"></div>\n",
       "            <script type=\"text/javascript\">\n",
       "                require([\"plotly\"], function(Plotly) {\n",
       "                    window.PLOTLYENV=window.PLOTLYENV || {};\n",
       "                    window.PLOTLYENV.BASE_URL='https://plot.ly';\n",
       "                    \n",
       "                if (document.getElementById(\"a412cbd1-e789-48e3-8fbc-1c1163ca8945\")) {\n",
       "                    Plotly.newPlot(\n",
       "                        'a412cbd1-e789-48e3-8fbc-1c1163ca8945',\n",
       "                        [{\"histfunc\": \"count\", \"histnorm\": \"\", \"marker\": {\"color\": \"rgba(255, 153, 51, 1.0)\", \"line\": {\"color\": \"#4D5663\", \"width\": 1.3}}, \"name\": \"A\", \"nbinsx\": 10, \"opacity\": 0.8, \"orientation\": \"v\", \"type\": \"histogram\", \"x\": [0.19650022373258236, -1.9941460778502356, 0.6626376887314555, -0.958327863418552, 0.4231241777990569, 0.7113678238984446, -0.09165347023463194, -1.3149597471701424, -1.3933206032441685, -0.5529960919904516, -1.232042488497158, 1.0661400300358617, 0.36496152149907735, 0.12566632897650376, -0.4154383457317713, 1.1145779823073672, 1.512565868621305, 0.1794830651348587, 1.0343723418421487, 2.7907567772555297, 0.2998865268939037, -1.1158316023870536, -0.027602812843491573, -0.5298883887261153, 1.0290623615134162, 0.9827394564213197, -0.4455813047158554, 0.2338813758270774, -0.02285208244483196, -0.8967539023754664, -1.4758756049165747, -0.8947207457648796, -0.07309580354724263, -0.7845742580993053, 0.23876895288454827, 0.9742961492985625, -0.033916672684154374, 1.1196298171192591, -0.535731539283069, -0.3906973132685843, -0.8424290459415693, 0.2792280254608758, -0.9286349945862502, -1.5063893605812446, 1.8743143044827653, -0.651912761220479, -0.6218461636563343, 0.835257171977975, -0.6112242584714845, 0.3039624479311827, -1.4468041377380885, 1.311224077205215, -0.7808300388541097, -0.7560423271045358, -0.5005366745377746, -0.8309774142243554, 0.3162223512088091, -0.002041007732976193, -0.6113995211974071, -0.7775783612568149, -1.2475028820394487, 1.217988302202804, -2.035103126115838, 1.0642766469020115, 0.20548427026076269, 1.2143492963512488, -0.2852927776860206, 1.124432516025142, 1.6347521744859779, -1.7834783009007091, 0.2841397399808306, -0.2089012383694685, 0.16030754969303934, 0.36365439104045916, 1.19666648962708, 1.0687355273258576, 1.3397200048714657, -1.4253637092798235, -0.11768531861787762, 1.093744468440918, -0.636974215744073, -0.3613674535797206, 2.053369552369878, 0.7116839450439921, 0.21270413234870125, -0.7903526585716255, -0.5880588643865717, 0.3927540327176958, 1.006657100212194, 0.4213663847261615, 0.19051498346579346, -0.03139508418786326, -0.7817689753853478, 0.11699032841973789, 0.9873789930068373, 0.3593178489481021, 0.19807751375431895, 0.16904863471663228, -0.8675517348746863, 1.0632008929683778], \"xaxis\": \"x\", \"yaxis\": \"y\"}, {\"line\": {\"color\": \"rgba(128, 128, 128, 1.0)\", \"dash\": \"solid\", \"shape\": \"linear\", \"width\": 1.3}, \"marker\": {\"size\": 2, \"symbol\": \"circle\"}, \"mode\": \"markers\", \"name\": \"A\", \"text\": \"\", \"type\": \"scatter\", \"x\": [-0.7167540505755027, -0.12909041323094617, 0.22877681615439618, 0.31882194562550403, 0.4225554005693531, -1.6017150482952225, -0.2831684279736227, 0.4322828011724924, 1.255309714528344, 0.8755230396176855, -0.6831456954439784, 0.8110952397727162, -0.9166031195725972, 0.3064369207186609, -2.0490989505187236, 0.24906760614659623, 0.39402324128552113, 1.2780126859912582, -0.6505787538828152, -1.8518228676195427, -0.6746027652090811, -0.5161504692227723, 0.2675518587457653, 1.2710464229933724, 1.2807012511537221, -0.813800981946473, 0.9887296411556364, 0.34779627811844277, 1.0722640977196165, 0.6433973284268374, 0.40989450323414944, -1.4733258160007474, -0.9412466041115733, -0.10393012533579014, -0.6633454096051882, 0.015757602282605216, 1.9300001620261522, 0.3233316683803168, 1.392081529793989, 1.4443614670956944, -0.19790878795053235, -0.5544650739226349, 0.5810930100480569, -0.1905863676661684, 0.6475117163062424, -0.4221535516573303, -0.9506756238745352, -0.3235691101756691, 1.4337726924059773, -0.12164703421491174, -1.062327523237242, 0.11695727946221875, -1.007567980517339, -3.098258736419873, 1.235020540831101, 0.08921425828329375, 0.704599257819094, -1.9902654298561624, -1.3954712513866852, 0.26963792912257833, 0.24635411911346924, 1.2620128885536703, 1.1836800423064873, 1.400217743322152, -0.8679652825501485, -0.7350983986807433, -2.069993960321671, -1.282928343846692, 0.48351853758115854, 0.6112862292452989, 1.1036595971163061, -0.5462393578834953, -0.33009350560709183, -1.629830976151171, 1.1731247238933304, -0.2389716755564296, 0.10612143852848767, 0.24536861497171922, -1.3303910676401658, -1.003306043921901, -0.4633435944966815, -0.022550288796635908, -1.012648189549336, -0.7750502400724303, -0.04569054422612893, -1.2199363247358548, -0.46624047284590303, -0.018410039343196544, 0.6315535035946279, -0.6522499307304486, 1.0430884953210082, -0.22480352941851106, -0.1484017345204255, -0.17236561194123814, -1.0275961625778565, 0.819474611828162, 1.1454383327596491, -1.2813189449037186, 1.753594350607639, 0.1766289971132849], \"xaxis\": \"x2\", \"y\": [0.19650022373258236, -1.9941460778502356, 0.6626376887314555, -0.958327863418552, 0.4231241777990569, 0.7113678238984446, -0.09165347023463194, -1.3149597471701424, -1.3933206032441685, -0.5529960919904516, -1.232042488497158, 1.0661400300358617, 0.36496152149907735, 0.12566632897650376, -0.4154383457317713, 1.1145779823073672, 1.512565868621305, 0.1794830651348587, 1.0343723418421487, 2.7907567772555297, 0.2998865268939037, -1.1158316023870536, -0.027602812843491573, -0.5298883887261153, 1.0290623615134162, 0.9827394564213197, -0.4455813047158554, 0.2338813758270774, -0.02285208244483196, -0.8967539023754664, -1.4758756049165747, -0.8947207457648796, -0.07309580354724263, -0.7845742580993053, 0.23876895288454827, 0.9742961492985625, -0.033916672684154374, 1.1196298171192591, -0.535731539283069, -0.3906973132685843, -0.8424290459415693, 0.2792280254608758, -0.9286349945862502, -1.5063893605812446, 1.8743143044827653, -0.651912761220479, -0.6218461636563343, 0.835257171977975, -0.6112242584714845, 0.3039624479311827, -1.4468041377380885, 1.311224077205215, -0.7808300388541097, -0.7560423271045358, -0.5005366745377746, -0.8309774142243554, 0.3162223512088091, -0.002041007732976193, -0.6113995211974071, -0.7775783612568149, -1.2475028820394487, 1.217988302202804, -2.035103126115838, 1.0642766469020115, 0.20548427026076269, 1.2143492963512488, -0.2852927776860206, 1.124432516025142, 1.6347521744859779, -1.7834783009007091, 0.2841397399808306, -0.2089012383694685, 0.16030754969303934, 0.36365439104045916, 1.19666648962708, 1.0687355273258576, 1.3397200048714657, -1.4253637092798235, -0.11768531861787762, 1.093744468440918, -0.636974215744073, -0.3613674535797206, 2.053369552369878, 0.7116839450439921, 0.21270413234870125, -0.7903526585716255, -0.5880588643865717, 0.3927540327176958, 1.006657100212194, 0.4213663847261615, 0.19051498346579346, -0.03139508418786326, -0.7817689753853478, 0.11699032841973789, 0.9873789930068373, 0.3593178489481021, 0.19807751375431895, 0.16904863471663228, -0.8675517348746863, 1.0632008929683778], \"yaxis\": \"y2\"}, {\"line\": {\"color\": \"rgba(128, 128, 128, 1.0)\", \"dash\": \"solid\", \"shape\": \"linear\", \"width\": 1.3}, \"marker\": {\"size\": 2, \"symbol\": \"circle\"}, \"mode\": \"markers\", \"name\": \"A\", \"text\": \"\", \"type\": \"scatter\", \"x\": [0.20622876273106594, -1.7582658186110154, 1.4969648432620881, -0.40657867926378977, 1.1754382926242963, -1.3658457286532277, 1.7304271824807045, 0.9210670378195593, 0.018536153324841338, -1.3053265208086002, 0.8948835174263292, -0.9046451320147075, -0.6259190248888457, 1.2599386480021038, 0.013077683955397853, 0.6798722793361448, -1.558151015284966, -0.678400753157479, 0.40645450682141293, -1.7681206957487599, -1.1823300566295585, 0.12044471170225582, -0.5759437193670766, -0.4782778980130167, 0.8006787638594658, -0.3995816382995518, 0.3719799766359585, 0.45511605232163177, -0.2981312038552599, -0.3422409295806544, -1.5099816530748422, 1.5594654795670082, 0.38323229966132805, 1.7559936574220256, 0.4716137758822409, 0.41398222117028377, 0.7516244288447266, -0.8276126180427615, -0.8331636757462645, -2.0289526269137848, -0.1719540743163901, 0.7060660905554883, -0.7480035478099717, 0.10803639800458438, 0.8368015456560084, -0.5398560104229473, -0.09363686742962193, -1.7245614127632307, -1.1561615962226712, 1.3251435998718424, -0.06301171349649078, 1.8871000709184729, -0.13045548140964353, -0.34615819598680553, -1.3147370878520375, -0.8550327054325254, 1.1293722200174279, 1.1120478010694546, 1.2411615985025872, 0.436363696278438, -0.4085453570183543, -0.5174649338270388, 0.6847358639157233, 0.195518110370209, 0.49085497407584355, 1.05466463532716, 0.05629101238377474, 2.071854496390022, -0.6042931635249521, -0.6853498467718027, -0.0009068095686971332, -0.12956732099735038, -0.22336632400404072, -0.283396072867283, -0.6425776848050261, 0.1618564718941374, -0.7210807710831003, 0.8460059149541216, -0.306617857501679, 2.488109159805582, 0.14856910804556547, 1.7498181667323272, -1.0073476808783985, -1.3947093769604566, 0.26308360838099903, -0.1665680808292545, 1.522398432951192, -1.6776997614965026, 0.6735306871847314, 0.18419053161823734, 0.5200692599146426, -0.36668720771838215, -1.2832201844922588, -0.17268525629315462, -0.8518939490336926, -0.7718894615673308, 0.4294553382389916, 1.1089994531932286, 1.1726024821047942, 0.7398346113115881], \"xaxis\": \"x3\", \"y\": [0.19650022373258236, -1.9941460778502356, 0.6626376887314555, -0.958327863418552, 0.4231241777990569, 0.7113678238984446, -0.09165347023463194, -1.3149597471701424, -1.3933206032441685, -0.5529960919904516, -1.232042488497158, 1.0661400300358617, 0.36496152149907735, 0.12566632897650376, -0.4154383457317713, 1.1145779823073672, 1.512565868621305, 0.1794830651348587, 1.0343723418421487, 2.7907567772555297, 0.2998865268939037, -1.1158316023870536, -0.027602812843491573, -0.5298883887261153, 1.0290623615134162, 0.9827394564213197, -0.4455813047158554, 0.2338813758270774, -0.02285208244483196, -0.8967539023754664, -1.4758756049165747, -0.8947207457648796, -0.07309580354724263, -0.7845742580993053, 0.23876895288454827, 0.9742961492985625, -0.033916672684154374, 1.1196298171192591, -0.535731539283069, -0.3906973132685843, -0.8424290459415693, 0.2792280254608758, -0.9286349945862502, -1.5063893605812446, 1.8743143044827653, -0.651912761220479, -0.6218461636563343, 0.835257171977975, -0.6112242584714845, 0.3039624479311827, -1.4468041377380885, 1.311224077205215, -0.7808300388541097, -0.7560423271045358, -0.5005366745377746, -0.8309774142243554, 0.3162223512088091, -0.002041007732976193, -0.6113995211974071, -0.7775783612568149, -1.2475028820394487, 1.217988302202804, -2.035103126115838, 1.0642766469020115, 0.20548427026076269, 1.2143492963512488, -0.2852927776860206, 1.124432516025142, 1.6347521744859779, -1.7834783009007091, 0.2841397399808306, -0.2089012383694685, 0.16030754969303934, 0.36365439104045916, 1.19666648962708, 1.0687355273258576, 1.3397200048714657, -1.4253637092798235, -0.11768531861787762, 1.093744468440918, -0.636974215744073, -0.3613674535797206, 2.053369552369878, 0.7116839450439921, 0.21270413234870125, -0.7903526585716255, -0.5880588643865717, 0.3927540327176958, 1.006657100212194, 0.4213663847261615, 0.19051498346579346, -0.03139508418786326, -0.7817689753853478, 0.11699032841973789, 0.9873789930068373, 0.3593178489481021, 0.19807751375431895, 0.16904863471663228, -0.8675517348746863, 1.0632008929683778], \"yaxis\": \"y3\"}, {\"line\": {\"color\": \"rgba(128, 128, 128, 1.0)\", \"dash\": \"solid\", \"shape\": \"linear\", \"width\": 1.3}, \"marker\": {\"size\": 2, \"symbol\": \"circle\"}, \"mode\": \"markers\", \"name\": \"A\", \"text\": \"\", \"type\": \"scatter\", \"x\": [-0.505183837528164, -0.0276329219801729, -0.9063075245742348, 0.19451494584850162, 0.44901830076031013, -2.007703338660613, -0.1297734677004214, 0.9278871126076236, 0.2262394703311532, 1.7987183107730271, 1.5646802438302365, -0.7462365845788629, 0.08568229363463313, -0.18592884003455212, 1.689056586530158, -0.04284530382005643, 1.558350099904935, 0.5048452086815636, 0.5137112673569676, 2.090585346251317, 0.8660329992889156, -1.098023318888969, -0.14996271561242672, 0.11185457887145386, 1.086802812279443, -0.4624890992824662, -1.355953933628624, -0.7820390303836555, -1.3773935469011958, 0.4083286329725384, -0.14080901705025084, -0.4502111210451887, -0.004223835712109334, 0.748127230155246, 0.7936355298110129, 1.4838053627725512, 0.2067669984246998, 0.7771102339809596, 1.3804578000154384, 0.8201211239253432, -1.351085749813894, -1.4133365180460378, -0.6115690849479227, -0.8878336842883038, -0.08424627838717429, 0.9138469282694803, -1.0246405899433415, -0.8424777802141452, 0.8282483419632345, -1.2046591639446385, 0.3712505968905831, -0.6686622801935974, -0.9275466867602205, -0.8302902757272163, -1.3438834821775725, -0.6166413257716978, 0.3141640162386474, -0.05075064310173611, 0.7350294724082517, 0.06218334613367416, -2.194951395344034, -1.1179842037676107, -0.12177572734257305, 0.6429150116102603, -0.98207877416493, 0.39046557417975947, -0.7329755436359863, -2.667276213857281, 1.3664013700856121, 0.6764338886337651, -1.0480130896248643, 0.9613367285215236, 0.42750990402040934, -0.29709998383450853, 0.2835914692290397, 0.42591860335936105, 0.01844044587431985, -0.4148182824242851, 0.38671775577926304, -1.465722489216768, 1.060921112651931, -0.26342549483741046, -0.2640785213362949, 0.888097724042476, 0.2632089279727065, -0.5520278114936636, -0.27146734538056994, -0.18449113710418427, 1.2564667521349653, 0.6942329857010153, -0.3130156423041538, 0.806609936012424, -0.020201071164758166, 2.274636494169897, -0.0748684818098725, -1.8140994778789923, -0.22648946000572145, -0.8886647680304275, 0.8289382664456802, 0.04030063947334295], \"xaxis\": \"x4\", \"y\": [0.19650022373258236, -1.9941460778502356, 0.6626376887314555, -0.958327863418552, 0.4231241777990569, 0.7113678238984446, -0.09165347023463194, -1.3149597471701424, -1.3933206032441685, -0.5529960919904516, -1.232042488497158, 1.0661400300358617, 0.36496152149907735, 0.12566632897650376, -0.4154383457317713, 1.1145779823073672, 1.512565868621305, 0.1794830651348587, 1.0343723418421487, 2.7907567772555297, 0.2998865268939037, -1.1158316023870536, -0.027602812843491573, -0.5298883887261153, 1.0290623615134162, 0.9827394564213197, -0.4455813047158554, 0.2338813758270774, -0.02285208244483196, -0.8967539023754664, -1.4758756049165747, -0.8947207457648796, -0.07309580354724263, -0.7845742580993053, 0.23876895288454827, 0.9742961492985625, -0.033916672684154374, 1.1196298171192591, -0.535731539283069, -0.3906973132685843, -0.8424290459415693, 0.2792280254608758, -0.9286349945862502, -1.5063893605812446, 1.8743143044827653, -0.651912761220479, -0.6218461636563343, 0.835257171977975, -0.6112242584714845, 0.3039624479311827, -1.4468041377380885, 1.311224077205215, -0.7808300388541097, -0.7560423271045358, -0.5005366745377746, -0.8309774142243554, 0.3162223512088091, -0.002041007732976193, -0.6113995211974071, -0.7775783612568149, -1.2475028820394487, 1.217988302202804, -2.035103126115838, 1.0642766469020115, 0.20548427026076269, 1.2143492963512488, -0.2852927776860206, 1.124432516025142, 1.6347521744859779, -1.7834783009007091, 0.2841397399808306, -0.2089012383694685, 0.16030754969303934, 0.36365439104045916, 1.19666648962708, 1.0687355273258576, 1.3397200048714657, -1.4253637092798235, -0.11768531861787762, 1.093744468440918, -0.636974215744073, -0.3613674535797206, 2.053369552369878, 0.7116839450439921, 0.21270413234870125, -0.7903526585716255, -0.5880588643865717, 0.3927540327176958, 1.006657100212194, 0.4213663847261615, 0.19051498346579346, -0.03139508418786326, -0.7817689753853478, 0.11699032841973789, 0.9873789930068373, 0.3593178489481021, 0.19807751375431895, 0.16904863471663228, -0.8675517348746863, 1.0632008929683778], \"yaxis\": \"y4\"}, {\"line\": {\"color\": \"rgba(128, 128, 128, 1.0)\", \"dash\": \"solid\", \"shape\": \"linear\", \"width\": 1.3}, \"marker\": {\"size\": 2, \"symbol\": \"circle\"}, \"mode\": \"markers\", \"name\": \"B\", \"text\": \"\", \"type\": \"scatter\", \"x\": [0.19650022373258236, -1.9941460778502356, 0.6626376887314555, -0.958327863418552, 0.4231241777990569, 0.7113678238984446, -0.09165347023463194, -1.3149597471701424, -1.3933206032441685, -0.5529960919904516, -1.232042488497158, 1.0661400300358617, 0.36496152149907735, 0.12566632897650376, -0.4154383457317713, 1.1145779823073672, 1.512565868621305, 0.1794830651348587, 1.0343723418421487, 2.7907567772555297, 0.2998865268939037, -1.1158316023870536, -0.027602812843491573, -0.5298883887261153, 1.0290623615134162, 0.9827394564213197, -0.4455813047158554, 0.2338813758270774, -0.02285208244483196, -0.8967539023754664, -1.4758756049165747, -0.8947207457648796, -0.07309580354724263, -0.7845742580993053, 0.23876895288454827, 0.9742961492985625, -0.033916672684154374, 1.1196298171192591, -0.535731539283069, -0.3906973132685843, -0.8424290459415693, 0.2792280254608758, -0.9286349945862502, -1.5063893605812446, 1.8743143044827653, -0.651912761220479, -0.6218461636563343, 0.835257171977975, -0.6112242584714845, 0.3039624479311827, -1.4468041377380885, 1.311224077205215, -0.7808300388541097, -0.7560423271045358, -0.5005366745377746, -0.8309774142243554, 0.3162223512088091, -0.002041007732976193, -0.6113995211974071, -0.7775783612568149, -1.2475028820394487, 1.217988302202804, -2.035103126115838, 1.0642766469020115, 0.20548427026076269, 1.2143492963512488, -0.2852927776860206, 1.124432516025142, 1.6347521744859779, -1.7834783009007091, 0.2841397399808306, -0.2089012383694685, 0.16030754969303934, 0.36365439104045916, 1.19666648962708, 1.0687355273258576, 1.3397200048714657, -1.4253637092798235, -0.11768531861787762, 1.093744468440918, -0.636974215744073, -0.3613674535797206, 2.053369552369878, 0.7116839450439921, 0.21270413234870125, -0.7903526585716255, -0.5880588643865717, 0.3927540327176958, 1.006657100212194, 0.4213663847261615, 0.19051498346579346, -0.03139508418786326, -0.7817689753853478, 0.11699032841973789, 0.9873789930068373, 0.3593178489481021, 0.19807751375431895, 0.16904863471663228, -0.8675517348746863, 1.0632008929683778], \"xaxis\": \"x5\", \"y\": [-0.7167540505755027, -0.12909041323094617, 0.22877681615439618, 0.31882194562550403, 0.4225554005693531, -1.6017150482952225, -0.2831684279736227, 0.4322828011724924, 1.255309714528344, 0.8755230396176855, -0.6831456954439784, 0.8110952397727162, -0.9166031195725972, 0.3064369207186609, -2.0490989505187236, 0.24906760614659623, 0.39402324128552113, 1.2780126859912582, -0.6505787538828152, -1.8518228676195427, -0.6746027652090811, -0.5161504692227723, 0.2675518587457653, 1.2710464229933724, 1.2807012511537221, -0.813800981946473, 0.9887296411556364, 0.34779627811844277, 1.0722640977196165, 0.6433973284268374, 0.40989450323414944, -1.4733258160007474, -0.9412466041115733, -0.10393012533579014, -0.6633454096051882, 0.015757602282605216, 1.9300001620261522, 0.3233316683803168, 1.392081529793989, 1.4443614670956944, -0.19790878795053235, -0.5544650739226349, 0.5810930100480569, -0.1905863676661684, 0.6475117163062424, -0.4221535516573303, -0.9506756238745352, -0.3235691101756691, 1.4337726924059773, -0.12164703421491174, -1.062327523237242, 0.11695727946221875, -1.007567980517339, -3.098258736419873, 1.235020540831101, 0.08921425828329375, 0.704599257819094, -1.9902654298561624, -1.3954712513866852, 0.26963792912257833, 0.24635411911346924, 1.2620128885536703, 1.1836800423064873, 1.400217743322152, -0.8679652825501485, -0.7350983986807433, -2.069993960321671, -1.282928343846692, 0.48351853758115854, 0.6112862292452989, 1.1036595971163061, -0.5462393578834953, -0.33009350560709183, -1.629830976151171, 1.1731247238933304, -0.2389716755564296, 0.10612143852848767, 0.24536861497171922, -1.3303910676401658, -1.003306043921901, -0.4633435944966815, -0.022550288796635908, -1.012648189549336, -0.7750502400724303, -0.04569054422612893, -1.2199363247358548, -0.46624047284590303, -0.018410039343196544, 0.6315535035946279, -0.6522499307304486, 1.0430884953210082, -0.22480352941851106, -0.1484017345204255, -0.17236561194123814, -1.0275961625778565, 0.819474611828162, 1.1454383327596491, -1.2813189449037186, 1.753594350607639, 0.1766289971132849], \"yaxis\": \"y5\"}, {\"histfunc\": \"count\", \"histnorm\": \"\", \"marker\": {\"color\": \"rgba(55, 128, 191, 1.0)\", \"line\": {\"color\": \"#4D5663\", \"width\": 1.3}}, \"name\": \"B\", \"nbinsx\": 10, \"opacity\": 0.8, \"orientation\": \"v\", \"type\": \"histogram\", \"x\": [-0.7167540505755027, -0.12909041323094617, 0.22877681615439618, 0.31882194562550403, 0.4225554005693531, -1.6017150482952225, -0.2831684279736227, 0.4322828011724924, 1.255309714528344, 0.8755230396176855, -0.6831456954439784, 0.8110952397727162, -0.9166031195725972, 0.3064369207186609, -2.0490989505187236, 0.24906760614659623, 0.39402324128552113, 1.2780126859912582, -0.6505787538828152, -1.8518228676195427, -0.6746027652090811, -0.5161504692227723, 0.2675518587457653, 1.2710464229933724, 1.2807012511537221, -0.813800981946473, 0.9887296411556364, 0.34779627811844277, 1.0722640977196165, 0.6433973284268374, 0.40989450323414944, -1.4733258160007474, -0.9412466041115733, -0.10393012533579014, -0.6633454096051882, 0.015757602282605216, 1.9300001620261522, 0.3233316683803168, 1.392081529793989, 1.4443614670956944, -0.19790878795053235, -0.5544650739226349, 0.5810930100480569, -0.1905863676661684, 0.6475117163062424, -0.4221535516573303, -0.9506756238745352, -0.3235691101756691, 1.4337726924059773, -0.12164703421491174, -1.062327523237242, 0.11695727946221875, -1.007567980517339, -3.098258736419873, 1.235020540831101, 0.08921425828329375, 0.704599257819094, -1.9902654298561624, -1.3954712513866852, 0.26963792912257833, 0.24635411911346924, 1.2620128885536703, 1.1836800423064873, 1.400217743322152, -0.8679652825501485, -0.7350983986807433, -2.069993960321671, -1.282928343846692, 0.48351853758115854, 0.6112862292452989, 1.1036595971163061, -0.5462393578834953, -0.33009350560709183, -1.629830976151171, 1.1731247238933304, -0.2389716755564296, 0.10612143852848767, 0.24536861497171922, -1.3303910676401658, -1.003306043921901, -0.4633435944966815, -0.022550288796635908, -1.012648189549336, -0.7750502400724303, -0.04569054422612893, -1.2199363247358548, -0.46624047284590303, -0.018410039343196544, 0.6315535035946279, -0.6522499307304486, 1.0430884953210082, -0.22480352941851106, -0.1484017345204255, -0.17236561194123814, -1.0275961625778565, 0.819474611828162, 1.1454383327596491, -1.2813189449037186, 1.753594350607639, 0.1766289971132849], \"xaxis\": \"x6\", \"yaxis\": \"y6\"}, {\"line\": {\"color\": \"rgba(128, 128, 128, 1.0)\", \"dash\": \"solid\", \"shape\": \"linear\", \"width\": 1.3}, \"marker\": {\"size\": 2, \"symbol\": \"circle\"}, \"mode\": \"markers\", \"name\": \"B\", \"text\": \"\", \"type\": \"scatter\", \"x\": [0.20622876273106594, -1.7582658186110154, 1.4969648432620881, -0.40657867926378977, 1.1754382926242963, -1.3658457286532277, 1.7304271824807045, 0.9210670378195593, 0.018536153324841338, -1.3053265208086002, 0.8948835174263292, -0.9046451320147075, -0.6259190248888457, 1.2599386480021038, 0.013077683955397853, 0.6798722793361448, -1.558151015284966, -0.678400753157479, 0.40645450682141293, -1.7681206957487599, -1.1823300566295585, 0.12044471170225582, -0.5759437193670766, -0.4782778980130167, 0.8006787638594658, -0.3995816382995518, 0.3719799766359585, 0.45511605232163177, -0.2981312038552599, -0.3422409295806544, -1.5099816530748422, 1.5594654795670082, 0.38323229966132805, 1.7559936574220256, 0.4716137758822409, 0.41398222117028377, 0.7516244288447266, -0.8276126180427615, -0.8331636757462645, -2.0289526269137848, -0.1719540743163901, 0.7060660905554883, -0.7480035478099717, 0.10803639800458438, 0.8368015456560084, -0.5398560104229473, -0.09363686742962193, -1.7245614127632307, -1.1561615962226712, 1.3251435998718424, -0.06301171349649078, 1.8871000709184729, -0.13045548140964353, -0.34615819598680553, -1.3147370878520375, -0.8550327054325254, 1.1293722200174279, 1.1120478010694546, 1.2411615985025872, 0.436363696278438, -0.4085453570183543, -0.5174649338270388, 0.6847358639157233, 0.195518110370209, 0.49085497407584355, 1.05466463532716, 0.05629101238377474, 2.071854496390022, -0.6042931635249521, -0.6853498467718027, -0.0009068095686971332, -0.12956732099735038, -0.22336632400404072, -0.283396072867283, -0.6425776848050261, 0.1618564718941374, -0.7210807710831003, 0.8460059149541216, -0.306617857501679, 2.488109159805582, 0.14856910804556547, 1.7498181667323272, -1.0073476808783985, -1.3947093769604566, 0.26308360838099903, -0.1665680808292545, 1.522398432951192, -1.6776997614965026, 0.6735306871847314, 0.18419053161823734, 0.5200692599146426, -0.36668720771838215, -1.2832201844922588, -0.17268525629315462, -0.8518939490336926, -0.7718894615673308, 0.4294553382389916, 1.1089994531932286, 1.1726024821047942, 0.7398346113115881], \"xaxis\": \"x7\", \"y\": [-0.7167540505755027, -0.12909041323094617, 0.22877681615439618, 0.31882194562550403, 0.4225554005693531, -1.6017150482952225, -0.2831684279736227, 0.4322828011724924, 1.255309714528344, 0.8755230396176855, -0.6831456954439784, 0.8110952397727162, -0.9166031195725972, 0.3064369207186609, -2.0490989505187236, 0.24906760614659623, 0.39402324128552113, 1.2780126859912582, -0.6505787538828152, -1.8518228676195427, -0.6746027652090811, -0.5161504692227723, 0.2675518587457653, 1.2710464229933724, 1.2807012511537221, -0.813800981946473, 0.9887296411556364, 0.34779627811844277, 1.0722640977196165, 0.6433973284268374, 0.40989450323414944, -1.4733258160007474, -0.9412466041115733, -0.10393012533579014, -0.6633454096051882, 0.015757602282605216, 1.9300001620261522, 0.3233316683803168, 1.392081529793989, 1.4443614670956944, -0.19790878795053235, -0.5544650739226349, 0.5810930100480569, -0.1905863676661684, 0.6475117163062424, -0.4221535516573303, -0.9506756238745352, -0.3235691101756691, 1.4337726924059773, -0.12164703421491174, -1.062327523237242, 0.11695727946221875, -1.007567980517339, -3.098258736419873, 1.235020540831101, 0.08921425828329375, 0.704599257819094, -1.9902654298561624, -1.3954712513866852, 0.26963792912257833, 0.24635411911346924, 1.2620128885536703, 1.1836800423064873, 1.400217743322152, -0.8679652825501485, -0.7350983986807433, -2.069993960321671, -1.282928343846692, 0.48351853758115854, 0.6112862292452989, 1.1036595971163061, -0.5462393578834953, -0.33009350560709183, -1.629830976151171, 1.1731247238933304, -0.2389716755564296, 0.10612143852848767, 0.24536861497171922, -1.3303910676401658, -1.003306043921901, -0.4633435944966815, -0.022550288796635908, -1.012648189549336, -0.7750502400724303, -0.04569054422612893, -1.2199363247358548, -0.46624047284590303, -0.018410039343196544, 0.6315535035946279, -0.6522499307304486, 1.0430884953210082, -0.22480352941851106, -0.1484017345204255, -0.17236561194123814, -1.0275961625778565, 0.819474611828162, 1.1454383327596491, -1.2813189449037186, 1.753594350607639, 0.1766289971132849], \"yaxis\": \"y7\"}, {\"line\": {\"color\": \"rgba(128, 128, 128, 1.0)\", \"dash\": \"solid\", \"shape\": \"linear\", \"width\": 1.3}, \"marker\": {\"size\": 2, \"symbol\": \"circle\"}, \"mode\": \"markers\", \"name\": \"B\", \"text\": \"\", \"type\": \"scatter\", \"x\": [-0.505183837528164, -0.0276329219801729, -0.9063075245742348, 0.19451494584850162, 0.44901830076031013, -2.007703338660613, -0.1297734677004214, 0.9278871126076236, 0.2262394703311532, 1.7987183107730271, 1.5646802438302365, -0.7462365845788629, 0.08568229363463313, -0.18592884003455212, 1.689056586530158, -0.04284530382005643, 1.558350099904935, 0.5048452086815636, 0.5137112673569676, 2.090585346251317, 0.8660329992889156, -1.098023318888969, -0.14996271561242672, 0.11185457887145386, 1.086802812279443, -0.4624890992824662, -1.355953933628624, -0.7820390303836555, -1.3773935469011958, 0.4083286329725384, -0.14080901705025084, -0.4502111210451887, -0.004223835712109334, 0.748127230155246, 0.7936355298110129, 1.4838053627725512, 0.2067669984246998, 0.7771102339809596, 1.3804578000154384, 0.8201211239253432, -1.351085749813894, -1.4133365180460378, -0.6115690849479227, -0.8878336842883038, -0.08424627838717429, 0.9138469282694803, -1.0246405899433415, -0.8424777802141452, 0.8282483419632345, -1.2046591639446385, 0.3712505968905831, -0.6686622801935974, -0.9275466867602205, -0.8302902757272163, -1.3438834821775725, -0.6166413257716978, 0.3141640162386474, -0.05075064310173611, 0.7350294724082517, 0.06218334613367416, -2.194951395344034, -1.1179842037676107, -0.12177572734257305, 0.6429150116102603, -0.98207877416493, 0.39046557417975947, -0.7329755436359863, -2.667276213857281, 1.3664013700856121, 0.6764338886337651, -1.0480130896248643, 0.9613367285215236, 0.42750990402040934, -0.29709998383450853, 0.2835914692290397, 0.42591860335936105, 0.01844044587431985, -0.4148182824242851, 0.38671775577926304, -1.465722489216768, 1.060921112651931, -0.26342549483741046, -0.2640785213362949, 0.888097724042476, 0.2632089279727065, -0.5520278114936636, -0.27146734538056994, -0.18449113710418427, 1.2564667521349653, 0.6942329857010153, -0.3130156423041538, 0.806609936012424, -0.020201071164758166, 2.274636494169897, -0.0748684818098725, -1.8140994778789923, -0.22648946000572145, -0.8886647680304275, 0.8289382664456802, 0.04030063947334295], \"xaxis\": \"x8\", \"y\": [-0.7167540505755027, -0.12909041323094617, 0.22877681615439618, 0.31882194562550403, 0.4225554005693531, -1.6017150482952225, -0.2831684279736227, 0.4322828011724924, 1.255309714528344, 0.8755230396176855, -0.6831456954439784, 0.8110952397727162, -0.9166031195725972, 0.3064369207186609, -2.0490989505187236, 0.24906760614659623, 0.39402324128552113, 1.2780126859912582, -0.6505787538828152, -1.8518228676195427, -0.6746027652090811, -0.5161504692227723, 0.2675518587457653, 1.2710464229933724, 1.2807012511537221, -0.813800981946473, 0.9887296411556364, 0.34779627811844277, 1.0722640977196165, 0.6433973284268374, 0.40989450323414944, -1.4733258160007474, -0.9412466041115733, -0.10393012533579014, -0.6633454096051882, 0.015757602282605216, 1.9300001620261522, 0.3233316683803168, 1.392081529793989, 1.4443614670956944, -0.19790878795053235, -0.5544650739226349, 0.5810930100480569, -0.1905863676661684, 0.6475117163062424, -0.4221535516573303, -0.9506756238745352, -0.3235691101756691, 1.4337726924059773, -0.12164703421491174, -1.062327523237242, 0.11695727946221875, -1.007567980517339, -3.098258736419873, 1.235020540831101, 0.08921425828329375, 0.704599257819094, -1.9902654298561624, -1.3954712513866852, 0.26963792912257833, 0.24635411911346924, 1.2620128885536703, 1.1836800423064873, 1.400217743322152, -0.8679652825501485, -0.7350983986807433, -2.069993960321671, -1.282928343846692, 0.48351853758115854, 0.6112862292452989, 1.1036595971163061, -0.5462393578834953, -0.33009350560709183, -1.629830976151171, 1.1731247238933304, -0.2389716755564296, 0.10612143852848767, 0.24536861497171922, -1.3303910676401658, -1.003306043921901, -0.4633435944966815, -0.022550288796635908, -1.012648189549336, -0.7750502400724303, -0.04569054422612893, -1.2199363247358548, -0.46624047284590303, -0.018410039343196544, 0.6315535035946279, -0.6522499307304486, 1.0430884953210082, -0.22480352941851106, -0.1484017345204255, -0.17236561194123814, -1.0275961625778565, 0.819474611828162, 1.1454383327596491, -1.2813189449037186, 1.753594350607639, 0.1766289971132849], \"yaxis\": \"y8\"}, {\"line\": {\"color\": \"rgba(128, 128, 128, 1.0)\", \"dash\": \"solid\", \"shape\": \"linear\", \"width\": 1.3}, \"marker\": {\"size\": 2, \"symbol\": \"circle\"}, \"mode\": \"markers\", \"name\": \"C\", \"text\": \"\", \"type\": \"scatter\", \"x\": [0.19650022373258236, -1.9941460778502356, 0.6626376887314555, -0.958327863418552, 0.4231241777990569, 0.7113678238984446, -0.09165347023463194, -1.3149597471701424, -1.3933206032441685, -0.5529960919904516, -1.232042488497158, 1.0661400300358617, 0.36496152149907735, 0.12566632897650376, -0.4154383457317713, 1.1145779823073672, 1.512565868621305, 0.1794830651348587, 1.0343723418421487, 2.7907567772555297, 0.2998865268939037, -1.1158316023870536, -0.027602812843491573, -0.5298883887261153, 1.0290623615134162, 0.9827394564213197, -0.4455813047158554, 0.2338813758270774, -0.02285208244483196, -0.8967539023754664, -1.4758756049165747, -0.8947207457648796, -0.07309580354724263, -0.7845742580993053, 0.23876895288454827, 0.9742961492985625, -0.033916672684154374, 1.1196298171192591, -0.535731539283069, -0.3906973132685843, -0.8424290459415693, 0.2792280254608758, -0.9286349945862502, -1.5063893605812446, 1.8743143044827653, -0.651912761220479, -0.6218461636563343, 0.835257171977975, -0.6112242584714845, 0.3039624479311827, -1.4468041377380885, 1.311224077205215, -0.7808300388541097, -0.7560423271045358, -0.5005366745377746, -0.8309774142243554, 0.3162223512088091, -0.002041007732976193, -0.6113995211974071, -0.7775783612568149, -1.2475028820394487, 1.217988302202804, -2.035103126115838, 1.0642766469020115, 0.20548427026076269, 1.2143492963512488, -0.2852927776860206, 1.124432516025142, 1.6347521744859779, -1.7834783009007091, 0.2841397399808306, -0.2089012383694685, 0.16030754969303934, 0.36365439104045916, 1.19666648962708, 1.0687355273258576, 1.3397200048714657, -1.4253637092798235, -0.11768531861787762, 1.093744468440918, -0.636974215744073, -0.3613674535797206, 2.053369552369878, 0.7116839450439921, 0.21270413234870125, -0.7903526585716255, -0.5880588643865717, 0.3927540327176958, 1.006657100212194, 0.4213663847261615, 0.19051498346579346, -0.03139508418786326, -0.7817689753853478, 0.11699032841973789, 0.9873789930068373, 0.3593178489481021, 0.19807751375431895, 0.16904863471663228, -0.8675517348746863, 1.0632008929683778], \"xaxis\": \"x9\", \"y\": [0.20622876273106594, -1.7582658186110154, 1.4969648432620881, -0.40657867926378977, 1.1754382926242963, -1.3658457286532277, 1.7304271824807045, 0.9210670378195593, 0.018536153324841338, -1.3053265208086002, 0.8948835174263292, -0.9046451320147075, -0.6259190248888457, 1.2599386480021038, 0.013077683955397853, 0.6798722793361448, -1.558151015284966, -0.678400753157479, 0.40645450682141293, -1.7681206957487599, -1.1823300566295585, 0.12044471170225582, -0.5759437193670766, -0.4782778980130167, 0.8006787638594658, -0.3995816382995518, 0.3719799766359585, 0.45511605232163177, -0.2981312038552599, -0.3422409295806544, -1.5099816530748422, 1.5594654795670082, 0.38323229966132805, 1.7559936574220256, 0.4716137758822409, 0.41398222117028377, 0.7516244288447266, -0.8276126180427615, -0.8331636757462645, -2.0289526269137848, -0.1719540743163901, 0.7060660905554883, -0.7480035478099717, 0.10803639800458438, 0.8368015456560084, -0.5398560104229473, -0.09363686742962193, -1.7245614127632307, -1.1561615962226712, 1.3251435998718424, -0.06301171349649078, 1.8871000709184729, -0.13045548140964353, -0.34615819598680553, -1.3147370878520375, -0.8550327054325254, 1.1293722200174279, 1.1120478010694546, 1.2411615985025872, 0.436363696278438, -0.4085453570183543, -0.5174649338270388, 0.6847358639157233, 0.195518110370209, 0.49085497407584355, 1.05466463532716, 0.05629101238377474, 2.071854496390022, -0.6042931635249521, -0.6853498467718027, -0.0009068095686971332, -0.12956732099735038, -0.22336632400404072, -0.283396072867283, -0.6425776848050261, 0.1618564718941374, -0.7210807710831003, 0.8460059149541216, -0.306617857501679, 2.488109159805582, 0.14856910804556547, 1.7498181667323272, -1.0073476808783985, -1.3947093769604566, 0.26308360838099903, -0.1665680808292545, 1.522398432951192, -1.6776997614965026, 0.6735306871847314, 0.18419053161823734, 0.5200692599146426, -0.36668720771838215, -1.2832201844922588, -0.17268525629315462, -0.8518939490336926, -0.7718894615673308, 0.4294553382389916, 1.1089994531932286, 1.1726024821047942, 0.7398346113115881], \"yaxis\": \"y9\"}, {\"line\": {\"color\": \"rgba(128, 128, 128, 1.0)\", \"dash\": \"solid\", \"shape\": \"linear\", \"width\": 1.3}, \"marker\": {\"size\": 2, \"symbol\": \"circle\"}, \"mode\": \"markers\", \"name\": \"C\", \"text\": \"\", \"type\": \"scatter\", \"x\": [-0.7167540505755027, -0.12909041323094617, 0.22877681615439618, 0.31882194562550403, 0.4225554005693531, -1.6017150482952225, -0.2831684279736227, 0.4322828011724924, 1.255309714528344, 0.8755230396176855, -0.6831456954439784, 0.8110952397727162, -0.9166031195725972, 0.3064369207186609, -2.0490989505187236, 0.24906760614659623, 0.39402324128552113, 1.2780126859912582, -0.6505787538828152, -1.8518228676195427, -0.6746027652090811, -0.5161504692227723, 0.2675518587457653, 1.2710464229933724, 1.2807012511537221, -0.813800981946473, 0.9887296411556364, 0.34779627811844277, 1.0722640977196165, 0.6433973284268374, 0.40989450323414944, -1.4733258160007474, -0.9412466041115733, -0.10393012533579014, -0.6633454096051882, 0.015757602282605216, 1.9300001620261522, 0.3233316683803168, 1.392081529793989, 1.4443614670956944, -0.19790878795053235, -0.5544650739226349, 0.5810930100480569, -0.1905863676661684, 0.6475117163062424, -0.4221535516573303, -0.9506756238745352, -0.3235691101756691, 1.4337726924059773, -0.12164703421491174, -1.062327523237242, 0.11695727946221875, -1.007567980517339, -3.098258736419873, 1.235020540831101, 0.08921425828329375, 0.704599257819094, -1.9902654298561624, -1.3954712513866852, 0.26963792912257833, 0.24635411911346924, 1.2620128885536703, 1.1836800423064873, 1.400217743322152, -0.8679652825501485, -0.7350983986807433, -2.069993960321671, -1.282928343846692, 0.48351853758115854, 0.6112862292452989, 1.1036595971163061, -0.5462393578834953, -0.33009350560709183, -1.629830976151171, 1.1731247238933304, -0.2389716755564296, 0.10612143852848767, 0.24536861497171922, -1.3303910676401658, -1.003306043921901, -0.4633435944966815, -0.022550288796635908, -1.012648189549336, -0.7750502400724303, -0.04569054422612893, -1.2199363247358548, -0.46624047284590303, -0.018410039343196544, 0.6315535035946279, -0.6522499307304486, 1.0430884953210082, -0.22480352941851106, -0.1484017345204255, -0.17236561194123814, -1.0275961625778565, 0.819474611828162, 1.1454383327596491, -1.2813189449037186, 1.753594350607639, 0.1766289971132849], \"xaxis\": \"x10\", \"y\": [0.20622876273106594, -1.7582658186110154, 1.4969648432620881, -0.40657867926378977, 1.1754382926242963, -1.3658457286532277, 1.7304271824807045, 0.9210670378195593, 0.018536153324841338, -1.3053265208086002, 0.8948835174263292, -0.9046451320147075, -0.6259190248888457, 1.2599386480021038, 0.013077683955397853, 0.6798722793361448, -1.558151015284966, -0.678400753157479, 0.40645450682141293, -1.7681206957487599, -1.1823300566295585, 0.12044471170225582, -0.5759437193670766, -0.4782778980130167, 0.8006787638594658, -0.3995816382995518, 0.3719799766359585, 0.45511605232163177, -0.2981312038552599, -0.3422409295806544, -1.5099816530748422, 1.5594654795670082, 0.38323229966132805, 1.7559936574220256, 0.4716137758822409, 0.41398222117028377, 0.7516244288447266, -0.8276126180427615, -0.8331636757462645, -2.0289526269137848, -0.1719540743163901, 0.7060660905554883, -0.7480035478099717, 0.10803639800458438, 0.8368015456560084, -0.5398560104229473, -0.09363686742962193, -1.7245614127632307, -1.1561615962226712, 1.3251435998718424, -0.06301171349649078, 1.8871000709184729, -0.13045548140964353, -0.34615819598680553, -1.3147370878520375, -0.8550327054325254, 1.1293722200174279, 1.1120478010694546, 1.2411615985025872, 0.436363696278438, -0.4085453570183543, -0.5174649338270388, 0.6847358639157233, 0.195518110370209, 0.49085497407584355, 1.05466463532716, 0.05629101238377474, 2.071854496390022, -0.6042931635249521, -0.6853498467718027, -0.0009068095686971332, -0.12956732099735038, -0.22336632400404072, -0.283396072867283, -0.6425776848050261, 0.1618564718941374, -0.7210807710831003, 0.8460059149541216, -0.306617857501679, 2.488109159805582, 0.14856910804556547, 1.7498181667323272, -1.0073476808783985, -1.3947093769604566, 0.26308360838099903, -0.1665680808292545, 1.522398432951192, -1.6776997614965026, 0.6735306871847314, 0.18419053161823734, 0.5200692599146426, -0.36668720771838215, -1.2832201844922588, -0.17268525629315462, -0.8518939490336926, -0.7718894615673308, 0.4294553382389916, 1.1089994531932286, 1.1726024821047942, 0.7398346113115881], \"yaxis\": \"y10\"}, {\"histfunc\": \"count\", \"histnorm\": \"\", \"marker\": {\"color\": \"rgba(50, 171, 96, 1.0)\", \"line\": {\"color\": \"#4D5663\", \"width\": 1.3}}, \"name\": \"C\", \"nbinsx\": 10, \"opacity\": 0.8, \"orientation\": \"v\", \"type\": \"histogram\", \"x\": [0.20622876273106594, -1.7582658186110154, 1.4969648432620881, -0.40657867926378977, 1.1754382926242963, -1.3658457286532277, 1.7304271824807045, 0.9210670378195593, 0.018536153324841338, -1.3053265208086002, 0.8948835174263292, -0.9046451320147075, -0.6259190248888457, 1.2599386480021038, 0.013077683955397853, 0.6798722793361448, -1.558151015284966, -0.678400753157479, 0.40645450682141293, -1.7681206957487599, -1.1823300566295585, 0.12044471170225582, -0.5759437193670766, -0.4782778980130167, 0.8006787638594658, -0.3995816382995518, 0.3719799766359585, 0.45511605232163177, -0.2981312038552599, -0.3422409295806544, -1.5099816530748422, 1.5594654795670082, 0.38323229966132805, 1.7559936574220256, 0.4716137758822409, 0.41398222117028377, 0.7516244288447266, -0.8276126180427615, -0.8331636757462645, -2.0289526269137848, -0.1719540743163901, 0.7060660905554883, -0.7480035478099717, 0.10803639800458438, 0.8368015456560084, -0.5398560104229473, -0.09363686742962193, -1.7245614127632307, -1.1561615962226712, 1.3251435998718424, -0.06301171349649078, 1.8871000709184729, -0.13045548140964353, -0.34615819598680553, -1.3147370878520375, -0.8550327054325254, 1.1293722200174279, 1.1120478010694546, 1.2411615985025872, 0.436363696278438, -0.4085453570183543, -0.5174649338270388, 0.6847358639157233, 0.195518110370209, 0.49085497407584355, 1.05466463532716, 0.05629101238377474, 2.071854496390022, -0.6042931635249521, -0.6853498467718027, -0.0009068095686971332, -0.12956732099735038, -0.22336632400404072, -0.283396072867283, -0.6425776848050261, 0.1618564718941374, -0.7210807710831003, 0.8460059149541216, -0.306617857501679, 2.488109159805582, 0.14856910804556547, 1.7498181667323272, -1.0073476808783985, -1.3947093769604566, 0.26308360838099903, -0.1665680808292545, 1.522398432951192, -1.6776997614965026, 0.6735306871847314, 0.18419053161823734, 0.5200692599146426, -0.36668720771838215, -1.2832201844922588, -0.17268525629315462, -0.8518939490336926, -0.7718894615673308, 0.4294553382389916, 1.1089994531932286, 1.1726024821047942, 0.7398346113115881], \"xaxis\": \"x11\", \"yaxis\": \"y11\"}, {\"line\": {\"color\": \"rgba(128, 128, 128, 1.0)\", \"dash\": \"solid\", \"shape\": \"linear\", \"width\": 1.3}, \"marker\": {\"size\": 2, \"symbol\": \"circle\"}, \"mode\": \"markers\", \"name\": \"C\", \"text\": \"\", \"type\": \"scatter\", \"x\": [-0.505183837528164, -0.0276329219801729, -0.9063075245742348, 0.19451494584850162, 0.44901830076031013, -2.007703338660613, -0.1297734677004214, 0.9278871126076236, 0.2262394703311532, 1.7987183107730271, 1.5646802438302365, -0.7462365845788629, 0.08568229363463313, -0.18592884003455212, 1.689056586530158, -0.04284530382005643, 1.558350099904935, 0.5048452086815636, 0.5137112673569676, 2.090585346251317, 0.8660329992889156, -1.098023318888969, -0.14996271561242672, 0.11185457887145386, 1.086802812279443, -0.4624890992824662, -1.355953933628624, -0.7820390303836555, -1.3773935469011958, 0.4083286329725384, -0.14080901705025084, -0.4502111210451887, -0.004223835712109334, 0.748127230155246, 0.7936355298110129, 1.4838053627725512, 0.2067669984246998, 0.7771102339809596, 1.3804578000154384, 0.8201211239253432, -1.351085749813894, -1.4133365180460378, -0.6115690849479227, -0.8878336842883038, -0.08424627838717429, 0.9138469282694803, -1.0246405899433415, -0.8424777802141452, 0.8282483419632345, -1.2046591639446385, 0.3712505968905831, -0.6686622801935974, -0.9275466867602205, -0.8302902757272163, -1.3438834821775725, -0.6166413257716978, 0.3141640162386474, -0.05075064310173611, 0.7350294724082517, 0.06218334613367416, -2.194951395344034, -1.1179842037676107, -0.12177572734257305, 0.6429150116102603, -0.98207877416493, 0.39046557417975947, -0.7329755436359863, -2.667276213857281, 1.3664013700856121, 0.6764338886337651, -1.0480130896248643, 0.9613367285215236, 0.42750990402040934, -0.29709998383450853, 0.2835914692290397, 0.42591860335936105, 0.01844044587431985, -0.4148182824242851, 0.38671775577926304, -1.465722489216768, 1.060921112651931, -0.26342549483741046, -0.2640785213362949, 0.888097724042476, 0.2632089279727065, -0.5520278114936636, -0.27146734538056994, -0.18449113710418427, 1.2564667521349653, 0.6942329857010153, -0.3130156423041538, 0.806609936012424, -0.020201071164758166, 2.274636494169897, -0.0748684818098725, -1.8140994778789923, -0.22648946000572145, -0.8886647680304275, 0.8289382664456802, 0.04030063947334295], \"xaxis\": \"x12\", \"y\": [0.20622876273106594, -1.7582658186110154, 1.4969648432620881, -0.40657867926378977, 1.1754382926242963, -1.3658457286532277, 1.7304271824807045, 0.9210670378195593, 0.018536153324841338, -1.3053265208086002, 0.8948835174263292, -0.9046451320147075, -0.6259190248888457, 1.2599386480021038, 0.013077683955397853, 0.6798722793361448, -1.558151015284966, -0.678400753157479, 0.40645450682141293, -1.7681206957487599, -1.1823300566295585, 0.12044471170225582, -0.5759437193670766, -0.4782778980130167, 0.8006787638594658, -0.3995816382995518, 0.3719799766359585, 0.45511605232163177, -0.2981312038552599, -0.3422409295806544, -1.5099816530748422, 1.5594654795670082, 0.38323229966132805, 1.7559936574220256, 0.4716137758822409, 0.41398222117028377, 0.7516244288447266, -0.8276126180427615, -0.8331636757462645, -2.0289526269137848, -0.1719540743163901, 0.7060660905554883, -0.7480035478099717, 0.10803639800458438, 0.8368015456560084, -0.5398560104229473, -0.09363686742962193, -1.7245614127632307, -1.1561615962226712, 1.3251435998718424, -0.06301171349649078, 1.8871000709184729, -0.13045548140964353, -0.34615819598680553, -1.3147370878520375, -0.8550327054325254, 1.1293722200174279, 1.1120478010694546, 1.2411615985025872, 0.436363696278438, -0.4085453570183543, -0.5174649338270388, 0.6847358639157233, 0.195518110370209, 0.49085497407584355, 1.05466463532716, 0.05629101238377474, 2.071854496390022, -0.6042931635249521, -0.6853498467718027, -0.0009068095686971332, -0.12956732099735038, -0.22336632400404072, -0.283396072867283, -0.6425776848050261, 0.1618564718941374, -0.7210807710831003, 0.8460059149541216, -0.306617857501679, 2.488109159805582, 0.14856910804556547, 1.7498181667323272, -1.0073476808783985, -1.3947093769604566, 0.26308360838099903, -0.1665680808292545, 1.522398432951192, -1.6776997614965026, 0.6735306871847314, 0.18419053161823734, 0.5200692599146426, -0.36668720771838215, -1.2832201844922588, -0.17268525629315462, -0.8518939490336926, -0.7718894615673308, 0.4294553382389916, 1.1089994531932286, 1.1726024821047942, 0.7398346113115881], \"yaxis\": \"y12\"}, {\"line\": {\"color\": \"rgba(128, 128, 128, 1.0)\", \"dash\": \"solid\", \"shape\": \"linear\", \"width\": 1.3}, \"marker\": {\"size\": 2, \"symbol\": \"circle\"}, \"mode\": \"markers\", \"name\": \"D\", \"text\": \"\", \"type\": \"scatter\", \"x\": [0.19650022373258236, -1.9941460778502356, 0.6626376887314555, -0.958327863418552, 0.4231241777990569, 0.7113678238984446, -0.09165347023463194, -1.3149597471701424, -1.3933206032441685, -0.5529960919904516, -1.232042488497158, 1.0661400300358617, 0.36496152149907735, 0.12566632897650376, -0.4154383457317713, 1.1145779823073672, 1.512565868621305, 0.1794830651348587, 1.0343723418421487, 2.7907567772555297, 0.2998865268939037, -1.1158316023870536, -0.027602812843491573, -0.5298883887261153, 1.0290623615134162, 0.9827394564213197, -0.4455813047158554, 0.2338813758270774, -0.02285208244483196, -0.8967539023754664, -1.4758756049165747, -0.8947207457648796, -0.07309580354724263, -0.7845742580993053, 0.23876895288454827, 0.9742961492985625, -0.033916672684154374, 1.1196298171192591, -0.535731539283069, -0.3906973132685843, -0.8424290459415693, 0.2792280254608758, -0.9286349945862502, -1.5063893605812446, 1.8743143044827653, -0.651912761220479, -0.6218461636563343, 0.835257171977975, -0.6112242584714845, 0.3039624479311827, -1.4468041377380885, 1.311224077205215, -0.7808300388541097, -0.7560423271045358, -0.5005366745377746, -0.8309774142243554, 0.3162223512088091, -0.002041007732976193, -0.6113995211974071, -0.7775783612568149, -1.2475028820394487, 1.217988302202804, -2.035103126115838, 1.0642766469020115, 0.20548427026076269, 1.2143492963512488, -0.2852927776860206, 1.124432516025142, 1.6347521744859779, -1.7834783009007091, 0.2841397399808306, -0.2089012383694685, 0.16030754969303934, 0.36365439104045916, 1.19666648962708, 1.0687355273258576, 1.3397200048714657, -1.4253637092798235, -0.11768531861787762, 1.093744468440918, -0.636974215744073, -0.3613674535797206, 2.053369552369878, 0.7116839450439921, 0.21270413234870125, -0.7903526585716255, -0.5880588643865717, 0.3927540327176958, 1.006657100212194, 0.4213663847261615, 0.19051498346579346, -0.03139508418786326, -0.7817689753853478, 0.11699032841973789, 0.9873789930068373, 0.3593178489481021, 0.19807751375431895, 0.16904863471663228, -0.8675517348746863, 1.0632008929683778], \"xaxis\": \"x13\", \"y\": [-0.505183837528164, -0.0276329219801729, -0.9063075245742348, 0.19451494584850162, 0.44901830076031013, -2.007703338660613, -0.1297734677004214, 0.9278871126076236, 0.2262394703311532, 1.7987183107730271, 1.5646802438302365, -0.7462365845788629, 0.08568229363463313, -0.18592884003455212, 1.689056586530158, -0.04284530382005643, 1.558350099904935, 0.5048452086815636, 0.5137112673569676, 2.090585346251317, 0.8660329992889156, -1.098023318888969, -0.14996271561242672, 0.11185457887145386, 1.086802812279443, -0.4624890992824662, -1.355953933628624, -0.7820390303836555, -1.3773935469011958, 0.4083286329725384, -0.14080901705025084, -0.4502111210451887, -0.004223835712109334, 0.748127230155246, 0.7936355298110129, 1.4838053627725512, 0.2067669984246998, 0.7771102339809596, 1.3804578000154384, 0.8201211239253432, -1.351085749813894, -1.4133365180460378, -0.6115690849479227, -0.8878336842883038, -0.08424627838717429, 0.9138469282694803, -1.0246405899433415, -0.8424777802141452, 0.8282483419632345, -1.2046591639446385, 0.3712505968905831, -0.6686622801935974, -0.9275466867602205, -0.8302902757272163, -1.3438834821775725, -0.6166413257716978, 0.3141640162386474, -0.05075064310173611, 0.7350294724082517, 0.06218334613367416, -2.194951395344034, -1.1179842037676107, -0.12177572734257305, 0.6429150116102603, -0.98207877416493, 0.39046557417975947, -0.7329755436359863, -2.667276213857281, 1.3664013700856121, 0.6764338886337651, -1.0480130896248643, 0.9613367285215236, 0.42750990402040934, -0.29709998383450853, 0.2835914692290397, 0.42591860335936105, 0.01844044587431985, -0.4148182824242851, 0.38671775577926304, -1.465722489216768, 1.060921112651931, -0.26342549483741046, -0.2640785213362949, 0.888097724042476, 0.2632089279727065, -0.5520278114936636, -0.27146734538056994, -0.18449113710418427, 1.2564667521349653, 0.6942329857010153, -0.3130156423041538, 0.806609936012424, -0.020201071164758166, 2.274636494169897, -0.0748684818098725, -1.8140994778789923, -0.22648946000572145, -0.8886647680304275, 0.8289382664456802, 0.04030063947334295], \"yaxis\": \"y13\"}, {\"line\": {\"color\": \"rgba(128, 128, 128, 1.0)\", \"dash\": \"solid\", \"shape\": \"linear\", \"width\": 1.3}, \"marker\": {\"size\": 2, \"symbol\": \"circle\"}, \"mode\": \"markers\", \"name\": \"D\", \"text\": \"\", \"type\": \"scatter\", \"x\": [-0.7167540505755027, -0.12909041323094617, 0.22877681615439618, 0.31882194562550403, 0.4225554005693531, -1.6017150482952225, -0.2831684279736227, 0.4322828011724924, 1.255309714528344, 0.8755230396176855, -0.6831456954439784, 0.8110952397727162, -0.9166031195725972, 0.3064369207186609, -2.0490989505187236, 0.24906760614659623, 0.39402324128552113, 1.2780126859912582, -0.6505787538828152, -1.8518228676195427, -0.6746027652090811, -0.5161504692227723, 0.2675518587457653, 1.2710464229933724, 1.2807012511537221, -0.813800981946473, 0.9887296411556364, 0.34779627811844277, 1.0722640977196165, 0.6433973284268374, 0.40989450323414944, -1.4733258160007474, -0.9412466041115733, -0.10393012533579014, -0.6633454096051882, 0.015757602282605216, 1.9300001620261522, 0.3233316683803168, 1.392081529793989, 1.4443614670956944, -0.19790878795053235, -0.5544650739226349, 0.5810930100480569, -0.1905863676661684, 0.6475117163062424, -0.4221535516573303, -0.9506756238745352, -0.3235691101756691, 1.4337726924059773, -0.12164703421491174, -1.062327523237242, 0.11695727946221875, -1.007567980517339, -3.098258736419873, 1.235020540831101, 0.08921425828329375, 0.704599257819094, -1.9902654298561624, -1.3954712513866852, 0.26963792912257833, 0.24635411911346924, 1.2620128885536703, 1.1836800423064873, 1.400217743322152, -0.8679652825501485, -0.7350983986807433, -2.069993960321671, -1.282928343846692, 0.48351853758115854, 0.6112862292452989, 1.1036595971163061, -0.5462393578834953, -0.33009350560709183, -1.629830976151171, 1.1731247238933304, -0.2389716755564296, 0.10612143852848767, 0.24536861497171922, -1.3303910676401658, -1.003306043921901, -0.4633435944966815, -0.022550288796635908, -1.012648189549336, -0.7750502400724303, -0.04569054422612893, -1.2199363247358548, -0.46624047284590303, -0.018410039343196544, 0.6315535035946279, -0.6522499307304486, 1.0430884953210082, -0.22480352941851106, -0.1484017345204255, -0.17236561194123814, -1.0275961625778565, 0.819474611828162, 1.1454383327596491, -1.2813189449037186, 1.753594350607639, 0.1766289971132849], \"xaxis\": \"x14\", \"y\": [-0.505183837528164, -0.0276329219801729, -0.9063075245742348, 0.19451494584850162, 0.44901830076031013, -2.007703338660613, -0.1297734677004214, 0.9278871126076236, 0.2262394703311532, 1.7987183107730271, 1.5646802438302365, -0.7462365845788629, 0.08568229363463313, -0.18592884003455212, 1.689056586530158, -0.04284530382005643, 1.558350099904935, 0.5048452086815636, 0.5137112673569676, 2.090585346251317, 0.8660329992889156, -1.098023318888969, -0.14996271561242672, 0.11185457887145386, 1.086802812279443, -0.4624890992824662, -1.355953933628624, -0.7820390303836555, -1.3773935469011958, 0.4083286329725384, -0.14080901705025084, -0.4502111210451887, -0.004223835712109334, 0.748127230155246, 0.7936355298110129, 1.4838053627725512, 0.2067669984246998, 0.7771102339809596, 1.3804578000154384, 0.8201211239253432, -1.351085749813894, -1.4133365180460378, -0.6115690849479227, -0.8878336842883038, -0.08424627838717429, 0.9138469282694803, -1.0246405899433415, -0.8424777802141452, 0.8282483419632345, -1.2046591639446385, 0.3712505968905831, -0.6686622801935974, -0.9275466867602205, -0.8302902757272163, -1.3438834821775725, -0.6166413257716978, 0.3141640162386474, -0.05075064310173611, 0.7350294724082517, 0.06218334613367416, -2.194951395344034, -1.1179842037676107, -0.12177572734257305, 0.6429150116102603, -0.98207877416493, 0.39046557417975947, -0.7329755436359863, -2.667276213857281, 1.3664013700856121, 0.6764338886337651, -1.0480130896248643, 0.9613367285215236, 0.42750990402040934, -0.29709998383450853, 0.2835914692290397, 0.42591860335936105, 0.01844044587431985, -0.4148182824242851, 0.38671775577926304, -1.465722489216768, 1.060921112651931, -0.26342549483741046, -0.2640785213362949, 0.888097724042476, 0.2632089279727065, -0.5520278114936636, -0.27146734538056994, -0.18449113710418427, 1.2564667521349653, 0.6942329857010153, -0.3130156423041538, 0.806609936012424, -0.020201071164758166, 2.274636494169897, -0.0748684818098725, -1.8140994778789923, -0.22648946000572145, -0.8886647680304275, 0.8289382664456802, 0.04030063947334295], \"yaxis\": \"y14\"}, {\"line\": {\"color\": \"rgba(128, 128, 128, 1.0)\", \"dash\": \"solid\", \"shape\": \"linear\", \"width\": 1.3}, \"marker\": {\"size\": 2, \"symbol\": \"circle\"}, \"mode\": \"markers\", \"name\": \"D\", \"text\": \"\", \"type\": \"scatter\", \"x\": [0.20622876273106594, -1.7582658186110154, 1.4969648432620881, -0.40657867926378977, 1.1754382926242963, -1.3658457286532277, 1.7304271824807045, 0.9210670378195593, 0.018536153324841338, -1.3053265208086002, 0.8948835174263292, -0.9046451320147075, -0.6259190248888457, 1.2599386480021038, 0.013077683955397853, 0.6798722793361448, -1.558151015284966, -0.678400753157479, 0.40645450682141293, -1.7681206957487599, -1.1823300566295585, 0.12044471170225582, -0.5759437193670766, -0.4782778980130167, 0.8006787638594658, -0.3995816382995518, 0.3719799766359585, 0.45511605232163177, -0.2981312038552599, -0.3422409295806544, -1.5099816530748422, 1.5594654795670082, 0.38323229966132805, 1.7559936574220256, 0.4716137758822409, 0.41398222117028377, 0.7516244288447266, -0.8276126180427615, -0.8331636757462645, -2.0289526269137848, -0.1719540743163901, 0.7060660905554883, -0.7480035478099717, 0.10803639800458438, 0.8368015456560084, -0.5398560104229473, -0.09363686742962193, -1.7245614127632307, -1.1561615962226712, 1.3251435998718424, -0.06301171349649078, 1.8871000709184729, -0.13045548140964353, -0.34615819598680553, -1.3147370878520375, -0.8550327054325254, 1.1293722200174279, 1.1120478010694546, 1.2411615985025872, 0.436363696278438, -0.4085453570183543, -0.5174649338270388, 0.6847358639157233, 0.195518110370209, 0.49085497407584355, 1.05466463532716, 0.05629101238377474, 2.071854496390022, -0.6042931635249521, -0.6853498467718027, -0.0009068095686971332, -0.12956732099735038, -0.22336632400404072, -0.283396072867283, -0.6425776848050261, 0.1618564718941374, -0.7210807710831003, 0.8460059149541216, -0.306617857501679, 2.488109159805582, 0.14856910804556547, 1.7498181667323272, -1.0073476808783985, -1.3947093769604566, 0.26308360838099903, -0.1665680808292545, 1.522398432951192, -1.6776997614965026, 0.6735306871847314, 0.18419053161823734, 0.5200692599146426, -0.36668720771838215, -1.2832201844922588, -0.17268525629315462, -0.8518939490336926, -0.7718894615673308, 0.4294553382389916, 1.1089994531932286, 1.1726024821047942, 0.7398346113115881], \"xaxis\": \"x15\", \"y\": [-0.505183837528164, -0.0276329219801729, -0.9063075245742348, 0.19451494584850162, 0.44901830076031013, -2.007703338660613, -0.1297734677004214, 0.9278871126076236, 0.2262394703311532, 1.7987183107730271, 1.5646802438302365, -0.7462365845788629, 0.08568229363463313, -0.18592884003455212, 1.689056586530158, -0.04284530382005643, 1.558350099904935, 0.5048452086815636, 0.5137112673569676, 2.090585346251317, 0.8660329992889156, -1.098023318888969, -0.14996271561242672, 0.11185457887145386, 1.086802812279443, -0.4624890992824662, -1.355953933628624, -0.7820390303836555, -1.3773935469011958, 0.4083286329725384, -0.14080901705025084, -0.4502111210451887, -0.004223835712109334, 0.748127230155246, 0.7936355298110129, 1.4838053627725512, 0.2067669984246998, 0.7771102339809596, 1.3804578000154384, 0.8201211239253432, -1.351085749813894, -1.4133365180460378, -0.6115690849479227, -0.8878336842883038, -0.08424627838717429, 0.9138469282694803, -1.0246405899433415, -0.8424777802141452, 0.8282483419632345, -1.2046591639446385, 0.3712505968905831, -0.6686622801935974, -0.9275466867602205, -0.8302902757272163, -1.3438834821775725, -0.6166413257716978, 0.3141640162386474, -0.05075064310173611, 0.7350294724082517, 0.06218334613367416, -2.194951395344034, -1.1179842037676107, -0.12177572734257305, 0.6429150116102603, -0.98207877416493, 0.39046557417975947, -0.7329755436359863, -2.667276213857281, 1.3664013700856121, 0.6764338886337651, -1.0480130896248643, 0.9613367285215236, 0.42750990402040934, -0.29709998383450853, 0.2835914692290397, 0.42591860335936105, 0.01844044587431985, -0.4148182824242851, 0.38671775577926304, -1.465722489216768, 1.060921112651931, -0.26342549483741046, -0.2640785213362949, 0.888097724042476, 0.2632089279727065, -0.5520278114936636, -0.27146734538056994, -0.18449113710418427, 1.2564667521349653, 0.6942329857010153, -0.3130156423041538, 0.806609936012424, -0.020201071164758166, 2.274636494169897, -0.0748684818098725, -1.8140994778789923, -0.22648946000572145, -0.8886647680304275, 0.8289382664456802, 0.04030063947334295], \"yaxis\": \"y15\"}, {\"histfunc\": \"count\", \"histnorm\": \"\", \"marker\": {\"color\": \"rgba(128, 0, 128, 1.0)\", \"line\": {\"color\": \"#4D5663\", \"width\": 1.3}}, \"name\": \"D\", \"nbinsx\": 10, \"opacity\": 0.8, \"orientation\": \"v\", \"type\": \"histogram\", \"x\": [-0.505183837528164, -0.0276329219801729, -0.9063075245742348, 0.19451494584850162, 0.44901830076031013, -2.007703338660613, -0.1297734677004214, 0.9278871126076236, 0.2262394703311532, 1.7987183107730271, 1.5646802438302365, -0.7462365845788629, 0.08568229363463313, -0.18592884003455212, 1.689056586530158, -0.04284530382005643, 1.558350099904935, 0.5048452086815636, 0.5137112673569676, 2.090585346251317, 0.8660329992889156, -1.098023318888969, -0.14996271561242672, 0.11185457887145386, 1.086802812279443, -0.4624890992824662, -1.355953933628624, -0.7820390303836555, -1.3773935469011958, 0.4083286329725384, -0.14080901705025084, -0.4502111210451887, -0.004223835712109334, 0.748127230155246, 0.7936355298110129, 1.4838053627725512, 0.2067669984246998, 0.7771102339809596, 1.3804578000154384, 0.8201211239253432, -1.351085749813894, -1.4133365180460378, -0.6115690849479227, -0.8878336842883038, -0.08424627838717429, 0.9138469282694803, -1.0246405899433415, -0.8424777802141452, 0.8282483419632345, -1.2046591639446385, 0.3712505968905831, -0.6686622801935974, -0.9275466867602205, -0.8302902757272163, -1.3438834821775725, -0.6166413257716978, 0.3141640162386474, -0.05075064310173611, 0.7350294724082517, 0.06218334613367416, -2.194951395344034, -1.1179842037676107, -0.12177572734257305, 0.6429150116102603, -0.98207877416493, 0.39046557417975947, -0.7329755436359863, -2.667276213857281, 1.3664013700856121, 0.6764338886337651, -1.0480130896248643, 0.9613367285215236, 0.42750990402040934, -0.29709998383450853, 0.2835914692290397, 0.42591860335936105, 0.01844044587431985, -0.4148182824242851, 0.38671775577926304, -1.465722489216768, 1.060921112651931, -0.26342549483741046, -0.2640785213362949, 0.888097724042476, 0.2632089279727065, -0.5520278114936636, -0.27146734538056994, -0.18449113710418427, 1.2564667521349653, 0.6942329857010153, -0.3130156423041538, 0.806609936012424, -0.020201071164758166, 2.274636494169897, -0.0748684818098725, -1.8140994778789923, -0.22648946000572145, -0.8886647680304275, 0.8289382664456802, 0.04030063947334295], \"xaxis\": \"x16\", \"yaxis\": \"y16\"}],\n",
       "                        {\"bargap\": 0.02, \"legend\": {\"bgcolor\": \"#F5F6F9\", \"font\": {\"color\": \"#4D5663\"}}, \"paper_bgcolor\": \"#F5F6F9\", \"plot_bgcolor\": \"#F5F6F9\", \"showlegend\": false, \"template\": {\"data\": {\"bar\": [{\"error_x\": {\"color\": \"#2a3f5f\"}, \"error_y\": {\"color\": \"#2a3f5f\"}, \"marker\": {\"line\": {\"color\": \"#E5ECF6\", \"width\": 0.5}}, \"type\": \"bar\"}], \"barpolar\": [{\"marker\": {\"line\": {\"color\": \"#E5ECF6\", \"width\": 0.5}}, \"type\": \"barpolar\"}], \"carpet\": [{\"aaxis\": {\"endlinecolor\": \"#2a3f5f\", \"gridcolor\": \"white\", \"linecolor\": \"white\", \"minorgridcolor\": \"white\", \"startlinecolor\": \"#2a3f5f\"}, \"baxis\": {\"endlinecolor\": \"#2a3f5f\", \"gridcolor\": \"white\", \"linecolor\": \"white\", \"minorgridcolor\": \"white\", \"startlinecolor\": \"#2a3f5f\"}, \"type\": \"carpet\"}], \"choropleth\": [{\"colorbar\": {\"outlinewidth\": 0, \"ticks\": \"\"}, \"type\": \"choropleth\"}], \"contour\": [{\"colorbar\": {\"outlinewidth\": 0, \"ticks\": \"\"}, \"colorscale\": [[0.0, \"#0d0887\"], [0.1111111111111111, \"#46039f\"], [0.2222222222222222, \"#7201a8\"], [0.3333333333333333, \"#9c179e\"], [0.4444444444444444, \"#bd3786\"], [0.5555555555555556, \"#d8576b\"], [0.6666666666666666, \"#ed7953\"], [0.7777777777777778, \"#fb9f3a\"], [0.8888888888888888, \"#fdca26\"], [1.0, \"#f0f921\"]], \"type\": \"contour\"}], \"contourcarpet\": [{\"colorbar\": {\"outlinewidth\": 0, \"ticks\": \"\"}, \"type\": \"contourcarpet\"}], \"heatmap\": [{\"colorbar\": {\"outlinewidth\": 0, \"ticks\": \"\"}, \"colorscale\": [[0.0, \"#0d0887\"], [0.1111111111111111, \"#46039f\"], [0.2222222222222222, \"#7201a8\"], [0.3333333333333333, \"#9c179e\"], [0.4444444444444444, \"#bd3786\"], [0.5555555555555556, \"#d8576b\"], [0.6666666666666666, \"#ed7953\"], [0.7777777777777778, \"#fb9f3a\"], [0.8888888888888888, \"#fdca26\"], [1.0, \"#f0f921\"]], \"type\": \"heatmap\"}], \"heatmapgl\": [{\"colorbar\": {\"outlinewidth\": 0, \"ticks\": \"\"}, \"colorscale\": [[0.0, \"#0d0887\"], [0.1111111111111111, \"#46039f\"], [0.2222222222222222, \"#7201a8\"], [0.3333333333333333, \"#9c179e\"], [0.4444444444444444, \"#bd3786\"], [0.5555555555555556, \"#d8576b\"], [0.6666666666666666, \"#ed7953\"], [0.7777777777777778, \"#fb9f3a\"], [0.8888888888888888, \"#fdca26\"], [1.0, \"#f0f921\"]], \"type\": \"heatmapgl\"}], \"histogram\": [{\"marker\": {\"colorbar\": {\"outlinewidth\": 0, \"ticks\": \"\"}}, \"type\": \"histogram\"}], \"histogram2d\": [{\"colorbar\": {\"outlinewidth\": 0, \"ticks\": \"\"}, \"colorscale\": [[0.0, \"#0d0887\"], [0.1111111111111111, \"#46039f\"], [0.2222222222222222, \"#7201a8\"], [0.3333333333333333, \"#9c179e\"], [0.4444444444444444, \"#bd3786\"], [0.5555555555555556, \"#d8576b\"], [0.6666666666666666, \"#ed7953\"], [0.7777777777777778, \"#fb9f3a\"], [0.8888888888888888, \"#fdca26\"], [1.0, \"#f0f921\"]], \"type\": \"histogram2d\"}], \"histogram2dcontour\": [{\"colorbar\": {\"outlinewidth\": 0, \"ticks\": \"\"}, \"colorscale\": [[0.0, \"#0d0887\"], [0.1111111111111111, \"#46039f\"], [0.2222222222222222, \"#7201a8\"], [0.3333333333333333, \"#9c179e\"], [0.4444444444444444, \"#bd3786\"], [0.5555555555555556, \"#d8576b\"], [0.6666666666666666, \"#ed7953\"], [0.7777777777777778, \"#fb9f3a\"], [0.8888888888888888, \"#fdca26\"], [1.0, \"#f0f921\"]], \"type\": \"histogram2dcontour\"}], \"mesh3d\": [{\"colorbar\": {\"outlinewidth\": 0, \"ticks\": \"\"}, \"type\": \"mesh3d\"}], \"parcoords\": [{\"line\": {\"colorbar\": {\"outlinewidth\": 0, \"ticks\": \"\"}}, \"type\": \"parcoords\"}], \"pie\": [{\"automargin\": true, \"type\": \"pie\"}], \"scatter\": [{\"marker\": {\"colorbar\": {\"outlinewidth\": 0, \"ticks\": \"\"}}, \"type\": \"scatter\"}], \"scatter3d\": [{\"line\": {\"colorbar\": {\"outlinewidth\": 0, \"ticks\": \"\"}}, \"marker\": {\"colorbar\": {\"outlinewidth\": 0, \"ticks\": \"\"}}, \"type\": \"scatter3d\"}], \"scattercarpet\": [{\"marker\": {\"colorbar\": {\"outlinewidth\": 0, \"ticks\": \"\"}}, \"type\": \"scattercarpet\"}], \"scattergeo\": [{\"marker\": {\"colorbar\": {\"outlinewidth\": 0, \"ticks\": \"\"}}, \"type\": \"scattergeo\"}], \"scattergl\": [{\"marker\": {\"colorbar\": {\"outlinewidth\": 0, \"ticks\": \"\"}}, \"type\": \"scattergl\"}], \"scattermapbox\": [{\"marker\": {\"colorbar\": {\"outlinewidth\": 0, \"ticks\": \"\"}}, \"type\": \"scattermapbox\"}], \"scatterpolar\": [{\"marker\": {\"colorbar\": {\"outlinewidth\": 0, \"ticks\": \"\"}}, \"type\": \"scatterpolar\"}], \"scatterpolargl\": [{\"marker\": {\"colorbar\": {\"outlinewidth\": 0, \"ticks\": \"\"}}, \"type\": \"scatterpolargl\"}], \"scatterternary\": [{\"marker\": {\"colorbar\": {\"outlinewidth\": 0, \"ticks\": \"\"}}, \"type\": \"scatterternary\"}], \"surface\": [{\"colorbar\": {\"outlinewidth\": 0, \"ticks\": \"\"}, \"colorscale\": [[0.0, \"#0d0887\"], [0.1111111111111111, \"#46039f\"], [0.2222222222222222, \"#7201a8\"], [0.3333333333333333, \"#9c179e\"], [0.4444444444444444, \"#bd3786\"], [0.5555555555555556, \"#d8576b\"], [0.6666666666666666, \"#ed7953\"], [0.7777777777777778, \"#fb9f3a\"], [0.8888888888888888, \"#fdca26\"], [1.0, \"#f0f921\"]], \"type\": \"surface\"}], \"table\": [{\"cells\": {\"fill\": {\"color\": \"#EBF0F8\"}, \"line\": {\"color\": \"white\"}}, \"header\": {\"fill\": {\"color\": \"#C8D4E3\"}, \"line\": {\"color\": \"white\"}}, \"type\": \"table\"}]}, \"layout\": {\"annotationdefaults\": {\"arrowcolor\": \"#2a3f5f\", \"arrowhead\": 0, \"arrowwidth\": 1}, \"coloraxis\": {\"colorbar\": {\"outlinewidth\": 0, \"ticks\": \"\"}}, \"colorscale\": {\"diverging\": [[0, \"#8e0152\"], [0.1, \"#c51b7d\"], [0.2, \"#de77ae\"], [0.3, \"#f1b6da\"], [0.4, \"#fde0ef\"], [0.5, \"#f7f7f7\"], [0.6, \"#e6f5d0\"], [0.7, \"#b8e186\"], [0.8, \"#7fbc41\"], [0.9, \"#4d9221\"], [1, \"#276419\"]], \"sequential\": [[0.0, \"#0d0887\"], [0.1111111111111111, \"#46039f\"], [0.2222222222222222, \"#7201a8\"], [0.3333333333333333, \"#9c179e\"], [0.4444444444444444, \"#bd3786\"], [0.5555555555555556, \"#d8576b\"], [0.6666666666666666, \"#ed7953\"], [0.7777777777777778, \"#fb9f3a\"], [0.8888888888888888, \"#fdca26\"], [1.0, \"#f0f921\"]], \"sequentialminus\": [[0.0, \"#0d0887\"], [0.1111111111111111, \"#46039f\"], [0.2222222222222222, \"#7201a8\"], [0.3333333333333333, \"#9c179e\"], [0.4444444444444444, \"#bd3786\"], [0.5555555555555556, \"#d8576b\"], [0.6666666666666666, \"#ed7953\"], [0.7777777777777778, \"#fb9f3a\"], [0.8888888888888888, \"#fdca26\"], [1.0, \"#f0f921\"]]}, \"colorway\": [\"#636efa\", \"#EF553B\", \"#00cc96\", \"#ab63fa\", \"#FFA15A\", \"#19d3f3\", \"#FF6692\", \"#B6E880\", \"#FF97FF\", \"#FECB52\"], \"font\": {\"color\": \"#2a3f5f\"}, \"geo\": {\"bgcolor\": \"white\", \"lakecolor\": \"white\", \"landcolor\": \"#E5ECF6\", \"showlakes\": true, \"showland\": true, \"subunitcolor\": \"white\"}, \"hoverlabel\": {\"align\": \"left\"}, \"hovermode\": \"closest\", \"mapbox\": {\"style\": \"light\"}, \"paper_bgcolor\": \"white\", \"plot_bgcolor\": \"#E5ECF6\", \"polar\": {\"angularaxis\": {\"gridcolor\": \"white\", \"linecolor\": \"white\", \"ticks\": \"\"}, \"bgcolor\": \"#E5ECF6\", \"radialaxis\": {\"gridcolor\": \"white\", \"linecolor\": \"white\", \"ticks\": \"\"}}, \"scene\": {\"xaxis\": {\"backgroundcolor\": \"#E5ECF6\", \"gridcolor\": \"white\", \"gridwidth\": 2, \"linecolor\": \"white\", \"showbackground\": true, \"ticks\": \"\", \"zerolinecolor\": \"white\"}, \"yaxis\": {\"backgroundcolor\": \"#E5ECF6\", \"gridcolor\": \"white\", \"gridwidth\": 2, \"linecolor\": \"white\", \"showbackground\": true, \"ticks\": \"\", \"zerolinecolor\": \"white\"}, \"zaxis\": {\"backgroundcolor\": \"#E5ECF6\", \"gridcolor\": \"white\", \"gridwidth\": 2, \"linecolor\": \"white\", \"showbackground\": true, \"ticks\": \"\", \"zerolinecolor\": \"white\"}}, \"shapedefaults\": {\"line\": {\"color\": \"#2a3f5f\"}}, \"ternary\": {\"aaxis\": {\"gridcolor\": \"white\", \"linecolor\": \"white\", \"ticks\": \"\"}, \"baxis\": {\"gridcolor\": \"white\", \"linecolor\": \"white\", \"ticks\": \"\"}, \"bgcolor\": \"#E5ECF6\", \"caxis\": {\"gridcolor\": \"white\", \"linecolor\": \"white\", \"ticks\": \"\"}}, \"title\": {\"x\": 0.05}, \"xaxis\": {\"automargin\": true, \"gridcolor\": \"white\", \"linecolor\": \"white\", \"ticks\": \"\", \"title\": {\"standoff\": 15}, \"zerolinecolor\": \"white\", \"zerolinewidth\": 2}, \"yaxis\": {\"automargin\": true, \"gridcolor\": \"white\", \"linecolor\": \"white\", \"ticks\": \"\", \"title\": {\"standoff\": 15}, \"zerolinecolor\": \"white\", \"zerolinewidth\": 2}}}, \"title\": {\"font\": {\"color\": \"#4D5663\"}}, \"xaxis\": {\"anchor\": \"y\", \"domain\": [0.0, 0.2125], \"gridcolor\": \"#E1E5ED\", \"showgrid\": false, \"tickfont\": {\"color\": \"#4D5663\"}, \"title\": {\"font\": {\"color\": \"#4D5663\"}, \"text\": \"\"}, \"zerolinecolor\": \"#E1E5ED\"}, \"xaxis10\": {\"anchor\": \"y10\", \"domain\": [0.2625, 0.475], \"gridcolor\": \"#E1E5ED\", \"showgrid\": false, \"tickfont\": {\"color\": \"#4D5663\"}, \"title\": {\"font\": {\"color\": \"#4D5663\"}, \"text\": \"\"}, \"zerolinecolor\": \"#E1E5ED\"}, \"xaxis11\": {\"anchor\": \"y11\", \"domain\": [0.525, 0.7375], \"gridcolor\": \"#E1E5ED\", \"showgrid\": false, \"tickfont\": {\"color\": \"#4D5663\"}, \"title\": {\"font\": {\"color\": \"#4D5663\"}, \"text\": \"\"}, \"zerolinecolor\": \"#E1E5ED\"}, \"xaxis12\": {\"anchor\": \"y12\", \"domain\": [0.7875, 1.0], \"gridcolor\": \"#E1E5ED\", \"showgrid\": false, \"tickfont\": {\"color\": \"#4D5663\"}, \"title\": {\"font\": {\"color\": \"#4D5663\"}, \"text\": \"\"}, \"zerolinecolor\": \"#E1E5ED\"}, \"xaxis13\": {\"anchor\": \"y13\", \"domain\": [0.0, 0.2125], \"gridcolor\": \"#E1E5ED\", \"showgrid\": false, \"tickfont\": {\"color\": \"#4D5663\"}, \"title\": {\"font\": {\"color\": \"#4D5663\"}, \"text\": \"\"}, \"zerolinecolor\": \"#E1E5ED\"}, \"xaxis14\": {\"anchor\": \"y14\", \"domain\": [0.2625, 0.475], \"gridcolor\": \"#E1E5ED\", \"showgrid\": false, \"tickfont\": {\"color\": \"#4D5663\"}, \"title\": {\"font\": {\"color\": \"#4D5663\"}, \"text\": \"\"}, \"zerolinecolor\": \"#E1E5ED\"}, \"xaxis15\": {\"anchor\": \"y15\", \"domain\": [0.525, 0.7375], \"gridcolor\": \"#E1E5ED\", \"showgrid\": false, \"tickfont\": {\"color\": \"#4D5663\"}, \"title\": {\"font\": {\"color\": \"#4D5663\"}, \"text\": \"\"}, \"zerolinecolor\": \"#E1E5ED\"}, \"xaxis16\": {\"anchor\": \"y16\", \"domain\": [0.7875, 1.0], \"gridcolor\": \"#E1E5ED\", \"showgrid\": false, \"tickfont\": {\"color\": \"#4D5663\"}, \"title\": {\"font\": {\"color\": \"#4D5663\"}, \"text\": \"\"}, \"zerolinecolor\": \"#E1E5ED\"}, \"xaxis2\": {\"anchor\": \"y2\", \"domain\": [0.2625, 0.475], \"gridcolor\": \"#E1E5ED\", \"showgrid\": false, \"tickfont\": {\"color\": \"#4D5663\"}, \"title\": {\"font\": {\"color\": \"#4D5663\"}, \"text\": \"\"}, \"zerolinecolor\": \"#E1E5ED\"}, \"xaxis3\": {\"anchor\": \"y3\", \"domain\": [0.525, 0.7375], \"gridcolor\": \"#E1E5ED\", \"showgrid\": false, \"tickfont\": {\"color\": \"#4D5663\"}, \"title\": {\"font\": {\"color\": \"#4D5663\"}, \"text\": \"\"}, \"zerolinecolor\": \"#E1E5ED\"}, \"xaxis4\": {\"anchor\": \"y4\", \"domain\": [0.7875, 1.0], \"gridcolor\": \"#E1E5ED\", \"showgrid\": false, \"tickfont\": {\"color\": \"#4D5663\"}, \"title\": {\"font\": {\"color\": \"#4D5663\"}, \"text\": \"\"}, \"zerolinecolor\": \"#E1E5ED\"}, \"xaxis5\": {\"anchor\": \"y5\", \"domain\": [0.0, 0.2125], \"gridcolor\": \"#E1E5ED\", \"showgrid\": false, \"tickfont\": {\"color\": \"#4D5663\"}, \"title\": {\"font\": {\"color\": \"#4D5663\"}, \"text\": \"\"}, \"zerolinecolor\": \"#E1E5ED\"}, \"xaxis6\": {\"anchor\": \"y6\", \"domain\": [0.2625, 0.475], \"gridcolor\": \"#E1E5ED\", \"showgrid\": false, \"tickfont\": {\"color\": \"#4D5663\"}, \"title\": {\"font\": {\"color\": \"#4D5663\"}, \"text\": \"\"}, \"zerolinecolor\": \"#E1E5ED\"}, \"xaxis7\": {\"anchor\": \"y7\", \"domain\": [0.525, 0.7375], \"gridcolor\": \"#E1E5ED\", \"showgrid\": false, \"tickfont\": {\"color\": \"#4D5663\"}, \"title\": {\"font\": {\"color\": \"#4D5663\"}, \"text\": \"\"}, \"zerolinecolor\": \"#E1E5ED\"}, \"xaxis8\": {\"anchor\": \"y8\", \"domain\": [0.7875, 1.0], \"gridcolor\": \"#E1E5ED\", \"showgrid\": false, \"tickfont\": {\"color\": \"#4D5663\"}, \"title\": {\"font\": {\"color\": \"#4D5663\"}, \"text\": \"\"}, \"zerolinecolor\": \"#E1E5ED\"}, \"xaxis9\": {\"anchor\": \"y9\", \"domain\": [0.0, 0.2125], \"gridcolor\": \"#E1E5ED\", \"showgrid\": false, \"tickfont\": {\"color\": \"#4D5663\"}, \"title\": {\"font\": {\"color\": \"#4D5663\"}, \"text\": \"\"}, \"zerolinecolor\": \"#E1E5ED\"}, \"yaxis\": {\"anchor\": \"x\", \"domain\": [0.8025, 1.0], \"gridcolor\": \"#E1E5ED\", \"showgrid\": false, \"tickfont\": {\"color\": \"#4D5663\"}, \"title\": {\"font\": {\"color\": \"#4D5663\"}, \"text\": \"\"}, \"zerolinecolor\": \"#E1E5ED\"}, \"yaxis10\": {\"anchor\": \"x10\", \"domain\": [0.2675, 0.465], \"gridcolor\": \"#E1E5ED\", \"showgrid\": false, \"tickfont\": {\"color\": \"#4D5663\"}, \"title\": {\"font\": {\"color\": \"#4D5663\"}, \"text\": \"\"}, \"zerolinecolor\": \"#E1E5ED\"}, \"yaxis11\": {\"anchor\": \"x11\", \"domain\": [0.2675, 0.465], \"gridcolor\": \"#E1E5ED\", \"showgrid\": false, \"tickfont\": {\"color\": \"#4D5663\"}, \"title\": {\"font\": {\"color\": \"#4D5663\"}, \"text\": \"\"}, \"zerolinecolor\": \"#E1E5ED\"}, \"yaxis12\": {\"anchor\": \"x12\", \"domain\": [0.2675, 0.465], \"gridcolor\": \"#E1E5ED\", \"showgrid\": false, \"tickfont\": {\"color\": \"#4D5663\"}, \"title\": {\"font\": {\"color\": \"#4D5663\"}, \"text\": \"\"}, \"zerolinecolor\": \"#E1E5ED\"}, \"yaxis13\": {\"anchor\": \"x13\", \"domain\": [0.0, 0.1975], \"gridcolor\": \"#E1E5ED\", \"showgrid\": false, \"tickfont\": {\"color\": \"#4D5663\"}, \"title\": {\"font\": {\"color\": \"#4D5663\"}, \"text\": \"\"}, \"zerolinecolor\": \"#E1E5ED\"}, \"yaxis14\": {\"anchor\": \"x14\", \"domain\": [0.0, 0.1975], \"gridcolor\": \"#E1E5ED\", \"showgrid\": false, \"tickfont\": {\"color\": \"#4D5663\"}, \"title\": {\"font\": {\"color\": \"#4D5663\"}, \"text\": \"\"}, \"zerolinecolor\": \"#E1E5ED\"}, \"yaxis15\": {\"anchor\": \"x15\", \"domain\": [0.0, 0.1975], \"gridcolor\": \"#E1E5ED\", \"showgrid\": false, \"tickfont\": {\"color\": \"#4D5663\"}, \"title\": {\"font\": {\"color\": \"#4D5663\"}, \"text\": \"\"}, \"zerolinecolor\": \"#E1E5ED\"}, \"yaxis16\": {\"anchor\": \"x16\", \"domain\": [0.0, 0.1975], \"gridcolor\": \"#E1E5ED\", \"showgrid\": false, \"tickfont\": {\"color\": \"#4D5663\"}, \"title\": {\"font\": {\"color\": \"#4D5663\"}, \"text\": \"\"}, \"zerolinecolor\": \"#E1E5ED\"}, \"yaxis2\": {\"anchor\": \"x2\", \"domain\": [0.8025, 1.0], \"gridcolor\": \"#E1E5ED\", \"showgrid\": false, \"tickfont\": {\"color\": \"#4D5663\"}, \"title\": {\"font\": {\"color\": \"#4D5663\"}, \"text\": \"\"}, \"zerolinecolor\": \"#E1E5ED\"}, \"yaxis3\": {\"anchor\": \"x3\", \"domain\": [0.8025, 1.0], \"gridcolor\": \"#E1E5ED\", \"showgrid\": false, \"tickfont\": {\"color\": \"#4D5663\"}, \"title\": {\"font\": {\"color\": \"#4D5663\"}, \"text\": \"\"}, \"zerolinecolor\": \"#E1E5ED\"}, \"yaxis4\": {\"anchor\": \"x4\", \"domain\": [0.8025, 1.0], \"gridcolor\": \"#E1E5ED\", \"showgrid\": false, \"tickfont\": {\"color\": \"#4D5663\"}, \"title\": {\"font\": {\"color\": \"#4D5663\"}, \"text\": \"\"}, \"zerolinecolor\": \"#E1E5ED\"}, \"yaxis5\": {\"anchor\": \"x5\", \"domain\": [0.535, 0.7325], \"gridcolor\": \"#E1E5ED\", \"showgrid\": false, \"tickfont\": {\"color\": \"#4D5663\"}, \"title\": {\"font\": {\"color\": \"#4D5663\"}, \"text\": \"\"}, \"zerolinecolor\": \"#E1E5ED\"}, \"yaxis6\": {\"anchor\": \"x6\", \"domain\": [0.535, 0.7325], \"gridcolor\": \"#E1E5ED\", \"showgrid\": false, \"tickfont\": {\"color\": \"#4D5663\"}, \"title\": {\"font\": {\"color\": \"#4D5663\"}, \"text\": \"\"}, \"zerolinecolor\": \"#E1E5ED\"}, \"yaxis7\": {\"anchor\": \"x7\", \"domain\": [0.535, 0.7325], \"gridcolor\": \"#E1E5ED\", \"showgrid\": false, \"tickfont\": {\"color\": \"#4D5663\"}, \"title\": {\"font\": {\"color\": \"#4D5663\"}, \"text\": \"\"}, \"zerolinecolor\": \"#E1E5ED\"}, \"yaxis8\": {\"anchor\": \"x8\", \"domain\": [0.535, 0.7325], \"gridcolor\": \"#E1E5ED\", \"showgrid\": false, \"tickfont\": {\"color\": \"#4D5663\"}, \"title\": {\"font\": {\"color\": \"#4D5663\"}, \"text\": \"\"}, \"zerolinecolor\": \"#E1E5ED\"}, \"yaxis9\": {\"anchor\": \"x9\", \"domain\": [0.2675, 0.465], \"gridcolor\": \"#E1E5ED\", \"showgrid\": false, \"tickfont\": {\"color\": \"#4D5663\"}, \"title\": {\"font\": {\"color\": \"#4D5663\"}, \"text\": \"\"}, \"zerolinecolor\": \"#E1E5ED\"}},\n",
       "                        {\"showLink\": true, \"linkText\": \"Export to plot.ly\", \"plotlyServerURL\": \"https://plot.ly\", \"responsive\": true}\n",
       "                    ).then(function(){\n",
       "                            \n",
       "var gd = document.getElementById('a412cbd1-e789-48e3-8fbc-1c1163ca8945');\n",
       "var x = new MutationObserver(function (mutations, observer) {{\n",
       "        var display = window.getComputedStyle(gd).display;\n",
       "        if (!display || display === 'none') {{\n",
       "            console.log([gd, 'removed!']);\n",
       "            Plotly.purge(gd);\n",
       "            observer.disconnect();\n",
       "        }}\n",
       "}});\n",
       "\n",
       "// Listen for the removal of the full notebook cells\n",
       "var notebookContainer = gd.closest('#notebook-container');\n",
       "if (notebookContainer) {{\n",
       "    x.observe(notebookContainer, {childList: true});\n",
       "}}\n",
       "\n",
       "// Listen for the clearing of the current output cell\n",
       "var outputEl = gd.closest('.output');\n",
       "if (outputEl) {{\n",
       "    x.observe(outputEl, {childList: true});\n",
       "}}\n",
       "\n",
       "                        })\n",
       "                };\n",
       "                });\n",
       "            </script>\n",
       "        </div>"
      ]
     },
     "metadata": {},
     "output_type": "display_data"
    }
   ],
   "source": [
    "df.scatter_matrix()"
   ]
  },
  {
   "cell_type": "code",
   "execution_count": null,
   "metadata": {},
   "outputs": [],
   "source": []
  }
 ],
 "metadata": {
  "kernelspec": {
   "display_name": "Python 3",
   "language": "python",
   "name": "python3"
  },
  "language_info": {
   "codemirror_mode": {
    "name": "ipython",
    "version": 3
   },
   "file_extension": ".py",
   "mimetype": "text/x-python",
   "name": "python",
   "nbconvert_exporter": "python",
   "pygments_lexer": "ipython3",
   "version": "3.7.4"
  }
 },
 "nbformat": 4,
 "nbformat_minor": 2
}
